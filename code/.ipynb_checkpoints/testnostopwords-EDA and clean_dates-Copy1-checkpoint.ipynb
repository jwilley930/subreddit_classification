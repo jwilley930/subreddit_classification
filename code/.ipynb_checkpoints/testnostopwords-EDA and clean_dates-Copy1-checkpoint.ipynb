{
 "cells": [
  {
   "cell_type": "markdown",
   "id": "c4f0e54d-4a25-41de-a277-ad4c7c069bcb",
   "metadata": {},
   "source": [
    "### Import libraries"
   ]
  },
  {
   "cell_type": "code",
   "execution_count": 43,
   "id": "dd389093-a8eb-41f3-944e-b1c0d0d38a35",
   "metadata": {},
   "outputs": [],
   "source": [
    "import pandas as pd\n",
    "import numpy as np\n",
    "import matplotlib.pyplot as plt\n",
    "\n",
    "\n",
    "# from nltk import word_tokenize\n",
    "\n",
    "from sklearn.tree import DecisionTreeClassifier\n",
    "from sklearn.ensemble import BaggingClassifier, ExtraTreesClassifier, RandomForestClassifier,  VotingClassifier\n",
    "from sklearn.feature_extraction.text import CountVectorizer, TfidfVectorizer\n",
    "from sklearn.linear_model import LogisticRegression\n",
    "from sklearn.metrics import ConfusionMatrixDisplay, balanced_accuracy_score, recall_score, precision_score, f1_score\n",
    "from sklearn.model_selection import cross_val_score, GridSearchCV, train_test_split\n",
    "from sklearn.neighbors import KNeighborsClassifier\n",
    "from sklearn.pipeline import Pipeline\n",
    "\n",
    "from imblearn.over_sampling import RandomOverSampler \n",
    "# from nltk.stem import WordNetLemmatizer\n",
    "# from sklearn.tree import DecisionTreeClassifier\n",
    "\n",
    "\n",
    "\n",
    "\n",
    "\n"
   ]
  },
  {
   "cell_type": "code",
   "execution_count": 2,
   "id": "753eadc9-b46b-4b19-8eb4-0ae24c21d205",
   "metadata": {},
   "outputs": [],
   "source": [
    "pd.set_option('display.max_columns', None)\n",
    "#pd.set_option('display.max_rows', None)"
   ]
  },
  {
   "cell_type": "code",
   "execution_count": 3,
   "id": "65a9d6ad-66b3-44d8-8e3f-e9e6469cf47e",
   "metadata": {},
   "outputs": [],
   "source": [
    "#media, permalink, is_self, is_video, is_..., "
   ]
  },
  {
   "cell_type": "markdown",
   "id": "2ea945fa-a059-42fb-8f66-9378dc395539",
   "metadata": {},
   "source": [
    "### Import dataframes, pull needed data"
   ]
  },
  {
   "cell_type": "code",
   "execution_count": 4,
   "id": "95236950-7393-40f6-bbb2-b966f9ba1e69",
   "metadata": {},
   "outputs": [
    {
     "data": {
      "text/html": [
       "<div>\n",
       "<style scoped>\n",
       "    .dataframe tbody tr th:only-of-type {\n",
       "        vertical-align: middle;\n",
       "    }\n",
       "\n",
       "    .dataframe tbody tr th {\n",
       "        vertical-align: top;\n",
       "    }\n",
       "\n",
       "    .dataframe thead th {\n",
       "        text-align: right;\n",
       "    }\n",
       "</style>\n",
       "<table border=\"1\" class=\"dataframe\">\n",
       "  <thead>\n",
       "    <tr style=\"text-align: right;\">\n",
       "      <th></th>\n",
       "      <th>author</th>\n",
       "      <th>created_utc</th>\n",
       "      <th>domain</th>\n",
       "      <th>url</th>\n",
       "      <th>title</th>\n",
       "      <th>subreddit</th>\n",
       "    </tr>\n",
       "  </thead>\n",
       "  <tbody>\n",
       "    <tr>\n",
       "      <th>0</th>\n",
       "      <td>thesingerguy</td>\n",
       "      <td>1650842423</td>\n",
       "      <td>youtube.com</td>\n",
       "      <td>https://youtube.com/watch?v=vLIkBaE2_f8&amp;amp;fe...</td>\n",
       "      <td>Cover Tribute to ED SHEERAN: \"The Joker And Th...</td>\n",
       "      <td>UpliftingNews</td>\n",
       "    </tr>\n",
       "    <tr>\n",
       "      <th>1</th>\n",
       "      <td>8412risk</td>\n",
       "      <td>1650835426</td>\n",
       "      <td>nbcnews.com</td>\n",
       "      <td>https://www.nbcnews.com/news/us-news/californi...</td>\n",
       "      <td>California man arrested and charged after maki...</td>\n",
       "      <td>UpliftingNews</td>\n",
       "    </tr>\n",
       "    <tr>\n",
       "      <th>2</th>\n",
       "      <td>DianeVuk</td>\n",
       "      <td>1650831110</td>\n",
       "      <td>npr.org</td>\n",
       "      <td>https://www.npr.org/2022/04/24/1093228643/stud...</td>\n",
       "      <td>Giving a stranger a new life: One student's st...</td>\n",
       "      <td>UpliftingNews</td>\n",
       "    </tr>\n",
       "    <tr>\n",
       "      <th>3</th>\n",
       "      <td>scot816</td>\n",
       "      <td>1650828352</td>\n",
       "      <td>cnn.com</td>\n",
       "      <td>https://www.cnn.com/2022/04/24/us/tracey-meare...</td>\n",
       "      <td>Black woman named valedictorian nearly 40 year...</td>\n",
       "      <td>UpliftingNews</td>\n",
       "    </tr>\n",
       "    <tr>\n",
       "      <th>4</th>\n",
       "      <td>Complete-Ad1447</td>\n",
       "      <td>1650826520</td>\n",
       "      <td>crackboxs.com</td>\n",
       "      <td>https://crackboxs.com/bytefence-crack/</td>\n",
       "      <td>ByteFence Crack 5.7.1.0 With License Key Free ...</td>\n",
       "      <td>UpliftingNews</td>\n",
       "    </tr>\n",
       "  </tbody>\n",
       "</table>\n",
       "</div>"
      ],
      "text/plain": [
       "            author  created_utc         domain  \\\n",
       "0     thesingerguy   1650842423    youtube.com   \n",
       "1         8412risk   1650835426    nbcnews.com   \n",
       "2         DianeVuk   1650831110        npr.org   \n",
       "3          scot816   1650828352        cnn.com   \n",
       "4  Complete-Ad1447   1650826520  crackboxs.com   \n",
       "\n",
       "                                                 url  \\\n",
       "0  https://youtube.com/watch?v=vLIkBaE2_f8&amp;fe...   \n",
       "1  https://www.nbcnews.com/news/us-news/californi...   \n",
       "2  https://www.npr.org/2022/04/24/1093228643/stud...   \n",
       "3  https://www.cnn.com/2022/04/24/us/tracey-meare...   \n",
       "4             https://crackboxs.com/bytefence-crack/   \n",
       "\n",
       "                                               title      subreddit  \n",
       "0  Cover Tribute to ED SHEERAN: \"The Joker And Th...  UpliftingNews  \n",
       "1  California man arrested and charged after maki...  UpliftingNews  \n",
       "2  Giving a stranger a new life: One student's st...  UpliftingNews  \n",
       "3  Black woman named valedictorian nearly 40 year...  UpliftingNews  \n",
       "4  ByteFence Crack 5.7.1.0 With License Key Free ...  UpliftingNews  "
      ]
     },
     "execution_count": 4,
     "metadata": {},
     "output_type": "execute_result"
    }
   ],
   "source": [
    "ul_df = pd.read_csv('../data/upliftingnews_posts_dates.csv')\n",
    "ul_df.head()"
   ]
  },
  {
   "cell_type": "code",
   "execution_count": 5,
   "id": "b3029ed0-68ab-4c68-b052-106e58f0d439",
   "metadata": {},
   "outputs": [
    {
     "data": {
      "text/html": [
       "<div>\n",
       "<style scoped>\n",
       "    .dataframe tbody tr th:only-of-type {\n",
       "        vertical-align: middle;\n",
       "    }\n",
       "\n",
       "    .dataframe tbody tr th {\n",
       "        vertical-align: top;\n",
       "    }\n",
       "\n",
       "    .dataframe thead th {\n",
       "        text-align: right;\n",
       "    }\n",
       "</style>\n",
       "<table border=\"1\" class=\"dataframe\">\n",
       "  <thead>\n",
       "    <tr style=\"text-align: right;\">\n",
       "      <th></th>\n",
       "      <th>author</th>\n",
       "      <th>created_utc</th>\n",
       "      <th>domain</th>\n",
       "      <th>url</th>\n",
       "      <th>title</th>\n",
       "      <th>subreddit</th>\n",
       "    </tr>\n",
       "  </thead>\n",
       "  <tbody>\n",
       "    <tr>\n",
       "      <th>0</th>\n",
       "      <td>agnes1223334444</td>\n",
       "      <td>1650844221</td>\n",
       "      <td>abc.net.au</td>\n",
       "      <td>https://www.abc.net.au/news/2022-04-25/jbs-mea...</td>\n",
       "      <td>What you need to know about the global giant b...</td>\n",
       "      <td>worldnews</td>\n",
       "    </tr>\n",
       "    <tr>\n",
       "      <th>1</th>\n",
       "      <td>Thalesian</td>\n",
       "      <td>1650843031</td>\n",
       "      <td>independent.co.uk</td>\n",
       "      <td>https://www.independent.co.uk/climate-change/n...</td>\n",
       "      <td>Climate activist dies after setting himself on...</td>\n",
       "      <td>worldnews</td>\n",
       "    </tr>\n",
       "    <tr>\n",
       "      <th>2</th>\n",
       "      <td>WordFit8789</td>\n",
       "      <td>1650842919</td>\n",
       "      <td>youtu.be</td>\n",
       "      <td>https://youtu.be/WV_7GaD7Nzk</td>\n",
       "      <td>Emmanuel Macron re-elected: the French preside...</td>\n",
       "      <td>worldnews</td>\n",
       "    </tr>\n",
       "    <tr>\n",
       "      <th>3</th>\n",
       "      <td>dromni</td>\n",
       "      <td>1650842878</td>\n",
       "      <td>timesofisrael.com</td>\n",
       "      <td>https://www.timesofisrael.com/liveblog_entry/r...</td>\n",
       "      <td>Report: Putin 'loses interest' in Ukraine deal...</td>\n",
       "      <td>worldnews</td>\n",
       "    </tr>\n",
       "    <tr>\n",
       "      <th>4</th>\n",
       "      <td>worldbookreader</td>\n",
       "      <td>1650842798</td>\n",
       "      <td>republicworld.com</td>\n",
       "      <td>https://www.republicworld.com/world-news/russi...</td>\n",
       "      <td>Putin to interact with Russian leaders in St. ...</td>\n",
       "      <td>worldnews</td>\n",
       "    </tr>\n",
       "  </tbody>\n",
       "</table>\n",
       "</div>"
      ],
      "text/plain": [
       "            author  created_utc             domain  \\\n",
       "0  agnes1223334444   1650844221         abc.net.au   \n",
       "1        Thalesian   1650843031  independent.co.uk   \n",
       "2      WordFit8789   1650842919           youtu.be   \n",
       "3           dromni   1650842878  timesofisrael.com   \n",
       "4  worldbookreader   1650842798  republicworld.com   \n",
       "\n",
       "                                                 url  \\\n",
       "0  https://www.abc.net.au/news/2022-04-25/jbs-mea...   \n",
       "1  https://www.independent.co.uk/climate-change/n...   \n",
       "2                       https://youtu.be/WV_7GaD7Nzk   \n",
       "3  https://www.timesofisrael.com/liveblog_entry/r...   \n",
       "4  https://www.republicworld.com/world-news/russi...   \n",
       "\n",
       "                                               title  subreddit  \n",
       "0  What you need to know about the global giant b...  worldnews  \n",
       "1  Climate activist dies after setting himself on...  worldnews  \n",
       "2  Emmanuel Macron re-elected: the French preside...  worldnews  \n",
       "3  Report: Putin 'loses interest' in Ukraine deal...  worldnews  \n",
       "4  Putin to interact with Russian leaders in St. ...  worldnews  "
      ]
     },
     "execution_count": 5,
     "metadata": {},
     "output_type": "execute_result"
    }
   ],
   "source": [
    "w_df = pd.read_csv('../data/worldnews_posts_dates.csv')\n",
    "w_df.head()"
   ]
  },
  {
   "cell_type": "code",
   "execution_count": null,
   "id": "1ba9c2bf-aeb1-43f3-8f2b-1763c3b42965",
   "metadata": {},
   "outputs": [],
   "source": []
  },
  {
   "cell_type": "code",
   "execution_count": 6,
   "id": "13538d33-a381-44ed-898c-d1c7b12ec32a",
   "metadata": {},
   "outputs": [],
   "source": [
    "# type(w_title_df) #.head()"
   ]
  },
  {
   "cell_type": "code",
   "execution_count": 7,
   "id": "82a17e7b-60e0-458b-aff4-d32b96ab0132",
   "metadata": {},
   "outputs": [],
   "source": [
    "df = pd.concat([ul_df[['title', 'subreddit']], w_df[['title', 'subreddit']]])"
   ]
  },
  {
   "cell_type": "code",
   "execution_count": 8,
   "id": "32fbc596-0766-4153-8113-ed5814880e4b",
   "metadata": {},
   "outputs": [
    {
     "data": {
      "text/plain": [
       "title        0\n",
       "subreddit    0\n",
       "dtype: int64"
      ]
     },
     "execution_count": 8,
     "metadata": {},
     "output_type": "execute_result"
    }
   ],
   "source": [
    "df.isna().sum()"
   ]
  },
  {
   "cell_type": "code",
   "execution_count": null,
   "id": "9a883c69-dd48-4276-b2dd-2dea8e68b527",
   "metadata": {},
   "outputs": [],
   "source": []
  },
  {
   "cell_type": "markdown",
   "id": "961109a0-d26e-4ddd-9555-e95f7ab64e05",
   "metadata": {},
   "source": [
    "## EDA"
   ]
  },
  {
   "cell_type": "markdown",
   "id": "ca818bef-d136-45fe-866a-242360b904b0",
   "metadata": {},
   "source": [
    "##### Vectorizing to get count of 20 most common words from each subreddit's titles"
   ]
  },
  {
   "cell_type": "code",
   "execution_count": 59,
   "id": "dcc691a4-172f-43f0-b656-bb95a78a35d9",
   "metadata": {},
   "outputs": [],
   "source": [
    "cv = CountVectorizer(stop_words='english')\n",
    "\n",
    "ul_cv = cv.fit_transform(ul_df['title'])\n",
    "ul_cv_df = pd.DataFrame(ul_cv.A, columns=cv.get_feature_names_out())\n",
    "\n",
    "w_cv = cv.fit_transform(w_df['title'])\n",
    "w_cv_df = pd.DataFrame(w_cv.A, columns=cv.get_feature_names_out())"
   ]
  },
  {
   "cell_type": "code",
   "execution_count": 10,
   "id": "a84c839b-6fc6-4816-8e9a-d7fca21a9fe1",
   "metadata": {
    "tags": []
   },
   "outputs": [
    {
     "data": {
      "text/plain": [
       "ukraine      683\n",
       "russian      430\n",
       "russia       343\n",
       "ukrainian    254\n",
       "war          190\n",
       "new          182\n",
       "people       134\n",
       "world        120\n",
       "000          107\n",
       "region       104\n",
       "putin         97\n",
       "military      95\n",
       "million       95\n",
       "says          94\n",
       "help          92\n",
       "year          79\n",
       "free          79\n",
       "years         73\n",
       "said          68\n",
       "100           67\n",
       "dtype: int64"
      ]
     },
     "execution_count": 10,
     "metadata": {},
     "output_type": "execute_result"
    }
   ],
   "source": [
    "ul_cv_df.sum(no).sort_values(ascending=False).head(20)"
   ]
  },
  {
   "cell_type": "code",
   "execution_count": 11,
   "id": "7b033334-cd7f-495d-ba39-6d6010a95ddd",
   "metadata": {},
   "outputs": [
    {
     "data": {
      "text/plain": [
       "ukraine      15022\n",
       "russia       11548\n",
       "russian       9648\n",
       "war           5247\n",
       "says          5072\n",
       "putin         4360\n",
       "ukrainian     3079\n",
       "china         2078\n",
       "new           1796\n",
       "invasion      1736\n",
       "sanctions     1701\n",
       "news          1654\n",
       "world         1408\n",
       "india         1388\n",
       "kyiv          1323\n",
       "nato          1278\n",
       "military      1266\n",
       "mariupol      1230\n",
       "nuclear       1227\n",
       "biden         1208\n",
       "dtype: int64"
      ]
     },
     "execution_count": 11,
     "metadata": {},
     "output_type": "execute_result"
    }
   ],
   "source": [
    "w_cv_df.sum().sort_values(ascending=False).head(20)"
   ]
  },
  {
   "cell_type": "code",
   "execution_count": 60,
   "id": "401b0745-c7d8-4961-96cb-59ba372197e2",
   "metadata": {},
   "outputs": [
    {
     "data": {
      "text/plain": [
       "30841"
      ]
     },
     "execution_count": 60,
     "metadata": {},
     "output_type": "execute_result"
    }
   ],
   "source": [
    "len(cv.vocabulary_)"
   ]
  },
  {
   "cell_type": "code",
   "execution_count": 52,
   "id": "4f6330dc-8714-4f2d-b0f2-e352dbe87945",
   "metadata": {},
   "outputs": [],
   "source": [
    "tf = TfidfVectorizer(stop_words='english')\n",
    "\n",
    "ul_tf = cv.fit_transform(ul_df['title'])\n",
    "ul_tf_df = pd.DataFrame(ul_cv.A, columns=cv.get_feature_names_out())\n",
    "\n",
    "w_tf = cv.fit_transform(w_df['title'])\n",
    "w_tf_df = pd.DataFrame(w_cv.A, columns=cv.get_feature_names_out())\n",
    "\n",
    "tf.vocabulary()"
   ]
  },
  {
   "cell_type": "code",
   "execution_count": null,
   "id": "38259a94-1bad-4fa8-99c8-7b363b802c25",
   "metadata": {},
   "outputs": [],
   "source": []
  },
  {
   "cell_type": "markdown",
   "id": "d61bece7-01e8-4e3a-a9f9-7f7d5d8751eb",
   "metadata": {},
   "source": [
    "## Modelling"
   ]
  },
  {
   "cell_type": "markdown",
   "id": "2d60cc92-7c63-4753-9ae3-6521c81d6aec",
   "metadata": {},
   "source": [
    "### Baseline"
   ]
  },
  {
   "cell_type": "code",
   "execution_count": 15,
   "id": "e0380044-dfa3-4cff-b9e6-1777a70d36f7",
   "metadata": {},
   "outputs": [
    {
     "data": {
      "text/plain": [
       "worldnews        0.928243\n",
       "UpliftingNews    0.071757\n",
       "Name: subreddit, dtype: float64"
      ]
     },
     "execution_count": 15,
     "metadata": {},
     "output_type": "execute_result"
    }
   ],
   "source": [
    "df['subreddit'].value_counts(normalize=True)"
   ]
  },
  {
   "cell_type": "markdown",
   "id": "8f2c74ba-68d8-4dae-a823-d2607363e47a",
   "metadata": {},
   "source": [
    "##### If this subreddit is used, the baseline will be 93%.  If this sample proves too unbalanced, a sample of 4000 posts from each subreddit will be used"
   ]
  },
  {
   "cell_type": "code",
   "execution_count": null,
   "id": "6b8c1abc-a793-4cc5-8bd0-f8c40f5327e3",
   "metadata": {},
   "outputs": [],
   "source": []
  },
  {
   "cell_type": "markdown",
   "id": "f318982a-2a2c-4f4f-ab1c-bf69bf3113fc",
   "metadata": {},
   "source": [
    "### Train Test Split"
   ]
  },
  {
   "cell_type": "code",
   "execution_count": 16,
   "id": "f98e575a-9b79-4e45-8d21-8d220425c077",
   "metadata": {},
   "outputs": [],
   "source": [
    "X = df['title']\n",
    "y = df['subreddit']\n",
    "X_train, X_test, y_train, y_test = train_test_split(X, y, stratify=y, random_state=53)"
   ]
  },
  {
   "cell_type": "code",
   "execution_count": 17,
   "id": "3e40ec9b-5fd6-416c-bbd8-fdad742f1183",
   "metadata": {},
   "outputs": [
    {
     "data": {
      "text/plain": [
       "(41787, 41787)"
      ]
     },
     "execution_count": 17,
     "metadata": {},
     "output_type": "execute_result"
    }
   ],
   "source": [
    "len(X_train), len(y_train)"
   ]
  },
  {
   "cell_type": "code",
   "execution_count": 18,
   "id": "ff058106-b105-4a16-8e16-2bebb75ac70b",
   "metadata": {},
   "outputs": [
    {
     "data": {
      "text/plain": [
       "(13929, 13929)"
      ]
     },
     "execution_count": 18,
     "metadata": {},
     "output_type": "execute_result"
    }
   ],
   "source": [
    "len(X_test), len(y_test)"
   ]
  },
  {
   "cell_type": "code",
   "execution_count": null,
   "id": "b5573323-e0b2-4469-afad-3854e7ca0863",
   "metadata": {},
   "outputs": [],
   "source": []
  },
  {
   "cell_type": "code",
   "execution_count": null,
   "id": "d8328eed-40f8-4a49-9928-6c3454e42675",
   "metadata": {},
   "outputs": [],
   "source": []
  },
  {
   "cell_type": "markdown",
   "id": "dad2ddd4-d14f-406c-bbd4-4f447ad7da7b",
   "metadata": {
    "tags": []
   },
   "source": [
    "### CountVectorizer"
   ]
  },
  {
   "cell_type": "code",
   "execution_count": 61,
   "id": "0c9b49bd-06dd-4aea-96c9-1e772b3dc1e6",
   "metadata": {},
   "outputs": [],
   "source": [
    "cv = CountVectorizer(stop_words='english')\n",
    "cv.fit(X_train)\n",
    "\n",
    "X_train_cv = cv.transform(X_train)\n",
    "X_test_cv = cv.transform(X_test)\n",
    "# cv_train_df = pd.DataFrame(X_train_cv.A, columns = cv.get_feature_names_out())\n",
    "# cv_test_df = pd.DataFrame(X_test_cv.A, columns = cv.get_feature_names_out())"
   ]
  },
  {
   "cell_type": "code",
   "execution_count": 62,
   "id": "19f79a34-d9ba-4215-aa13-72abbf065302",
   "metadata": {},
   "outputs": [
    {
     "data": {
      "text/plain": [
       "28447"
      ]
     },
     "execution_count": 62,
     "metadata": {},
     "output_type": "execute_result"
    }
   ],
   "source": [
    "len(cv.vocabulary_)"
   ]
  },
  {
   "cell_type": "code",
   "execution_count": 20,
   "id": "43610b0c-644c-41f9-bd96-b97a3e018732",
   "metadata": {},
   "outputs": [],
   "source": [
    "text_df = pd.DataFrame(X_train_cv.A, columns=cv.get_feature_names_out())"
   ]
  },
  {
   "cell_type": "code",
   "execution_count": 21,
   "id": "b69d9446-3bcb-4a0e-b8b7-6657d93f62df",
   "metadata": {
    "tags": []
   },
   "outputs": [
    {
     "data": {
      "text/plain": [
       "ukraine      11790\n",
       "russia        8996\n",
       "russian       7551\n",
       "war           4051\n",
       "says          3841\n",
       "putin         3305\n",
       "ukrainian     2504\n",
       "china         1604\n",
       "new           1477\n",
       "news          1338\n",
       "sanctions     1335\n",
       "invasion      1327\n",
       "world         1174\n",
       "india         1106\n",
       "kyiv          1043\n",
       "nato          1023\n",
       "military      1019\n",
       "biden          970\n",
       "nuclear        935\n",
       "2022           932\n",
       "dtype: int64"
      ]
     },
     "execution_count": 21,
     "metadata": {},
     "output_type": "execute_result"
    }
   ],
   "source": [
    "text_df.sum().sort_values(ascending=False).head(20)"
   ]
  },
  {
   "cell_type": "markdown",
   "id": "ae1f45fe-28a8-46bb-ac60-332b4280129b",
   "metadata": {
    "tags": []
   },
   "source": [
    "### TfidfVectorizer"
   ]
  },
  {
   "cell_type": "code",
   "execution_count": 22,
   "id": "94efb8d9-3c4f-40e9-ad45-e0bdd37b1faf",
   "metadata": {},
   "outputs": [],
   "source": [
    "tf = TfidfVectorizer(stop_words='english')\n",
    "tf.fit(X_train)\n",
    "    \n",
    "X_train_tf = tf.transform(X_train)\n",
    "X_test_tf = tf.transform(X_test)"
   ]
  },
  {
   "cell_type": "code",
   "execution_count": 65,
   "id": "7702bd27-5df2-4fd5-be06-fc54e23ca452",
   "metadata": {},
   "outputs": [
    {
     "data": {
      "text/plain": [
       "28447"
      ]
     },
     "execution_count": 65,
     "metadata": {},
     "output_type": "execute_result"
    }
   ],
   "source": [
    "len(tf.vocabulary_)"
   ]
  },
  {
   "cell_type": "code",
   "execution_count": 68,
   "id": "4af11c1c-73df-4863-97bd-8158986af300",
   "metadata": {},
   "outputs": [
    {
     "data": {
      "text/plain": [
       "((41787, 28447), (13929, 28447))"
      ]
     },
     "execution_count": 68,
     "metadata": {},
     "output_type": "execute_result"
    }
   ],
   "source": [
    "X_train_tf.shape, X_test_tf.shape"
   ]
  },
  {
   "cell_type": "markdown",
   "id": "d03153dc-fdc2-41e7-a139-364a14296eee",
   "metadata": {},
   "source": [
    "### Logistic Regression"
   ]
  },
  {
   "cell_type": "code",
   "execution_count": 23,
   "id": "5d4720ec-3eaf-4345-8d5c-7e5feca86d2c",
   "metadata": {},
   "outputs": [
    {
     "data": {
      "text/plain": [
       "(0.9546031062292101, 0.9302893244310432)"
      ]
     },
     "execution_count": 23,
     "metadata": {},
     "output_type": "execute_result"
    }
   ],
   "source": [
    "#CountVectorizer\n",
    "lr = LogisticRegression(max_iter=10_000)\n",
    "lr.fit(X_train_cv, y_train)\n",
    "lr.score(X_train_cv, y_train), lr.score(X_test_cv, y_test)"
   ]
  },
  {
   "cell_type": "code",
   "execution_count": 24,
   "id": "eef0443e-02f8-4edd-a483-021b1f16131f",
   "metadata": {},
   "outputs": [
    {
     "data": {
      "text/plain": [
       "(0.9300021537798837, 0.9284227151985067)"
      ]
     },
     "execution_count": 24,
     "metadata": {},
     "output_type": "execute_result"
    }
   ],
   "source": [
    "#TfidfVectorizer\n",
    "lr = LogisticRegression(max_iter=10_000)\n",
    "lr.fit(X_train_tf, y_train)\n",
    "lr.score(X_train_tf, y_train), lr.score(X_test_tf, y_test)"
   ]
  },
  {
   "cell_type": "code",
   "execution_count": 25,
   "id": "d5a59882-40c1-4e5b-9ecc-c99f495d5369",
   "metadata": {},
   "outputs": [
    {
     "data": {
      "text/plain": [
       "worldnews        0.981765\n",
       "UpliftingNews    0.018235\n",
       "dtype: float64"
      ]
     },
     "execution_count": 25,
     "metadata": {},
     "output_type": "execute_result"
    }
   ],
   "source": [
    "#preds cv\n",
    "lr.fit(X_train_cv, y_train)\n",
    "preds = lr.predict(X_test_cv)\n",
    "pd.Index(preds).value_counts(normalize=True)"
   ]
  },
  {
   "cell_type": "code",
   "execution_count": 26,
   "id": "42ff5577-0a75-4a43-a304-937ce8a64e04",
   "metadata": {},
   "outputs": [
    {
     "data": {
      "text/plain": [
       "worldnews        0.928243\n",
       "UpliftingNews    0.071757\n",
       "Name: subreddit, dtype: float64"
      ]
     },
     "execution_count": 26,
     "metadata": {},
     "output_type": "execute_result"
    }
   ],
   "source": [
    "df['subreddit'].value_counts(normalize=True)"
   ]
  },
  {
   "cell_type": "code",
   "execution_count": 38,
   "id": "1fc1d7b0-a86b-4788-8ad2-2ca1415cfc3f",
   "metadata": {},
   "outputs": [
    {
     "data": {
      "image/png": "[encoded data removed]",
      "text/plain": [
       "<Figure size 432x288 with 2 Axes>"
      ]
     },
     "metadata": {
      "needs_background": "light"
     },
     "output_type": "display_data"
    }
   ],
   "source": [
    "ConfusionMatrixDisplay.from_estimator(lr, X_test_cv, y_test);"
   ]
  },
  {
   "cell_type": "code",
   "execution_count": 39,
   "id": "0f7ec701-3752-4705-876c-33cfa8239996",
   "metadata": {},
   "outputs": [
    {
     "data": {
      "image/png": "[encoded data removed]",
      "text/plain": [
       "<Figure size 432x288 with 2 Axes>"
      ]
     },
     "metadata": {
      "needs_background": "light"
     },
     "output_type": "display_data"
    }
   ],
   "source": [
    "ConfusionMatrixDisplay.from_estimator(lr, X_test_cv, y_test, normalize='pred');"
   ]
  },
  {
   "cell_type": "code",
   "execution_count": 40,
   "id": "4696ea41-cbcc-49af-b50a-df9411c64a78",
   "metadata": {},
   "outputs": [
    {
     "data": {
      "text/plain": [
       "0.5662008876626046"
      ]
     },
     "execution_count": 40,
     "metadata": {},
     "output_type": "execute_result"
    }
   ],
   "source": [
    "balanced_accuracy_score(y_test, preds)"
   ]
  },
  {
   "cell_type": "code",
   "execution_count": 50,
   "id": "08d29c93-5c49-49c5-b8e5-4dd7e91bd7bc",
   "metadata": {},
   "outputs": [
    {
     "data": {
      "text/plain": [
       "0.14114114114114115"
      ]
     },
     "execution_count": 50,
     "metadata": {},
     "output_type": "execute_result"
    }
   ],
   "source": [
    "recall_score(y_test, preds, pos_label='UpliftingNews')"
   ]
  },
  {
   "cell_type": "code",
   "execution_count": 49,
   "id": "6347122d-5e48-438b-b705-86864c3f4bae",
   "metadata": {},
   "outputs": [
    {
     "data": {
      "text/plain": [
       "0.5551181102362205"
      ]
     },
     "execution_count": 49,
     "metadata": {},
     "output_type": "execute_result"
    }
   ],
   "source": [
    "precision_score(y_test, preds, pos_label='UpliftingNews')"
   ]
  },
  {
   "cell_type": "code",
   "execution_count": null,
   "id": "e129b1ce-4702-4198-a3c5-9d6a0b888b62",
   "metadata": {},
   "outputs": [],
   "source": []
  },
  {
   "cell_type": "markdown",
   "id": "e22ba34a-852d-49e0-83db-5b9766ebb56f",
   "metadata": {},
   "source": [
    "### DecisionTreeClassifier"
   ]
  },
  {
   "cell_type": "code",
   "execution_count": 27,
   "id": "14ce4e98-a658-41ea-9c24-de770afbece9",
   "metadata": {},
   "outputs": [
    {
     "data": {
      "text/plain": [
       "(0.9853782276784646, 0.8916648718500969)"
      ]
     },
     "execution_count": 27,
     "metadata": {},
     "output_type": "execute_result"
    }
   ],
   "source": [
    "#CountVectorizer\n",
    "dtc_cv = DecisionTreeClassifier()\n",
    "dtc_cv.fit(X_train_cv, y_train)\n",
    "dtc_cv.score(X_train_cv, y_train), dtc_cv.score(X_test_cv, y_test)"
   ]
  },
  {
   "cell_type": "code",
   "execution_count": 28,
   "id": "c6e188df-4a4a-40bb-bec4-3f1f3236d14d",
   "metadata": {},
   "outputs": [
    {
     "data": {
      "text/plain": [
       "(0.985354296790868, 0.893172517768684)"
      ]
     },
     "execution_count": 28,
     "metadata": {},
     "output_type": "execute_result"
    }
   ],
   "source": [
    "#TfidfVectorizer\n",
    "dtc_tf = DecisionTreeClassifier()\n",
    "dtc_tf.fit(X_train_tf, y_train)\n",
    "dtc_tf.score(X_train_tf, y_train), dtc_tf.score(X_test_tf, y_test)"
   ]
  },
  {
   "cell_type": "code",
   "execution_count": null,
   "id": "670300f9-4c8f-4a2c-8347-da705bc1fae8",
   "metadata": {},
   "outputs": [],
   "source": []
  },
  {
   "cell_type": "markdown",
   "id": "d43e5a5d-36b0-40da-bdfe-f8f12050239b",
   "metadata": {
    "tags": []
   },
   "source": [
    "### RandomForestClassifier"
   ]
  },
  {
   "cell_type": "code",
   "execution_count": 29,
   "id": "4ebe22c2-aa85-4bb2-8541-9901d5b3a405",
   "metadata": {},
   "outputs": [
    {
     "data": {
      "text/plain": [
       "(0.985354296790868, 0.9208126929427812)"
      ]
     },
     "execution_count": 29,
     "metadata": {},
     "output_type": "execute_result"
    }
   ],
   "source": [
    "#CountVectorizer\n",
    "rfc_cv = RandomForestClassifier()\n",
    "rfc_cv.fit(X_train_cv, y_train)\n",
    "rfc_cv.score(X_train_cv, y_train), rfc_cv.score(X_test_cv, y_test)"
   ]
  },
  {
   "cell_type": "code",
   "execution_count": 30,
   "id": "605e156b-3ad4-4664-9d00-393351055e2a",
   "metadata": {},
   "outputs": [
    {
     "data": {
      "text/plain": [
       "(0.9852825041280782, 0.9231818508148467)"
      ]
     },
     "execution_count": 30,
     "metadata": {},
     "output_type": "execute_result"
    }
   ],
   "source": [
    "#TfidfVectorizer\n",
    "rfc_tf = RandomForestClassifier()\n",
    "rfc_tf.fit(X_train_tf, y_train)\n",
    "rfc_tf.score(X_train_tf, y_train), rfc_tf.score(X_test_tf, y_test)"
   ]
  },
  {
   "cell_type": "code",
   "execution_count": null,
   "id": "2e082e85-f3f1-4a09-aa4c-bf41dc826e71",
   "metadata": {},
   "outputs": [],
   "source": []
  },
  {
   "cell_type": "markdown",
   "id": "18f3c96c-9e16-40c3-94eb-9bb28aea2346",
   "metadata": {
    "tags": []
   },
   "source": [
    "### ExtraTreesClassifier"
   ]
  },
  {
   "cell_type": "code",
   "execution_count": 31,
   "id": "2c8bce32-d5dd-4336-bc56-e80ee1678247",
   "metadata": {},
   "outputs": [
    {
     "data": {
      "text/plain": [
       "(0.9853782276784646, 0.9135616340010051)"
      ]
     },
     "execution_count": 31,
     "metadata": {},
     "output_type": "execute_result"
    }
   ],
   "source": [
    "#CountVectorizer\n",
    "etc_cv = ExtraTreesClassifier()\n",
    "etc_cv.fit(X_train_cv, y_train)\n",
    "etc_cv.score(X_train_cv, y_train), etc_cv.score(X_test_cv, y_test)"
   ]
  },
  {
   "cell_type": "code",
   "execution_count": 32,
   "id": "04e99a12-1929-4d93-8ef9-61d968ed99f2",
   "metadata": {},
   "outputs": [
    {
     "data": {
      "text/plain": [
       "(0.985354296790868, 0.9188024983846651)"
      ]
     },
     "execution_count": 32,
     "metadata": {},
     "output_type": "execute_result"
    }
   ],
   "source": [
    "#TfidfVectorizer\n",
    "etc_tf = ExtraTreesClassifier()\n",
    "etc_tf.fit(X_train_tf, y_train)\n",
    "etc_tf.score(X_train_tf, y_train), etc_tf.score(X_test_tf, y_test)"
   ]
  },
  {
   "cell_type": "code",
   "execution_count": null,
   "id": "5ef52901-2aa7-4899-94b8-ea50b96407a2",
   "metadata": {},
   "outputs": [],
   "source": []
  },
  {
   "cell_type": "markdown",
   "id": "3eec7ad9-51a9-46c1-a640-2ce35f44c688",
   "metadata": {},
   "source": [
    "### K-Nearest Neighbors"
   ]
  },
  {
   "cell_type": "code",
   "execution_count": 33,
   "id": "a95c422b-dd4d-4d5e-95bc-5e7cfa19fe40",
   "metadata": {},
   "outputs": [
    {
     "data": {
      "text/plain": [
       "(0.9322037954387729, 0.9274176179194487)"
      ]
     },
     "execution_count": 33,
     "metadata": {},
     "output_type": "execute_result"
    }
   ],
   "source": [
    "#CountVectorizer\n",
    "knn_cv = KNeighborsClassifier()\n",
    "knn_cv.fit(X_train_cv, y_train)\n",
    "knn_cv.score(X_train_cv, y_train), knn_cv.score(X_test_cv, y_test)"
   ]
  },
  {
   "cell_type": "code",
   "execution_count": 34,
   "id": "ea33ee50-7903-4674-86cf-c7bc71df42f0",
   "metadata": {},
   "outputs": [
    {
     "data": {
      "text/plain": [
       "(0.9317012467992438, 0.9296431904659344)"
      ]
     },
     "execution_count": 34,
     "metadata": {},
     "output_type": "execute_result"
    }
   ],
   "source": [
    "#TfidfVectorizer\n",
    "knn_tf = KNeighborsClassifier()\n",
    "knn_tf.fit(X_train_tf, y_train)\n",
    "knn_tf.score(X_train_tf, y_train), knn_tf.score(X_test_tf, y_test)"
   ]
  },
  {
   "cell_type": "code",
   "execution_count": null,
   "id": "81f04ae3-9ae1-445e-9cb8-3fee82a618e8",
   "metadata": {},
   "outputs": [],
   "source": []
  },
  {
   "cell_type": "code",
   "execution_count": null,
   "id": "da37d911-ef80-42c3-9dac-683f569b68ad",
   "metadata": {},
   "outputs": [],
   "source": []
  },
  {
   "cell_type": "markdown",
   "id": "4cc06077-b612-4d7c-8848-a8b60ead0f2b",
   "metadata": {},
   "source": [
    "### Voting Classifier"
   ]
  },
  {
   "cell_type": "code",
   "execution_count": 35,
   "id": "c30055af-978e-4118-bf60-4ccaac07cda3",
   "metadata": {},
   "outputs": [
    {
     "ename": "SyntaxError",
     "evalue": "unexpected EOF while parsing (Temp/ipykernel_7888/1626916281.py, line 4)",
     "output_type": "error",
     "traceback": [
      "\u001b[1;36m  File \u001b[1;32m\"C:\\Users\\jswil\\AppData\\Local\\Temp/ipykernel_7888/1626916281.py\"\u001b[1;36m, line \u001b[1;32m4\u001b[0m\n\u001b[1;33m    ('dtr', Dec\u001b[0m\n\u001b[1;37m               ^\u001b[0m\n\u001b[1;31mSyntaxError\u001b[0m\u001b[1;31m:\u001b[0m unexpected EOF while parsing\n"
     ]
    }
   ],
   "source": [
    "vc_cv = VotingClassifier([\n",
    "    ('knn', KNeighborsClassifier()),\n",
    "    ('lr', LogisticRegression()),\n",
    "    ('dtr', Dec"
   ]
  }
 ],
 "metadata": {
  "kernelspec": {
   "display_name": "Python 3 (ipykernel)",
   "language": "python",
   "name": "python3"
  },
  "language_info": {
   "codemirror_mode": {
    "name": "ipython",
    "version": 3
   },
   "file_extension": ".py",
   "mimetype": "text/x-python",
   "name": "python",
   "nbconvert_exporter": "python",
   "pygments_lexer": "ipython3",
   "version": "3.9.7"
  }
 },
 "nbformat": 4,
 "nbformat_minor": 5
}
