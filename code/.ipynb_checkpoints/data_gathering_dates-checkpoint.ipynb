{
 "cells": [
  {
   "cell_type": "code",
   "execution_count": 1,
   "id": "85348bde-903a-41a3-94f7-f014d8fdd964",
   "metadata": {},
   "outputs": [],
   "source": [
    "import requests\n",
    "import plotly\n",
    "import pandas as pd\n",
    "import time\n",
    "from bs4 import BeautifulSoup as bs\n",
    "import datetime"
   ]
  },
  {
   "cell_type": "code",
   "execution_count": 2,
   "id": "14834daf-4fcd-4645-8297-f4bd7d6a8cbe",
   "metadata": {},
   "outputs": [],
   "source": [
    "#1646092801 == 12:00:00AM GMT 3/1/22\n",
    "#1650844800 == 12:00:00AM GMT 4/25/22, \n",
    "#function to scrape submissions\n",
    "def scrape_time(subreddit, start_time=1646092801, end_time=1650844800):\n",
    "    start_time = start_time\n",
    "    end_time = end_time\n",
    "    full_post_list = []\n",
    "    \n",
    "    params = {\n",
    "        'subreddit': subreddit,\n",
    "        'size': 100,\n",
    "        'before': end_time  }\n",
    "    \n",
    "    while end_time > start_time:\n",
    "        res = requests.get('https://api.pushshift.io/reddit/search/submission?subreddit', params)\n",
    "        data = res.json()\n",
    "        data_df = pd.json_normalize(data['data'])\n",
    "        posts = data_df[['author', 'created_utc', 'domain', 'url', 'title', 'subreddit']]\n",
    "        \n",
    "        posts_df = pd.DataFrame(posts)\n",
    "        full_post_list.append(posts_df)\n",
    "        \n",
    "        end_time = posts_df['created_utc'].min()\n",
    "        params['before'] = end_time\n",
    "        time.sleep(2)\n",
    "        df = pd.concat(full_post_list)\n",
    "        \n",
    "    return df.to_csv(f'../data/{subreddit}_posts_dates.csv', index=False)"
   ]
  },
  {
   "cell_type": "code",
   "execution_count": 4,
   "id": "e7d3a775-96b5-4823-bb50-650f14ea85bc",
   "metadata": {},
   "outputs": [],
   "source": [
    "scrape_time('upliftingnews')\n",
    "\n",
    "scrape_time('worldnews')"
   ]
  },
  {
   "cell_type": "code",
   "execution_count": null,
   "id": "b4eacdde-f9a4-4ea9-ba69-8d242dfac511",
   "metadata": {},
   "outputs": [],
   "source": []
  }
 ],
 "metadata": {
  "kernelspec": {
   "display_name": "Python 3 (ipykernel)",
   "language": "python",
   "name": "python3"
  },
  "language_info": {
   "codemirror_mode": {
    "name": "ipython",
    "version": 3
   },
   "file_extension": ".py",
   "mimetype": "text/x-python",
   "name": "python",
   "nbconvert_exporter": "python",
   "pygments_lexer": "ipython3",
   "version": "3.9.7"
  }
 },
 "nbformat": 4,
 "nbformat_minor": 5
}
