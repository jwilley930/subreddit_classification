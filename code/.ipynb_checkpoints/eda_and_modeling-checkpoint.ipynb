{
 "cells": [
  {
   "cell_type": "markdown",
   "id": "c4f0e54d-4a25-41de-a277-ad4c7c069bcb",
   "metadata": {},
   "source": [
    "### Import libraries"
   ]
  },
  {
   "cell_type": "code",
   "execution_count": 1,
   "id": "dd389093-a8eb-41f3-944e-b1c0d0d38a35",
   "metadata": {},
   "outputs": [],
   "source": [
    "import pandas as pd\n",
    "import numpy as np\n",
    "import matplotlib.pyplot as plt\n",
    "import seaborn as sns\n",
    "\n",
    "from sklearn.tree import DecisionTreeClassifier\n",
    "from sklearn.feature_extraction.text import CountVectorizer, TfidfVectorizer\n",
    "from sklearn.ensemble import BaggingClassifier, ExtraTreesClassifier, RandomForestClassifier,  VotingClassifier\n",
    "from sklearn.linear_model import LogisticRegression\n",
    "from sklearn.metrics import ConfusionMatrixDisplay, confusion_matrix, accuracy_score, balanced_accuracy_score\n",
    "from sklearn.metrics import recall_score, precision_score, f1_score, roc_curve, roc_auc_score, classification_report\n",
    "from sklearn.model_selection import cross_val_score, GridSearchCV, train_test_split\n",
    "from sklearn.neighbors import KNeighborsClassifier\n",
    "from sklearn.pipeline import Pipeline, make_pipeline\n",
    "from sklearn.svm import SVC\n",
    "from sklearn.naive_bayes import GaussianNB, MultinomialNB\n",
    "\n",
    "from imblearn.pipeline import make_pipeline\n",
    "from imblearn.over_sampling import RandomOverSampler, SMOTE, ADASYN\n",
    "\n",
    "from nltk import word_tokenize, WordNetLemmatizer\n",
    "\n",
    "#from sklearn.datasets import fetch_openml\n",
    "#from imblearn.datasets import make_imbalance\n",
    "# from nltk.stem import WordNetLemmatizer\n",
    "# from sklearn.tree import DecisionTreeClassifier"
   ]
  },
  {
   "cell_type": "code",
   "execution_count": null,
   "id": "033d12cb-bda2-4726-93da-024bf0cebd63",
   "metadata": {},
   "outputs": [],
   "source": []
  },
  {
   "cell_type": "code",
   "execution_count": 2,
   "id": "753eadc9-b46b-4b19-8eb4-0ae24c21d205",
   "metadata": {},
   "outputs": [],
   "source": [
    "# allow pandas to display all columns\n",
    "pd.set_option('display.max_columns', None)"
   ]
  },
  {
   "cell_type": "markdown",
   "id": "2ea945fa-a059-42fb-8f66-9378dc395539",
   "metadata": {},
   "source": [
    "### Import dataframes, pull needed data"
   ]
  },
  {
   "cell_type": "code",
   "execution_count": 3,
   "id": "95236950-7393-40f6-bbb2-b966f9ba1e69",
   "metadata": {},
   "outputs": [
    {
     "data": {
      "text/html": [
       "<div>\n",
       "<style scoped>\n",
       "    .dataframe tbody tr th:only-of-type {\n",
       "        vertical-align: middle;\n",
       "    }\n",
       "\n",
       "    .dataframe tbody tr th {\n",
       "        vertical-align: top;\n",
       "    }\n",
       "\n",
       "    .dataframe thead th {\n",
       "        text-align: right;\n",
       "    }\n",
       "</style>\n",
       "<table border=\"1\" class=\"dataframe\">\n",
       "  <thead>\n",
       "    <tr style=\"text-align: right;\">\n",
       "      <th></th>\n",
       "      <th>author</th>\n",
       "      <th>created_utc</th>\n",
       "      <th>domain</th>\n",
       "      <th>url</th>\n",
       "      <th>title</th>\n",
       "      <th>subreddit</th>\n",
       "    </tr>\n",
       "  </thead>\n",
       "  <tbody>\n",
       "    <tr>\n",
       "      <th>0</th>\n",
       "      <td>thesingerguy</td>\n",
       "      <td>1650842423</td>\n",
       "      <td>youtube.com</td>\n",
       "      <td>https://youtube.com/watch?v=vLIkBaE2_f8&amp;amp;fe...</td>\n",
       "      <td>Cover Tribute to ED SHEERAN: \"The Joker And Th...</td>\n",
       "      <td>UpliftingNews</td>\n",
       "    </tr>\n",
       "    <tr>\n",
       "      <th>1</th>\n",
       "      <td>8412risk</td>\n",
       "      <td>1650835426</td>\n",
       "      <td>nbcnews.com</td>\n",
       "      <td>https://www.nbcnews.com/news/us-news/californi...</td>\n",
       "      <td>California man arrested and charged after maki...</td>\n",
       "      <td>UpliftingNews</td>\n",
       "    </tr>\n",
       "  </tbody>\n",
       "</table>\n",
       "</div>"
      ],
      "text/plain": [
       "         author  created_utc       domain  \\\n",
       "0  thesingerguy   1650842423  youtube.com   \n",
       "1      8412risk   1650835426  nbcnews.com   \n",
       "\n",
       "                                                 url  \\\n",
       "0  https://youtube.com/watch?v=vLIkBaE2_f8&amp;fe...   \n",
       "1  https://www.nbcnews.com/news/us-news/californi...   \n",
       "\n",
       "                                               title      subreddit  \n",
       "0  Cover Tribute to ED SHEERAN: \"The Joker And Th...  UpliftingNews  \n",
       "1  California man arrested and charged after maki...  UpliftingNews  "
      ]
     },
     "execution_count": 3,
     "metadata": {},
     "output_type": "execute_result"
    }
   ],
   "source": [
    "ul_df = pd.read_csv('../data/upliftingnews_posts_dates.csv')\n",
    "ul_df.head(2)"
   ]
  },
  {
   "cell_type": "code",
   "execution_count": 4,
   "id": "1ba9c2bf-aeb1-43f3-8f2b-1763c3b42965",
   "metadata": {},
   "outputs": [],
   "source": [
    "# make subreddit name lowercase\n",
    "ul_df['subreddit'] = ul_df['subreddit'].str.lower()"
   ]
  },
  {
   "cell_type": "code",
   "execution_count": 5,
   "id": "b3029ed0-68ab-4c68-b052-106e58f0d439",
   "metadata": {},
   "outputs": [
    {
     "data": {
      "text/html": [
       "<div>\n",
       "<style scoped>\n",
       "    .dataframe tbody tr th:only-of-type {\n",
       "        vertical-align: middle;\n",
       "    }\n",
       "\n",
       "    .dataframe tbody tr th {\n",
       "        vertical-align: top;\n",
       "    }\n",
       "\n",
       "    .dataframe thead th {\n",
       "        text-align: right;\n",
       "    }\n",
       "</style>\n",
       "<table border=\"1\" class=\"dataframe\">\n",
       "  <thead>\n",
       "    <tr style=\"text-align: right;\">\n",
       "      <th></th>\n",
       "      <th>author</th>\n",
       "      <th>created_utc</th>\n",
       "      <th>domain</th>\n",
       "      <th>url</th>\n",
       "      <th>title</th>\n",
       "      <th>subreddit</th>\n",
       "    </tr>\n",
       "  </thead>\n",
       "  <tbody>\n",
       "    <tr>\n",
       "      <th>0</th>\n",
       "      <td>agnes1223334444</td>\n",
       "      <td>1650844221</td>\n",
       "      <td>abc.net.au</td>\n",
       "      <td>https://www.abc.net.au/news/2022-04-25/jbs-mea...</td>\n",
       "      <td>What you need to know about the global giant b...</td>\n",
       "      <td>worldnews</td>\n",
       "    </tr>\n",
       "    <tr>\n",
       "      <th>1</th>\n",
       "      <td>Thalesian</td>\n",
       "      <td>1650843031</td>\n",
       "      <td>independent.co.uk</td>\n",
       "      <td>https://www.independent.co.uk/climate-change/n...</td>\n",
       "      <td>Climate activist dies after setting himself on...</td>\n",
       "      <td>worldnews</td>\n",
       "    </tr>\n",
       "  </tbody>\n",
       "</table>\n",
       "</div>"
      ],
      "text/plain": [
       "            author  created_utc             domain  \\\n",
       "0  agnes1223334444   1650844221         abc.net.au   \n",
       "1        Thalesian   1650843031  independent.co.uk   \n",
       "\n",
       "                                                 url  \\\n",
       "0  https://www.abc.net.au/news/2022-04-25/jbs-mea...   \n",
       "1  https://www.independent.co.uk/climate-change/n...   \n",
       "\n",
       "                                               title  subreddit  \n",
       "0  What you need to know about the global giant b...  worldnews  \n",
       "1  Climate activist dies after setting himself on...  worldnews  "
      ]
     },
     "execution_count": 5,
     "metadata": {},
     "output_type": "execute_result"
    }
   ],
   "source": [
    "w_df = pd.read_csv('../data/worldnews_posts_dates.csv')\n",
    "w_df.head(2)"
   ]
  },
  {
   "cell_type": "code",
   "execution_count": 6,
   "id": "82a17e7b-60e0-458b-aff4-d32b96ab0132",
   "metadata": {},
   "outputs": [],
   "source": [
    "# combine subreddit dataframes with the columns I plan to use\n",
    "df = pd.concat([ul_df[['title', 'subreddit']], w_df[['title', 'subreddit']]])"
   ]
  },
  {
   "cell_type": "code",
   "execution_count": 7,
   "id": "f2e7588e-89da-4595-87ba-885f6a5b8556",
   "metadata": {},
   "outputs": [
    {
     "data": {
      "text/plain": [
       "((3998, 6), (51718, 6), (55716, 2))"
      ]
     },
     "execution_count": 7,
     "metadata": {},
     "output_type": "execute_result"
    }
   ],
   "source": [
    "ul_df.shape, w_df.shape, df.shape"
   ]
  },
  {
   "cell_type": "code",
   "execution_count": null,
   "id": "48528227-4f91-40e1-9d5e-2ac28ed6039e",
   "metadata": {},
   "outputs": [],
   "source": []
  },
  {
   "cell_type": "markdown",
   "id": "36f7421a-c547-468e-890f-d494113cca79",
   "metadata": {},
   "source": [
    "### Preprocessing of dataframe"
   ]
  },
  {
   "cell_type": "code",
   "execution_count": 8,
   "id": "d4e4eaa2-de4c-41db-9ff9-38a1a257947e",
   "metadata": {},
   "outputs": [],
   "source": [
    "df = df.reset_index().drop(columns='index')"
   ]
  },
  {
   "cell_type": "code",
   "execution_count": 9,
   "id": "9775084f-9c6d-4557-9431-b644217a7446",
   "metadata": {},
   "outputs": [
    {
     "data": {
      "text/html": [
       "<div>\n",
       "<style scoped>\n",
       "    .dataframe tbody tr th:only-of-type {\n",
       "        vertical-align: middle;\n",
       "    }\n",
       "\n",
       "    .dataframe tbody tr th {\n",
       "        vertical-align: top;\n",
       "    }\n",
       "\n",
       "    .dataframe thead th {\n",
       "        text-align: right;\n",
       "    }\n",
       "</style>\n",
       "<table border=\"1\" class=\"dataframe\">\n",
       "  <thead>\n",
       "    <tr style=\"text-align: right;\">\n",
       "      <th></th>\n",
       "      <th>title</th>\n",
       "      <th>subreddit</th>\n",
       "    </tr>\n",
       "  </thead>\n",
       "  <tbody>\n",
       "    <tr>\n",
       "      <th>0</th>\n",
       "      <td>Cover Tribute to ED SHEERAN: \"The Joker And Th...</td>\n",
       "      <td>upliftingnews</td>\n",
       "    </tr>\n",
       "    <tr>\n",
       "      <th>1</th>\n",
       "      <td>California man arrested and charged after maki...</td>\n",
       "      <td>upliftingnews</td>\n",
       "    </tr>\n",
       "    <tr>\n",
       "      <th>2</th>\n",
       "      <td>Giving a stranger a new life: One student's st...</td>\n",
       "      <td>upliftingnews</td>\n",
       "    </tr>\n",
       "    <tr>\n",
       "      <th>3</th>\n",
       "      <td>Black woman named valedictorian nearly 40 year...</td>\n",
       "      <td>upliftingnews</td>\n",
       "    </tr>\n",
       "    <tr>\n",
       "      <th>4</th>\n",
       "      <td>ByteFence Crack 5.7.1.0 With License Key Free ...</td>\n",
       "      <td>upliftingnews</td>\n",
       "    </tr>\n",
       "    <tr>\n",
       "      <th>...</th>\n",
       "      <td>...</td>\n",
       "      <td>...</td>\n",
       "    </tr>\n",
       "    <tr>\n",
       "      <th>55711</th>\n",
       "      <td>U.S. corporations suspend business in Russia, ...</td>\n",
       "      <td>worldnews</td>\n",
       "    </tr>\n",
       "    <tr>\n",
       "      <th>55712</th>\n",
       "      <td>Putin speaks about Nato expansion.</td>\n",
       "      <td>worldnews</td>\n",
       "    </tr>\n",
       "    <tr>\n",
       "      <th>55713</th>\n",
       "      <td>Ukraine's ambassador to U.S. says Russia used ...</td>\n",
       "      <td>worldnews</td>\n",
       "    </tr>\n",
       "    <tr>\n",
       "      <th>55714</th>\n",
       "      <td>Russia has used vacuum bomb, says Ukraine envoy</td>\n",
       "      <td>worldnews</td>\n",
       "    </tr>\n",
       "    <tr>\n",
       "      <th>55715</th>\n",
       "      <td>‘The damage is done’: Russians face economic p...</td>\n",
       "      <td>worldnews</td>\n",
       "    </tr>\n",
       "  </tbody>\n",
       "</table>\n",
       "<p>55716 rows × 2 columns</p>\n",
       "</div>"
      ],
      "text/plain": [
       "                                                   title      subreddit\n",
       "0      Cover Tribute to ED SHEERAN: \"The Joker And Th...  upliftingnews\n",
       "1      California man arrested and charged after maki...  upliftingnews\n",
       "2      Giving a stranger a new life: One student's st...  upliftingnews\n",
       "3      Black woman named valedictorian nearly 40 year...  upliftingnews\n",
       "4      ByteFence Crack 5.7.1.0 With License Key Free ...  upliftingnews\n",
       "...                                                  ...            ...\n",
       "55711  U.S. corporations suspend business in Russia, ...      worldnews\n",
       "55712                 Putin speaks about Nato expansion.      worldnews\n",
       "55713  Ukraine's ambassador to U.S. says Russia used ...      worldnews\n",
       "55714    Russia has used vacuum bomb, says Ukraine envoy      worldnews\n",
       "55715  ‘The damage is done’: Russians face economic p...      worldnews\n",
       "\n",
       "[55716 rows x 2 columns]"
      ]
     },
     "execution_count": 9,
     "metadata": {},
     "output_type": "execute_result"
    }
   ],
   "source": [
    "df"
   ]
  },
  {
   "cell_type": "code",
   "execution_count": 10,
   "id": "bd0c5901-8a0a-4ecc-a227-7dbb7ee31704",
   "metadata": {},
   "outputs": [],
   "source": [
    "#Remove non-english words\n",
    "df.replace({r'[^\\x00-\\x7F]+':''}, regex=True, inplace=True)"
   ]
  },
  {
   "cell_type": "code",
   "execution_count": 11,
   "id": "f1edf655-8ea4-4789-84a1-4dae5b33027b",
   "metadata": {},
   "outputs": [],
   "source": [
    "#Remove punctuation\n",
    "df.title = df.title.str.replace('[^\\w\\s]','', regex=True)"
   ]
  },
  {
   "cell_type": "code",
   "execution_count": 12,
   "id": "008677db-9d43-46f8-bb4b-bd61727aa942",
   "metadata": {},
   "outputs": [
    {
     "data": {
      "text/html": [
       "<div>\n",
       "<style scoped>\n",
       "    .dataframe tbody tr th:only-of-type {\n",
       "        vertical-align: middle;\n",
       "    }\n",
       "\n",
       "    .dataframe tbody tr th {\n",
       "        vertical-align: top;\n",
       "    }\n",
       "\n",
       "    .dataframe thead th {\n",
       "        text-align: right;\n",
       "    }\n",
       "</style>\n",
       "<table border=\"1\" class=\"dataframe\">\n",
       "  <thead>\n",
       "    <tr style=\"text-align: right;\">\n",
       "      <th></th>\n",
       "      <th>title</th>\n",
       "      <th>subreddit</th>\n",
       "    </tr>\n",
       "  </thead>\n",
       "  <tbody>\n",
       "    <tr>\n",
       "      <th>0</th>\n",
       "      <td>Cover Tribute to ED SHEERAN The Joker And The ...</td>\n",
       "      <td>upliftingnews</td>\n",
       "    </tr>\n",
       "    <tr>\n",
       "      <th>1</th>\n",
       "      <td>California man arrested and charged after maki...</td>\n",
       "      <td>upliftingnews</td>\n",
       "    </tr>\n",
       "  </tbody>\n",
       "</table>\n",
       "</div>"
      ],
      "text/plain": [
       "                                               title      subreddit\n",
       "0  Cover Tribute to ED SHEERAN The Joker And The ...  upliftingnews\n",
       "1  California man arrested and charged after maki...  upliftingnews"
      ]
     },
     "execution_count": 12,
     "metadata": {},
     "output_type": "execute_result"
    }
   ],
   "source": [
    "df.head(2)"
   ]
  },
  {
   "cell_type": "code",
   "execution_count": 13,
   "id": "390cbb5e-2295-4221-b986-34820c5fb054",
   "metadata": {},
   "outputs": [
    {
     "data": {
      "text/plain": [
       "0    51718\n",
       "1     3998\n",
       "Name: subreddit, dtype: int64"
      ]
     },
     "execution_count": 13,
     "metadata": {},
     "output_type": "execute_result"
    }
   ],
   "source": [
    "df['subreddit'] = df['subreddit'].replace(['worldnews','upliftingnews'],[0,1])\n",
    "df['subreddit'].value_counts()"
   ]
  },
  {
   "cell_type": "code",
   "execution_count": null,
   "id": "be278f7d-71db-4eae-98e4-bee17e4bc41c",
   "metadata": {},
   "outputs": [],
   "source": []
  },
  {
   "cell_type": "markdown",
   "id": "b4a2d1b8-19db-4138-8abd-c4b7182a8d41",
   "metadata": {},
   "source": [
    "## EDA"
   ]
  },
  {
   "cell_type": "code",
   "execution_count": 14,
   "id": "704c01e0-627e-4bfb-8cbb-4856c1524b0f",
   "metadata": {},
   "outputs": [
    {
     "data": {
      "text/html": [
       "<div>\n",
       "<style scoped>\n",
       "    .dataframe tbody tr th:only-of-type {\n",
       "        vertical-align: middle;\n",
       "    }\n",
       "\n",
       "    .dataframe tbody tr th {\n",
       "        vertical-align: top;\n",
       "    }\n",
       "\n",
       "    .dataframe thead th {\n",
       "        text-align: right;\n",
       "    }\n",
       "</style>\n",
       "<table border=\"1\" class=\"dataframe\">\n",
       "  <thead>\n",
       "    <tr style=\"text-align: right;\">\n",
       "      <th></th>\n",
       "      <th>subreddit</th>\n",
       "      <th>total_posts</th>\n",
       "    </tr>\n",
       "  </thead>\n",
       "  <tbody>\n",
       "    <tr>\n",
       "      <th>0</th>\n",
       "      <td>worldnews</td>\n",
       "      <td>51718</td>\n",
       "    </tr>\n",
       "    <tr>\n",
       "      <th>1</th>\n",
       "      <td>upliftingnews</td>\n",
       "      <td>3998</td>\n",
       "    </tr>\n",
       "  </tbody>\n",
       "</table>\n",
       "</div>"
      ],
      "text/plain": [
       "       subreddit  total_posts\n",
       "0      worldnews        51718\n",
       "1  upliftingnews         3998"
      ]
     },
     "execution_count": 14,
     "metadata": {},
     "output_type": "execute_result"
    }
   ],
   "source": [
    "# Creating columns to graph total number of posts\n",
    "post_num = pd.DataFrame(df['subreddit'].value_counts())\n",
    "post_num.reset_index(inplace=True)\n",
    "post_num.columns = ['subreddit', 'total_posts']\n",
    "post_num['subreddit'] = post_num['subreddit'].replace([0,1], ['worldnews', 'upliftingnews'])\n",
    "post_num"
   ]
  },
  {
   "cell_type": "code",
   "execution_count": 15,
   "id": "80ae0992-7870-4ac1-a8f4-0a8d5999b1b0",
   "metadata": {},
   "outputs": [
    {
     "name": "stdout",
     "output_type": "stream",
     "text": [
      "       subreddit  total_posts\n",
      "0      worldnews        51718\n",
      "1  upliftingnews         3998\n"
     ]
    },
    {
     "data": {
      "image/png": "[encoded data removed]",
      "text/plain": [
       "<Figure size 432x288 with 1 Axes>"
      ]
     },
     "metadata": {
      "needs_background": "light"
     },
     "output_type": "display_data"
    }
   ],
   "source": [
    "plt.bar(post_num['subreddit'], post_num['total_posts'])\n",
    "plt.title('Total posts per subreddit')\n",
    "plt.xlabel('Subreddit')\n",
    "plt.ylabel('Total Posts');\n",
    "print(post_num)"
   ]
  },
  {
   "cell_type": "code",
   "execution_count": null,
   "id": "e049c6cf-91d3-4b75-b728-15a66593d26e",
   "metadata": {},
   "outputs": [],
   "source": []
  },
  {
   "cell_type": "markdown",
   "id": "3810ce85-83ee-4a17-9eec-28804edc7a23",
   "metadata": {},
   "source": [
    "#### Preparing/Vectorizing to get count of 20 most common words and bigrams from each subreddit's titles"
   ]
  },
  {
   "cell_type": "code",
   "execution_count": 16,
   "id": "d78cd008-30d2-45bd-8ef6-29e245f82c16",
   "metadata": {},
   "outputs": [],
   "source": [
    "# prep of upliftingnews dataframe\n",
    "ul_df = ul_df.drop(columns = ['author', 'created_utc', 'domain', 'url'])\n",
    "ul_df.replace({r'[^\\x00-\\x7F]+':''}, regex=True, inplace=True)\n",
    "ul_df.title = df.title.str.replace('[^\\w\\s]','', regex=True)"
   ]
  },
  {
   "cell_type": "code",
   "execution_count": 17,
   "id": "33c58d0d-3c06-476c-aada-8a310654ea72",
   "metadata": {},
   "outputs": [],
   "source": [
    "# prep of worldnews dataframe\n",
    "w_df = w_df.drop(columns = ['author', 'created_utc', 'domain', 'url'])\n",
    "w_df.replace({r'[^\\x00-\\x7F]+':''}, regex=True, inplace=True)\n",
    "w_df.title = df.title.str.replace('[^\\w\\s]','', regex=True)"
   ]
  },
  {
   "cell_type": "code",
   "execution_count": null,
   "id": "4ab6527a-0178-4e27-baa5-05f0ba274ad1",
   "metadata": {},
   "outputs": [],
   "source": []
  },
  {
   "cell_type": "code",
   "execution_count": 18,
   "id": "a476608e-c915-4f7c-b82d-92377db90676",
   "metadata": {},
   "outputs": [],
   "source": [
    "# instantiate CountVectorize\n",
    "cv = CountVectorizer(stop_words='english', min_df=3)"
   ]
  },
  {
   "cell_type": "code",
   "execution_count": 19,
   "id": "e6efec9b-834a-4123-a8c0-ad349a47ac7f",
   "metadata": {},
   "outputs": [],
   "source": [
    "# CountVectorize of full dataframe\n",
    "df_cv = cv.fit_transform(df['title'])\n",
    "df_cv_df = pd.DataFrame(df_cv.A, columns=cv.get_feature_names_out())"
   ]
  },
  {
   "cell_type": "code",
   "execution_count": 20,
   "id": "563df8f1-38ca-43e7-b281-50810bcce313",
   "metadata": {},
   "outputs": [],
   "source": [
    "# CV of upliftingnews df\n",
    "ul_cv = cv.fit_transform(ul_df['title'])\n",
    "ul_cv_df = pd.DataFrame(ul_cv.A, columns=cv.get_feature_names_out())"
   ]
  },
  {
   "cell_type": "code",
   "execution_count": 21,
   "id": "47225cb8-b757-4472-98b0-aa3d21040b32",
   "metadata": {},
   "outputs": [],
   "source": [
    "# CV of worldnews df\n",
    "w_cv = cv.fit_transform(w_df['title'])\n",
    "w_cv_df = pd.DataFrame(w_cv.A, columns=cv.get_feature_names_out())"
   ]
  },
  {
   "cell_type": "code",
   "execution_count": 22,
   "id": "a84c839b-6fc6-4816-8e9a-d7fca21a9fe1",
   "metadata": {
    "tags": []
   },
   "outputs": [
    {
     "data": {
      "text/plain": [
       "ukraine      635\n",
       "russian      419\n",
       "russia       287\n",
       "ukrainian    247\n",
       "new          181\n",
       "war          174\n",
       "people       131\n",
       "region       104\n",
       "military      95\n",
       "says          94\n",
       "million       93\n",
       "help          92\n",
       "world         85\n",
       "years         72\n",
       "said          68\n",
       "refugees      66\n",
       "putin         65\n",
       "news          65\n",
       "kyiv          64\n",
       "minister      61\n",
       "dtype: int64"
      ]
     },
     "execution_count": 22,
     "metadata": {},
     "output_type": "execute_result"
    }
   ],
   "source": [
    "#Top 20 words in 'upliftingnews'\n",
    "ul_top20 = ul_cv_df.sum().sort_values(ascending=False).head(20)\n",
    "ul_top20 "
   ]
  },
  {
   "cell_type": "code",
   "execution_count": 23,
   "id": "7b033334-cd7f-495d-ba39-6d6010a95ddd",
   "metadata": {},
   "outputs": [
    {
     "data": {
      "text/plain": [
       "ukraine      12597\n",
       "russian       8849\n",
       "russia        8454\n",
       "says          4812\n",
       "war           4735\n",
       "putin         3032\n",
       "ukrainian     2994\n",
       "new           1883\n",
       "china         1611\n",
       "news          1596\n",
       "russias       1548\n",
       "sanctions     1520\n",
       "invasion      1475\n",
       "military      1249\n",
       "mariupol      1222\n",
       "india         1199\n",
       "nato          1185\n",
       "world         1167\n",
       "oil           1150\n",
       "nuclear       1139\n",
       "dtype: int64"
      ]
     },
     "execution_count": 23,
     "metadata": {},
     "output_type": "execute_result"
    }
   ],
   "source": [
    "#Top 20 words in 'worldnews'\n",
    "w_top20 = w_cv_df.sum().sort_values(ascending=False).head(20)\n",
    "w_top20"
   ]
  },
  {
   "cell_type": "code",
   "execution_count": 24,
   "id": "001a2402-b621-4846-8db3-c609e699de1b",
   "metadata": {},
   "outputs": [],
   "source": [
    "w20df=pd.DataFrame(w_top20)\n",
    "ul20df=pd.DataFrame(ul_top20)"
   ]
  },
  {
   "cell_type": "code",
   "execution_count": 25,
   "id": "c96a8c90-4bdc-4e81-a506-ee1106bf8950",
   "metadata": {},
   "outputs": [],
   "source": [
    "w20df.reset_index(inplace=True)\n",
    "ul20df.reset_index(inplace=True)"
   ]
  },
  {
   "cell_type": "code",
   "execution_count": 26,
   "id": "1a2077ec-29de-415a-938e-597fda5c0446",
   "metadata": {},
   "outputs": [],
   "source": [
    "w20df.columns=['word', 'count']\n",
    "ul20df.columns=['word', 'count']"
   ]
  },
  {
   "cell_type": "code",
   "execution_count": 27,
   "id": "53b7c745-fcd2-49e4-b086-dc2a6f2063c4",
   "metadata": {},
   "outputs": [
    {
     "data": {
      "image/png": "[encoded data removed]",
      "text/plain": [
       "<Figure size 1080x504 with 2 Axes>"
      ]
     },
     "metadata": {
      "needs_background": "light"
     },
     "output_type": "display_data"
    }
   ],
   "source": [
    "#plot top 20 words of each subreddit\n",
    "fig, axes = plt.subplots(1, 2, figsize=(15, 7))\n",
    "\n",
    "plt.subplot(1, 2, 1)\n",
    "plt.barh(w20df['word'], w20df['count'])\n",
    "plt.gca().invert_yaxis()\n",
    "plt.title('Top 20 words in WorldNews subreddit')\n",
    "plt.xlabel('Total occurences')\n",
    "\n",
    "plt.subplot(1, 2, 2)\n",
    "plt.barh(ul20df['word'], ul20df['count'])\n",
    "plt.gca().invert_yaxis()\n",
    "plt.title('Top 20 words in UpliftingNews subreddit')\n",
    "plt.xlabel('Total occurences');\n",
    "fig.tight_layout() \n",
    "plt.show();"
   ]
  },
  {
   "cell_type": "code",
   "execution_count": null,
   "id": "8add79d1-2695-45ab-ac59-4d240b2f2097",
   "metadata": {},
   "outputs": [],
   "source": []
  },
  {
   "cell_type": "code",
   "execution_count": 28,
   "id": "1da8d02d-f043-40d7-9a88-a6321053f845",
   "metadata": {},
   "outputs": [],
   "source": [
    "# CV for bigrams\n",
    "cv2 = CountVectorizer(ngram_range=(2,2), stop_words='english', min_df=3)"
   ]
  },
  {
   "cell_type": "code",
   "execution_count": 29,
   "id": "34a5facd-5517-4e6d-8eab-55fb307d53b8",
   "metadata": {},
   "outputs": [],
   "source": [
    "ul_cv2 = cv2.fit_transform(ul_df['title'])\n",
    "ul_cv2_df = pd.DataFrame(ul_cv2.A, columns=cv2.get_feature_names_out())"
   ]
  },
  {
   "cell_type": "code",
   "execution_count": 30,
   "id": "92d0dfb7-ecc4-42b4-978e-58c1436d28ec",
   "metadata": {},
   "outputs": [],
   "source": [
    "w_cv2 = cv2.fit_transform(w_df['title'])\n",
    "w_cv2_df = pd.DataFrame(w_cv2.A, columns=cv2.get_feature_names_out())"
   ]
  },
  {
   "cell_type": "code",
   "execution_count": 31,
   "id": "71392d3b-c9b3-4792-a53d-6a3cfafa5a62",
   "metadata": {},
   "outputs": [],
   "source": [
    "ul_top20_2 = ul_cv2_df.sum().sort_values(ascending=False).head(20)"
   ]
  },
  {
   "cell_type": "code",
   "execution_count": 32,
   "id": "b29f677d-8cf4-43f9-a0f2-7ee5a3f50eaf",
   "metadata": {},
   "outputs": [],
   "source": [
    "w_top20_2 = w_cv2_df.sum().sort_values(ascending=False).head(20)"
   ]
  },
  {
   "cell_type": "code",
   "execution_count": 33,
   "id": "b15143ec-1a7b-46d3-a2f2-ea2dfaf36576",
   "metadata": {},
   "outputs": [],
   "source": [
    "w20df2=pd.DataFrame(w_top20_2)\n",
    "ul20df2=pd.DataFrame(ul_top20_2)"
   ]
  },
  {
   "cell_type": "code",
   "execution_count": 34,
   "id": "ac193d08-aeb5-4fab-aee1-c5ebbea77730",
   "metadata": {},
   "outputs": [],
   "source": [
    "w20df2.reset_index(inplace=True)\n",
    "ul20df2.reset_index(inplace=True)"
   ]
  },
  {
   "cell_type": "code",
   "execution_count": 35,
   "id": "e3239341-fa06-4259-be1d-348777f60f12",
   "metadata": {},
   "outputs": [],
   "source": [
    "w20df2.columns=['word', 'count']\n",
    "ul20df2.columns=['word', 'count']"
   ]
  },
  {
   "cell_type": "code",
   "execution_count": 36,
   "id": "4d6f508b-eacd-4f43-b77c-0383162088fc",
   "metadata": {},
   "outputs": [
    {
     "data": {
      "image/png": "[encoded data removed]",
      "text/plain": [
       "<Figure size 1080x504 with 2 Axes>"
      ]
     },
     "metadata": {
      "needs_background": "light"
     },
     "output_type": "display_data"
    }
   ],
   "source": [
    "# plotting top 20 bigrams for each subreddit\n",
    "fig, axes = plt.subplots(1, 2, figsize=(15, 7))\n",
    "\n",
    "plt.subplot(1, 2, 1)\n",
    "plt.barh(w20df2['word'], w20df2['count'])\n",
    "plt.gca().invert_yaxis()\n",
    "plt.title('Top 20 word-pairings in WorldNews subreddit')\n",
    "plt.xlabel('Total occurences')\n",
    "\n",
    "plt.subplot(1, 2, 2)\n",
    "plt.barh(ul20df2['word'], ul20df2['count'])\n",
    "plt.gca().invert_yaxis()\n",
    "plt.title('Top 20 word-pairings in UpliftingNews subreddit')\n",
    "plt.xlabel('Total occurences')\n",
    "\n",
    "fig.tight_layout() \n",
    "plt.show();"
   ]
  },
  {
   "cell_type": "code",
   "execution_count": null,
   "id": "35654eaa-99c6-4c6c-968a-d27ef2439557",
   "metadata": {},
   "outputs": [],
   "source": []
  },
  {
   "cell_type": "code",
   "execution_count": 37,
   "id": "88c44319-96bd-4cc3-b9d0-eb8eb7c8e848",
   "metadata": {},
   "outputs": [],
   "source": [
    "# Testing to see how lemmatizing affects top 20 words\n",
    "def lemma_tokenizer(doc):\n",
    "    wnl = WordNetLemmatizer()\n",
    "    return [wnl.lemmatize(w) for w in word_tokenize(doc)]"
   ]
  },
  {
   "cell_type": "code",
   "execution_count": 38,
   "id": "7fb6196b-1270-4324-b0e9-ee1fb2df5f48",
   "metadata": {},
   "outputs": [
    {
     "name": "stderr",
     "output_type": "stream",
     "text": [
      "C:\\Users\\jswil\\anaconda3\\lib\\site-packages\\sklearn\\feature_extraction\\text.py:396: UserWarning: Your stop_words may be inconsistent with your preprocessing. Tokenizing the stop words generated tokens ['ha', 'le', 'u', 'wa'] not in stop_words.\n",
      "  warnings.warn(\n"
     ]
    }
   ],
   "source": [
    "cv_lem = CountVectorizer(tokenizer=lemma_tokenizer, stop_words='english')\n",
    "\n",
    "ul_cv_lem = cv_lem.fit_transform(ul_df['title'])\n",
    "ul_cv_df_lem = pd.DataFrame(ul_cv_lem.A, columns=cv_lem.get_feature_names_out())\n",
    "\n",
    "w_cv_lem = cv_lem.fit_transform(w_df['title'])\n",
    "w_cv_df_lem = pd.DataFrame(w_cv_lem.A, columns=cv_lem.get_feature_names_out())"
   ]
  },
  {
   "cell_type": "code",
   "execution_count": 39,
   "id": "33cdcac1-4540-4f50-b62f-6939768f9616",
   "metadata": {},
   "outputs": [
    {
     "data": {
      "text/plain": [
       "((3998, 8936), (51718, 30086))"
      ]
     },
     "execution_count": 39,
     "metadata": {},
     "output_type": "execute_result"
    }
   ],
   "source": [
    "ul_cv_df_lem.shape, w_cv_df_lem.shape"
   ]
  },
  {
   "cell_type": "code",
   "execution_count": 40,
   "id": "2ffca567-fdf5-4f8a-8687-d35674a1e8cc",
   "metadata": {},
   "outputs": [
    {
     "data": {
      "text/plain": [
       "ukraine      664\n",
       "russian      467\n",
       "russia       324\n",
       "ukrainian    294\n",
       "new          181\n",
       "war          175\n",
       "ha           171\n",
       "u            170\n",
       "wa           148\n",
       "people       137\n",
       "say          124\n",
       "world        119\n",
       "region       116\n",
       "million      109\n",
       "year         106\n",
       "help         104\n",
       "military      95\n",
       "putin         95\n",
       "state         86\n",
       "day           81\n",
       "dtype: int64"
      ]
     },
     "execution_count": 40,
     "metadata": {},
     "output_type": "execute_result"
    }
   ],
   "source": [
    "#Top 20 words in 'upliftingnews'\n",
    "ul_cv_df_lem.sum().sort_values(ascending=False).head(20)"
   ]
  },
  {
   "cell_type": "code",
   "execution_count": 41,
   "id": "529fc883-32cd-471a-94ec-b4a0f80e048a",
   "metadata": {},
   "outputs": [
    {
     "data": {
      "text/plain": [
       "ukraine      13515\n",
       "russia       10002\n",
       "russian       9793\n",
       "say           5517\n",
       "war           4781\n",
       "putin         4019\n",
       "u             3873\n",
       "ukrainian     3627\n",
       "china         1926\n",
       "new           1883\n",
       "ha            1879\n",
       "news          1597\n",
       "sanction      1586\n",
       "invasion      1479\n",
       "world         1383\n",
       "india         1332\n",
       "attack        1305\n",
       "military      1267\n",
       "nato          1227\n",
       "mariupol      1222\n",
       "dtype: int64"
      ]
     },
     "execution_count": 41,
     "metadata": {},
     "output_type": "execute_result"
    }
   ],
   "source": [
    "#Top 20 words in 'worldnews'\n",
    "w_cv_df_lem.sum().sort_values(ascending=False).head(20)"
   ]
  },
  {
   "cell_type": "markdown",
   "id": "4912b3cd-c668-4905-ab79-3c7576d7bcf5",
   "metadata": {},
   "source": [
    "##### Lemmatizing did not have a significant effect on top 20 words, or on total word counts"
   ]
  },
  {
   "cell_type": "code",
   "execution_count": null,
   "id": "099390d7-1d6c-405e-ae54-63137be6efff",
   "metadata": {},
   "outputs": [],
   "source": []
  },
  {
   "cell_type": "code",
   "execution_count": null,
   "id": "bc555311-f724-4a79-9791-bff780e80c00",
   "metadata": {},
   "outputs": [],
   "source": []
  },
  {
   "cell_type": "code",
   "execution_count": 42,
   "id": "4f6330dc-8714-4f2d-b0f2-e352dbe87945",
   "metadata": {},
   "outputs": [],
   "source": [
    "##Will set up tfidf later, delete if unneeded\n",
    "\n",
    "# tf = TfidfVectorizer(stop_words='english')\n",
    "# ul_tf = cv.fit_transform(ul_df['title'])\n",
    "# ul_tf_df = pd.DataFrame(ul_cv.A, columns=cv.get_feature_names_out())\n",
    "# w_tf = cv.fit_transform(w_df['title'])\n",
    "# w_tf_df = pd.DataFrame(w_cv.A, columns=cv.get_feature_names_out())\n"
   ]
  },
  {
   "cell_type": "code",
   "execution_count": null,
   "id": "74d46cc6-0abc-4fe3-ae2b-12cff93263e4",
   "metadata": {},
   "outputs": [],
   "source": []
  },
  {
   "cell_type": "markdown",
   "id": "d61bece7-01e8-4e3a-a9f9-7f7d5d8751eb",
   "metadata": {},
   "source": [
    "## Modelling"
   ]
  },
  {
   "cell_type": "markdown",
   "id": "2d60cc92-7c63-4753-9ae3-6521c81d6aec",
   "metadata": {},
   "source": [
    "### Baseline"
   ]
  },
  {
   "cell_type": "code",
   "execution_count": 43,
   "id": "e0380044-dfa3-4cff-b9e6-1777a70d36f7",
   "metadata": {},
   "outputs": [
    {
     "data": {
      "text/plain": [
       "0    0.928243\n",
       "1    0.071757\n",
       "Name: subreddit, dtype: float64"
      ]
     },
     "execution_count": 43,
     "metadata": {},
     "output_type": "execute_result"
    }
   ],
   "source": [
    "df['subreddit'].value_counts(normalize=True)"
   ]
  },
  {
   "cell_type": "markdown",
   "id": "8f2c74ba-68d8-4dae-a823-d2607363e47a",
   "metadata": {},
   "source": [
    "##### If this subreddit is used, the baseline will be 93%.  If this sample proves too unbalanced, a sample of 4000 posts from each subreddit will be used"
   ]
  },
  {
   "cell_type": "markdown",
   "id": "f318982a-2a2c-4f4f-ab1c-bf69bf3113fc",
   "metadata": {},
   "source": [
    "### Train Test Split"
   ]
  },
  {
   "cell_type": "code",
   "execution_count": 44,
   "id": "f98e575a-9b79-4e45-8d21-8d220425c077",
   "metadata": {},
   "outputs": [],
   "source": [
    "X = df['title']\n",
    "y = df['subreddit']\n",
    "X_train, X_test, y_train, y_test = train_test_split(X, y, stratify=y, random_state=53)"
   ]
  },
  {
   "cell_type": "code",
   "execution_count": 45,
   "id": "18b1d14a-cb36-465f-bfe4-a8436237d87e",
   "metadata": {},
   "outputs": [
    {
     "data": {
      "text/plain": [
       "49342    Ukrainian operator says employees at seized nu...\n",
       "383                                                 ecrncj\n",
       "40885    Uniqlo shutters shops in Russia days after CEO...\n",
       "34532    Biden details US military aid for Ukraine foll...\n",
       "30539    John Tory  Today we unveiled Free Ukraine sign...\n",
       "                               ...                        \n",
       "28976    Germany honors survivor of Nazi camps 96 kille...\n",
       "18034    France expels Russian diplomats amid condemnat...\n",
       "9402     Hundreds of people demonstrated in several Tur...\n",
       "27631                                              ukraine\n",
       "13533    Chinese Doctors Have Executed Prisoners by Rem...\n",
       "Name: title, Length: 41787, dtype: object"
      ]
     },
     "execution_count": 45,
     "metadata": {},
     "output_type": "execute_result"
    }
   ],
   "source": [
    "X_train"
   ]
  },
  {
   "cell_type": "code",
   "execution_count": null,
   "id": "f3a259d6-2e3f-4c4e-bfa5-7a0bbae07121",
   "metadata": {},
   "outputs": [],
   "source": []
  },
  {
   "cell_type": "markdown",
   "id": "59514594-f3b4-4086-9e0b-0e57512a77f3",
   "metadata": {},
   "source": [
    "#### Function for lemmatizer"
   ]
  },
  {
   "cell_type": "code",
   "execution_count": 46,
   "id": "68905468-9f8d-47b2-8418-de03a5a07956",
   "metadata": {},
   "outputs": [],
   "source": [
    "def lemma_tokenizer(doc):\n",
    "    wnl = WordNetLemmatizer()\n",
    "    return [wnl.lemmatize(w).lower() for w in word_tokenize(doc)]"
   ]
  },
  {
   "cell_type": "markdown",
   "id": "dad2ddd4-d14f-406c-bbd4-4f447ad7da7b",
   "metadata": {
    "tags": []
   },
   "source": [
    "### CountVectorizer"
   ]
  },
  {
   "cell_type": "code",
   "execution_count": 47,
   "id": "34382949-aaf8-4821-8af7-a5d01869cc85",
   "metadata": {},
   "outputs": [
    {
     "name": "stderr",
     "output_type": "stream",
     "text": [
      "C:\\Users\\jswil\\anaconda3\\lib\\site-packages\\sklearn\\feature_extraction\\text.py:516: UserWarning: The parameter 'token_pattern' will not be used since 'tokenizer' is not None'\n",
      "  warnings.warn(\n"
     ]
    }
   ],
   "source": [
    "#CV with Lemmatizer\n",
    "cv = CountVectorizer(lowercase=False, tokenizer=lemma_tokenizer, min_df=5)\n",
    "cv.fit(X_train)\n",
    "\n",
    "X_train_cv = cv.transform(X_train)\n",
    "X_test_cv = cv.transform(X_test)"
   ]
  },
  {
   "cell_type": "code",
   "execution_count": 48,
   "id": "65f7dce1-0897-421d-8317-492ce729a565",
   "metadata": {
    "tags": []
   },
   "outputs": [
    {
     "data": {
      "text/plain": [
       "to         16492\n",
       "in         13111\n",
       "the        11133\n",
       "of         10809\n",
       "ukraine    10401\n",
       "a           8083\n",
       "russian     7403\n",
       "russia      6984\n",
       "and         5898\n",
       "for         5641\n",
       "dtype: int64"
      ]
     },
     "execution_count": 48,
     "metadata": {},
     "output_type": "execute_result"
    }
   ],
   "source": [
    "pd.DataFrame(X_train_cv)\n",
    "wordcounts = pd.DataFrame(X_train_cv.A, columns=cv.get_feature_names_out())\n",
    "wordcounts.sum().sort_values(ascending=False).head(10)"
   ]
  },
  {
   "cell_type": "markdown",
   "id": "ae1f45fe-28a8-46bb-ac60-332b4280129b",
   "metadata": {
    "tags": []
   },
   "source": [
    "### TfidfVectorizer"
   ]
  },
  {
   "cell_type": "code",
   "execution_count": 49,
   "id": "94efb8d9-3c4f-40e9-ad45-e0bdd37b1faf",
   "metadata": {},
   "outputs": [],
   "source": [
    "#TfV with lemmatizer\n",
    "tf = TfidfVectorizer(min_df=5, tokenizer=lemma_tokenizer)\n",
    "tf.fit(X_train)\n",
    "    \n",
    "X_train_tf = tf.transform(X_train)\n",
    "X_test_tf = tf.transform(X_test)"
   ]
  },
  {
   "cell_type": "code",
   "execution_count": 50,
   "id": "1e2693ad-e1b8-4ec2-b223-ac0e01768e70",
   "metadata": {},
   "outputs": [],
   "source": [
    "X_train_tf_columns = tf.get_feature_names_out"
   ]
  },
  {
   "cell_type": "code",
   "execution_count": null,
   "id": "0bfc676f-ef4e-40f9-bcb8-68dd030435b5",
   "metadata": {},
   "outputs": [],
   "source": []
  },
  {
   "cell_type": "markdown",
   "id": "54190b39-8b92-47fa-bd55-714ee676ea3b",
   "metadata": {},
   "source": [
    "### Function to print classification model scores"
   ]
  },
  {
   "cell_type": "code",
   "execution_count": 51,
   "id": "554d31c3-a490-4674-a8f6-43560ff348c7",
   "metadata": {},
   "outputs": [],
   "source": [
    "#def class_metrics(model, X, y):\n",
    "def class_metrics(y, preds):\n",
    "    \n",
    "   # preds = model.predict(X)\n",
    "    \n",
    "    acc = accuracy_score(y, preds)\n",
    "    bas = balanced_accuracy_score(y, preds)\n",
    "    rcs = recall_score(y, preds)#, pos_label='1')\n",
    "    prs = precision_score(y, preds)#, pos_label='1')\n",
    "    f1 = f1_score(y, preds)#, pos_label='1')\n",
    "    \n",
    "    print(f'Accuracy Score = {acc} \\nBalanced Accuracy Score = {bas} \\nRecall Score = {rcs} \\nPrecision Score = {prs} \\nF1 Score = {f1}')\n",
    "\n",
    "#this turned out to be redundant, since sklearn classification_report() provides the same info"
   ]
  },
  {
   "cell_type": "code",
   "execution_count": null,
   "id": "9585b276-205b-4f64-b420-04e4beca00d9",
   "metadata": {},
   "outputs": [],
   "source": []
  },
  {
   "cell_type": "markdown",
   "id": "d03153dc-fdc2-41e7-a139-364a14296eee",
   "metadata": {},
   "source": [
    "### Using gridsearch to test parameters with Logistic Regression"
   ]
  },
  {
   "cell_type": "code",
   "execution_count": 52,
   "id": "5d4720ec-3eaf-4345-8d5c-7e5feca86d2c",
   "metadata": {},
   "outputs": [
    {
     "data": {
      "text/plain": [
       "(0.9477588723765764, 0.930361117093833)"
      ]
     },
     "execution_count": 52,
     "metadata": {},
     "output_type": "execute_result"
    }
   ],
   "source": [
    "# Simple model - accuracy score for LR model with CVec\n",
    "lr = LogisticRegression(max_iter=10_000)\n",
    "lr.fit(X_train_cv, y_train)\n",
    "preds = lr.predict(X_test_cv)\n",
    "lr.score(X_train_cv, y_train), lr.score(X_test_cv, y_test)"
   ]
  },
  {
   "cell_type": "code",
   "execution_count": null,
   "id": "a7cfc736-fdd0-4cb0-913a-71650bd2310f",
   "metadata": {},
   "outputs": [],
   "source": []
  },
  {
   "cell_type": "code",
   "execution_count": 53,
   "id": "3189d7e6-f55b-4059-9de0-d380c7aee55b",
   "metadata": {},
   "outputs": [],
   "source": [
    "# Pipeline for Countvectorizer\n",
    "pipe_cv = make_pipeline(\n",
    "    CountVectorizer(),\n",
    "    RandomOverSampler(random_state=53),\n",
    "    LogisticRegression(max_iter=5_000)\n",
    ")\n",
    "\n",
    "params_cv = {\n",
    "    'countvectorizer__max_df': [1, 5],\n",
    "    'countvectorizer__ngram_range': [(1, 1), (2, 2)],\n",
    "    'randomoversampler__sampling_strategy': [0.1, 0.25, 0.5, 0.75, 1],\n",
    "    'logisticregression__C': [.1, 1]\n",
    "}\n",
    "\n",
    "gs_cv = GridSearchCV(pipe_cv, params_cv, n_jobs=-1, verbose=1)"
   ]
  },
  {
   "cell_type": "code",
   "execution_count": 54,
   "id": "3f20b3df-288b-46f5-be78-4eb2889b09f5",
   "metadata": {},
   "outputs": [
    {
     "name": "stdout",
     "output_type": "stream",
     "text": [
      "Fitting 5 folds for each of 40 candidates, totalling 200 fits\n"
     ]
    },
    {
     "data": {
      "text/plain": [
       "GridSearchCV(estimator=Pipeline(steps=[('countvectorizer', CountVectorizer()),\n",
       "                                       ('randomoversampler',\n",
       "                                        RandomOverSampler(random_state=53)),\n",
       "                                       ('logisticregression',\n",
       "                                        LogisticRegression(max_iter=5000))]),\n",
       "             n_jobs=-1,\n",
       "             param_grid={'countvectorizer__max_df': [1, 5],\n",
       "                         'countvectorizer__ngram_range': [(1, 1), (2, 2)],\n",
       "                         'logisticregression__C': [0.1, 1],\n",
       "                         'randomoversampler__sampling_strategy': [0.1, 0.25,\n",
       "                                                                  0.5, 0.75,\n",
       "                                                                  1]},\n",
       "             verbose=1)"
      ]
     },
     "execution_count": 54,
     "metadata": {},
     "output_type": "execute_result"
    }
   ],
   "source": [
    "gs_cv.fit(X_train, y_train)"
   ]
  },
  {
   "cell_type": "code",
   "execution_count": 55,
   "id": "1fbd3822-7ea1-478c-a304-de17d2afeb2f",
   "metadata": {},
   "outputs": [
    {
     "data": {
      "text/plain": [
       "{'countvectorizer__max_df': 5,\n",
       " 'countvectorizer__ngram_range': (1, 1),\n",
       " 'logisticregression__C': 1,\n",
       " 'randomoversampler__sampling_strategy': 0.1}"
      ]
     },
     "execution_count": 55,
     "metadata": {},
     "output_type": "execute_result"
    }
   ],
   "source": [
    "gs_cv.best_params_"
   ]
  },
  {
   "cell_type": "code",
   "execution_count": 56,
   "id": "08bbd747-8cff-40e1-b609-0798bef96ede",
   "metadata": {},
   "outputs": [
    {
     "data": {
      "text/plain": [
       "Pipeline(steps=[('countvectorizer', CountVectorizer(max_df=5)),\n",
       "                ('randomoversampler',\n",
       "                 RandomOverSampler(random_state=53, sampling_strategy=0.1)),\n",
       "                ('logisticregression', LogisticRegression(C=1, max_iter=5000))])"
      ]
     },
     "execution_count": 56,
     "metadata": {},
     "output_type": "execute_result"
    }
   ],
   "source": [
    "gs_cv.best_estimator_"
   ]
  },
  {
   "cell_type": "code",
   "execution_count": 57,
   "id": "4124add9-afdc-4586-87bd-58d162a83b5f",
   "metadata": {},
   "outputs": [
    {
     "data": {
      "text/plain": [
       "0.9282073372101372"
      ]
     },
     "execution_count": 57,
     "metadata": {},
     "output_type": "execute_result"
    }
   ],
   "source": [
    "gs_cv.score(X_test, y_test)"
   ]
  },
  {
   "cell_type": "code",
   "execution_count": 58,
   "id": "a58221fe-f74c-43e7-868a-0735eab7339f",
   "metadata": {},
   "outputs": [
    {
     "data": {
      "text/plain": [
       "0.7147202822377421"
      ]
     },
     "execution_count": 58,
     "metadata": {},
     "output_type": "execute_result"
    }
   ],
   "source": [
    "balanced_accuracy_score(gs_cv.predict(X_test), y_test)"
   ]
  },
  {
   "cell_type": "code",
   "execution_count": null,
   "id": "7140a13a-1d8f-4285-8158-5d3513721944",
   "metadata": {},
   "outputs": [],
   "source": []
  },
  {
   "cell_type": "code",
   "execution_count": 59,
   "id": "b77e5c42-5696-4efb-964f-1d1b6bf91c7f",
   "metadata": {},
   "outputs": [],
   "source": [
    "# Pipeline for Tfidfvectorizer\n",
    "pipe_tf = make_pipeline(\n",
    "    TfidfVectorizer(),\n",
    "    RandomOverSampler(random_state=53),\n",
    "    LogisticRegression(max_iter=5_000)\n",
    ")\n",
    "\n",
    "params_tf = {\n",
    "    'tfidfvectorizer__max_df': [1, 5],\n",
    "    'tfidfvectorizer__ngram_range': [(1, 1), (2, 2)],\n",
    "    'randomoversampler__sampling_strategy': [0.1, 0.25, 0.5, 0.75, 1],\n",
    "    'logisticregression__C': [.1, 1]\n",
    "}\n",
    "\n",
    "gs_tf = GridSearchCV(pipe_tf, params_tf, n_jobs=-1, verbose=1)"
   ]
  },
  {
   "cell_type": "code",
   "execution_count": 60,
   "id": "33e8cbe9-83f2-477d-a090-63b398ce15c0",
   "metadata": {},
   "outputs": [
    {
     "name": "stdout",
     "output_type": "stream",
     "text": [
      "Fitting 5 folds for each of 40 candidates, totalling 200 fits\n"
     ]
    },
    {
     "data": {
      "text/plain": [
       "GridSearchCV(estimator=Pipeline(steps=[('tfidfvectorizer', TfidfVectorizer()),\n",
       "                                       ('randomoversampler',\n",
       "                                        RandomOverSampler(random_state=53)),\n",
       "                                       ('logisticregression',\n",
       "                                        LogisticRegression(max_iter=5000))]),\n",
       "             n_jobs=-1,\n",
       "             param_grid={'logisticregression__C': [0.1, 1],\n",
       "                         'randomoversampler__sampling_strategy': [0.1, 0.25,\n",
       "                                                                  0.5, 0.75,\n",
       "                                                                  1],\n",
       "                         'tfidfvectorizer__max_df': [1, 5],\n",
       "                         'tfidfvectorizer__ngram_range': [(1, 1), (2, 2)]},\n",
       "             verbose=1)"
      ]
     },
     "execution_count": 60,
     "metadata": {},
     "output_type": "execute_result"
    }
   ],
   "source": [
    "gs_tf.fit(X_train, y_train)"
   ]
  },
  {
   "cell_type": "code",
   "execution_count": 61,
   "id": "d2509998-c836-4d9d-b94f-5ad9bc233913",
   "metadata": {},
   "outputs": [
    {
     "data": {
      "text/plain": [
       "{'logisticregression__C': 0.1,\n",
       " 'randomoversampler__sampling_strategy': 0.5,\n",
       " 'tfidfvectorizer__max_df': 5,\n",
       " 'tfidfvectorizer__ngram_range': (1, 1)}"
      ]
     },
     "execution_count": 61,
     "metadata": {},
     "output_type": "execute_result"
    }
   ],
   "source": [
    "gs_tf.best_params_"
   ]
  },
  {
   "cell_type": "code",
   "execution_count": 62,
   "id": "df0cfcae-c592-469c-84b2-be000b53ea10",
   "metadata": {},
   "outputs": [
    {
     "data": {
      "text/plain": [
       "Pipeline(steps=[('tfidfvectorizer', TfidfVectorizer(max_df=5)),\n",
       "                ('randomoversampler',\n",
       "                 RandomOverSampler(random_state=53, sampling_strategy=0.5)),\n",
       "                ('logisticregression',\n",
       "                 LogisticRegression(C=0.1, max_iter=5000))])"
      ]
     },
     "execution_count": 62,
     "metadata": {},
     "output_type": "execute_result"
    }
   ],
   "source": [
    "gs_tf.best_estimator_"
   ]
  },
  {
   "cell_type": "code",
   "execution_count": 63,
   "id": "139189cf-9384-4c4a-be07-836ac85ac67c",
   "metadata": {},
   "outputs": [
    {
     "data": {
      "text/plain": [
       "0.9286380931868763"
      ]
     },
     "execution_count": 63,
     "metadata": {},
     "output_type": "execute_result"
    }
   ],
   "source": [
    "gs_tf.score(X_test, y_test)"
   ]
  },
  {
   "cell_type": "code",
   "execution_count": 64,
   "id": "08e94914-3b92-4e32-9861-eca220641000",
   "metadata": {},
   "outputs": [
    {
     "data": {
      "text/plain": [
       "0.7723042619467851"
      ]
     },
     "execution_count": 64,
     "metadata": {},
     "output_type": "execute_result"
    }
   ],
   "source": [
    "balanced_accuracy_score(gs_tf.predict(X_test), y_test)"
   ]
  },
  {
   "cell_type": "code",
   "execution_count": null,
   "id": "e8f5ac98-bcea-4674-90e5-b456a5c4faa1",
   "metadata": {},
   "outputs": [],
   "source": []
  },
  {
   "cell_type": "code",
   "execution_count": 65,
   "id": "d5a59882-40c1-4e5b-9ecc-c99f495d5369",
   "metadata": {},
   "outputs": [
    {
     "data": {
      "text/plain": [
       "0    0.981765\n",
       "1    0.018235\n",
       "dtype: float64"
      ]
     },
     "execution_count": 65,
     "metadata": {},
     "output_type": "execute_result"
    }
   ],
   "source": [
    "#Creating predicted values with LogReg and CV to create confusion matrix\n",
    "lr.fit(X_train_cv, y_train)\n",
    "lr_preds = lr.predict(X_test_cv)\n",
    "pd.Index(lr_preds).value_counts(normalize=True)"
   ]
  },
  {
   "cell_type": "code",
   "execution_count": 66,
   "id": "42ff5577-0a75-4a43-a304-937ce8a64e04",
   "metadata": {},
   "outputs": [
    {
     "data": {
      "text/plain": [
       "0    0.928243\n",
       "1    0.071757\n",
       "Name: subreddit, dtype: float64"
      ]
     },
     "execution_count": 66,
     "metadata": {},
     "output_type": "execute_result"
    }
   ],
   "source": [
    "df['subreddit'].value_counts(normalize=True)"
   ]
  },
  {
   "cell_type": "code",
   "execution_count": 67,
   "id": "1fc1d7b0-a86b-4788-8ad2-2ca1415cfc3f",
   "metadata": {},
   "outputs": [
    {
     "data": {
      "image/png": "[encoded data removed]",
      "text/plain": [
       "<Figure size 720x360 with 4 Axes>"
      ]
     },
     "metadata": {
      "needs_background": "light"
     },
     "output_type": "display_data"
    }
   ],
   "source": [
    "# Confusion matrix and scores for train set\n",
    "f, axes = plt.subplots(1, 2, figsize=(10, 5), sharey='row')\n",
    "ConfusionMatrixDisplay.from_estimator(lr, X_train_cv, y_train, ax=axes[0]);\n",
    "axes[0].set_title('Train Confusion Matrix')\n",
    "ConfusionMatrixDisplay.from_estimator(lr, X_train_cv, y_train, normalize='pred', ax=axes[1]);\n",
    "axes[1].set_title('Train Confusion Matrix (Normalized)', loc='center');\n",
    "#plt.tight_layout()\n",
    "plt.show()"
   ]
  },
  {
   "cell_type": "code",
   "execution_count": 68,
   "id": "55a89715-6bf1-4348-b050-4c8b54b06e26",
   "metadata": {},
   "outputs": [
    {
     "name": "stdout",
     "output_type": "stream",
     "text": [
      "              precision    recall  f1-score   support\n",
      "\n",
      "           0       0.95      1.00      0.97     38789\n",
      "           1       0.92      0.30      0.45      2998\n",
      "\n",
      "    accuracy                           0.95     41787\n",
      "   macro avg       0.93      0.65      0.71     41787\n",
      "weighted avg       0.95      0.95      0.94     41787\n",
      "\n"
     ]
    }
   ],
   "source": [
    "print(classification_report(y_train, lr.predict(X_train_cv)))"
   ]
  },
  {
   "cell_type": "code",
   "execution_count": null,
   "id": "03277593-e0eb-4fab-8143-2c5d7003fa6a",
   "metadata": {},
   "outputs": [],
   "source": []
  },
  {
   "cell_type": "code",
   "execution_count": 69,
   "id": "3c630598-4af2-401c-9acd-7aa60c607f62",
   "metadata": {},
   "outputs": [
    {
     "data": {
      "image/png": "[encoded data removed]",
      "text/plain": [
       "<Figure size 720x360 with 4 Axes>"
      ]
     },
     "metadata": {
      "needs_background": "light"
     },
     "output_type": "display_data"
    }
   ],
   "source": [
    "# Confusion matrix and scores for test set\n",
    "f, axes = plt.subplots(1, 2, figsize=(10, 5), sharey='row')\n",
    "ConfusionMatrixDisplay.from_estimator(lr, X_test_cv, y_test, ax=axes[0]);\n",
    "axes[0].set_title('Test Confusion Matrix')\n",
    "ConfusionMatrixDisplay.from_estimator(lr, X_test_cv, y_test, normalize='pred', ax=axes[1]);\n",
    "axes[1].set_title('Test Confusion Matrix (Normalized)', loc='center');\n",
    "#plt.tight_layout()\n",
    "plt.show()"
   ]
  },
  {
   "cell_type": "code",
   "execution_count": 70,
   "id": "fc1cf32d-04cd-4d09-9029-b8781030ade5",
   "metadata": {},
   "outputs": [
    {
     "name": "stdout",
     "output_type": "stream",
     "text": [
      "              precision    recall  f1-score   support\n",
      "\n",
      "           0       0.94      0.99      0.96     12929\n",
      "           1       0.56      0.14      0.23      1000\n",
      "\n",
      "    accuracy                           0.93     13929\n",
      "   macro avg       0.75      0.57      0.60     13929\n",
      "weighted avg       0.91      0.93      0.91     13929\n",
      "\n"
     ]
    }
   ],
   "source": [
    "print(classification_report(y_test, lr.predict(X_test_cv)))"
   ]
  },
  {
   "cell_type": "code",
   "execution_count": null,
   "id": "4b63f87b-43d7-4a00-a04b-d52b369cdd4e",
   "metadata": {},
   "outputs": [],
   "source": []
  },
  {
   "cell_type": "markdown",
   "id": "ae0a1d7f-a1f2-4800-8dc6-ecdd500b1f70",
   "metadata": {},
   "source": [
    "## Dealing with imbalanced data"
   ]
  },
  {
   "cell_type": "markdown",
   "id": "5ed3c8e4-3529-492f-a1f9-850be1900801",
   "metadata": {},
   "source": [
    "### 1. Oversample 'upliftingnews' with RandomOverSampler"
   ]
  },
  {
   "cell_type": "code",
   "execution_count": 71,
   "id": "ade76955-a1dc-40d4-a1ff-b3f158577683",
   "metadata": {},
   "outputs": [],
   "source": [
    "pipe = make_pipeline(\n",
    "    RandomOverSampler(random_state=53),\n",
    "    LogisticRegression(max_iter=10_000))\n",
    "#pipe.get_params()"
   ]
  },
  {
   "cell_type": "code",
   "execution_count": 72,
   "id": "06127b50-3d48-4bed-ae0f-3f39e9c3bccf",
   "metadata": {},
   "outputs": [],
   "source": [
    "params_ros = {\n",
    "    'randomoversampler__sampling_strategy': [0.1, 0.25, 0.5, 0.75, 1],\n",
    "    'randomoversampler__shrinkage': [None, .5, 1]\n",
    "}"
   ]
  },
  {
   "cell_type": "code",
   "execution_count": 73,
   "id": "5a27500d-c6d2-4b32-97b2-e514f4211bcc",
   "metadata": {},
   "outputs": [
    {
     "name": "stderr",
     "output_type": "stream",
     "text": [
      "C:\\Users\\jswil\\anaconda3\\lib\\site-packages\\sklearn\\model_selection\\_validation.py:372: FitFailedWarning: \n",
      "16 fits failed out of a total of 75.\n",
      "The score on these train-test partitions for these parameters will be set to nan.\n",
      "If these failures are not expected, you can try to debug them by setting error_score='raise'.\n",
      "\n",
      "Below are more details about the failures:\n",
      "--------------------------------------------------------------------------------\n",
      "3 fits failed with the following error:\n",
      "Traceback (most recent call last):\n",
      "  File \"C:\\Users\\jswil\\anaconda3\\lib\\site-packages\\sklearn\\model_selection\\_validation.py\", line 680, in _fit_and_score\n",
      "    estimator.fit(X_train, y_train, **fit_params)\n",
      "  File \"C:\\Users\\jswil\\anaconda3\\lib\\site-packages\\imblearn\\pipeline.py\", line 268, in fit\n",
      "    Xt, yt = self._fit(X, y, **fit_params_steps)\n",
      "  File \"C:\\Users\\jswil\\anaconda3\\lib\\site-packages\\imblearn\\pipeline.py\", line 226, in _fit\n",
      "    X, y, fitted_transformer = fit_resample_one_cached(\n",
      "  File \"C:\\Users\\jswil\\anaconda3\\lib\\site-packages\\joblib\\memory.py\", line 349, in __call__\n",
      "    return self.func(*args, **kwargs)\n",
      "  File \"C:\\Users\\jswil\\anaconda3\\lib\\site-packages\\imblearn\\pipeline.py\", line 394, in _fit_resample_one\n",
      "    X_res, y_res = sampler.fit_resample(X, y, **fit_params)\n",
      "  File \"C:\\Users\\jswil\\anaconda3\\lib\\site-packages\\imblearn\\base.py\", line 83, in fit_resample\n",
      "    output = self._fit_resample(X, y)\n",
      "  File \"C:\\Users\\jswil\\anaconda3\\lib\\site-packages\\imblearn\\over_sampling\\_random_over_sampler.py\", line 235, in _fit_resample\n",
      "    X_new = X_new.dot(smoothing_matrix) + X[bootstrap_indices, :]\n",
      "  File \"C:\\Users\\jswil\\anaconda3\\lib\\site-packages\\scipy\\sparse\\base.py\", line 423, in __radd__\n",
      "    return self.__add__(other)\n",
      "  File \"C:\\Users\\jswil\\anaconda3\\lib\\site-packages\\scipy\\sparse\\base.py\", line 418, in __add__\n",
      "    return self._add_dense(other)\n",
      "  File \"C:\\Users\\jswil\\anaconda3\\lib\\site-packages\\scipy\\sparse\\compressed.py\", line 353, in _add_dense\n",
      "    result = np.array(other, dtype=dtype, order=order, copy=True)\n",
      "numpy.core._exceptions._ArrayMemoryError: Unable to allocate 1.24 GiB for an array with shape (20875, 7981) and data type float64\n",
      "\n",
      "--------------------------------------------------------------------------------\n",
      "1 fits failed with the following error:\n",
      "Traceback (most recent call last):\n",
      "  File \"C:\\Users\\jswil\\anaconda3\\lib\\site-packages\\sklearn\\model_selection\\_validation.py\", line 680, in _fit_and_score\n",
      "    estimator.fit(X_train, y_train, **fit_params)\n",
      "  File \"C:\\Users\\jswil\\anaconda3\\lib\\site-packages\\imblearn\\pipeline.py\", line 268, in fit\n",
      "    Xt, yt = self._fit(X, y, **fit_params_steps)\n",
      "  File \"C:\\Users\\jswil\\anaconda3\\lib\\site-packages\\imblearn\\pipeline.py\", line 226, in _fit\n",
      "    X, y, fitted_transformer = fit_resample_one_cached(\n",
      "  File \"C:\\Users\\jswil\\anaconda3\\lib\\site-packages\\joblib\\memory.py\", line 349, in __call__\n",
      "    return self.func(*args, **kwargs)\n",
      "  File \"C:\\Users\\jswil\\anaconda3\\lib\\site-packages\\imblearn\\pipeline.py\", line 394, in _fit_resample_one\n",
      "    X_res, y_res = sampler.fit_resample(X, y, **fit_params)\n",
      "  File \"C:\\Users\\jswil\\anaconda3\\lib\\site-packages\\imblearn\\base.py\", line 83, in fit_resample\n",
      "    output = self._fit_resample(X, y)\n",
      "  File \"C:\\Users\\jswil\\anaconda3\\lib\\site-packages\\imblearn\\over_sampling\\_random_over_sampler.py\", line 237, in _fit_resample\n",
      "    X_new = sparse.csr_matrix(X_new, dtype=X.dtype)\n",
      "  File \"C:\\Users\\jswil\\anaconda3\\lib\\site-packages\\scipy\\sparse\\compressed.py\", line 86, in __init__\n",
      "    self._set_self(self.__class__(coo_matrix(arg1, dtype=dtype)))\n",
      "  File \"C:\\Users\\jswil\\anaconda3\\lib\\site-packages\\scipy\\sparse\\coo.py\", line 194, in __init__\n",
      "    self.data = self.data.astype(dtype, copy=False)\n",
      "numpy.core._exceptions._ArrayMemoryError: Unable to allocate 731. MiB for an array with shape (95811660,) and data type int64\n",
      "\n",
      "--------------------------------------------------------------------------------\n",
      "2 fits failed with the following error:\n",
      "Traceback (most recent call last):\n",
      "  File \"C:\\Users\\jswil\\anaconda3\\lib\\site-packages\\sklearn\\model_selection\\_validation.py\", line 680, in _fit_and_score\n",
      "    estimator.fit(X_train, y_train, **fit_params)\n",
      "  File \"C:\\Users\\jswil\\anaconda3\\lib\\site-packages\\imblearn\\pipeline.py\", line 268, in fit\n",
      "    Xt, yt = self._fit(X, y, **fit_params_steps)\n",
      "  File \"C:\\Users\\jswil\\anaconda3\\lib\\site-packages\\imblearn\\pipeline.py\", line 226, in _fit\n",
      "    X, y, fitted_transformer = fit_resample_one_cached(\n",
      "  File \"C:\\Users\\jswil\\anaconda3\\lib\\site-packages\\joblib\\memory.py\", line 349, in __call__\n",
      "    return self.func(*args, **kwargs)\n",
      "  File \"C:\\Users\\jswil\\anaconda3\\lib\\site-packages\\imblearn\\pipeline.py\", line 394, in _fit_resample_one\n",
      "    X_res, y_res = sampler.fit_resample(X, y, **fit_params)\n",
      "  File \"C:\\Users\\jswil\\anaconda3\\lib\\site-packages\\imblearn\\base.py\", line 83, in fit_resample\n",
      "    output = self._fit_resample(X, y)\n",
      "  File \"C:\\Users\\jswil\\anaconda3\\lib\\site-packages\\imblearn\\over_sampling\\_random_over_sampler.py\", line 235, in _fit_resample\n",
      "    X_new = X_new.dot(smoothing_matrix) + X[bootstrap_indices, :]\n",
      "  File \"C:\\Users\\jswil\\anaconda3\\lib\\site-packages\\scipy\\sparse\\base.py\", line 423, in __radd__\n",
      "    return self.__add__(other)\n",
      "  File \"C:\\Users\\jswil\\anaconda3\\lib\\site-packages\\scipy\\sparse\\base.py\", line 418, in __add__\n",
      "    return self._add_dense(other)\n",
      "  File \"C:\\Users\\jswil\\anaconda3\\lib\\site-packages\\scipy\\sparse\\compressed.py\", line 353, in _add_dense\n",
      "    result = np.array(other, dtype=dtype, order=order, copy=True)\n",
      "numpy.core._exceptions._ArrayMemoryError: Unable to allocate 1.24 GiB for an array with shape (20874, 7981) and data type float64\n",
      "\n",
      "--------------------------------------------------------------------------------\n",
      "2 fits failed with the following error:\n",
      "Traceback (most recent call last):\n",
      "  File \"C:\\Users\\jswil\\anaconda3\\lib\\site-packages\\sklearn\\model_selection\\_validation.py\", line 680, in _fit_and_score\n",
      "    estimator.fit(X_train, y_train, **fit_params)\n",
      "  File \"C:\\Users\\jswil\\anaconda3\\lib\\site-packages\\imblearn\\pipeline.py\", line 268, in fit\n",
      "    Xt, yt = self._fit(X, y, **fit_params_steps)\n",
      "  File \"C:\\Users\\jswil\\anaconda3\\lib\\site-packages\\imblearn\\pipeline.py\", line 226, in _fit\n",
      "    X, y, fitted_transformer = fit_resample_one_cached(\n",
      "  File \"C:\\Users\\jswil\\anaconda3\\lib\\site-packages\\joblib\\memory.py\", line 349, in __call__\n",
      "    return self.func(*args, **kwargs)\n",
      "  File \"C:\\Users\\jswil\\anaconda3\\lib\\site-packages\\imblearn\\pipeline.py\", line 394, in _fit_resample_one\n",
      "    X_res, y_res = sampler.fit_resample(X, y, **fit_params)\n",
      "  File \"C:\\Users\\jswil\\anaconda3\\lib\\site-packages\\imblearn\\base.py\", line 83, in fit_resample\n",
      "    output = self._fit_resample(X, y)\n",
      "  File \"C:\\Users\\jswil\\anaconda3\\lib\\site-packages\\imblearn\\over_sampling\\_random_over_sampler.py\", line 235, in _fit_resample\n",
      "    X_new = X_new.dot(smoothing_matrix) + X[bootstrap_indices, :]\n",
      "  File \"C:\\Users\\jswil\\anaconda3\\lib\\site-packages\\scipy\\sparse\\base.py\", line 423, in __radd__\n",
      "    return self.__add__(other)\n",
      "  File \"C:\\Users\\jswil\\anaconda3\\lib\\site-packages\\scipy\\sparse\\base.py\", line 418, in __add__\n",
      "    return self._add_dense(other)\n",
      "  File \"C:\\Users\\jswil\\anaconda3\\lib\\site-packages\\scipy\\sparse\\compressed.py\", line 353, in _add_dense\n",
      "    result = np.array(other, dtype=dtype, order=order, copy=True)\n",
      "numpy.core._exceptions._ArrayMemoryError: Unable to allocate 1.24 GiB for an array with shape (20876, 7981) and data type float64\n",
      "\n",
      "--------------------------------------------------------------------------------\n",
      "3 fits failed with the following error:\n",
      "Traceback (most recent call last):\n",
      "  File \"C:\\Users\\jswil\\anaconda3\\lib\\site-packages\\sklearn\\model_selection\\_validation.py\", line 680, in _fit_and_score\n",
      "    estimator.fit(X_train, y_train, **fit_params)\n",
      "  File \"C:\\Users\\jswil\\anaconda3\\lib\\site-packages\\imblearn\\pipeline.py\", line 268, in fit\n",
      "    Xt, yt = self._fit(X, y, **fit_params_steps)\n",
      "  File \"C:\\Users\\jswil\\anaconda3\\lib\\site-packages\\imblearn\\pipeline.py\", line 226, in _fit\n",
      "    X, y, fitted_transformer = fit_resample_one_cached(\n",
      "  File \"C:\\Users\\jswil\\anaconda3\\lib\\site-packages\\joblib\\memory.py\", line 349, in __call__\n",
      "    return self.func(*args, **kwargs)\n",
      "  File \"C:\\Users\\jswil\\anaconda3\\lib\\site-packages\\imblearn\\pipeline.py\", line 394, in _fit_resample_one\n",
      "    X_res, y_res = sampler.fit_resample(X, y, **fit_params)\n",
      "  File \"C:\\Users\\jswil\\anaconda3\\lib\\site-packages\\imblearn\\base.py\", line 83, in fit_resample\n",
      "    output = self._fit_resample(X, y)\n",
      "  File \"C:\\Users\\jswil\\anaconda3\\lib\\site-packages\\imblearn\\over_sampling\\_random_over_sampler.py\", line 235, in _fit_resample\n",
      "    X_new = X_new.dot(smoothing_matrix) + X[bootstrap_indices, :]\n",
      "numpy.core._exceptions._ArrayMemoryError: Unable to allocate 1.70 GiB for an array with shape (28633, 7981) and data type float64\n",
      "\n",
      "--------------------------------------------------------------------------------\n",
      "2 fits failed with the following error:\n",
      "Traceback (most recent call last):\n",
      "  File \"C:\\Users\\jswil\\anaconda3\\lib\\site-packages\\sklearn\\model_selection\\_validation.py\", line 680, in _fit_and_score\n",
      "    estimator.fit(X_train, y_train, **fit_params)\n",
      "  File \"C:\\Users\\jswil\\anaconda3\\lib\\site-packages\\imblearn\\pipeline.py\", line 268, in fit\n",
      "    Xt, yt = self._fit(X, y, **fit_params_steps)\n",
      "  File \"C:\\Users\\jswil\\anaconda3\\lib\\site-packages\\imblearn\\pipeline.py\", line 226, in _fit\n",
      "    X, y, fitted_transformer = fit_resample_one_cached(\n",
      "  File \"C:\\Users\\jswil\\anaconda3\\lib\\site-packages\\joblib\\memory.py\", line 349, in __call__\n",
      "    return self.func(*args, **kwargs)\n",
      "  File \"C:\\Users\\jswil\\anaconda3\\lib\\site-packages\\imblearn\\pipeline.py\", line 394, in _fit_resample_one\n",
      "    X_res, y_res = sampler.fit_resample(X, y, **fit_params)\n",
      "  File \"C:\\Users\\jswil\\anaconda3\\lib\\site-packages\\imblearn\\base.py\", line 83, in fit_resample\n",
      "    output = self._fit_resample(X, y)\n",
      "  File \"C:\\Users\\jswil\\anaconda3\\lib\\site-packages\\imblearn\\over_sampling\\_random_over_sampler.py\", line 235, in _fit_resample\n",
      "    X_new = X_new.dot(smoothing_matrix) + X[bootstrap_indices, :]\n",
      "numpy.core._exceptions._ArrayMemoryError: Unable to allocate 1.70 GiB for an array with shape (28632, 7981) and data type float64\n",
      "\n",
      "--------------------------------------------------------------------------------\n",
      "1 fits failed with the following error:\n",
      "Traceback (most recent call last):\n",
      "  File \"C:\\Users\\jswil\\anaconda3\\lib\\site-packages\\sklearn\\model_selection\\_validation.py\", line 680, in _fit_and_score\n",
      "    estimator.fit(X_train, y_train, **fit_params)\n",
      "  File \"C:\\Users\\jswil\\anaconda3\\lib\\site-packages\\imblearn\\pipeline.py\", line 268, in fit\n",
      "    Xt, yt = self._fit(X, y, **fit_params_steps)\n",
      "  File \"C:\\Users\\jswil\\anaconda3\\lib\\site-packages\\imblearn\\pipeline.py\", line 226, in _fit\n",
      "    X, y, fitted_transformer = fit_resample_one_cached(\n",
      "  File \"C:\\Users\\jswil\\anaconda3\\lib\\site-packages\\joblib\\memory.py\", line 349, in __call__\n",
      "    return self.func(*args, **kwargs)\n",
      "  File \"C:\\Users\\jswil\\anaconda3\\lib\\site-packages\\imblearn\\pipeline.py\", line 394, in _fit_resample_one\n",
      "    X_res, y_res = sampler.fit_resample(X, y, **fit_params)\n",
      "  File \"C:\\Users\\jswil\\anaconda3\\lib\\site-packages\\imblearn\\base.py\", line 83, in fit_resample\n",
      "    output = self._fit_resample(X, y)\n",
      "  File \"C:\\Users\\jswil\\anaconda3\\lib\\site-packages\\imblearn\\over_sampling\\_random_over_sampler.py\", line 235, in _fit_resample\n",
      "    X_new = X_new.dot(smoothing_matrix) + X[bootstrap_indices, :]\n",
      "numpy.core._exceptions._ArrayMemoryError: Unable to allocate 1.70 GiB for an array with shape (28634, 7981) and data type float64\n",
      "\n",
      "--------------------------------------------------------------------------------\n",
      "1 fits failed with the following error:\n",
      "Traceback (most recent call last):\n",
      "  File \"C:\\Users\\jswil\\anaconda3\\lib\\site-packages\\sklearn\\model_selection\\_validation.py\", line 680, in _fit_and_score\n",
      "    estimator.fit(X_train, y_train, **fit_params)\n",
      "  File \"C:\\Users\\jswil\\anaconda3\\lib\\site-packages\\imblearn\\pipeline.py\", line 268, in fit\n",
      "    Xt, yt = self._fit(X, y, **fit_params_steps)\n",
      "  File \"C:\\Users\\jswil\\anaconda3\\lib\\site-packages\\imblearn\\pipeline.py\", line 226, in _fit\n",
      "    X, y, fitted_transformer = fit_resample_one_cached(\n",
      "  File \"C:\\Users\\jswil\\anaconda3\\lib\\site-packages\\joblib\\memory.py\", line 349, in __call__\n",
      "    return self.func(*args, **kwargs)\n",
      "  File \"C:\\Users\\jswil\\anaconda3\\lib\\site-packages\\imblearn\\pipeline.py\", line 394, in _fit_resample_one\n",
      "    X_res, y_res = sampler.fit_resample(X, y, **fit_params)\n",
      "  File \"C:\\Users\\jswil\\anaconda3\\lib\\site-packages\\imblearn\\base.py\", line 83, in fit_resample\n",
      "    output = self._fit_resample(X, y)\n",
      "  File \"C:\\Users\\jswil\\anaconda3\\lib\\site-packages\\imblearn\\over_sampling\\_random_over_sampler.py\", line 234, in _fit_resample\n",
      "    X_new = random_state.randn(num_samples, n_features)\n",
      "  File \"mtrand.pyx\", line 1237, in numpy.random.mtrand.RandomState.randn\n",
      "  File \"mtrand.pyx\", line 1394, in numpy.random.mtrand.RandomState.standard_normal\n",
      "  File \"_common.pyx\", line 577, in numpy.random._common.cont\n",
      "numpy.core._exceptions._ArrayMemoryError: Unable to allocate 1.70 GiB for an array with shape (28632, 7981) and data type float64\n",
      "\n",
      "--------------------------------------------------------------------------------\n",
      "1 fits failed with the following error:\n",
      "Traceback (most recent call last):\n",
      "  File \"C:\\Users\\jswil\\anaconda3\\lib\\site-packages\\sklearn\\model_selection\\_validation.py\", line 680, in _fit_and_score\n",
      "    estimator.fit(X_train, y_train, **fit_params)\n",
      "  File \"C:\\Users\\jswil\\anaconda3\\lib\\site-packages\\imblearn\\pipeline.py\", line 268, in fit\n",
      "    Xt, yt = self._fit(X, y, **fit_params_steps)\n",
      "  File \"C:\\Users\\jswil\\anaconda3\\lib\\site-packages\\imblearn\\pipeline.py\", line 226, in _fit\n",
      "    X, y, fitted_transformer = fit_resample_one_cached(\n",
      "  File \"C:\\Users\\jswil\\anaconda3\\lib\\site-packages\\joblib\\memory.py\", line 349, in __call__\n",
      "    return self.func(*args, **kwargs)\n",
      "  File \"C:\\Users\\jswil\\anaconda3\\lib\\site-packages\\imblearn\\pipeline.py\", line 394, in _fit_resample_one\n",
      "    X_res, y_res = sampler.fit_resample(X, y, **fit_params)\n",
      "  File \"C:\\Users\\jswil\\anaconda3\\lib\\site-packages\\imblearn\\base.py\", line 83, in fit_resample\n",
      "    output = self._fit_resample(X, y)\n",
      "  File \"C:\\Users\\jswil\\anaconda3\\lib\\site-packages\\imblearn\\over_sampling\\_random_over_sampler.py\", line 234, in _fit_resample\n",
      "    X_new = random_state.randn(num_samples, n_features)\n",
      "  File \"mtrand.pyx\", line 1237, in numpy.random.mtrand.RandomState.randn\n",
      "  File \"mtrand.pyx\", line 1394, in numpy.random.mtrand.RandomState.standard_normal\n",
      "  File \"_common.pyx\", line 577, in numpy.random._common.cont\n",
      "numpy.core._exceptions._ArrayMemoryError: Unable to allocate 1.70 GiB for an array with shape (28634, 7981) and data type float64\n",
      "\n",
      "  warnings.warn(some_fits_failed_message, FitFailedWarning)\n",
      "C:\\Users\\jswil\\anaconda3\\lib\\site-packages\\sklearn\\model_selection\\_search.py:969: UserWarning: One or more of the test scores are non-finite: [0.92509631 0.92540742 0.92564673 0.90552087 0.89384258 0.89403406\n",
      " 0.87397996 0.86249313 0.86246917 0.84899607        nan        nan\n",
      " 0.82724296        nan        nan]\n",
      "  warnings.warn(\n"
     ]
    },
    {
     "data": {
      "text/plain": [
       "GridSearchCV(estimator=Pipeline(steps=[('randomoversampler',\n",
       "                                        RandomOverSampler(random_state=53)),\n",
       "                                       ('logisticregression',\n",
       "                                        LogisticRegression(max_iter=10000))]),\n",
       "             n_jobs=-1,\n",
       "             param_grid={'randomoversampler__sampling_strategy': [0.1, 0.25,\n",
       "                                                                  0.5, 0.75,\n",
       "                                                                  1],\n",
       "                         'randomoversampler__shrinkage': [None, 0.5, 1]})"
      ]
     },
     "execution_count": 73,
     "metadata": {},
     "output_type": "execute_result"
    }
   ],
   "source": [
    "gs_ros = GridSearchCV(pipe, params_ros, n_jobs=-1)\n",
    "gs_ros.fit(X_train_cv, y_train)"
   ]
  },
  {
   "cell_type": "code",
   "execution_count": 74,
   "id": "7a4c49ea-ab51-4e40-bdd3-21e870093eb0",
   "metadata": {},
   "outputs": [
    {
     "data": {
      "text/plain": [
       "0     0.925096\n",
       "1     0.925407\n",
       "2     0.925647\n",
       "3     0.905521\n",
       "4     0.893843\n",
       "5     0.894034\n",
       "6     0.873980\n",
       "7     0.862493\n",
       "8     0.862469\n",
       "9     0.848996\n",
       "10         NaN\n",
       "11         NaN\n",
       "12    0.827243\n",
       "13         NaN\n",
       "14         NaN\n",
       "Name: mean_test_score, dtype: float64"
      ]
     },
     "execution_count": 74,
     "metadata": {},
     "output_type": "execute_result"
    }
   ],
   "source": [
    "pd.DataFrame(gs_ros.cv_results_)['mean_test_score']"
   ]
  },
  {
   "cell_type": "code",
   "execution_count": 75,
   "id": "9a05144d-95a0-4075-bcd5-a4253c8c98ea",
   "metadata": {},
   "outputs": [
    {
     "name": "stdout",
     "output_type": "stream",
     "text": [
      "              precision    recall  f1-score   support\n",
      "\n",
      "           0       0.95      1.00      0.97     38789\n",
      "           1       0.85      0.37      0.51      2998\n",
      "\n",
      "    accuracy                           0.95     41787\n",
      "   macro avg       0.90      0.68      0.74     41787\n",
      "weighted avg       0.95      0.95      0.94     41787\n",
      "\n"
     ]
    }
   ],
   "source": [
    "print(classification_report(y_train, gs_ros.predict(X_train_cv)))"
   ]
  },
  {
   "cell_type": "code",
   "execution_count": 76,
   "id": "36942831-b542-4f5d-b294-14d33288eca9",
   "metadata": {},
   "outputs": [
    {
     "name": "stdout",
     "output_type": "stream",
     "text": [
      "              precision    recall  f1-score   support\n",
      "\n",
      "           0       0.94      0.98      0.96     12929\n",
      "           1       0.47      0.18      0.26      1000\n",
      "\n",
      "    accuracy                           0.93     13929\n",
      "   macro avg       0.70      0.58      0.61     13929\n",
      "weighted avg       0.91      0.93      0.91     13929\n",
      "\n"
     ]
    }
   ],
   "source": [
    "print(classification_report(y_test, gs_ros.predict(X_test_cv)))"
   ]
  },
  {
   "cell_type": "code",
   "execution_count": 77,
   "id": "01d5ade0-3924-49c3-8dbb-4bb2044114c8",
   "metadata": {},
   "outputs": [
    {
     "data": {
      "text/plain": [
       "Pipeline(steps=[('randomoversampler',\n",
       "                 RandomOverSampler(random_state=53, sampling_strategy=0.1,\n",
       "                                   shrinkage=1)),\n",
       "                ('logisticregression', LogisticRegression(max_iter=10000))])"
      ]
     },
     "execution_count": 77,
     "metadata": {},
     "output_type": "execute_result"
    }
   ],
   "source": [
    "gs_ros.best_estimator_"
   ]
  },
  {
   "cell_type": "code",
   "execution_count": 78,
   "id": "8e0bf846-e99f-4e1a-ac1a-df00d0ae9beb",
   "metadata": {},
   "outputs": [
    {
     "name": "stderr",
     "output_type": "stream",
     "text": [
      "C:\\Users\\jswil\\anaconda3\\lib\\site-packages\\sklearn\\model_selection\\_validation.py:372: FitFailedWarning: \n",
      "14 fits failed out of a total of 75.\n",
      "The score on these train-test partitions for these parameters will be set to nan.\n",
      "If these failures are not expected, you can try to debug them by setting error_score='raise'.\n",
      "\n",
      "Below are more details about the failures:\n",
      "--------------------------------------------------------------------------------\n",
      "1 fits failed with the following error:\n",
      "Traceback (most recent call last):\n",
      "  File \"C:\\Users\\jswil\\anaconda3\\lib\\site-packages\\sklearn\\model_selection\\_validation.py\", line 680, in _fit_and_score\n",
      "    estimator.fit(X_train, y_train, **fit_params)\n",
      "  File \"C:\\Users\\jswil\\anaconda3\\lib\\site-packages\\imblearn\\pipeline.py\", line 268, in fit\n",
      "    Xt, yt = self._fit(X, y, **fit_params_steps)\n",
      "  File \"C:\\Users\\jswil\\anaconda3\\lib\\site-packages\\imblearn\\pipeline.py\", line 226, in _fit\n",
      "    X, y, fitted_transformer = fit_resample_one_cached(\n",
      "  File \"C:\\Users\\jswil\\anaconda3\\lib\\site-packages\\joblib\\memory.py\", line 349, in __call__\n",
      "    return self.func(*args, **kwargs)\n",
      "  File \"C:\\Users\\jswil\\anaconda3\\lib\\site-packages\\imblearn\\pipeline.py\", line 394, in _fit_resample_one\n",
      "    X_res, y_res = sampler.fit_resample(X, y, **fit_params)\n",
      "  File \"C:\\Users\\jswil\\anaconda3\\lib\\site-packages\\imblearn\\base.py\", line 83, in fit_resample\n",
      "    output = self._fit_resample(X, y)\n",
      "  File \"C:\\Users\\jswil\\anaconda3\\lib\\site-packages\\imblearn\\over_sampling\\_random_over_sampler.py\", line 235, in _fit_resample\n",
      "    X_new = X_new.dot(smoothing_matrix) + X[bootstrap_indices, :]\n",
      "  File \"C:\\Users\\jswil\\anaconda3\\lib\\site-packages\\scipy\\sparse\\base.py\", line 423, in __radd__\n",
      "    return self.__add__(other)\n",
      "  File \"C:\\Users\\jswil\\anaconda3\\lib\\site-packages\\scipy\\sparse\\base.py\", line 418, in __add__\n",
      "    return self._add_dense(other)\n",
      "  File \"C:\\Users\\jswil\\anaconda3\\lib\\site-packages\\scipy\\sparse\\compressed.py\", line 353, in _add_dense\n",
      "    result = np.array(other, dtype=dtype, order=order, copy=True)\n",
      "numpy.core._exceptions._ArrayMemoryError: Unable to allocate 1.24 GiB for an array with shape (20875, 7981) and data type float64\n",
      "\n",
      "--------------------------------------------------------------------------------\n",
      "1 fits failed with the following error:\n",
      "Traceback (most recent call last):\n",
      "  File \"C:\\Users\\jswil\\anaconda3\\lib\\site-packages\\sklearn\\model_selection\\_validation.py\", line 680, in _fit_and_score\n",
      "    estimator.fit(X_train, y_train, **fit_params)\n",
      "  File \"C:\\Users\\jswil\\anaconda3\\lib\\site-packages\\imblearn\\pipeline.py\", line 268, in fit\n",
      "    Xt, yt = self._fit(X, y, **fit_params_steps)\n",
      "  File \"C:\\Users\\jswil\\anaconda3\\lib\\site-packages\\imblearn\\pipeline.py\", line 226, in _fit\n",
      "    X, y, fitted_transformer = fit_resample_one_cached(\n",
      "  File \"C:\\Users\\jswil\\anaconda3\\lib\\site-packages\\joblib\\memory.py\", line 349, in __call__\n",
      "    return self.func(*args, **kwargs)\n",
      "  File \"C:\\Users\\jswil\\anaconda3\\lib\\site-packages\\imblearn\\pipeline.py\", line 394, in _fit_resample_one\n",
      "    X_res, y_res = sampler.fit_resample(X, y, **fit_params)\n",
      "  File \"C:\\Users\\jswil\\anaconda3\\lib\\site-packages\\imblearn\\base.py\", line 83, in fit_resample\n",
      "    output = self._fit_resample(X, y)\n",
      "  File \"C:\\Users\\jswil\\anaconda3\\lib\\site-packages\\imblearn\\over_sampling\\_random_over_sampler.py\", line 237, in _fit_resample\n",
      "    X_new = sparse.csr_matrix(X_new, dtype=X.dtype)\n",
      "  File \"C:\\Users\\jswil\\anaconda3\\lib\\site-packages\\scipy\\sparse\\compressed.py\", line 86, in __init__\n",
      "    self._set_self(self.__class__(coo_matrix(arg1, dtype=dtype)))\n",
      "  File \"C:\\Users\\jswil\\anaconda3\\lib\\site-packages\\scipy\\sparse\\coo.py\", line 190, in __init__\n",
      "    self.data = M[self.row, self.col]\n",
      "numpy.core._exceptions._ArrayMemoryError: Unable to allocate 728. MiB for an array with shape (95398750,) and data type float64\n",
      "\n",
      "--------------------------------------------------------------------------------\n",
      "1 fits failed with the following error:\n",
      "Traceback (most recent call last):\n",
      "  File \"C:\\Users\\jswil\\anaconda3\\lib\\site-packages\\sklearn\\model_selection\\_validation.py\", line 680, in _fit_and_score\n",
      "    estimator.fit(X_train, y_train, **fit_params)\n",
      "  File \"C:\\Users\\jswil\\anaconda3\\lib\\site-packages\\imblearn\\pipeline.py\", line 268, in fit\n",
      "    Xt, yt = self._fit(X, y, **fit_params_steps)\n",
      "  File \"C:\\Users\\jswil\\anaconda3\\lib\\site-packages\\imblearn\\pipeline.py\", line 226, in _fit\n",
      "    X, y, fitted_transformer = fit_resample_one_cached(\n",
      "  File \"C:\\Users\\jswil\\anaconda3\\lib\\site-packages\\joblib\\memory.py\", line 349, in __call__\n",
      "    return self.func(*args, **kwargs)\n",
      "  File \"C:\\Users\\jswil\\anaconda3\\lib\\site-packages\\imblearn\\pipeline.py\", line 394, in _fit_resample_one\n",
      "    X_res, y_res = sampler.fit_resample(X, y, **fit_params)\n",
      "  File \"C:\\Users\\jswil\\anaconda3\\lib\\site-packages\\imblearn\\base.py\", line 83, in fit_resample\n",
      "    output = self._fit_resample(X, y)\n",
      "  File \"C:\\Users\\jswil\\anaconda3\\lib\\site-packages\\imblearn\\over_sampling\\_random_over_sampler.py\", line 235, in _fit_resample\n",
      "    X_new = X_new.dot(smoothing_matrix) + X[bootstrap_indices, :]\n",
      "  File \"C:\\Users\\jswil\\anaconda3\\lib\\site-packages\\scipy\\sparse\\base.py\", line 423, in __radd__\n",
      "    return self.__add__(other)\n",
      "  File \"C:\\Users\\jswil\\anaconda3\\lib\\site-packages\\scipy\\sparse\\base.py\", line 418, in __add__\n",
      "    return self._add_dense(other)\n",
      "  File \"C:\\Users\\jswil\\anaconda3\\lib\\site-packages\\scipy\\sparse\\compressed.py\", line 353, in _add_dense\n",
      "    result = np.array(other, dtype=dtype, order=order, copy=True)\n",
      "numpy.core._exceptions._ArrayMemoryError: Unable to allocate 1.24 GiB for an array with shape (20874, 7981) and data type float64\n",
      "\n",
      "--------------------------------------------------------------------------------\n",
      "1 fits failed with the following error:\n",
      "Traceback (most recent call last):\n",
      "  File \"C:\\Users\\jswil\\anaconda3\\lib\\site-packages\\sklearn\\model_selection\\_validation.py\", line 680, in _fit_and_score\n",
      "    estimator.fit(X_train, y_train, **fit_params)\n",
      "  File \"C:\\Users\\jswil\\anaconda3\\lib\\site-packages\\imblearn\\pipeline.py\", line 268, in fit\n",
      "    Xt, yt = self._fit(X, y, **fit_params_steps)\n",
      "  File \"C:\\Users\\jswil\\anaconda3\\lib\\site-packages\\imblearn\\pipeline.py\", line 226, in _fit\n",
      "    X, y, fitted_transformer = fit_resample_one_cached(\n",
      "  File \"C:\\Users\\jswil\\anaconda3\\lib\\site-packages\\joblib\\memory.py\", line 349, in __call__\n",
      "    return self.func(*args, **kwargs)\n",
      "  File \"C:\\Users\\jswil\\anaconda3\\lib\\site-packages\\imblearn\\pipeline.py\", line 394, in _fit_resample_one\n",
      "    X_res, y_res = sampler.fit_resample(X, y, **fit_params)\n",
      "  File \"C:\\Users\\jswil\\anaconda3\\lib\\site-packages\\imblearn\\base.py\", line 83, in fit_resample\n",
      "    output = self._fit_resample(X, y)\n",
      "  File \"C:\\Users\\jswil\\anaconda3\\lib\\site-packages\\imblearn\\over_sampling\\_random_over_sampler.py\", line 235, in _fit_resample\n",
      "    X_new = X_new.dot(smoothing_matrix) + X[bootstrap_indices, :]\n",
      "numpy.core._exceptions._ArrayMemoryError: Unable to allocate 1.24 GiB for an array with shape (20874, 7981) and data type float64\n",
      "\n",
      "--------------------------------------------------------------------------------\n",
      "4 fits failed with the following error:\n",
      "Traceback (most recent call last):\n",
      "  File \"C:\\Users\\jswil\\anaconda3\\lib\\site-packages\\sklearn\\model_selection\\_validation.py\", line 680, in _fit_and_score\n",
      "    estimator.fit(X_train, y_train, **fit_params)\n",
      "  File \"C:\\Users\\jswil\\anaconda3\\lib\\site-packages\\imblearn\\pipeline.py\", line 268, in fit\n",
      "    Xt, yt = self._fit(X, y, **fit_params_steps)\n",
      "  File \"C:\\Users\\jswil\\anaconda3\\lib\\site-packages\\imblearn\\pipeline.py\", line 226, in _fit\n",
      "    X, y, fitted_transformer = fit_resample_one_cached(\n",
      "  File \"C:\\Users\\jswil\\anaconda3\\lib\\site-packages\\joblib\\memory.py\", line 349, in __call__\n",
      "    return self.func(*args, **kwargs)\n",
      "  File \"C:\\Users\\jswil\\anaconda3\\lib\\site-packages\\imblearn\\pipeline.py\", line 394, in _fit_resample_one\n",
      "    X_res, y_res = sampler.fit_resample(X, y, **fit_params)\n",
      "  File \"C:\\Users\\jswil\\anaconda3\\lib\\site-packages\\imblearn\\base.py\", line 83, in fit_resample\n",
      "    output = self._fit_resample(X, y)\n",
      "  File \"C:\\Users\\jswil\\anaconda3\\lib\\site-packages\\imblearn\\over_sampling\\_random_over_sampler.py\", line 234, in _fit_resample\n",
      "    X_new = random_state.randn(num_samples, n_features)\n",
      "  File \"mtrand.pyx\", line 1237, in numpy.random.mtrand.RandomState.randn\n",
      "  File \"mtrand.pyx\", line 1394, in numpy.random.mtrand.RandomState.standard_normal\n",
      "  File \"_common.pyx\", line 577, in numpy.random._common.cont\n",
      "numpy.core._exceptions._ArrayMemoryError: Unable to allocate 1.70 GiB for an array with shape (28633, 7981) and data type float64\n",
      "\n",
      "--------------------------------------------------------------------------------\n",
      "4 fits failed with the following error:\n",
      "Traceback (most recent call last):\n",
      "  File \"C:\\Users\\jswil\\anaconda3\\lib\\site-packages\\sklearn\\model_selection\\_validation.py\", line 680, in _fit_and_score\n",
      "    estimator.fit(X_train, y_train, **fit_params)\n",
      "  File \"C:\\Users\\jswil\\anaconda3\\lib\\site-packages\\imblearn\\pipeline.py\", line 268, in fit\n",
      "    Xt, yt = self._fit(X, y, **fit_params_steps)\n",
      "  File \"C:\\Users\\jswil\\anaconda3\\lib\\site-packages\\imblearn\\pipeline.py\", line 226, in _fit\n",
      "    X, y, fitted_transformer = fit_resample_one_cached(\n",
      "  File \"C:\\Users\\jswil\\anaconda3\\lib\\site-packages\\joblib\\memory.py\", line 349, in __call__\n",
      "    return self.func(*args, **kwargs)\n",
      "  File \"C:\\Users\\jswil\\anaconda3\\lib\\site-packages\\imblearn\\pipeline.py\", line 394, in _fit_resample_one\n",
      "    X_res, y_res = sampler.fit_resample(X, y, **fit_params)\n",
      "  File \"C:\\Users\\jswil\\anaconda3\\lib\\site-packages\\imblearn\\base.py\", line 83, in fit_resample\n",
      "    output = self._fit_resample(X, y)\n",
      "  File \"C:\\Users\\jswil\\anaconda3\\lib\\site-packages\\imblearn\\over_sampling\\_random_over_sampler.py\", line 234, in _fit_resample\n",
      "    X_new = random_state.randn(num_samples, n_features)\n",
      "  File \"mtrand.pyx\", line 1237, in numpy.random.mtrand.RandomState.randn\n",
      "  File \"mtrand.pyx\", line 1394, in numpy.random.mtrand.RandomState.standard_normal\n",
      "  File \"_common.pyx\", line 577, in numpy.random._common.cont\n",
      "numpy.core._exceptions._ArrayMemoryError: Unable to allocate 1.70 GiB for an array with shape (28632, 7981) and data type float64\n",
      "\n",
      "--------------------------------------------------------------------------------\n",
      "2 fits failed with the following error:\n",
      "Traceback (most recent call last):\n",
      "  File \"C:\\Users\\jswil\\anaconda3\\lib\\site-packages\\sklearn\\model_selection\\_validation.py\", line 680, in _fit_and_score\n",
      "    estimator.fit(X_train, y_train, **fit_params)\n",
      "  File \"C:\\Users\\jswil\\anaconda3\\lib\\site-packages\\imblearn\\pipeline.py\", line 268, in fit\n",
      "    Xt, yt = self._fit(X, y, **fit_params_steps)\n",
      "  File \"C:\\Users\\jswil\\anaconda3\\lib\\site-packages\\imblearn\\pipeline.py\", line 226, in _fit\n",
      "    X, y, fitted_transformer = fit_resample_one_cached(\n",
      "  File \"C:\\Users\\jswil\\anaconda3\\lib\\site-packages\\joblib\\memory.py\", line 349, in __call__\n",
      "    return self.func(*args, **kwargs)\n",
      "  File \"C:\\Users\\jswil\\anaconda3\\lib\\site-packages\\imblearn\\pipeline.py\", line 394, in _fit_resample_one\n",
      "    X_res, y_res = sampler.fit_resample(X, y, **fit_params)\n",
      "  File \"C:\\Users\\jswil\\anaconda3\\lib\\site-packages\\imblearn\\base.py\", line 83, in fit_resample\n",
      "    output = self._fit_resample(X, y)\n",
      "  File \"C:\\Users\\jswil\\anaconda3\\lib\\site-packages\\imblearn\\over_sampling\\_random_over_sampler.py\", line 234, in _fit_resample\n",
      "    X_new = random_state.randn(num_samples, n_features)\n",
      "  File \"mtrand.pyx\", line 1237, in numpy.random.mtrand.RandomState.randn\n",
      "  File \"mtrand.pyx\", line 1394, in numpy.random.mtrand.RandomState.standard_normal\n",
      "  File \"_common.pyx\", line 577, in numpy.random._common.cont\n",
      "numpy.core._exceptions._ArrayMemoryError: Unable to allocate 1.70 GiB for an array with shape (28634, 7981) and data type float64\n",
      "\n",
      "  warnings.warn(some_fits_failed_message, FitFailedWarning)\n",
      "C:\\Users\\jswil\\anaconda3\\lib\\site-packages\\sklearn\\model_selection\\_search.py:969: UserWarning: One or more of the test scores are non-finite: [0.58247651 0.58110577 0.58138873 0.63533047 0.64981735 0.64992103\n",
      " 0.65558199 0.6694051  0.67077786 0.66336547        nan        nan\n",
      " 0.68103731        nan        nan]\n",
      "  warnings.warn(\n"
     ]
    },
    {
     "data": {
      "text/plain": [
       "GridSearchCV(estimator=Pipeline(steps=[('randomoversampler',\n",
       "                                        RandomOverSampler(random_state=53)),\n",
       "                                       ('logisticregression',\n",
       "                                        LogisticRegression(max_iter=10000))]),\n",
       "             n_jobs=-1,\n",
       "             param_grid={'randomoversampler__sampling_strategy': [0.1, 0.25,\n",
       "                                                                  0.5, 0.75,\n",
       "                                                                  1],\n",
       "                         'randomoversampler__shrinkage': [None, 0.5, 1]},\n",
       "             scoring='balanced_accuracy')"
      ]
     },
     "execution_count": 78,
     "metadata": {},
     "output_type": "execute_result"
    }
   ],
   "source": [
    "# Duplicate previous pipeline, but cross-val scored based on balanced accuracy\n",
    "gs_ros_ba = GridSearchCV(pipe, params_ros, n_jobs=-1, scoring = 'balanced_accuracy')\n",
    "gs_ros_ba.fit(X_train_cv, y_train)"
   ]
  },
  {
   "cell_type": "code",
   "execution_count": 79,
   "id": "6bff84d9-4bc7-4a49-b6e1-ba4d6d76ea29",
   "metadata": {},
   "outputs": [
    {
     "data": {
      "text/plain": [
       "0     0.925096\n",
       "1     0.925407\n",
       "2     0.925647\n",
       "3     0.905521\n",
       "4     0.893843\n",
       "5     0.894034\n",
       "6     0.873980\n",
       "7     0.862493\n",
       "8     0.862469\n",
       "9     0.848996\n",
       "10         NaN\n",
       "11         NaN\n",
       "12    0.827243\n",
       "13         NaN\n",
       "14         NaN\n",
       "Name: mean_test_score, dtype: float64"
      ]
     },
     "execution_count": 79,
     "metadata": {},
     "output_type": "execute_result"
    }
   ],
   "source": [
    "pd.DataFrame(gs_ros.cv_results_)['mean_test_score']"
   ]
  },
  {
   "cell_type": "code",
   "execution_count": 80,
   "id": "4d851da1-40e5-40f5-86ea-b6418d8584b7",
   "metadata": {},
   "outputs": [
    {
     "name": "stdout",
     "output_type": "stream",
     "text": [
      "              precision    recall  f1-score   support\n",
      "\n",
      "           0       0.95      1.00      0.97     38789\n",
      "           1       0.85      0.37      0.51      2998\n",
      "\n",
      "    accuracy                           0.95     41787\n",
      "   macro avg       0.90      0.68      0.74     41787\n",
      "weighted avg       0.95      0.95      0.94     41787\n",
      "\n"
     ]
    }
   ],
   "source": [
    "print(classification_report(y_train, gs_ros.predict(X_train_cv)))"
   ]
  },
  {
   "cell_type": "code",
   "execution_count": 81,
   "id": "95308a62-cbcd-4b17-87c0-1a5de04acb49",
   "metadata": {},
   "outputs": [
    {
     "name": "stdout",
     "output_type": "stream",
     "text": [
      "              precision    recall  f1-score   support\n",
      "\n",
      "           0       0.94      0.98      0.96     12929\n",
      "           1       0.47      0.18      0.26      1000\n",
      "\n",
      "    accuracy                           0.93     13929\n",
      "   macro avg       0.70      0.58      0.61     13929\n",
      "weighted avg       0.91      0.93      0.91     13929\n",
      "\n"
     ]
    }
   ],
   "source": [
    "print(classification_report(y_test, gs_ros.predict(X_test_cv)))"
   ]
  },
  {
   "cell_type": "code",
   "execution_count": 82,
   "id": "d682d111-d307-41e1-ba17-54f9d6c17207",
   "metadata": {},
   "outputs": [
    {
     "data": {
      "text/plain": [
       "Pipeline(steps=[('randomoversampler',\n",
       "                 RandomOverSampler(random_state=53, sampling_strategy=0.1,\n",
       "                                   shrinkage=1)),\n",
       "                ('logisticregression', LogisticRegression(max_iter=10000))])"
      ]
     },
     "execution_count": 82,
     "metadata": {},
     "output_type": "execute_result"
    }
   ],
   "source": [
    "gs_ros.best_estimator_"
   ]
  },
  {
   "cell_type": "markdown",
   "id": "093ba4ad-1f0f-4d59-9049-e7e7dc971719",
   "metadata": {
    "tags": []
   },
   "source": [
    "##### Takeaways - scoring=balanced_accuracy improves balance score, but hurts other metrics.  Sampling strategy of .1 is usually selected, except for gs3(scoring_balanced and shrinkage=default) which selected 1.  shrinkage of .5 is selected when available, but doesn't seem to help scores"
   ]
  },
  {
   "cell_type": "code",
   "execution_count": null,
   "id": "5ccf419c-1d2f-4c98-93fa-3ccac8b46f2e",
   "metadata": {},
   "outputs": [],
   "source": []
  },
  {
   "cell_type": "markdown",
   "id": "1b773833-edb6-4ade-b453-55dfe14bad43",
   "metadata": {},
   "source": [
    "### 2. Create synthetic data similar to 'upliftingnews' class with SMOTE and AYASYN"
   ]
  },
  {
   "cell_type": "markdown",
   "id": "13ac4f05-5489-4fe6-a8c0-453a7f182eb8",
   "metadata": {},
   "source": [
    "#### Smote"
   ]
  },
  {
   "cell_type": "code",
   "execution_count": 83,
   "id": "3e68e2b7-49e5-465e-94ff-30893f784310",
   "metadata": {},
   "outputs": [],
   "source": [
    "pipe_synth = make_pipeline(\n",
    "    SMOTE(random_state=53),\n",
    "    LogisticRegression(max_iter=10_000)\n",
    ")\n",
    "\n",
    "params_synth = {\n",
    "    'smote__k_neighbors': [5, 20, 50],\n",
    "    'logisticregression__C': [.1, 1, 10],\n",
    "}\n",
    "\n",
    "gs_synth = GridSearchCV(pipe_synth, params_synth, n_jobs=-1)"
   ]
  },
  {
   "cell_type": "code",
   "execution_count": 84,
   "id": "5265f7d5-c606-42d7-a62f-c05cf5ecbcbc",
   "metadata": {},
   "outputs": [
    {
     "data": {
      "text/plain": [
       "GridSearchCV(estimator=Pipeline(steps=[('smote', SMOTE(random_state=53)),\n",
       "                                       ('logisticregression',\n",
       "                                        LogisticRegression(max_iter=10000))]),\n",
       "             n_jobs=-1,\n",
       "             param_grid={'logisticregression__C': [0.1, 1, 10],\n",
       "                         'smote__k_neighbors': [5, 20, 50]})"
      ]
     },
     "execution_count": 84,
     "metadata": {},
     "output_type": "execute_result"
    }
   ],
   "source": [
    "gs_synth.fit(X_train_cv, y_train)"
   ]
  },
  {
   "cell_type": "code",
   "execution_count": 85,
   "id": "3c470254-9ed3-445d-b3a5-e406e7024d31",
   "metadata": {},
   "outputs": [
    {
     "data": {
      "text/plain": [
       "0    0.851365\n",
       "1    0.855457\n",
       "2    0.857037\n",
       "3    0.867231\n",
       "4    0.870510\n",
       "5    0.870893\n",
       "6    0.863833\n",
       "7    0.866490\n",
       "8    0.866753\n",
       "Name: mean_test_score, dtype: float64"
      ]
     },
     "execution_count": 85,
     "metadata": {},
     "output_type": "execute_result"
    }
   ],
   "source": [
    "pd.DataFrame(gs_synth.cv_results_)['mean_test_score']"
   ]
  },
  {
   "cell_type": "code",
   "execution_count": 86,
   "id": "84d58020-a282-4e36-8725-3c63d8cd848f",
   "metadata": {},
   "outputs": [
    {
     "name": "stdout",
     "output_type": "stream",
     "text": [
      "              precision    recall  f1-score   support\n",
      "\n",
      "           0       0.96      0.94      0.95     38789\n",
      "           1       0.40      0.51      0.45      2998\n",
      "\n",
      "    accuracy                           0.91     41787\n",
      "   macro avg       0.68      0.73      0.70     41787\n",
      "weighted avg       0.92      0.91      0.91     41787\n",
      "\n"
     ]
    }
   ],
   "source": [
    "print(classification_report(y_train, gs_synth.predict(X_train_cv)))"
   ]
  },
  {
   "cell_type": "code",
   "execution_count": 87,
   "id": "3a11e92a-e05d-4624-a4c1-56a7bb501195",
   "metadata": {},
   "outputs": [
    {
     "name": "stdout",
     "output_type": "stream",
     "text": [
      "              precision    recall  f1-score   support\n",
      "\n",
      "           0       0.95      0.91      0.93     12929\n",
      "           1       0.25      0.40      0.31      1000\n",
      "\n",
      "    accuracy                           0.87     13929\n",
      "   macro avg       0.60      0.65      0.62     13929\n",
      "weighted avg       0.90      0.87      0.88     13929\n",
      "\n"
     ]
    }
   ],
   "source": [
    "print(classification_report(y_test, gs_synth.predict(X_test_cv)))"
   ]
  },
  {
   "cell_type": "code",
   "execution_count": 88,
   "id": "22ec58a2-05af-4847-b1c5-fce638ebe95b",
   "metadata": {},
   "outputs": [
    {
     "data": {
      "text/plain": [
       "Pipeline(steps=[('smote', SMOTE(k_neighbors=50, random_state=53)),\n",
       "                ('logisticregression',\n",
       "                 LogisticRegression(C=1, max_iter=10000))])"
      ]
     },
     "execution_count": 88,
     "metadata": {},
     "output_type": "execute_result"
    }
   ],
   "source": [
    "gs_synth.best_estimator_"
   ]
  },
  {
   "cell_type": "code",
   "execution_count": 89,
   "id": "44e4010b-d5f3-423d-a455-2d0999f2f370",
   "metadata": {},
   "outputs": [
    {
     "data": {
      "text/plain": [
       "GridSearchCV(estimator=Pipeline(steps=[('smote', SMOTE(random_state=53)),\n",
       "                                       ('logisticregression',\n",
       "                                        LogisticRegression(max_iter=10000))]),\n",
       "             n_jobs=-1,\n",
       "             param_grid={'logisticregression__C': [0.1, 1, 10],\n",
       "                         'smote__k_neighbors': [5, 20, 50]},\n",
       "             scoring='balanced_accuracy')"
      ]
     },
     "execution_count": 89,
     "metadata": {},
     "output_type": "execute_result"
    }
   ],
   "source": [
    "# Recreating, but scored with balanced_accuracy\n",
    "gs_synth_bal = GridSearchCV(pipe_synth, params_synth, n_jobs=-1, scoring='balanced_accuracy')\n",
    "gs_synth_bal.fit(X_train_cv, y_train)"
   ]
  },
  {
   "cell_type": "code",
   "execution_count": 90,
   "id": "7dcdc40f-7ef8-4014-a597-f8e28b340e67",
   "metadata": {},
   "outputs": [
    {
     "data": {
      "text/plain": [
       "0    0.644326\n",
       "1    0.635452\n",
       "2    0.632457\n",
       "3    0.647950\n",
       "4    0.645409\n",
       "5    0.642075\n",
       "6    0.640119\n",
       "7    0.639395\n",
       "8    0.636459\n",
       "Name: mean_test_score, dtype: float64"
      ]
     },
     "execution_count": 90,
     "metadata": {},
     "output_type": "execute_result"
    }
   ],
   "source": [
    "pd.DataFrame(gs_synth_bal.cv_results_)['mean_test_score']"
   ]
  },
  {
   "cell_type": "code",
   "execution_count": 91,
   "id": "bf8c3a1d-4e92-45b8-af7f-60c6793d9683",
   "metadata": {},
   "outputs": [
    {
     "name": "stdout",
     "output_type": "stream",
     "text": [
      "              precision    recall  f1-score   support\n",
      "\n",
      "           0       0.96      0.93      0.95     38789\n",
      "           1       0.39      0.55      0.46      2998\n",
      "\n",
      "    accuracy                           0.91     41787\n",
      "   macro avg       0.68      0.74      0.70     41787\n",
      "weighted avg       0.92      0.91      0.91     41787\n",
      "\n"
     ]
    }
   ],
   "source": [
    "print(classification_report(y_train, gs_synth_bal.predict(X_train_cv)))"
   ]
  },
  {
   "cell_type": "code",
   "execution_count": 92,
   "id": "051b1393-78ee-471d-b7ad-3bcfe2926163",
   "metadata": {},
   "outputs": [
    {
     "name": "stdout",
     "output_type": "stream",
     "text": [
      "              precision    recall  f1-score   support\n",
      "\n",
      "           0       0.95      0.90      0.93     12929\n",
      "           1       0.24      0.41      0.31      1000\n",
      "\n",
      "    accuracy                           0.87     13929\n",
      "   macro avg       0.60      0.66      0.62     13929\n",
      "weighted avg       0.90      0.87      0.88     13929\n",
      "\n"
     ]
    }
   ],
   "source": [
    "print(classification_report(y_test, gs_synth_bal.predict(X_test_cv)))"
   ]
  },
  {
   "cell_type": "code",
   "execution_count": 93,
   "id": "6beeaa70-90e6-483c-891e-12323fa82495",
   "metadata": {},
   "outputs": [
    {
     "data": {
      "text/plain": [
       "Pipeline(steps=[('smote', SMOTE(random_state=53)),\n",
       "                ('logisticregression',\n",
       "                 LogisticRegression(C=1, max_iter=10000))])"
      ]
     },
     "execution_count": 93,
     "metadata": {},
     "output_type": "execute_result"
    }
   ],
   "source": [
    "gs_synth_bal.best_estimator_"
   ]
  },
  {
   "cell_type": "code",
   "execution_count": null,
   "id": "d2567ca4-61b7-4ee2-a193-e8fac183dfb9",
   "metadata": {},
   "outputs": [],
   "source": []
  },
  {
   "cell_type": "code",
   "execution_count": 94,
   "id": "728b2327-e4c0-43a0-a336-7ed3187c3417",
   "metadata": {},
   "outputs": [],
   "source": [
    "# Trying SMOTE with high KNN value\n",
    "params_synth_hiKNN = {\n",
    "    'smote__k_neighbors': [50, 200, 400],\n",
    "    'logisticregression__C': [1],\n",
    "}\n"
   ]
  },
  {
   "cell_type": "code",
   "execution_count": 95,
   "id": "1a490945-c495-47d0-8d49-5d82f978c944",
   "metadata": {},
   "outputs": [
    {
     "data": {
      "text/plain": [
       "GridSearchCV(estimator=Pipeline(steps=[('smote', SMOTE(random_state=53)),\n",
       "                                       ('logisticregression',\n",
       "                                        LogisticRegression(max_iter=10000))]),\n",
       "             n_jobs=-1,\n",
       "             param_grid={'logisticregression__C': [1],\n",
       "                         'smote__k_neighbors': [50, 200, 400]})"
      ]
     },
     "execution_count": 95,
     "metadata": {},
     "output_type": "execute_result"
    }
   ],
   "source": [
    "gs_synth_hiKNN = GridSearchCV(pipe_synth, params_synth_hiKNN, n_jobs=-1)\n",
    "gs_synth_hiKNN.fit(X_train_cv, y_train)"
   ]
  },
  {
   "cell_type": "code",
   "execution_count": 96,
   "id": "95c16461-2845-44ca-ad3e-f5c0f337ce38",
   "metadata": {},
   "outputs": [
    {
     "data": {
      "text/plain": [
       "0    0.870893\n",
       "1    0.871180\n",
       "2    0.870965\n",
       "Name: mean_test_score, dtype: float64"
      ]
     },
     "execution_count": 96,
     "metadata": {},
     "output_type": "execute_result"
    }
   ],
   "source": [
    "pd.DataFrame(gs_synth_hiKNN.cv_results_)['mean_test_score']"
   ]
  },
  {
   "cell_type": "code",
   "execution_count": 97,
   "id": "e6f69b5f-7dae-46cc-b655-57eac54c4b8b",
   "metadata": {},
   "outputs": [
    {
     "name": "stdout",
     "output_type": "stream",
     "text": [
      "              precision    recall  f1-score   support\n",
      "\n",
      "           0       0.96      0.94      0.95     38789\n",
      "           1       0.40      0.51      0.45      2998\n",
      "\n",
      "    accuracy                           0.91     41787\n",
      "   macro avg       0.68      0.72      0.70     41787\n",
      "weighted avg       0.92      0.91      0.92     41787\n",
      "\n"
     ]
    }
   ],
   "source": [
    "print(classification_report(y_train, gs_synth_hiKNN.predict(X_train_cv)))"
   ]
  },
  {
   "cell_type": "code",
   "execution_count": 98,
   "id": "873a6a63-270f-49d2-b09b-1b2c08902f7b",
   "metadata": {},
   "outputs": [
    {
     "name": "stdout",
     "output_type": "stream",
     "text": [
      "              precision    recall  f1-score   support\n",
      "\n",
      "           0       0.95      0.91      0.93     12929\n",
      "           1       0.25      0.39      0.30      1000\n",
      "\n",
      "    accuracy                           0.87     13929\n",
      "   macro avg       0.60      0.65      0.62     13929\n",
      "weighted avg       0.90      0.87      0.88     13929\n",
      "\n"
     ]
    }
   ],
   "source": [
    "print(classification_report(y_test, gs_synth_hiKNN.predict(X_test_cv)))"
   ]
  },
  {
   "cell_type": "code",
   "execution_count": 99,
   "id": "643d91e2-5f0c-47bf-a3ac-490450877a88",
   "metadata": {},
   "outputs": [
    {
     "data": {
      "text/plain": [
       "Pipeline(steps=[('smote', SMOTE(k_neighbors=200, random_state=53)),\n",
       "                ('logisticregression',\n",
       "                 LogisticRegression(C=1, max_iter=10000))])"
      ]
     },
     "execution_count": 99,
     "metadata": {},
     "output_type": "execute_result"
    }
   ],
   "source": [
    "gs_synth_hiKNN.best_estimator_"
   ]
  },
  {
   "cell_type": "markdown",
   "id": "cc43b668-5c4f-499c-8c85-9f75aa2de115",
   "metadata": {},
   "source": [
    "##### Takeaways - neither performs better than baseline\n",
    "gs_synth tends to choose highest # of kneighbors(up to 200) and C=1, gssynth_bal chooses C=0.1, does not specify which knn,  \n",
    "note - c is inverse of regulation strength - high value of c gives more weight to training data with less regulation. Lower c means more regulation"
   ]
  },
  {
   "cell_type": "markdown",
   "id": "a81cfde9-5436-491e-803d-d68f6b14c597",
   "metadata": {},
   "source": [
    "#### ADASYN"
   ]
  },
  {
   "cell_type": "code",
   "execution_count": 100,
   "id": "d73e1274-1ed5-44ae-90cb-3c9ded43dfce",
   "metadata": {},
   "outputs": [],
   "source": [
    "pipe_adasyn = make_pipeline(\n",
    "    ADASYN(random_state=53),\n",
    "    LogisticRegression(max_iter=10_000)\n",
    ")\n",
    "\n",
    "params_adasyn = {\n",
    "    'adasyn__n_neighbors': [50, 200, 300],\n",
    "    'logisticregression__C':[.1, 1, 10]\n",
    "}\n",
    "\n",
    "gs_adasyn = GridSearchCV(pipe_adasyn, params_adasyn, n_jobs=-1)"
   ]
  },
  {
   "cell_type": "code",
   "execution_count": 101,
   "id": "dc983fe7-b4d4-4c03-b527-1720b8f1905c",
   "metadata": {},
   "outputs": [
    {
     "data": {
      "text/plain": [
       "GridSearchCV(estimator=Pipeline(steps=[('adasyn', ADASYN(random_state=53)),\n",
       "                                       ('logisticregression',\n",
       "                                        LogisticRegression(max_iter=10000))]),\n",
       "             n_jobs=-1,\n",
       "             param_grid={'adasyn__n_neighbors': [50, 200, 300],\n",
       "                         'logisticregression__C': [0.1, 1, 10]})"
      ]
     },
     "execution_count": 101,
     "metadata": {},
     "output_type": "execute_result"
    }
   ],
   "source": [
    "gs_adasyn.fit(X_train_cv, y_train)"
   ]
  },
  {
   "cell_type": "code",
   "execution_count": 102,
   "id": "5f8159f6-9c1b-44d8-9c7b-32a0ec63cd86",
   "metadata": {},
   "outputs": [
    {
     "data": {
      "text/plain": [
       "0    0.856510\n",
       "1    0.870630\n",
       "2    0.866514\n",
       "3    0.857396\n",
       "4    0.871084\n",
       "5    0.867208\n",
       "6    0.856965\n",
       "7    0.871228\n",
       "8    0.867064\n",
       "Name: mean_test_score, dtype: float64"
      ]
     },
     "execution_count": 102,
     "metadata": {},
     "output_type": "execute_result"
    }
   ],
   "source": [
    "pd.DataFrame(gs_adasyn.cv_results_)['mean_test_score']"
   ]
  },
  {
   "cell_type": "code",
   "execution_count": 103,
   "id": "decf3fcf-d245-4c8b-b993-d08b365805e2",
   "metadata": {},
   "outputs": [
    {
     "name": "stdout",
     "output_type": "stream",
     "text": [
      "              precision    recall  f1-score   support\n",
      "\n",
      "           0       0.96      0.94      0.95     38789\n",
      "           1       0.40      0.50      0.44      2998\n",
      "\n",
      "    accuracy                           0.91     41787\n",
      "   macro avg       0.68      0.72      0.70     41787\n",
      "weighted avg       0.92      0.91      0.91     41787\n",
      "\n"
     ]
    }
   ],
   "source": [
    "print(classification_report(y_train, gs_adasyn.predict(X_train_cv)))"
   ]
  },
  {
   "cell_type": "code",
   "execution_count": 104,
   "id": "a4a51513-443c-4610-9306-4d4c6cc8ba60",
   "metadata": {},
   "outputs": [
    {
     "name": "stdout",
     "output_type": "stream",
     "text": [
      "              precision    recall  f1-score   support\n",
      "\n",
      "           0       0.95      0.91      0.93     12929\n",
      "           1       0.24      0.37      0.29      1000\n",
      "\n",
      "    accuracy                           0.87     13929\n",
      "   macro avg       0.60      0.64      0.61     13929\n",
      "weighted avg       0.90      0.87      0.88     13929\n",
      "\n"
     ]
    }
   ],
   "source": [
    "print(classification_report(y_test, gs_adasyn.predict(X_test_cv)))"
   ]
  },
  {
   "cell_type": "code",
   "execution_count": 105,
   "id": "f019fb8c-67f8-4e3b-8c32-464151ad33ad",
   "metadata": {},
   "outputs": [
    {
     "data": {
      "text/plain": [
       "Pipeline(steps=[('adasyn', ADASYN(n_neighbors=300, random_state=53)),\n",
       "                ('logisticregression',\n",
       "                 LogisticRegression(C=1, max_iter=10000))])"
      ]
     },
     "execution_count": 105,
     "metadata": {},
     "output_type": "execute_result"
    }
   ],
   "source": [
    "gs_adasyn.best_estimator_"
   ]
  },
  {
   "cell_type": "code",
   "execution_count": 106,
   "id": "7efabf69-ecaa-4a58-becd-4d3399bc1fe8",
   "metadata": {},
   "outputs": [
    {
     "data": {
      "text/plain": [
       "GridSearchCV(estimator=Pipeline(steps=[('adasyn', ADASYN(random_state=53)),\n",
       "                                       ('logisticregression',\n",
       "                                        LogisticRegression(max_iter=10000))]),\n",
       "             n_jobs=-1,\n",
       "             param_grid={'adasyn__n_neighbors': [50, 200, 300],\n",
       "                         'logisticregression__C': [0.1, 1, 10]},\n",
       "             scoring='balanced_accuracy')"
      ]
     },
     "execution_count": 106,
     "metadata": {},
     "output_type": "execute_result"
    }
   ],
   "source": [
    "# recreating, scored with balanced_accuracy\n",
    "gs_adasyn_bal = GridSearchCV(pipe_adasyn, params_adasyn, n_jobs=-1, scoring='balanced_accuracy')\n",
    "gs_adasyn_bal.fit(X_train_cv, y_train)"
   ]
  },
  {
   "cell_type": "code",
   "execution_count": 107,
   "id": "c29ecab0-849b-4ea6-88e8-0cdfe74e2557",
   "metadata": {},
   "outputs": [
    {
     "data": {
      "text/plain": [
       "0    0.632020\n",
       "1    0.642396\n",
       "2    0.636176\n",
       "3    0.628342\n",
       "4    0.638485\n",
       "5    0.633471\n",
       "6    0.628879\n",
       "7    0.638869\n",
       "8    0.633395\n",
       "Name: mean_test_score, dtype: float64"
      ]
     },
     "execution_count": 107,
     "metadata": {},
     "output_type": "execute_result"
    }
   ],
   "source": [
    "pd.DataFrame(gs_adasyn_bal.cv_results_)['mean_test_score']"
   ]
  },
  {
   "cell_type": "code",
   "execution_count": 108,
   "id": "0056827d-f8e1-4c43-9db1-917678521259",
   "metadata": {},
   "outputs": [
    {
     "name": "stdout",
     "output_type": "stream",
     "text": [
      "              precision    recall  f1-score   support\n",
      "\n",
      "           0       0.96      0.94      0.95     38789\n",
      "           1       0.40      0.52      0.45      2998\n",
      "\n",
      "    accuracy                           0.91     41787\n",
      "   macro avg       0.68      0.73      0.70     41787\n",
      "weighted avg       0.92      0.91      0.91     41787\n",
      "\n"
     ]
    }
   ],
   "source": [
    "print(classification_report(y_train, gs_adasyn_bal.predict(X_train_cv)))"
   ]
  },
  {
   "cell_type": "code",
   "execution_count": 109,
   "id": "5861db24-2cba-4501-8bee-f97f29c2cc71",
   "metadata": {},
   "outputs": [
    {
     "name": "stdout",
     "output_type": "stream",
     "text": [
      "              precision    recall  f1-score   support\n",
      "\n",
      "           0       0.95      0.91      0.93     12929\n",
      "           1       0.25      0.40      0.30      1000\n",
      "\n",
      "    accuracy                           0.87     13929\n",
      "   macro avg       0.60      0.65      0.62     13929\n",
      "weighted avg       0.90      0.87      0.88     13929\n",
      "\n"
     ]
    }
   ],
   "source": [
    "print(classification_report(y_test, gs_adasyn_bal.predict(X_test_cv)))"
   ]
  },
  {
   "cell_type": "code",
   "execution_count": 110,
   "id": "ced82caf-f534-4218-b729-4a54e64e0dc3",
   "metadata": {},
   "outputs": [
    {
     "data": {
      "text/plain": [
       "Pipeline(steps=[('adasyn', ADASYN(n_neighbors=50, random_state=53)),\n",
       "                ('logisticregression',\n",
       "                 LogisticRegression(C=1, max_iter=10000))])"
      ]
     },
     "execution_count": 110,
     "metadata": {},
     "output_type": "execute_result"
    }
   ],
   "source": [
    "gs_adasyn_bal.best_estimator_"
   ]
  },
  {
   "cell_type": "markdown",
   "id": "1490a5e6-1c14-47c5-b434-c015913695b2",
   "metadata": {},
   "source": [
    "##### Takeaways - similar to SMOTE, picked highest kn, C=1 for score=default and C=.1 for score=bal. Slightly better scores than SMOTE, still not as good as baseline"
   ]
  },
  {
   "cell_type": "code",
   "execution_count": null,
   "id": "b53d017a-7de2-48a6-ba9e-24696b8ff1af",
   "metadata": {},
   "outputs": [],
   "source": []
  },
  {
   "cell_type": "markdown",
   "id": "1a4f1b79-da6e-406f-adc9-7d216c8c4ab8",
   "metadata": {},
   "source": [
    "### 3. LR with overweight minority class"
   ]
  },
  {
   "cell_type": "code",
   "execution_count": 113,
   "id": "afef0764-1fb8-4923-91c9-cd1573e809e6",
   "metadata": {},
   "outputs": [
    {
     "data": {
      "text/plain": [
       "LogisticRegression(class_weight='balanced', max_iter=10000)"
      ]
     },
     "execution_count": 113,
     "metadata": {},
     "output_type": "execute_result"
    }
   ],
   "source": [
    "lr_weight = LogisticRegression(max_iter=10_000, class_weight='balanced')\n",
    "lr_weight.fit(X_train_cv, y_train)"
   ]
  },
  {
   "cell_type": "code",
   "execution_count": 114,
   "id": "f1b3962c-25db-44be-85d8-9c6bb778e264",
   "metadata": {},
   "outputs": [
    {
     "name": "stdout",
     "output_type": "stream",
     "text": [
      "              precision    recall  f1-score   support\n",
      "\n",
      "           0       1.00      0.87      0.93     38789\n",
      "           1       0.37      0.96      0.53      2998\n",
      "\n",
      "    accuracy                           0.88     41787\n",
      "   macro avg       0.68      0.91      0.73     41787\n",
      "weighted avg       0.95      0.88      0.90     41787\n",
      "\n"
     ]
    }
   ],
   "source": [
    "print(classification_report(y_train, lr_weight.predict(X_train_cv)))"
   ]
  },
  {
   "cell_type": "code",
   "execution_count": 115,
   "id": "5ae8e809-9f80-492f-8b5f-994717ccd7e6",
   "metadata": {},
   "outputs": [
    {
     "name": "stdout",
     "output_type": "stream",
     "text": [
      "              precision    recall  f1-score   support\n",
      "\n",
      "           0       0.96      0.84      0.90     12929\n",
      "           1       0.22      0.59      0.32      1000\n",
      "\n",
      "    accuracy                           0.82     13929\n",
      "   macro avg       0.59      0.72      0.61     13929\n",
      "weighted avg       0.91      0.82      0.86     13929\n",
      "\n"
     ]
    }
   ],
   "source": [
    "print(classification_report(y_test, lr_weight.predict(X_test_cv)))"
   ]
  },
  {
   "cell_type": "markdown",
   "id": "94664242-66e7-4635-b0fe-ccd226a21dda",
   "metadata": {},
   "source": [
    "##### takeaways - close to gr1 and gr1, but still less than bseline on test set"
   ]
  },
  {
   "cell_type": "code",
   "execution_count": null,
   "id": "947557c1-0c56-4479-924f-9ebefe801169",
   "metadata": {},
   "outputs": [],
   "source": []
  },
  {
   "cell_type": "markdown",
   "id": "840d3942-ee8d-4f9f-8324-18234477af3e",
   "metadata": {},
   "source": [
    "### TfidfVectorizer with RandomOverSampler for further modeling"
   ]
  },
  {
   "cell_type": "code",
   "execution_count": 117,
   "id": "ebacadf7-f53a-40d3-9b88-29617532d6bd",
   "metadata": {},
   "outputs": [
    {
     "data": {
      "text/plain": [
       "TfidfVectorizer(max_df=5)"
      ]
     },
     "execution_count": 117,
     "metadata": {},
     "output_type": "execute_result"
    }
   ],
   "source": [
    "tf = TfidfVectorizer(max_df=5)\n",
    "tf.fit(X_train)"
   ]
  },
  {
   "cell_type": "code",
   "execution_count": 118,
   "id": "473334fd-a213-4756-9f0d-2111a8893652",
   "metadata": {},
   "outputs": [],
   "source": [
    "X_train_tf = tf.transform(X_train)\n",
    "X_test_tf = tf.transform(X_test)"
   ]
  },
  {
   "cell_type": "code",
   "execution_count": 119,
   "id": "836ecc68-63a5-4def-8f3c-04a40c9a4161",
   "metadata": {},
   "outputs": [],
   "source": [
    "feature_names = tf.get_feature_names_out"
   ]
  },
  {
   "cell_type": "code",
   "execution_count": null,
   "id": "b2f080d2-cd62-482b-9768-f9153543bcf3",
   "metadata": {},
   "outputs": [],
   "source": []
  },
  {
   "cell_type": "code",
   "execution_count": 123,
   "id": "d34c0bb8-7ce0-4e53-9772-1f1118ae816b",
   "metadata": {},
   "outputs": [],
   "source": [
    "ros1 = RandomOverSampler(random_state=53, sampling_strategy=.1)"
   ]
  },
  {
   "cell_type": "code",
   "execution_count": 124,
   "id": "632ec65d-fabe-44d5-bab9-219ecd67d197",
   "metadata": {},
   "outputs": [],
   "source": [
    "X_train_ros1, y_train_ros1 = ros1.fit_resample(X_train_tf, y_train)"
   ]
  },
  {
   "cell_type": "code",
   "execution_count": 125,
   "id": "f07b9398-ee7c-4b1f-b641-57499348edfd",
   "metadata": {},
   "outputs": [],
   "source": [
    "ros5 = RandomOverSampler(random_state=53, sampling_strategy=0.5)"
   ]
  },
  {
   "cell_type": "code",
   "execution_count": 126,
   "id": "f7adcf10-694c-44f5-af9d-ba4ff5ac3775",
   "metadata": {},
   "outputs": [],
   "source": [
    "X_train_ros5, y_train_ros5 = ros5.fit_resample(X_train_tf, y_train)"
   ]
  },
  {
   "cell_type": "code",
   "execution_count": null,
   "id": "a387d58f-afab-451f-bf49-9e9f1776d1f7",
   "metadata": {},
   "outputs": [],
   "source": []
  },
  {
   "cell_type": "markdown",
   "id": "ca0b6888-a431-47e3-8472-449e525287b8",
   "metadata": {},
   "source": [
    "### Logistic Regression"
   ]
  },
  {
   "cell_type": "code",
   "execution_count": 127,
   "id": "a7e70438-cda4-44aa-8f0e-78a43bc69bdf",
   "metadata": {},
   "outputs": [],
   "source": [
    "#referenced for ROC curves and AUC:  https://machinelearningmastery.com/roc-curves-and-precision-recall-curves-for-classification-in-python/"
   ]
  },
  {
   "cell_type": "code",
   "execution_count": 128,
   "id": "c4edfed3-e8ef-4247-8c94-02b824e3fc90",
   "metadata": {},
   "outputs": [],
   "source": [
    "lr = LogisticRegression(C=0.1, n_jobs=-1)"
   ]
  },
  {
   "cell_type": "code",
   "execution_count": 129,
   "id": "9c79c7e7-f8a0-4bfc-8d13-5ada3ebfdcf0",
   "metadata": {},
   "outputs": [
    {
     "data": {
      "text/plain": [
       "LogisticRegression(C=0.1, n_jobs=-1)"
      ]
     },
     "execution_count": 129,
     "metadata": {},
     "output_type": "execute_result"
    }
   ],
   "source": [
    "lr.fit(X_train_ros5, y_train_ros5)"
   ]
  },
  {
   "cell_type": "code",
   "execution_count": 130,
   "id": "cc1d1e1b-dd5c-4734-af76-15281779133c",
   "metadata": {},
   "outputs": [
    {
     "data": {
      "text/plain": [
       "(0.912977242365294, 0.9309833201713451, 0.9286380931868763)"
      ]
     },
     "execution_count": 130,
     "metadata": {},
     "output_type": "execute_result"
    }
   ],
   "source": [
    "lr.score(X_train_ros1, y_train_ros1), lr.score(X_train_tf, y_train), lr.score(X_test_tf, y_test)"
   ]
  },
  {
   "cell_type": "code",
   "execution_count": null,
   "id": "88b5ea04-ae1e-421a-862c-23c8359d0bcf",
   "metadata": {},
   "outputs": [],
   "source": []
  },
  {
   "cell_type": "code",
   "execution_count": 187,
   "id": "1c014761-6767-4c93-8753-3d250b76ea53",
   "metadata": {},
   "outputs": [],
   "source": [
    "lr_preds = lr.predict(X_test_tf)\n",
    "\n",
    "ns_probs = [0 for _ in range(len(y_test))]\n",
    "lr_probs = lr.predict_proba(X_test_tf)\n",
    "lr_probs = lr_probs[:,1]\n",
    "\n",
    "ns_auc = roc_auc_score(y_test, ns_probs)\n",
    "lr_auc = roc_auc_score(y_test, lr_probs)"
   ]
  },
  {
   "cell_type": "code",
   "execution_count": null,
   "id": "dc7c2ff8-55b2-4a48-a50c-714524d9905b",
   "metadata": {},
   "outputs": [],
   "source": []
  },
  {
   "cell_type": "code",
   "execution_count": 137,
   "id": "22eea335-209c-42d7-8dbe-f6f60de3b40b",
   "metadata": {},
   "outputs": [
    {
     "name": "stdout",
     "output_type": "stream",
     "text": [
      "No Skill: ROC AUC=0.500\n",
      "Logistic: ROC AUC=0.611\n"
     ]
    }
   ],
   "source": [
    "print('No Skill: ROC AUC=%.3f' % (ns_auc))\n",
    "print('Logistic: ROC AUC=%.3f' % (lr_auc))"
   ]
  },
  {
   "cell_type": "code",
   "execution_count": 138,
   "id": "ff9c7def-1781-4227-bb37-44a5a694a88a",
   "metadata": {},
   "outputs": [],
   "source": [
    "ns_fpr, ns_tpr, _ = roc_curve(y_test, ns_probs)\n",
    "lr_fpr, lr_tpr, _ = roc_curve(y_test, lr_probs)"
   ]
  },
  {
   "cell_type": "code",
   "execution_count": 139,
   "id": "0c10998a-d5d3-4ff3-b34e-ea85485bb58f",
   "metadata": {},
   "outputs": [
    {
     "data": {
      "image/png": "[encoded data removed]",
      "text/plain": [
       "<Figure size 432x288 with 1 Axes>"
      ]
     },
     "metadata": {
      "needs_background": "light"
     },
     "output_type": "display_data"
    }
   ],
   "source": [
    "plt.plot(ns_fpr, ns_tpr, linestyle='--', label='No Skill')\n",
    "plt.plot(lr_fpr, lr_tpr, marker='.', label='Logistic')\n",
    "\n",
    "plt.xlabel('False Positive Rate')\n",
    "plt.ylabel('True Positive Rate')\n",
    "plt.title('Logistic Regression ROC curve')\n",
    "\n",
    "plt.legend();"
   ]
  },
  {
   "cell_type": "code",
   "execution_count": 140,
   "id": "6a830cde-367b-4369-8154-618fb5367f1e",
   "metadata": {},
   "outputs": [
    {
     "name": "stdout",
     "output_type": "stream",
     "text": [
      "              precision    recall  f1-score   support\n",
      "\n",
      "           0       0.93      1.00      0.96     12929\n",
      "           1       0.62      0.02      0.03      1000\n",
      "\n",
      "    accuracy                           0.93     13929\n",
      "   macro avg       0.77      0.51      0.50     13929\n",
      "weighted avg       0.91      0.93      0.90     13929\n",
      "\n"
     ]
    }
   ],
   "source": [
    "print(classification_report(y_test, lr_preds))"
   ]
  },
  {
   "cell_type": "code",
   "execution_count": 194,
   "id": "e7b41868-92ca-495d-b108-1eecd1957316",
   "metadata": {},
   "outputs": [],
   "source": [
    "cm_lr = confusion_matrix(y_test, lr_preds)"
   ]
  },
  {
   "cell_type": "code",
   "execution_count": 195,
   "id": "9e067516-a5f5-4fe9-8adb-dab37fd305c7",
   "metadata": {},
   "outputs": [
    {
     "data": {
      "image/png": "[encoded data removed]",
      "text/plain": [
       "<Figure size 432x288 with 2 Axes>"
      ]
     },
     "metadata": {
      "needs_background": "light"
     },
     "output_type": "display_data"
    }
   ],
   "source": [
    "disp = ConfusionMatrixDisplay(confusion_matrix=cm_lr, display_labels=['worldnews', 'upliftingnews'])\n",
    "\n",
    "disp.plot();"
   ]
  },
  {
   "cell_type": "code",
   "execution_count": null,
   "id": "273af515-a2ed-4bbd-9c90-80cd3976a342",
   "metadata": {},
   "outputs": [],
   "source": []
  },
  {
   "cell_type": "markdown",
   "id": "993daf5f-556a-486f-aa64-911e076c685c",
   "metadata": {},
   "source": [
    "### RANDOMFOREST"
   ]
  },
  {
   "cell_type": "code",
   "execution_count": 141,
   "id": "055a6811-916e-4dcf-b199-9575f20adcd9",
   "metadata": {},
   "outputs": [],
   "source": [
    "rfc = RandomForestClassifier(random_state=53)"
   ]
  },
  {
   "cell_type": "code",
   "execution_count": 142,
   "id": "69be5766-eeb1-4d12-bb0c-de3aaee35158",
   "metadata": {},
   "outputs": [
    {
     "data": {
      "text/plain": [
       "RandomForestClassifier(random_state=53)"
      ]
     },
     "execution_count": 142,
     "metadata": {},
     "output_type": "execute_result"
    }
   ],
   "source": [
    "rfc.fit(X_train_ros1, y_train_ros1)"
   ]
  },
  {
   "cell_type": "code",
   "execution_count": 143,
   "id": "8bd764d4-36ac-4e29-a92a-51790427a7ac",
   "metadata": {},
   "outputs": [
    {
     "data": {
      "text/plain": [
       "(0.9587034476293154, 0.9658506233996219, 0.917797401105607)"
      ]
     },
     "execution_count": 143,
     "metadata": {},
     "output_type": "execute_result"
    }
   ],
   "source": [
    "rfc.score(X_train_ros1, y_train_ros1), rfc.score(X_train_tf, y_train), rfc.score(X_test_tf, y_test)"
   ]
  },
  {
   "cell_type": "code",
   "execution_count": 149,
   "id": "95bcf817-5115-4ac9-a12d-d5436980f09b",
   "metadata": {},
   "outputs": [],
   "source": [
    "rfc_preds = rfc.predict(X_test_tf)\n",
    "ns_probs = [0 for _ in range(len(y_test))]\n",
    "\n",
    "rfc_probs = rfc.predict_proba(X_test_tf)\n",
    "rfc_probs = rfc_probs[:,1]\n",
    "\n",
    "ns_auc = roc_auc_score(y_test, ns_probs)\n",
    "rfc_auc = roc_auc_score(y_test, rfc_probs)"
   ]
  },
  {
   "cell_type": "code",
   "execution_count": 150,
   "id": "f5b336ff-6e4b-4c6a-9b48-9f00d11fb2ff",
   "metadata": {},
   "outputs": [
    {
     "name": "stdout",
     "output_type": "stream",
     "text": [
      "No Skill: ROC AUC=0.500\n",
      "RFC: ROC AUC=0.595\n"
     ]
    }
   ],
   "source": [
    "print('No Skill: ROC AUC=%.3f' % (ns_auc))\n",
    "print('RFC: ROC AUC=%.3f' % (rfc_auc))"
   ]
  },
  {
   "cell_type": "code",
   "execution_count": 151,
   "id": "a6852858-e33e-4b7a-b179-464581fd4d1c",
   "metadata": {},
   "outputs": [],
   "source": [
    "ns_fpr, ns_tpr, _ = roc_curve(y_test, ns_probs)\n",
    "rfc_fpr, rfc_tpr, _ = roc_curve(y_test, rfc_probs)"
   ]
  },
  {
   "cell_type": "code",
   "execution_count": 152,
   "id": "a5181c12-12ef-4e58-835b-0ad4821cbe3c",
   "metadata": {},
   "outputs": [
    {
     "data": {
      "image/png": "[encoded data removed]",
      "text/plain": [
       "<Figure size 432x288 with 1 Axes>"
      ]
     },
     "metadata": {
      "needs_background": "light"
     },
     "output_type": "display_data"
    }
   ],
   "source": [
    "plt.plot(ns_fpr, ns_tpr, linestyle='--', label='No Skill')\n",
    "plt.plot(rfc_fpr, rfc_tpr, marker='.', label='Logistic')\n",
    "\n",
    "plt.xlabel('False Positive Rate')\n",
    "plt.ylabel('True Positive Rate')\n",
    "plt.title('Random Forest Classifier ROC curve')\n",
    "\n",
    "plt.legend();"
   ]
  },
  {
   "cell_type": "code",
   "execution_count": 153,
   "id": "f9565dd8-9d3e-407c-8450-2427a5a9084f",
   "metadata": {},
   "outputs": [
    {
     "name": "stdout",
     "output_type": "stream",
     "text": [
      "              precision    recall  f1-score   support\n",
      "\n",
      "           0       0.93      0.98      0.96     12929\n",
      "           1       0.29      0.10      0.15      1000\n",
      "\n",
      "    accuracy                           0.92     13929\n",
      "   macro avg       0.61      0.54      0.56     13929\n",
      "weighted avg       0.89      0.92      0.90     13929\n",
      "\n"
     ]
    }
   ],
   "source": [
    "print(classification_report(y_test, rfc_preds))"
   ]
  },
  {
   "cell_type": "code",
   "execution_count": null,
   "id": "92932b7c-37a7-4ddb-b3c7-a522da606655",
   "metadata": {},
   "outputs": [],
   "source": []
  },
  {
   "cell_type": "code",
   "execution_count": 188,
   "id": "3c9d4ed8-6ab4-47c6-846d-d424370851f1",
   "metadata": {},
   "outputs": [],
   "source": [
    "cm_rfc = confusion_matrix(y_test, rfc_preds)"
   ]
  },
  {
   "cell_type": "code",
   "execution_count": 189,
   "id": "e3b6c0db-6e5f-4f69-a4bd-189b0a67bec7",
   "metadata": {},
   "outputs": [
    {
     "data": {
      "image/png": "[encoded data removed]",
      "text/plain": [
       "<Figure size 432x288 with 2 Axes>"
      ]
     },
     "metadata": {
      "needs_background": "light"
     },
     "output_type": "display_data"
    }
   ],
   "source": [
    "disp = ConfusionMatrixDisplay(confusion_matrix=cm_rfc, display_labels=['worldnews', 'upliftingnews'])\n",
    "\n",
    "disp.plot();"
   ]
  },
  {
   "cell_type": "markdown",
   "id": "e539f894-2ce0-4af9-8a6d-e50fe3a33b65",
   "metadata": {},
   "source": [
    "### Naive Bayes"
   ]
  },
  {
   "cell_type": "code",
   "execution_count": 156,
   "id": "f646d414-77ad-42b8-9a75-b49f235a5a86",
   "metadata": {},
   "outputs": [],
   "source": [
    "nb = MultinomialNB()"
   ]
  },
  {
   "cell_type": "code",
   "execution_count": 157,
   "id": "b7a708ae-69bd-43a2-bac9-5e60566caceb",
   "metadata": {},
   "outputs": [
    {
     "data": {
      "text/plain": [
       "MultinomialNB()"
      ]
     },
     "execution_count": 157,
     "metadata": {},
     "output_type": "execute_result"
    }
   ],
   "source": [
    "nb.fit(X_train_ros1, y_train_ros1)"
   ]
  },
  {
   "cell_type": "code",
   "execution_count": 158,
   "id": "565f9e61-5973-4910-9d2c-0df1a699a83d",
   "metadata": {},
   "outputs": [
    {
     "data": {
      "text/plain": [
       "(0.9150866008859305, 0.9317730394620336, 0.9284227151985067)"
      ]
     },
     "execution_count": 158,
     "metadata": {},
     "output_type": "execute_result"
    }
   ],
   "source": [
    "nb.score(X_train_ros1, y_train_ros1), nb.score(X_train_tf, y_train), nb.score(X_test_tf, y_test)"
   ]
  },
  {
   "cell_type": "code",
   "execution_count": 186,
   "id": "f8a12b5e-4a41-4d39-94cb-8c5c42f3c261",
   "metadata": {},
   "outputs": [],
   "source": [
    "nb_preds = nb.predict(X_test_tf)\n",
    "\n",
    "ns_probs = [0 for _ in range(len(y_test))]\n",
    "nb_probs = nb.predict_proba(X_test_tf)\n",
    "nb_probs = nb_probs[:,1]\n",
    "\n",
    "ns_auc = roc_auc_score(y_test, ns_probs)\n",
    "nb_auc = roc_auc_score(y_test, nb_probs)"
   ]
  },
  {
   "cell_type": "code",
   "execution_count": null,
   "id": "60c8e217-0cbb-4e92-ad15-504be96a7160",
   "metadata": {},
   "outputs": [],
   "source": []
  },
  {
   "cell_type": "code",
   "execution_count": 167,
   "id": "b76718ff-c242-4298-b8aa-c61ecd745ce2",
   "metadata": {},
   "outputs": [
    {
     "name": "stdout",
     "output_type": "stream",
     "text": [
      "No Skill: ROC AUC=0.500\n",
      "NB: ROC AUC=0.594\n"
     ]
    }
   ],
   "source": [
    "print('No Skill: ROC AUC=%.3f' % (ns_auc))\n",
    "print('NB: ROC AUC=%.3f' % (nb_auc))"
   ]
  },
  {
   "cell_type": "code",
   "execution_count": 168,
   "id": "28590380-3013-45f5-9589-e5d00423e87c",
   "metadata": {},
   "outputs": [],
   "source": [
    "ns_fpr, ns_tpr, _ = roc_curve(y_test, ns_probs)\n",
    "nb_fpr, nb_tpr, _ = roc_curve(y_test, nb_probs)"
   ]
  },
  {
   "cell_type": "code",
   "execution_count": 169,
   "id": "74c59afa-8b89-478a-b8f6-b08dfeeadcfa",
   "metadata": {},
   "outputs": [
    {
     "data": {
      "image/png": "[encoded data removed]",
      "text/plain": [
       "<Figure size 432x288 with 1 Axes>"
      ]
     },
     "metadata": {
      "needs_background": "light"
     },
     "output_type": "display_data"
    }
   ],
   "source": [
    "plt.plot(ns_fpr, ns_tpr, linestyle='--', label='No Skill')\n",
    "plt.plot(nb_fpr, nb_tpr, marker='.', label='NB')\n",
    "\n",
    "plt.xlabel('False Positive Rate')\n",
    "plt.ylabel('True Positive Rate')\n",
    "plt.title('Naive Bayes Classifier ROC curve')\n",
    "\n",
    "plt.legend();"
   ]
  },
  {
   "cell_type": "code",
   "execution_count": 170,
   "id": "fe0c14e3-493f-4e73-b766-9fbf3ce786ad",
   "metadata": {},
   "outputs": [
    {
     "name": "stdout",
     "output_type": "stream",
     "text": [
      "              precision    recall  f1-score   support\n",
      "\n",
      "           0       0.93      1.00      0.96     12929\n",
      "           1       0.64      0.01      0.01      1000\n",
      "\n",
      "    accuracy                           0.93     13929\n",
      "   macro avg       0.78      0.50      0.49     13929\n",
      "weighted avg       0.91      0.93      0.89     13929\n",
      "\n"
     ]
    }
   ],
   "source": [
    "print(classification_report(y_test, nb_preds))"
   ]
  },
  {
   "cell_type": "code",
   "execution_count": null,
   "id": "31a3a56e-67fb-4365-9e27-5c1edd335ebf",
   "metadata": {},
   "outputs": [],
   "source": []
  },
  {
   "cell_type": "code",
   "execution_count": null,
   "id": "2633115e-9a1b-4e61-9151-e4d296040047",
   "metadata": {},
   "outputs": [],
   "source": []
  },
  {
   "cell_type": "code",
   "execution_count": 171,
   "id": "ecfad022-34b0-40e4-88ff-d11c5052558a",
   "metadata": {},
   "outputs": [
    {
     "data": {
      "text/plain": [
       "(0.031189083820662766, 0.15373244641537326, 0.01384767556874382)"
      ]
     },
     "execution_count": 171,
     "metadata": {},
     "output_type": "execute_result"
    }
   ],
   "source": [
    "f1_score(y_test, lr_preds), f1_score(y_test, rfc_preds), f1_score(y_test, nb_preds)"
   ]
  },
  {
   "cell_type": "code",
   "execution_count": 172,
   "id": "b2723001-e0db-4cea-b629-fd6d19cb39b4",
   "metadata": {},
   "outputs": [
    {
     "data": {
      "text/plain": [
       "(0.5076132724882048, 0.5423704849562998, 0.5033453089952818)"
      ]
     },
     "execution_count": 172,
     "metadata": {},
     "output_type": "execute_result"
    }
   ],
   "source": [
    "balanced_accuracy_score(y_test, lr_preds), balanced_accuracy_score(y_test, rfc_preds), balanced_accuracy_score(y_test, nb_preds)"
   ]
  },
  {
   "cell_type": "code",
   "execution_count": 173,
   "id": "5f38abb1-746c-4190-8290-4641d3b0da1d",
   "metadata": {},
   "outputs": [
    {
     "data": {
      "text/plain": [
       "(0.9286380931868763, 0.917797401105607, 0.9284227151985067)"
      ]
     },
     "execution_count": 173,
     "metadata": {},
     "output_type": "execute_result"
    }
   ],
   "source": [
    "accuracy_score(y_test, lr_preds), accuracy_score(y_test, rfc_preds), accuracy_score(y_test, nb_preds)"
   ]
  },
  {
   "cell_type": "code",
   "execution_count": 174,
   "id": "49831a42-5731-461a-80f2-fa65da894595",
   "metadata": {},
   "outputs": [
    {
     "data": {
      "text/plain": [
       "0.6153846153846154"
      ]
     },
     "execution_count": 174,
     "metadata": {},
     "output_type": "execute_result"
    }
   ],
   "source": [
    "precision_score(y_test, lr_preds)"
   ]
  },
  {
   "cell_type": "code",
   "execution_count": null,
   "id": "98c2e248-5971-43c7-8c85-17f3c0428474",
   "metadata": {},
   "outputs": [],
   "source": []
  },
  {
   "cell_type": "code",
   "execution_count": 190,
   "id": "ab134139-bde1-4086-b3eb-a9c052bf852d",
   "metadata": {},
   "outputs": [],
   "source": [
    "cm_nb = confusion_matrix(y_test, nb_preds)"
   ]
  },
  {
   "cell_type": "code",
   "execution_count": 191,
   "id": "418e481f-ea91-4d03-98df-57f5c3fbfbb7",
   "metadata": {},
   "outputs": [
    {
     "data": {
      "image/png": "[encoded data removed]",
      "text/plain": [
       "<Figure size 432x288 with 2 Axes>"
      ]
     },
     "metadata": {
      "needs_background": "light"
     },
     "output_type": "display_data"
    }
   ],
   "source": [
    "disp = ConfusionMatrixDisplay(confusion_matrix=cm_nb, display_labels=['worldnews', 'upliftingnews'])\n",
    "\n",
    "disp.plot();"
   ]
  },
  {
   "cell_type": "code",
   "execution_count": null,
   "id": "25fa7569-3b09-47d7-b67b-6a64156782d9",
   "metadata": {},
   "outputs": [],
   "source": []
  },
  {
   "cell_type": "markdown",
   "id": "3188c2ae-be14-4509-b73f-085918320b7c",
   "metadata": {},
   "source": [
    "#### Scores of final models"
   ]
  },
  {
   "cell_type": "code",
   "execution_count": 180,
   "id": "f1bc3c52-f02c-468f-ad6a-9b321c68cbe1",
   "metadata": {},
   "outputs": [
    {
     "name": "stdout",
     "output_type": "stream",
     "text": [
      "Accuracy Score = 0.9286380931868763 \n",
      "Balanced Accuracy Score = 0.5076132724882048 \n",
      "Recall Score = 0.016 \n",
      "Precision Score = 0.6153846153846154 \n",
      "F1 Score = 0.031189083820662766\n"
     ]
    }
   ],
   "source": [
    "# Logistic Regression Scores\n",
    "class_metrics(y_test, lr_preds)"
   ]
  },
  {
   "cell_type": "code",
   "execution_count": 181,
   "id": "0fee5820-af28-4576-a00f-2be51067224f",
   "metadata": {},
   "outputs": [
    {
     "name": "stdout",
     "output_type": "stream",
     "text": [
      "Accuracy Score = 0.917797401105607 \n",
      "Balanced Accuracy Score = 0.5423704849562998 \n",
      "Recall Score = 0.104 \n",
      "Precision Score = 0.29461756373937675 \n",
      "F1 Score = 0.15373244641537326\n"
     ]
    }
   ],
   "source": [
    "# Random Forest Scores\n",
    "class_metrics(y_test, rfc_preds)"
   ]
  },
  {
   "cell_type": "code",
   "execution_count": 196,
   "id": "82e0322a-fd30-40f4-a23e-c0c80514b2f8",
   "metadata": {},
   "outputs": [
    {
     "name": "stdout",
     "output_type": "stream",
     "text": [
      "Accuracy Score = 0.9284227151985067 \n",
      "Balanced Accuracy Score = 0.5033453089952818 \n",
      "Recall Score = 0.007 \n",
      "Precision Score = 0.6363636363636364 \n",
      "F1 Score = 0.01384767556874382\n"
     ]
    }
   ],
   "source": [
    "# Naive Bayes Scores\n",
    "class_metrics(y_test, nb_preds)"
   ]
  },
  {
   "cell_type": "code",
   "execution_count": null,
   "id": "49f0df69-6fd7-4e9c-bb6a-65c3fc57c409",
   "metadata": {},
   "outputs": [],
   "source": []
  }
 ],
 "metadata": {
  "kernelspec": {
   "display_name": "Python 3 (ipykernel)",
   "language": "python",
   "name": "python3"
  },
  "language_info": {
   "codemirror_mode": {
    "name": "ipython",
    "version": 3
   },
   "file_extension": ".py",
   "mimetype": "text/x-python",
   "name": "python",
   "nbconvert_exporter": "python",
   "pygments_lexer": "ipython3",
   "version": "3.9.7"
  }
 },
 "nbformat": 4,
 "nbformat_minor": 5
}
