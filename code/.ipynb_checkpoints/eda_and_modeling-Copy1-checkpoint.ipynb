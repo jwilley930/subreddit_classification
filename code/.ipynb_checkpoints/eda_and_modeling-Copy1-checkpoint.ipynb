{
 "cells": [
  {
   "cell_type": "markdown",
   "id": "c4f0e54d-4a25-41de-a277-ad4c7c069bcb",
   "metadata": {},
   "source": [
    "### Import libraries"
   ]
  },
  {
   "cell_type": "code",
   "execution_count": 1,
   "id": "dd389093-a8eb-41f3-944e-b1c0d0d38a35",
   "metadata": {},
   "outputs": [],
   "source": [
    "import pandas as pd\n",
    "import numpy as np\n",
    "import matplotlib.pyplot as plt\n",
    "import seaborn as sns\n",
    "\n",
    "from sklearn.tree import DecisionTreeClassifier\n",
    "from sklearn.feature_extraction.text import CountVectorizer, TfidfVectorizer\n",
    "from sklearn.ensemble import BaggingClassifier, ExtraTreesClassifier, RandomForestClassifier,  VotingClassifier\n",
    "from sklearn.linear_model import LogisticRegression\n",
    "from sklearn.metrics import ConfusionMatrixDisplay, confusion_matrix, accuracy_score, balanced_accuracy_score\n",
    "from sklearn.metrics import recall_score, precision_score, f1_score, roc_curve, roc_auc_score, classification_report\n",
    "from sklearn.model_selection import cross_val_score, GridSearchCV, train_test_split\n",
    "from sklearn.neighbors import KNeighborsClassifier\n",
    "from sklearn.pipeline import Pipeline, make_pipeline\n",
    "from sklearn.svm import SVC\n",
    "from sklearn.naive_bayes import GaussianNB, MultinomialNB\n",
    "\n",
    "from imblearn.pipeline import make_pipeline\n",
    "from imblearn.over_sampling import RandomOverSampler, SMOTE, ADASYN\n",
    "\n",
    "from nltk import word_tokenize, WordNetLemmatizer\n",
    "\n",
    "#from sklearn.datasets import fetch_openml\n",
    "#from imblearn.datasets import make_imbalance\n",
    "# from nltk.stem import WordNetLemmatizer\n",
    "# from sklearn.tree import DecisionTreeClassifier"
   ]
  },
  {
   "cell_type": "code",
   "execution_count": null,
   "id": "033d12cb-bda2-4726-93da-024bf0cebd63",
   "metadata": {},
   "outputs": [],
   "source": []
  },
  {
   "cell_type": "code",
   "execution_count": 2,
   "id": "753eadc9-b46b-4b19-8eb4-0ae24c21d205",
   "metadata": {},
   "outputs": [],
   "source": [
    "# allow pandas to display all columns\n",
    "pd.set_option('display.max_columns', None)"
   ]
  },
  {
   "cell_type": "markdown",
   "id": "2ea945fa-a059-42fb-8f66-9378dc395539",
   "metadata": {},
   "source": [
    "### Import dataframes, pull needed data"
   ]
  },
  {
   "cell_type": "code",
   "execution_count": 3,
   "id": "95236950-7393-40f6-bbb2-b966f9ba1e69",
   "metadata": {},
   "outputs": [
    {
     "data": {
      "text/html": [
       "<div>\n",
       "<style scoped>\n",
       "    .dataframe tbody tr th:only-of-type {\n",
       "        vertical-align: middle;\n",
       "    }\n",
       "\n",
       "    .dataframe tbody tr th {\n",
       "        vertical-align: top;\n",
       "    }\n",
       "\n",
       "    .dataframe thead th {\n",
       "        text-align: right;\n",
       "    }\n",
       "</style>\n",
       "<table border=\"1\" class=\"dataframe\">\n",
       "  <thead>\n",
       "    <tr style=\"text-align: right;\">\n",
       "      <th></th>\n",
       "      <th>author</th>\n",
       "      <th>created_utc</th>\n",
       "      <th>domain</th>\n",
       "      <th>url</th>\n",
       "      <th>title</th>\n",
       "      <th>subreddit</th>\n",
       "    </tr>\n",
       "  </thead>\n",
       "  <tbody>\n",
       "    <tr>\n",
       "      <th>0</th>\n",
       "      <td>thesingerguy</td>\n",
       "      <td>1650842423</td>\n",
       "      <td>youtube.com</td>\n",
       "      <td>https://youtube.com/watch?v=vLIkBaE2_f8&amp;amp;fe...</td>\n",
       "      <td>Cover Tribute to ED SHEERAN: \"The Joker And Th...</td>\n",
       "      <td>UpliftingNews</td>\n",
       "    </tr>\n",
       "    <tr>\n",
       "      <th>1</th>\n",
       "      <td>8412risk</td>\n",
       "      <td>1650835426</td>\n",
       "      <td>nbcnews.com</td>\n",
       "      <td>https://www.nbcnews.com/news/us-news/californi...</td>\n",
       "      <td>California man arrested and charged after maki...</td>\n",
       "      <td>UpliftingNews</td>\n",
       "    </tr>\n",
       "  </tbody>\n",
       "</table>\n",
       "</div>"
      ],
      "text/plain": [
       "         author  created_utc       domain  \\\n",
       "0  thesingerguy   1650842423  youtube.com   \n",
       "1      8412risk   1650835426  nbcnews.com   \n",
       "\n",
       "                                                 url  \\\n",
       "0  https://youtube.com/watch?v=vLIkBaE2_f8&amp;fe...   \n",
       "1  https://www.nbcnews.com/news/us-news/californi...   \n",
       "\n",
       "                                               title      subreddit  \n",
       "0  Cover Tribute to ED SHEERAN: \"The Joker And Th...  UpliftingNews  \n",
       "1  California man arrested and charged after maki...  UpliftingNews  "
      ]
     },
     "execution_count": 3,
     "metadata": {},
     "output_type": "execute_result"
    }
   ],
   "source": [
    "ul_df = pd.read_csv('../data/upliftingnews_posts_dates.csv')\n",
    "ul_df.head(2)"
   ]
  },
  {
   "cell_type": "code",
   "execution_count": 4,
   "id": "1ba9c2bf-aeb1-43f3-8f2b-1763c3b42965",
   "metadata": {},
   "outputs": [],
   "source": [
    "# make subreddit name lowercase\n",
    "ul_df['subreddit'] = ul_df['subreddit'].str.lower()"
   ]
  },
  {
   "cell_type": "code",
   "execution_count": 5,
   "id": "b3029ed0-68ab-4c68-b052-106e58f0d439",
   "metadata": {},
   "outputs": [
    {
     "data": {
      "text/html": [
       "<div>\n",
       "<style scoped>\n",
       "    .dataframe tbody tr th:only-of-type {\n",
       "        vertical-align: middle;\n",
       "    }\n",
       "\n",
       "    .dataframe tbody tr th {\n",
       "        vertical-align: top;\n",
       "    }\n",
       "\n",
       "    .dataframe thead th {\n",
       "        text-align: right;\n",
       "    }\n",
       "</style>\n",
       "<table border=\"1\" class=\"dataframe\">\n",
       "  <thead>\n",
       "    <tr style=\"text-align: right;\">\n",
       "      <th></th>\n",
       "      <th>author</th>\n",
       "      <th>created_utc</th>\n",
       "      <th>domain</th>\n",
       "      <th>url</th>\n",
       "      <th>title</th>\n",
       "      <th>subreddit</th>\n",
       "    </tr>\n",
       "  </thead>\n",
       "  <tbody>\n",
       "    <tr>\n",
       "      <th>0</th>\n",
       "      <td>agnes1223334444</td>\n",
       "      <td>1650844221</td>\n",
       "      <td>abc.net.au</td>\n",
       "      <td>https://www.abc.net.au/news/2022-04-25/jbs-mea...</td>\n",
       "      <td>What you need to know about the global giant b...</td>\n",
       "      <td>worldnews</td>\n",
       "    </tr>\n",
       "    <tr>\n",
       "      <th>1</th>\n",
       "      <td>Thalesian</td>\n",
       "      <td>1650843031</td>\n",
       "      <td>independent.co.uk</td>\n",
       "      <td>https://www.independent.co.uk/climate-change/n...</td>\n",
       "      <td>Climate activist dies after setting himself on...</td>\n",
       "      <td>worldnews</td>\n",
       "    </tr>\n",
       "  </tbody>\n",
       "</table>\n",
       "</div>"
      ],
      "text/plain": [
       "            author  created_utc             domain  \\\n",
       "0  agnes1223334444   1650844221         abc.net.au   \n",
       "1        Thalesian   1650843031  independent.co.uk   \n",
       "\n",
       "                                                 url  \\\n",
       "0  https://www.abc.net.au/news/2022-04-25/jbs-mea...   \n",
       "1  https://www.independent.co.uk/climate-change/n...   \n",
       "\n",
       "                                               title  subreddit  \n",
       "0  What you need to know about the global giant b...  worldnews  \n",
       "1  Climate activist dies after setting himself on...  worldnews  "
      ]
     },
     "execution_count": 5,
     "metadata": {},
     "output_type": "execute_result"
    }
   ],
   "source": [
    "w_df = pd.read_csv('../data/worldnews_posts_dates.csv')\n",
    "w_df.head(2)"
   ]
  },
  {
   "cell_type": "code",
   "execution_count": 6,
   "id": "82a17e7b-60e0-458b-aff4-d32b96ab0132",
   "metadata": {},
   "outputs": [],
   "source": [
    "# combine subreddit dataframes with the columns I plan to use\n",
    "df = pd.concat([ul_df[['title', 'subreddit']], w_df[['title', 'subreddit']]])"
   ]
  },
  {
   "cell_type": "code",
   "execution_count": 7,
   "id": "f2e7588e-89da-4595-87ba-885f6a5b8556",
   "metadata": {},
   "outputs": [
    {
     "data": {
      "text/plain": [
       "((3998, 6), (51718, 6), (55716, 2))"
      ]
     },
     "execution_count": 7,
     "metadata": {},
     "output_type": "execute_result"
    }
   ],
   "source": [
    "ul_df.shape, w_df.shape, df.shape"
   ]
  },
  {
   "cell_type": "code",
   "execution_count": null,
   "id": "48528227-4f91-40e1-9d5e-2ac28ed6039e",
   "metadata": {},
   "outputs": [],
   "source": []
  },
  {
   "cell_type": "markdown",
   "id": "36f7421a-c547-468e-890f-d494113cca79",
   "metadata": {},
   "source": [
    "### Preprocessing of dataframe"
   ]
  },
  {
   "cell_type": "code",
   "execution_count": 8,
   "id": "d4e4eaa2-de4c-41db-9ff9-38a1a257947e",
   "metadata": {},
   "outputs": [],
   "source": [
    "df = df.reset_index().drop(columns='index')"
   ]
  },
  {
   "cell_type": "code",
   "execution_count": 9,
   "id": "9775084f-9c6d-4557-9431-b644217a7446",
   "metadata": {},
   "outputs": [
    {
     "data": {
      "text/html": [
       "<div>\n",
       "<style scoped>\n",
       "    .dataframe tbody tr th:only-of-type {\n",
       "        vertical-align: middle;\n",
       "    }\n",
       "\n",
       "    .dataframe tbody tr th {\n",
       "        vertical-align: top;\n",
       "    }\n",
       "\n",
       "    .dataframe thead th {\n",
       "        text-align: right;\n",
       "    }\n",
       "</style>\n",
       "<table border=\"1\" class=\"dataframe\">\n",
       "  <thead>\n",
       "    <tr style=\"text-align: right;\">\n",
       "      <th></th>\n",
       "      <th>title</th>\n",
       "      <th>subreddit</th>\n",
       "    </tr>\n",
       "  </thead>\n",
       "  <tbody>\n",
       "    <tr>\n",
       "      <th>0</th>\n",
       "      <td>Cover Tribute to ED SHEERAN: \"The Joker And Th...</td>\n",
       "      <td>upliftingnews</td>\n",
       "    </tr>\n",
       "    <tr>\n",
       "      <th>1</th>\n",
       "      <td>California man arrested and charged after maki...</td>\n",
       "      <td>upliftingnews</td>\n",
       "    </tr>\n",
       "    <tr>\n",
       "      <th>2</th>\n",
       "      <td>Giving a stranger a new life: One student's st...</td>\n",
       "      <td>upliftingnews</td>\n",
       "    </tr>\n",
       "    <tr>\n",
       "      <th>3</th>\n",
       "      <td>Black woman named valedictorian nearly 40 year...</td>\n",
       "      <td>upliftingnews</td>\n",
       "    </tr>\n",
       "    <tr>\n",
       "      <th>4</th>\n",
       "      <td>ByteFence Crack 5.7.1.0 With License Key Free ...</td>\n",
       "      <td>upliftingnews</td>\n",
       "    </tr>\n",
       "    <tr>\n",
       "      <th>...</th>\n",
       "      <td>...</td>\n",
       "      <td>...</td>\n",
       "    </tr>\n",
       "    <tr>\n",
       "      <th>55711</th>\n",
       "      <td>U.S. corporations suspend business in Russia, ...</td>\n",
       "      <td>worldnews</td>\n",
       "    </tr>\n",
       "    <tr>\n",
       "      <th>55712</th>\n",
       "      <td>Putin speaks about Nato expansion.</td>\n",
       "      <td>worldnews</td>\n",
       "    </tr>\n",
       "    <tr>\n",
       "      <th>55713</th>\n",
       "      <td>Ukraine's ambassador to U.S. says Russia used ...</td>\n",
       "      <td>worldnews</td>\n",
       "    </tr>\n",
       "    <tr>\n",
       "      <th>55714</th>\n",
       "      <td>Russia has used vacuum bomb, says Ukraine envoy</td>\n",
       "      <td>worldnews</td>\n",
       "    </tr>\n",
       "    <tr>\n",
       "      <th>55715</th>\n",
       "      <td>‘The damage is done’: Russians face economic p...</td>\n",
       "      <td>worldnews</td>\n",
       "    </tr>\n",
       "  </tbody>\n",
       "</table>\n",
       "<p>55716 rows × 2 columns</p>\n",
       "</div>"
      ],
      "text/plain": [
       "                                                   title      subreddit\n",
       "0      Cover Tribute to ED SHEERAN: \"The Joker And Th...  upliftingnews\n",
       "1      California man arrested and charged after maki...  upliftingnews\n",
       "2      Giving a stranger a new life: One student's st...  upliftingnews\n",
       "3      Black woman named valedictorian nearly 40 year...  upliftingnews\n",
       "4      ByteFence Crack 5.7.1.0 With License Key Free ...  upliftingnews\n",
       "...                                                  ...            ...\n",
       "55711  U.S. corporations suspend business in Russia, ...      worldnews\n",
       "55712                 Putin speaks about Nato expansion.      worldnews\n",
       "55713  Ukraine's ambassador to U.S. says Russia used ...      worldnews\n",
       "55714    Russia has used vacuum bomb, says Ukraine envoy      worldnews\n",
       "55715  ‘The damage is done’: Russians face economic p...      worldnews\n",
       "\n",
       "[55716 rows x 2 columns]"
      ]
     },
     "execution_count": 9,
     "metadata": {},
     "output_type": "execute_result"
    }
   ],
   "source": [
    "df"
   ]
  },
  {
   "cell_type": "code",
   "execution_count": 10,
   "id": "bd0c5901-8a0a-4ecc-a227-7dbb7ee31704",
   "metadata": {},
   "outputs": [],
   "source": [
    "#Remove non-english words\n",
    "df.replace({r'[^\\x00-\\x7F]+':''}, regex=True, inplace=True)"
   ]
  },
  {
   "cell_type": "code",
   "execution_count": 11,
   "id": "f1edf655-8ea4-4789-84a1-4dae5b33027b",
   "metadata": {},
   "outputs": [],
   "source": [
    "#Remove punctuation\n",
    "df.title = df.title.str.replace('[^\\w\\s]','', regex=True)"
   ]
  },
  {
   "cell_type": "code",
   "execution_count": 12,
   "id": "008677db-9d43-46f8-bb4b-bd61727aa942",
   "metadata": {},
   "outputs": [
    {
     "data": {
      "text/html": [
       "<div>\n",
       "<style scoped>\n",
       "    .dataframe tbody tr th:only-of-type {\n",
       "        vertical-align: middle;\n",
       "    }\n",
       "\n",
       "    .dataframe tbody tr th {\n",
       "        vertical-align: top;\n",
       "    }\n",
       "\n",
       "    .dataframe thead th {\n",
       "        text-align: right;\n",
       "    }\n",
       "</style>\n",
       "<table border=\"1\" class=\"dataframe\">\n",
       "  <thead>\n",
       "    <tr style=\"text-align: right;\">\n",
       "      <th></th>\n",
       "      <th>title</th>\n",
       "      <th>subreddit</th>\n",
       "    </tr>\n",
       "  </thead>\n",
       "  <tbody>\n",
       "    <tr>\n",
       "      <th>0</th>\n",
       "      <td>Cover Tribute to ED SHEERAN The Joker And The ...</td>\n",
       "      <td>upliftingnews</td>\n",
       "    </tr>\n",
       "    <tr>\n",
       "      <th>1</th>\n",
       "      <td>California man arrested and charged after maki...</td>\n",
       "      <td>upliftingnews</td>\n",
       "    </tr>\n",
       "  </tbody>\n",
       "</table>\n",
       "</div>"
      ],
      "text/plain": [
       "                                               title      subreddit\n",
       "0  Cover Tribute to ED SHEERAN The Joker And The ...  upliftingnews\n",
       "1  California man arrested and charged after maki...  upliftingnews"
      ]
     },
     "execution_count": 12,
     "metadata": {},
     "output_type": "execute_result"
    }
   ],
   "source": [
    "df.head(2)"
   ]
  },
  {
   "cell_type": "code",
   "execution_count": 13,
   "id": "390cbb5e-2295-4221-b986-34820c5fb054",
   "metadata": {},
   "outputs": [
    {
     "data": {
      "text/plain": [
       "0    51718\n",
       "1     3998\n",
       "Name: subreddit, dtype: int64"
      ]
     },
     "execution_count": 13,
     "metadata": {},
     "output_type": "execute_result"
    }
   ],
   "source": [
    "df['subreddit'] = df['subreddit'].replace(['worldnews','upliftingnews'],[0,1])\n",
    "df['subreddit'].value_counts()"
   ]
  },
  {
   "cell_type": "code",
   "execution_count": null,
   "id": "be278f7d-71db-4eae-98e4-bee17e4bc41c",
   "metadata": {},
   "outputs": [],
   "source": []
  },
  {
   "cell_type": "markdown",
   "id": "b4a2d1b8-19db-4138-8abd-c4b7182a8d41",
   "metadata": {},
   "source": [
    "## EDA"
   ]
  },
  {
   "cell_type": "code",
   "execution_count": 14,
   "id": "704c01e0-627e-4bfb-8cbb-4856c1524b0f",
   "metadata": {},
   "outputs": [
    {
     "data": {
      "text/html": [
       "<div>\n",
       "<style scoped>\n",
       "    .dataframe tbody tr th:only-of-type {\n",
       "        vertical-align: middle;\n",
       "    }\n",
       "\n",
       "    .dataframe tbody tr th {\n",
       "        vertical-align: top;\n",
       "    }\n",
       "\n",
       "    .dataframe thead th {\n",
       "        text-align: right;\n",
       "    }\n",
       "</style>\n",
       "<table border=\"1\" class=\"dataframe\">\n",
       "  <thead>\n",
       "    <tr style=\"text-align: right;\">\n",
       "      <th></th>\n",
       "      <th>subreddit</th>\n",
       "      <th>total_posts</th>\n",
       "    </tr>\n",
       "  </thead>\n",
       "  <tbody>\n",
       "    <tr>\n",
       "      <th>0</th>\n",
       "      <td>worldnews</td>\n",
       "      <td>51718</td>\n",
       "    </tr>\n",
       "    <tr>\n",
       "      <th>1</th>\n",
       "      <td>upliftingnews</td>\n",
       "      <td>3998</td>\n",
       "    </tr>\n",
       "  </tbody>\n",
       "</table>\n",
       "</div>"
      ],
      "text/plain": [
       "       subreddit  total_posts\n",
       "0      worldnews        51718\n",
       "1  upliftingnews         3998"
      ]
     },
     "execution_count": 14,
     "metadata": {},
     "output_type": "execute_result"
    }
   ],
   "source": [
    "# Creating columns to graph total number of posts\n",
    "post_num = pd.DataFrame(df['subreddit'].value_counts())\n",
    "post_num.reset_index(inplace=True)\n",
    "post_num.columns = ['subreddit', 'total_posts']\n",
    "post_num['subreddit'] = post_num['subreddit'].replace([0,1], ['worldnews', 'upliftingnews'])\n",
    "post_num"
   ]
  },
  {
   "cell_type": "code",
   "execution_count": 15,
   "id": "80ae0992-7870-4ac1-a8f4-0a8d5999b1b0",
   "metadata": {},
   "outputs": [
    {
     "name": "stdout",
     "output_type": "stream",
     "text": [
      "       subreddit  total_posts\n",
      "0      worldnews        51718\n",
      "1  upliftingnews         3998\n"
     ]
    },
    {
     "data": {
      "image/png": "[encoded data removed]",
      "text/plain": [
       "<Figure size 432x288 with 1 Axes>"
      ]
     },
     "metadata": {
      "needs_background": "light"
     },
     "output_type": "display_data"
    }
   ],
   "source": [
    "plt.bar(post_num['subreddit'], post_num['total_posts'])\n",
    "plt.title('Total posts per subreddit')\n",
    "plt.xlabel('Subreddit')\n",
    "plt.ylabel('Total Posts');\n",
    "print(post_num)"
   ]
  },
  {
   "cell_type": "code",
   "execution_count": null,
   "id": "e049c6cf-91d3-4b75-b728-15a66593d26e",
   "metadata": {},
   "outputs": [],
   "source": []
  },
  {
   "cell_type": "markdown",
   "id": "3810ce85-83ee-4a17-9eec-28804edc7a23",
   "metadata": {},
   "source": [
    "#### Preparing/Vectorizing to get count of 20 most common words and bigrams from each subreddit's titles"
   ]
  },
  {
   "cell_type": "code",
   "execution_count": 16,
   "id": "d78cd008-30d2-45bd-8ef6-29e245f82c16",
   "metadata": {},
   "outputs": [],
   "source": [
    "# prep of upliftingnews dataframe\n",
    "ul_df = ul_df.drop(columns = ['author', 'created_utc', 'domain', 'url'])\n",
    "ul_df.replace({r'[^\\x00-\\x7F]+':''}, regex=True, inplace=True)\n",
    "ul_df.title = df.title.str.replace('[^\\w\\s]','', regex=True)"
   ]
  },
  {
   "cell_type": "code",
   "execution_count": 17,
   "id": "33c58d0d-3c06-476c-aada-8a310654ea72",
   "metadata": {},
   "outputs": [],
   "source": [
    "# prep of worldnews dataframe\n",
    "w_df = w_df.drop(columns = ['author', 'created_utc', 'domain', 'url'])\n",
    "w_df.replace({r'[^\\x00-\\x7F]+':''}, regex=True, inplace=True)\n",
    "w_df.title = df.title.str.replace('[^\\w\\s]','', regex=True)"
   ]
  },
  {
   "cell_type": "code",
   "execution_count": null,
   "id": "4ab6527a-0178-4e27-baa5-05f0ba274ad1",
   "metadata": {},
   "outputs": [],
   "source": []
  },
  {
   "cell_type": "code",
   "execution_count": 18,
   "id": "a476608e-c915-4f7c-b82d-92377db90676",
   "metadata": {},
   "outputs": [],
   "source": [
    "# instantiate CountVectorize\n",
    "cv = CountVectorizer(stop_words='english', min_df=3)"
   ]
  },
  {
   "cell_type": "code",
   "execution_count": 19,
   "id": "e6efec9b-834a-4123-a8c0-ad349a47ac7f",
   "metadata": {},
   "outputs": [],
   "source": [
    "# CountVectorize of full dataframe\n",
    "df_cv = cv.fit_transform(df['title'])\n",
    "df_cv_df = pd.DataFrame(df_cv.A, columns=cv.get_feature_names_out())"
   ]
  },
  {
   "cell_type": "code",
   "execution_count": 20,
   "id": "563df8f1-38ca-43e7-b281-50810bcce313",
   "metadata": {},
   "outputs": [],
   "source": [
    "# CV of upliftingnews df\n",
    "ul_cv = cv.fit_transform(ul_df['title'])\n",
    "ul_cv_df = pd.DataFrame(ul_cv.A, columns=cv.get_feature_names_out())"
   ]
  },
  {
   "cell_type": "code",
   "execution_count": 21,
   "id": "47225cb8-b757-4472-98b0-aa3d21040b32",
   "metadata": {},
   "outputs": [],
   "source": [
    "# CV of worldnews df\n",
    "w_cv = cv.fit_transform(w_df['title'])\n",
    "w_cv_df = pd.DataFrame(w_cv.A, columns=cv.get_feature_names_out())"
   ]
  },
  {
   "cell_type": "code",
   "execution_count": 22,
   "id": "a84c839b-6fc6-4816-8e9a-d7fca21a9fe1",
   "metadata": {
    "tags": []
   },
   "outputs": [
    {
     "data": {
      "text/plain": [
       "ukraine      635\n",
       "russian      419\n",
       "russia       287\n",
       "ukrainian    247\n",
       "new          181\n",
       "war          174\n",
       "people       131\n",
       "region       104\n",
       "military      95\n",
       "says          94\n",
       "million       93\n",
       "help          92\n",
       "world         85\n",
       "years         72\n",
       "said          68\n",
       "refugees      66\n",
       "putin         65\n",
       "news          65\n",
       "kyiv          64\n",
       "minister      61\n",
       "dtype: int64"
      ]
     },
     "execution_count": 22,
     "metadata": {},
     "output_type": "execute_result"
    }
   ],
   "source": [
    "#Top 20 words in 'upliftingnews'\n",
    "ul_top20 = ul_cv_df.sum().sort_values(ascending=False).head(20)\n",
    "ul_top20 "
   ]
  },
  {
   "cell_type": "code",
   "execution_count": 23,
   "id": "7b033334-cd7f-495d-ba39-6d6010a95ddd",
   "metadata": {},
   "outputs": [
    {
     "data": {
      "text/plain": [
       "ukraine      12597\n",
       "russian       8849\n",
       "russia        8454\n",
       "says          4812\n",
       "war           4735\n",
       "putin         3032\n",
       "ukrainian     2994\n",
       "new           1883\n",
       "china         1611\n",
       "news          1596\n",
       "russias       1548\n",
       "sanctions     1520\n",
       "invasion      1475\n",
       "military      1249\n",
       "mariupol      1222\n",
       "india         1199\n",
       "nato          1185\n",
       "world         1167\n",
       "oil           1150\n",
       "nuclear       1139\n",
       "dtype: int64"
      ]
     },
     "execution_count": 23,
     "metadata": {},
     "output_type": "execute_result"
    }
   ],
   "source": [
    "#Top 20 words in 'worldnews'\n",
    "w_top20 = w_cv_df.sum().sort_values(ascending=False).head(20)\n",
    "w_top20"
   ]
  },
  {
   "cell_type": "code",
   "execution_count": 24,
   "id": "001a2402-b621-4846-8db3-c609e699de1b",
   "metadata": {},
   "outputs": [],
   "source": [
    "w20df=pd.DataFrame(w_top20)\n",
    "ul20df=pd.DataFrame(ul_top20)"
   ]
  },
  {
   "cell_type": "code",
   "execution_count": 25,
   "id": "c96a8c90-4bdc-4e81-a506-ee1106bf8950",
   "metadata": {},
   "outputs": [],
   "source": [
    "w20df.reset_index(inplace=True)\n",
    "ul20df.reset_index(inplace=True)"
   ]
  },
  {
   "cell_type": "code",
   "execution_count": 26,
   "id": "1a2077ec-29de-415a-938e-597fda5c0446",
   "metadata": {},
   "outputs": [],
   "source": [
    "w20df.columns=['word', 'count']\n",
    "ul20df.columns=['word', 'count']"
   ]
  },
  {
   "cell_type": "code",
   "execution_count": 27,
   "id": "53b7c745-fcd2-49e4-b086-dc2a6f2063c4",
   "metadata": {},
   "outputs": [
    {
     "data": {
      "image/png": "[encoded data removed]",
      "text/plain": [
       "<Figure size 1080x504 with 2 Axes>"
      ]
     },
     "metadata": {
      "needs_background": "light"
     },
     "output_type": "display_data"
    }
   ],
   "source": [
    "#plot top 20 words of each subreddit\n",
    "fig, axes = plt.subplots(1, 2, figsize=(15, 7))\n",
    "\n",
    "plt.subplot(1, 2, 1)\n",
    "plt.barh(w20df['word'], w20df['count'])\n",
    "plt.gca().invert_yaxis()\n",
    "plt.title('Top 20 words in WorldNews subreddit')\n",
    "plt.xlabel('Total occurences')\n",
    "\n",
    "plt.subplot(1, 2, 2)\n",
    "plt.barh(ul20df['word'], ul20df['count'])\n",
    "plt.gca().invert_yaxis()\n",
    "plt.title('Top 20 words in UpliftingNews subreddit')\n",
    "plt.xlabel('Total occurences');\n",
    "fig.tight_layout() \n",
    "plt.show();"
   ]
  },
  {
   "cell_type": "code",
   "execution_count": null,
   "id": "8add79d1-2695-45ab-ac59-4d240b2f2097",
   "metadata": {},
   "outputs": [],
   "source": []
  },
  {
   "cell_type": "code",
   "execution_count": 28,
   "id": "1da8d02d-f043-40d7-9a88-a6321053f845",
   "metadata": {},
   "outputs": [],
   "source": [
    "# CV for bigrams\n",
    "cv2 = CountVectorizer(ngram_range=(2,2), stop_words='english', min_df=3)"
   ]
  },
  {
   "cell_type": "code",
   "execution_count": 29,
   "id": "34a5facd-5517-4e6d-8eab-55fb307d53b8",
   "metadata": {},
   "outputs": [],
   "source": [
    "ul_cv2 = cv2.fit_transform(ul_df['title'])\n",
    "ul_cv2_df = pd.DataFrame(ul_cv2.A, columns=cv2.get_feature_names_out())"
   ]
  },
  {
   "cell_type": "code",
   "execution_count": 30,
   "id": "92d0dfb7-ecc4-42b4-978e-58c1436d28ec",
   "metadata": {},
   "outputs": [],
   "source": [
    "w_cv2 = cv2.fit_transform(w_df['title'])\n",
    "w_cv2_df = pd.DataFrame(w_cv2.A, columns=cv2.get_feature_names_out())"
   ]
  },
  {
   "cell_type": "code",
   "execution_count": 31,
   "id": "71392d3b-c9b3-4792-a53d-6a3cfafa5a62",
   "metadata": {},
   "outputs": [],
   "source": [
    "ul_top20_2 = ul_cv2_df.sum().sort_values(ascending=False).head(20)"
   ]
  },
  {
   "cell_type": "code",
   "execution_count": 32,
   "id": "b29f677d-8cf4-43f9-a0f2-7ee5a3f50eaf",
   "metadata": {},
   "outputs": [],
   "source": [
    "w_top20_2 = w_cv2_df.sum().sort_values(ascending=False).head(20)"
   ]
  },
  {
   "cell_type": "code",
   "execution_count": 33,
   "id": "b15143ec-1a7b-46d3-a2f2-ea2dfaf36576",
   "metadata": {},
   "outputs": [],
   "source": [
    "w20df2=pd.DataFrame(w_top20_2)\n",
    "ul20df2=pd.DataFrame(ul_top20_2)"
   ]
  },
  {
   "cell_type": "code",
   "execution_count": 34,
   "id": "ac193d08-aeb5-4fab-aee1-c5ebbea77730",
   "metadata": {},
   "outputs": [],
   "source": [
    "w20df2.reset_index(inplace=True)\n",
    "ul20df2.reset_index(inplace=True)"
   ]
  },
  {
   "cell_type": "code",
   "execution_count": 35,
   "id": "e3239341-fa06-4259-be1d-348777f60f12",
   "metadata": {},
   "outputs": [],
   "source": [
    "w20df2.columns=['word', 'count']\n",
    "ul20df2.columns=['word', 'count']"
   ]
  },
  {
   "cell_type": "code",
   "execution_count": 36,
   "id": "4d6f508b-eacd-4f43-b77c-0383162088fc",
   "metadata": {},
   "outputs": [
    {
     "data": {
      "image/png": "[encoded data removed]",
      "text/plain": [
       "<Figure size 1080x504 with 2 Axes>"
      ]
     },
     "metadata": {
      "needs_background": "light"
     },
     "output_type": "display_data"
    }
   ],
   "source": [
    "# plotting top 20 bigrams for each subreddit\n",
    "fig, axes = plt.subplots(1, 2, figsize=(15, 7))\n",
    "\n",
    "plt.subplot(1, 2, 1)\n",
    "plt.barh(w20df2['word'], w20df2['count'])\n",
    "plt.gca().invert_yaxis()\n",
    "plt.title('Top 20 word-pairings in WorldNews subreddit')\n",
    "plt.xlabel('Total occurences')\n",
    "\n",
    "plt.subplot(1, 2, 2)\n",
    "plt.barh(ul20df2['word'], ul20df2['count'])\n",
    "plt.gca().invert_yaxis()\n",
    "plt.title('Top 20 word-pairings in UpliftingNews subreddit')\n",
    "plt.xlabel('Total occurences')\n",
    "\n",
    "fig.tight_layout() \n",
    "plt.show();"
   ]
  },
  {
   "cell_type": "code",
   "execution_count": null,
   "id": "35654eaa-99c6-4c6c-968a-d27ef2439557",
   "metadata": {},
   "outputs": [],
   "source": []
  },
  {
   "cell_type": "code",
   "execution_count": null,
   "id": "88c44319-96bd-4cc3-b9d0-eb8eb7c8e848",
   "metadata": {},
   "outputs": [],
   "source": [
    "# Testing to see how lemmatizing affects top 20 words\n",
    "def lemma_tokenizer(doc):\n",
    "    wnl = WordNetLemmatizer()\n",
    "    return [wnl.lemmatize(w) for w in word_tokenize(doc)]"
   ]
  },
  {
   "cell_type": "code",
   "execution_count": null,
   "id": "7fb6196b-1270-4324-b0e9-ee1fb2df5f48",
   "metadata": {},
   "outputs": [],
   "source": [
    "cv_lem = CountVectorizer(tokenizer=lemma_tokenizer, stop_words='english')\n",
    "\n",
    "ul_cv_lem = cv_lem.fit_transform(ul_df['title'])\n",
    "ul_cv_df_lem = pd.DataFrame(ul_cv_lem.A, columns=cv_lem.get_feature_names_out())\n",
    "\n",
    "w_cv_lem = cv_lem.fit_transform(w_df['title'])\n",
    "w_cv_df_lem = pd.DataFrame(w_cv_lem.A, columns=cv_lem.get_feature_names_out())"
   ]
  },
  {
   "cell_type": "code",
   "execution_count": null,
   "id": "33cdcac1-4540-4f50-b62f-6939768f9616",
   "metadata": {},
   "outputs": [],
   "source": [
    "ul_cv_df_lem.shape, w_cv_df_lem.shape"
   ]
  },
  {
   "cell_type": "code",
   "execution_count": null,
   "id": "2ffca567-fdf5-4f8a-8687-d35674a1e8cc",
   "metadata": {},
   "outputs": [],
   "source": [
    "#Top 20 words in 'upliftingnews'\n",
    "ul_cv_df_lem.sum().sort_values(ascending=False).head(20)"
   ]
  },
  {
   "cell_type": "code",
   "execution_count": null,
   "id": "529fc883-32cd-471a-94ec-b4a0f80e048a",
   "metadata": {},
   "outputs": [],
   "source": [
    "#Top 20 words in 'worldnews'\n",
    "w_cv_df_lem.sum().sort_values(ascending=False).head(20)"
   ]
  },
  {
   "cell_type": "markdown",
   "id": "4912b3cd-c668-4905-ab79-3c7576d7bcf5",
   "metadata": {},
   "source": [
    "##### Lemmatizing did not have a significant effect on top 20 words, or on total word counts"
   ]
  },
  {
   "cell_type": "code",
   "execution_count": null,
   "id": "099390d7-1d6c-405e-ae54-63137be6efff",
   "metadata": {},
   "outputs": [],
   "source": []
  },
  {
   "cell_type": "code",
   "execution_count": null,
   "id": "bc555311-f724-4a79-9791-bff780e80c00",
   "metadata": {},
   "outputs": [],
   "source": []
  },
  {
   "cell_type": "code",
   "execution_count": null,
   "id": "4f6330dc-8714-4f2d-b0f2-e352dbe87945",
   "metadata": {},
   "outputs": [],
   "source": [
    "##Will set up tfidf later, delete if unneeded\n",
    "\n",
    "# tf = TfidfVectorizer(stop_words='english')\n",
    "# ul_tf = cv.fit_transform(ul_df['title'])\n",
    "# ul_tf_df = pd.DataFrame(ul_cv.A, columns=cv.get_feature_names_out())\n",
    "# w_tf = cv.fit_transform(w_df['title'])\n",
    "# w_tf_df = pd.DataFrame(w_cv.A, columns=cv.get_feature_names_out())\n"
   ]
  },
  {
   "cell_type": "code",
   "execution_count": null,
   "id": "74d46cc6-0abc-4fe3-ae2b-12cff93263e4",
   "metadata": {},
   "outputs": [],
   "source": []
  },
  {
   "cell_type": "markdown",
   "id": "d61bece7-01e8-4e3a-a9f9-7f7d5d8751eb",
   "metadata": {},
   "source": [
    "## Modelling"
   ]
  },
  {
   "cell_type": "markdown",
   "id": "2d60cc92-7c63-4753-9ae3-6521c81d6aec",
   "metadata": {},
   "source": [
    "### Baseline"
   ]
  },
  {
   "cell_type": "code",
   "execution_count": 37,
   "id": "e0380044-dfa3-4cff-b9e6-1777a70d36f7",
   "metadata": {},
   "outputs": [
    {
     "data": {
      "text/plain": [
       "0    0.928243\n",
       "1    0.071757\n",
       "Name: subreddit, dtype: float64"
      ]
     },
     "execution_count": 37,
     "metadata": {},
     "output_type": "execute_result"
    }
   ],
   "source": [
    "df['subreddit'].value_counts(normalize=True)"
   ]
  },
  {
   "cell_type": "markdown",
   "id": "8f2c74ba-68d8-4dae-a823-d2607363e47a",
   "metadata": {},
   "source": [
    "##### If this subreddit is used, the baseline will be 93%.  If this sample proves too unbalanced, a sample of 4000 posts from each subreddit will be used"
   ]
  },
  {
   "cell_type": "markdown",
   "id": "f318982a-2a2c-4f4f-ab1c-bf69bf3113fc",
   "metadata": {},
   "source": [
    "### Train Test Split"
   ]
  },
  {
   "cell_type": "code",
   "execution_count": 38,
   "id": "f98e575a-9b79-4e45-8d21-8d220425c077",
   "metadata": {},
   "outputs": [],
   "source": [
    "X = df['title']\n",
    "y = df['subreddit']\n",
    "X_train, X_test, y_train, y_test = train_test_split(X, y, stratify=y, random_state=53)"
   ]
  },
  {
   "cell_type": "code",
   "execution_count": 39,
   "id": "18b1d14a-cb36-465f-bfe4-a8436237d87e",
   "metadata": {},
   "outputs": [
    {
     "data": {
      "text/plain": [
       "49342    Ukrainian operator says employees at seized nu...\n",
       "383                                                 ecrncj\n",
       "40885    Uniqlo shutters shops in Russia days after CEO...\n",
       "34532    Biden details US military aid for Ukraine foll...\n",
       "30539    John Tory  Today we unveiled Free Ukraine sign...\n",
       "                               ...                        \n",
       "28976    Germany honors survivor of Nazi camps 96 kille...\n",
       "18034    France expels Russian diplomats amid condemnat...\n",
       "9402     Hundreds of people demonstrated in several Tur...\n",
       "27631                                              ukraine\n",
       "13533    Chinese Doctors Have Executed Prisoners by Rem...\n",
       "Name: title, Length: 41787, dtype: object"
      ]
     },
     "execution_count": 39,
     "metadata": {},
     "output_type": "execute_result"
    }
   ],
   "source": [
    "X_train"
   ]
  },
  {
   "cell_type": "code",
   "execution_count": null,
   "id": "f3a259d6-2e3f-4c4e-bfa5-7a0bbae07121",
   "metadata": {},
   "outputs": [],
   "source": []
  },
  {
   "cell_type": "markdown",
   "id": "59514594-f3b4-4086-9e0b-0e57512a77f3",
   "metadata": {},
   "source": [
    "#### Function for lemmatizer"
   ]
  },
  {
   "cell_type": "code",
   "execution_count": 45,
   "id": "68905468-9f8d-47b2-8418-de03a5a07956",
   "metadata": {},
   "outputs": [],
   "source": [
    "def lemma_tokenizer(doc):\n",
    "    wnl = WordNetLemmatizer()\n",
    "    return [wnl.lemmatize(w).lower() for w in word_tokenize(doc)]"
   ]
  },
  {
   "cell_type": "markdown",
   "id": "dad2ddd4-d14f-406c-bbd4-4f447ad7da7b",
   "metadata": {
    "tags": []
   },
   "source": [
    "### CountVectorizer"
   ]
  },
  {
   "cell_type": "code",
   "execution_count": 46,
   "id": "34382949-aaf8-4821-8af7-a5d01869cc85",
   "metadata": {},
   "outputs": [],
   "source": [
    "#CV with Lemmatizer\n",
    "cv = CountVectorizer(lowercase=False, tokenizer=lemma_tokenizer, min_df=5)\n",
    "cv.fit(X_train)\n",
    "\n",
    "X_train_cv = cv.transform(X_train)\n",
    "X_test_cv = cv.transform(X_test)"
   ]
  },
  {
   "cell_type": "code",
   "execution_count": 48,
   "id": "65f7dce1-0897-421d-8317-492ce729a565",
   "metadata": {
    "tags": []
   },
   "outputs": [
    {
     "data": {
      "text/plain": [
       "to         16492\n",
       "in         13111\n",
       "the        11133\n",
       "of         10809\n",
       "ukraine    10401\n",
       "a           8083\n",
       "russian     7403\n",
       "russia      6984\n",
       "and         5898\n",
       "for         5641\n",
       "dtype: int64"
      ]
     },
     "execution_count": 48,
     "metadata": {},
     "output_type": "execute_result"
    }
   ],
   "source": [
    "pd.DataFrame(X_train_cv)\n",
    "wordcounts = pd.DataFrame(X_train_cv.A, columns=cv.get_feature_names_out())\n",
    "wordcounts.sum().sort_values(ascending=False).head(10)"
   ]
  },
  {
   "cell_type": "markdown",
   "id": "ae1f45fe-28a8-46bb-ac60-332b4280129b",
   "metadata": {
    "tags": []
   },
   "source": [
    "### TfidfVectorizer"
   ]
  },
  {
   "cell_type": "code",
   "execution_count": 49,
   "id": "94efb8d9-3c4f-40e9-ad45-e0bdd37b1faf",
   "metadata": {},
   "outputs": [],
   "source": [
    "#TfV with lemmatizer\n",
    "tf = TfidfVectorizer(min_df=5, tokenizer=lemma_tokenizer)\n",
    "tf.fit(X_train)\n",
    "    \n",
    "X_train_tf = tf.transform(X_train)\n",
    "X_test_tf = tf.transform(X_test)"
   ]
  },
  {
   "cell_type": "code",
   "execution_count": 50,
   "id": "1e2693ad-e1b8-4ec2-b223-ac0e01768e70",
   "metadata": {},
   "outputs": [],
   "source": [
    "X_train_tf_columns = tf.get_feature_names_out"
   ]
  },
  {
   "cell_type": "code",
   "execution_count": null,
   "id": "0bfc676f-ef4e-40f9-bcb8-68dd030435b5",
   "metadata": {},
   "outputs": [],
   "source": []
  },
  {
   "cell_type": "markdown",
   "id": "54190b39-8b92-47fa-bd55-714ee676ea3b",
   "metadata": {},
   "source": [
    "### Function to print classification model scores"
   ]
  },
  {
   "cell_type": "code",
   "execution_count": 51,
   "id": "554d31c3-a490-4674-a8f6-43560ff348c7",
   "metadata": {},
   "outputs": [],
   "source": [
    "#def class_metrics(model, X, y):\n",
    "def class_metrics(y, preds):\n",
    "    \n",
    "   # preds = model.predict(X)\n",
    "    \n",
    "    acc = accuracy_score(y, preds)\n",
    "    bas = balanced_accuracy_score(y, preds)\n",
    "    rcs = recall_score(y, preds)#, pos_label='1')\n",
    "    prs = precision_score(y, preds)#, pos_label='1')\n",
    "    f1 = f1_score(y, preds)#, pos_label='1')\n",
    "    \n",
    "    print(f'Accuracy Score = {acc} \\nBalanced Accuracy Score = {bas} \\nRecall Score = {rcs} \\nPrecision Score = {prs} \\nF1 Score = {f1}')\n",
    "\n",
    "#this turned out to be redundant, since sklearn classification_report() provides the same info"
   ]
  },
  {
   "cell_type": "code",
   "execution_count": null,
   "id": "9585b276-205b-4f64-b420-04e4beca00d9",
   "metadata": {},
   "outputs": [],
   "source": []
  },
  {
   "cell_type": "markdown",
   "id": "d03153dc-fdc2-41e7-a139-364a14296eee",
   "metadata": {},
   "source": [
    "### Using gridsearch to test parameters with Logistic Regression"
   ]
  },
  {
   "cell_type": "code",
   "execution_count": 65,
   "id": "5d4720ec-3eaf-4345-8d5c-7e5feca86d2c",
   "metadata": {},
   "outputs": [
    {
     "data": {
      "text/plain": [
       "(0.9477588723765764, 0.930361117093833)"
      ]
     },
     "execution_count": 65,
     "metadata": {},
     "output_type": "execute_result"
    }
   ],
   "source": [
    "# Simple model - accuracy score for LR model with CVec\n",
    "lr = LogisticRegression(max_iter=10_000)\n",
    "lr.fit(X_train_cv, y_train)\n",
    "preds = lr.predict(X_test_cv)\n",
    "lr.score(X_train_cv, y_train), lr.score(X_test_cv, y_test)"
   ]
  },
  {
   "cell_type": "code",
   "execution_count": 63,
   "id": "a7cfc736-fdd0-4cb0-913a-71650bd2310f",
   "metadata": {},
   "outputs": [],
   "source": []
  },
  {
   "cell_type": "code",
   "execution_count": 72,
   "id": "3189d7e6-f55b-4059-9de0-d380c7aee55b",
   "metadata": {},
   "outputs": [],
   "source": [
    "# Pipeline for Countvectorizer\n",
    "pipe_cv = make_pipeline(\n",
    "    CountVectorizer(),\n",
    "    RandomOverSampler(random_state=53),\n",
    "    LogisticRegression(max_iter=5_000)\n",
    ")\n",
    "\n",
    "params_cv = {\n",
    "    'countvectorizer__max_df': [1, 5],\n",
    "    'countvectorizer__ngram_range': [(1, 1), (2, 2)],\n",
    "    'randomoversampler__sampling_strategy': [0.1, 0.25, 0.5, 0.75, 1],\n",
    "    'logisticregression__C': [.1, 1]\n",
    "}\n",
    "\n",
    "gs_cv = GridSearchCV(pipe_cv, params_cv, n_jobs=-1, verbose=1)"
   ]
  },
  {
   "cell_type": "code",
   "execution_count": 73,
   "id": "3f20b3df-288b-46f5-be78-4eb2889b09f5",
   "metadata": {},
   "outputs": [
    {
     "name": "stdout",
     "output_type": "stream",
     "text": [
      "Fitting 5 folds for each of 40 candidates, totalling 200 fits\n"
     ]
    },
    {
     "data": {
      "text/plain": [
       "GridSearchCV(estimator=Pipeline(steps=[('countvectorizer', CountVectorizer()),\n",
       "                                       ('randomoversampler',\n",
       "                                        RandomOverSampler(random_state=53)),\n",
       "                                       ('logisticregression',\n",
       "                                        LogisticRegression(max_iter=5000))]),\n",
       "             n_jobs=-1,\n",
       "             param_grid={'countvectorizer__max_df': [1, 5],\n",
       "                         'countvectorizer__ngram_range': [(1, 1), (2, 2)],\n",
       "                         'logisticregression__C': [0.1, 1],\n",
       "                         'randomoversampler__sampling_strategy': [0.1, 0.25,\n",
       "                                                                  0.5, 0.75,\n",
       "                                                                  1]},\n",
       "             verbose=1)"
      ]
     },
     "execution_count": 73,
     "metadata": {},
     "output_type": "execute_result"
    }
   ],
   "source": [
    "gs_cv.fit(X_train, y_train)"
   ]
  },
  {
   "cell_type": "code",
   "execution_count": 74,
   "id": "1fbd3822-7ea1-478c-a304-de17d2afeb2f",
   "metadata": {},
   "outputs": [
    {
     "data": {
      "text/plain": [
       "{'countvectorizer__max_df': 5,\n",
       " 'countvectorizer__ngram_range': (1, 1),\n",
       " 'logisticregression__C': 1,\n",
       " 'randomoversampler__sampling_strategy': 0.1}"
      ]
     },
     "execution_count": 74,
     "metadata": {},
     "output_type": "execute_result"
    }
   ],
   "source": [
    "gs_cv.best_params_"
   ]
  },
  {
   "cell_type": "code",
   "execution_count": 77,
   "id": "08bbd747-8cff-40e1-b609-0798bef96ede",
   "metadata": {},
   "outputs": [
    {
     "data": {
      "text/plain": [
       "Pipeline(steps=[('countvectorizer', CountVectorizer(max_df=5)),\n",
       "                ('randomoversampler',\n",
       "                 RandomOverSampler(random_state=53, sampling_strategy=0.1)),\n",
       "                ('logisticregression', LogisticRegression(C=1, max_iter=5000))])"
      ]
     },
     "execution_count": 77,
     "metadata": {},
     "output_type": "execute_result"
    }
   ],
   "source": [
    "gs_cv.best_estimator_"
   ]
  },
  {
   "cell_type": "code",
   "execution_count": 75,
   "id": "4124add9-afdc-4586-87bd-58d162a83b5f",
   "metadata": {},
   "outputs": [
    {
     "data": {
      "text/plain": [
       "0.9282073372101372"
      ]
     },
     "execution_count": 75,
     "metadata": {},
     "output_type": "execute_result"
    }
   ],
   "source": [
    "gs_cv.score(X_test, y_test)"
   ]
  },
  {
   "cell_type": "code",
   "execution_count": 76,
   "id": "a58221fe-f74c-43e7-868a-0735eab7339f",
   "metadata": {},
   "outputs": [
    {
     "data": {
      "text/plain": [
       "0.7147202822377421"
      ]
     },
     "execution_count": 76,
     "metadata": {},
     "output_type": "execute_result"
    }
   ],
   "source": [
    "balanced_accuracy_score(gs_cv.predict(X_test), y_test)"
   ]
  },
  {
   "cell_type": "code",
   "execution_count": null,
   "id": "7140a13a-1d8f-4285-8158-5d3513721944",
   "metadata": {},
   "outputs": [],
   "source": []
  },
  {
   "cell_type": "code",
   "execution_count": 78,
   "id": "b77e5c42-5696-4efb-964f-1d1b6bf91c7f",
   "metadata": {},
   "outputs": [],
   "source": [
    "# Pipeline for Tfidfvectorizer\n",
    "pipe_tf = make_pipeline(\n",
    "    TfidfVectorizer(),\n",
    "    RandomOverSampler(random_state=53),\n",
    "    LogisticRegression(max_iter=5_000)\n",
    ")\n",
    "\n",
    "params_tf = {\n",
    "    'tfidfvectorizer__max_df': [1, 5],\n",
    "    'tfidfvectorizer__ngram_range': [(1, 1), (2, 2)],\n",
    "    'randomoversampler__sampling_strategy': [0.1, 0.25, 0.5, 0.75, 1],\n",
    "    'logisticregression__C': [.1, 1]\n",
    "}\n",
    "\n",
    "gs_tf = GridSearchCV(pipe_tf, params_tf, n_jobs=-1, verbose=1)"
   ]
  },
  {
   "cell_type": "code",
   "execution_count": 79,
   "id": "33e8cbe9-83f2-477d-a090-63b398ce15c0",
   "metadata": {},
   "outputs": [
    {
     "name": "stdout",
     "output_type": "stream",
     "text": [
      "Fitting 5 folds for each of 40 candidates, totalling 200 fits\n"
     ]
    },
    {
     "data": {
      "text/plain": [
       "GridSearchCV(estimator=Pipeline(steps=[('tfidfvectorizer', TfidfVectorizer()),\n",
       "                                       ('randomoversampler',\n",
       "                                        RandomOverSampler(random_state=53)),\n",
       "                                       ('logisticregression',\n",
       "                                        LogisticRegression(max_iter=5000))]),\n",
       "             n_jobs=-1,\n",
       "             param_grid={'logisticregression__C': [0.1, 1],\n",
       "                         'randomoversampler__sampling_strategy': [0.1, 0.25,\n",
       "                                                                  0.5, 0.75,\n",
       "                                                                  1],\n",
       "                         'tfidfvectorizer__max_df': [1, 5],\n",
       "                         'tfidfvectorizer__ngram_range': [(1, 1), (2, 2)]},\n",
       "             verbose=1)"
      ]
     },
     "execution_count": 79,
     "metadata": {},
     "output_type": "execute_result"
    }
   ],
   "source": [
    "gs_tf.fit(X_train, y_train)"
   ]
  },
  {
   "cell_type": "code",
   "execution_count": 80,
   "id": "d2509998-c836-4d9d-b94f-5ad9bc233913",
   "metadata": {},
   "outputs": [
    {
     "data": {
      "text/plain": [
       "{'logisticregression__C': 0.1,\n",
       " 'randomoversampler__sampling_strategy': 0.5,\n",
       " 'tfidfvectorizer__max_df': 5,\n",
       " 'tfidfvectorizer__ngram_range': (1, 1)}"
      ]
     },
     "execution_count": 80,
     "metadata": {},
     "output_type": "execute_result"
    }
   ],
   "source": [
    "gs_tf.best_params_"
   ]
  },
  {
   "cell_type": "code",
   "execution_count": 81,
   "id": "df0cfcae-c592-469c-84b2-be000b53ea10",
   "metadata": {},
   "outputs": [
    {
     "data": {
      "text/plain": [
       "Pipeline(steps=[('tfidfvectorizer', TfidfVectorizer(max_df=5)),\n",
       "                ('randomoversampler',\n",
       "                 RandomOverSampler(random_state=53, sampling_strategy=0.5)),\n",
       "                ('logisticregression',\n",
       "                 LogisticRegression(C=0.1, max_iter=5000))])"
      ]
     },
     "execution_count": 81,
     "metadata": {},
     "output_type": "execute_result"
    }
   ],
   "source": [
    "gs_tf.best_estimator_"
   ]
  },
  {
   "cell_type": "code",
   "execution_count": 82,
   "id": "139189cf-9384-4c4a-be07-836ac85ac67c",
   "metadata": {},
   "outputs": [
    {
     "data": {
      "text/plain": [
       "0.9286380931868763"
      ]
     },
     "execution_count": 82,
     "metadata": {},
     "output_type": "execute_result"
    }
   ],
   "source": [
    "gs_tf.score(X_test, y_test)"
   ]
  },
  {
   "cell_type": "code",
   "execution_count": 83,
   "id": "08e94914-3b92-4e32-9861-eca220641000",
   "metadata": {},
   "outputs": [
    {
     "data": {
      "text/plain": [
       "0.7723042619467851"
      ]
     },
     "execution_count": 83,
     "metadata": {},
     "output_type": "execute_result"
    }
   ],
   "source": [
    "balanced_accuracy_score(gs_tf.predict(X_test), y_test)"
   ]
  },
  {
   "cell_type": "code",
   "execution_count": null,
   "id": "e8f5ac98-bcea-4674-90e5-b456a5c4faa1",
   "metadata": {},
   "outputs": [],
   "source": []
  },
  {
   "cell_type": "code",
   "execution_count": 86,
   "id": "d5a59882-40c1-4e5b-9ecc-c99f495d5369",
   "metadata": {},
   "outputs": [
    {
     "data": {
      "text/plain": [
       "0    0.981765\n",
       "1    0.018235\n",
       "dtype: float64"
      ]
     },
     "execution_count": 86,
     "metadata": {},
     "output_type": "execute_result"
    }
   ],
   "source": [
    "#Creating predicted values with LogReg and CV to create confusion matrix\n",
    "lr.fit(X_train_cv, y_train)\n",
    "lr_preds = lr.predict(X_test_cv)\n",
    "pd.Index(lr_preds).value_counts(normalize=True)"
   ]
  },
  {
   "cell_type": "code",
   "execution_count": 87,
   "id": "42ff5577-0a75-4a43-a304-937ce8a64e04",
   "metadata": {},
   "outputs": [
    {
     "data": {
      "text/plain": [
       "0    0.928243\n",
       "1    0.071757\n",
       "Name: subreddit, dtype: float64"
      ]
     },
     "execution_count": 87,
     "metadata": {},
     "output_type": "execute_result"
    }
   ],
   "source": [
    "df['subreddit'].value_counts(normalize=True)"
   ]
  },
  {
   "cell_type": "code",
   "execution_count": 89,
   "id": "1fc1d7b0-a86b-4788-8ad2-2ca1415cfc3f",
   "metadata": {},
   "outputs": [
    {
     "data": {
      "image/png": "[encoded data removed]",
      "text/plain": [
       "<Figure size 720x360 with 4 Axes>"
      ]
     },
     "metadata": {
      "needs_background": "light"
     },
     "output_type": "display_data"
    }
   ],
   "source": [
    "# Confusion matrix and scores for train set\n",
    "f, axes = plt.subplots(1, 2, figsize=(10, 5), sharey='row')\n",
    "ConfusionMatrixDisplay.from_estimator(lr, X_train_cv, y_train, ax=axes[0]);\n",
    "axes[0].set_title('Train Confusion Matrix')\n",
    "ConfusionMatrixDisplay.from_estimator(lr, X_train_cv, y_train, normalize='pred', ax=axes[1]);\n",
    "axes[1].set_title('Train Confusion Matrix (Normalized)', loc='center');\n",
    "#plt.tight_layout()\n",
    "plt.show()"
   ]
  },
  {
   "cell_type": "code",
   "execution_count": 90,
   "id": "55a89715-6bf1-4348-b050-4c8b54b06e26",
   "metadata": {},
   "outputs": [
    {
     "name": "stdout",
     "output_type": "stream",
     "text": [
      "              precision    recall  f1-score   support\n",
      "\n",
      "           0       0.95      1.00      0.97     38789\n",
      "           1       0.92      0.30      0.45      2998\n",
      "\n",
      "    accuracy                           0.95     41787\n",
      "   macro avg       0.93      0.65      0.71     41787\n",
      "weighted avg       0.95      0.95      0.94     41787\n",
      "\n"
     ]
    }
   ],
   "source": [
    "print(classification_report(y_train, lr.predict(X_train_cv)))"
   ]
  },
  {
   "cell_type": "code",
   "execution_count": null,
   "id": "03277593-e0eb-4fab-8143-2c5d7003fa6a",
   "metadata": {},
   "outputs": [],
   "source": []
  },
  {
   "cell_type": "code",
   "execution_count": 91,
   "id": "3c630598-4af2-401c-9acd-7aa60c607f62",
   "metadata": {},
   "outputs": [
    {
     "data": {
      "image/png": "[encoded data removed]",
      "text/plain": [
       "<Figure size 720x360 with 4 Axes>"
      ]
     },
     "metadata": {
      "needs_background": "light"
     },
     "output_type": "display_data"
    }
   ],
   "source": [
    "# Confusion matrix and scores for test set\n",
    "f, axes = plt.subplots(1, 2, figsize=(10, 5), sharey='row')\n",
    "ConfusionMatrixDisplay.from_estimator(lr, X_test_cv, y_test, ax=axes[0]);\n",
    "axes[0].set_title('Test Confusion Matrix')\n",
    "ConfusionMatrixDisplay.from_estimator(lr, X_test_cv, y_test, normalize='pred', ax=axes[1]);\n",
    "axes[1].set_title('Test Confusion Matrix (Normalized)', loc='center');\n",
    "#plt.tight_layout()\n",
    "plt.show()"
   ]
  },
  {
   "cell_type": "code",
   "execution_count": 92,
   "id": "fc1cf32d-04cd-4d09-9029-b8781030ade5",
   "metadata": {},
   "outputs": [
    {
     "name": "stdout",
     "output_type": "stream",
     "text": [
      "              precision    recall  f1-score   support\n",
      "\n",
      "           0       0.94      0.99      0.96     12929\n",
      "           1       0.56      0.14      0.23      1000\n",
      "\n",
      "    accuracy                           0.93     13929\n",
      "   macro avg       0.75      0.57      0.60     13929\n",
      "weighted avg       0.91      0.93      0.91     13929\n",
      "\n"
     ]
    }
   ],
   "source": [
    "print(classification_report(y_test, lr.predict(X_test_cv)))"
   ]
  },
  {
   "cell_type": "code",
   "execution_count": null,
   "id": "4b63f87b-43d7-4a00-a04b-d52b369cdd4e",
   "metadata": {},
   "outputs": [],
   "source": []
  },
  {
   "cell_type": "markdown",
   "id": "ae0a1d7f-a1f2-4800-8dc6-ecdd500b1f70",
   "metadata": {},
   "source": [
    "## Dealing with imbalanced data"
   ]
  },
  {
   "cell_type": "markdown",
   "id": "5ed3c8e4-3529-492f-a1f9-850be1900801",
   "metadata": {},
   "source": [
    "### 1. Oversample 'upliftingnews' with RandomOverSampler"
   ]
  },
  {
   "cell_type": "code",
   "execution_count": null,
   "id": "ade76955-a1dc-40d4-a1ff-b3f158577683",
   "metadata": {},
   "outputs": [],
   "source": [
    "pipe = make_pipeline(\n",
    "    RandomOverSampler(random_state=53),\n",
    "    LogisticRegression(max_iter=10_000))\n",
    "#pipe.get_params()"
   ]
  },
  {
   "cell_type": "code",
   "execution_count": 94,
   "id": "06127b50-3d48-4bed-ae0f-3f39e9c3bccf",
   "metadata": {},
   "outputs": [],
   "source": [
    "params_ros = {\n",
    "    'randomoversampler__sampling_strategy': [0.1, 0.25, 0.5, 0.75, 1],\n",
    "    'randomoversampler__shrinkage': [None, .5, 1]\n",
    "}"
   ]
  },
  {
   "cell_type": "code",
   "execution_count": null,
   "id": "5a27500d-c6d2-4b32-97b2-e514f4211bcc",
   "metadata": {},
   "outputs": [],
   "source": [
    "gs_ros = GridSearchCV(pipe, params_ros, n_jobs=-1)\n",
    "gs_ros.fit(X_train_cv, y_train)"
   ]
  },
  {
   "cell_type": "code",
   "execution_count": null,
   "id": "7a4c49ea-ab51-4e40-bdd3-21e870093eb0",
   "metadata": {},
   "outputs": [],
   "source": [
    "pd.DataFrame(gs_ros.cv_results_)['mean_test_score']"
   ]
  },
  {
   "cell_type": "code",
   "execution_count": null,
   "id": "9a05144d-95a0-4075-bcd5-a4253c8c98ea",
   "metadata": {},
   "outputs": [],
   "source": [
    "print(classification_report(y_train, gs_ros.predict(X_train_cv)))"
   ]
  },
  {
   "cell_type": "code",
   "execution_count": null,
   "id": "36942831-b542-4f5d-b294-14d33288eca9",
   "metadata": {},
   "outputs": [],
   "source": [
    "print(classification_report(y_test, gs_ros.predict(X_test_cv)))"
   ]
  },
  {
   "cell_type": "code",
   "execution_count": null,
   "id": "01d5ade0-3924-49c3-8dbb-4bb2044114c8",
   "metadata": {},
   "outputs": [],
   "source": [
    "gs_ros.best_estimator_"
   ]
  },
  {
   "cell_type": "code",
   "execution_count": null,
   "id": "8e0bf846-e99f-4e1a-ac1a-df00d0ae9beb",
   "metadata": {},
   "outputs": [],
   "source": [
    "# Duplicate previous pipeline, but cross-val scored based on balanced accuracy\n",
    "gs_ros_ba = GridSearchCV(pipe, params_ros, n_jobs=-1, scoring = 'balanced_accuracy')\n",
    "gs_ros_ba.fit(X_train_cv, y_train)"
   ]
  },
  {
   "cell_type": "code",
   "execution_count": null,
   "id": "6bff84d9-4bc7-4a49-b6e1-ba4d6d76ea29",
   "metadata": {},
   "outputs": [],
   "source": [
    "pd.DataFrame(gs_ros.cv_results_)['mean_test_score']"
   ]
  },
  {
   "cell_type": "code",
   "execution_count": null,
   "id": "4d851da1-40e5-40f5-86ea-b6418d8584b7",
   "metadata": {},
   "outputs": [],
   "source": [
    "print(classification_report(y_train, gs_ros.predict(X_train_cv)))"
   ]
  },
  {
   "cell_type": "code",
   "execution_count": null,
   "id": "95308a62-cbcd-4b17-87c0-1a5de04acb49",
   "metadata": {},
   "outputs": [],
   "source": [
    "print(classification_report(y_test, gs_ros.predict(X_test_cv)))"
   ]
  },
  {
   "cell_type": "code",
   "execution_count": null,
   "id": "d682d111-d307-41e1-ba17-54f9d6c17207",
   "metadata": {},
   "outputs": [],
   "source": [
    "gs_ros.best_estimator_"
   ]
  },
  {
   "cell_type": "markdown",
   "id": "093ba4ad-1f0f-4d59-9049-e7e7dc971719",
   "metadata": {
    "tags": []
   },
   "source": [
    "##### Takeaways - scoring=balanced_accuracy improves balance score, but hurts other metrics.  Sampling strategy of .1 is usually selected, except for gs3(scoring_balanced and shrinkage=default) which selected 1.  shrinkage of .5 is selected when available, but doesn't seem to help scores"
   ]
  },
  {
   "cell_type": "code",
   "execution_count": null,
   "id": "5ccf419c-1d2f-4c98-93fa-3ccac8b46f2e",
   "metadata": {},
   "outputs": [],
   "source": []
  },
  {
   "cell_type": "markdown",
   "id": "1b773833-edb6-4ade-b453-55dfe14bad43",
   "metadata": {},
   "source": [
    "### 2. Create synthetic data similar to 'upliftingnews' class with SMOTE and AYASYN"
   ]
  },
  {
   "cell_type": "markdown",
   "id": "13ac4f05-5489-4fe6-a8c0-453a7f182eb8",
   "metadata": {},
   "source": [
    "#### Smote"
   ]
  },
  {
   "cell_type": "code",
   "execution_count": null,
   "id": "3e68e2b7-49e5-465e-94ff-30893f784310",
   "metadata": {},
   "outputs": [],
   "source": [
    "pipe_synth = make_pipeline(\n",
    "    SMOTE(random_state=53),\n",
    "    LogisticRegression(max_iter=10_000)\n",
    ")\n",
    "\n",
    "params_synth = {\n",
    "    'smote__k_neighbors': [5, 20, 50],\n",
    "    'logisticregression__C': [.1, 1, 10],\n",
    "}\n",
    "\n",
    "gs_synth = GridSearchCV(pipe_synth, params_synth, n_jobs=-1)"
   ]
  },
  {
   "cell_type": "code",
   "execution_count": null,
   "id": "5265f7d5-c606-42d7-a62f-c05cf5ecbcbc",
   "metadata": {},
   "outputs": [],
   "source": [
    "gs_synth.fit(X_train_cv, y_train)"
   ]
  },
  {
   "cell_type": "code",
   "execution_count": null,
   "id": "3c470254-9ed3-445d-b3a5-e406e7024d31",
   "metadata": {},
   "outputs": [],
   "source": [
    "pd.DataFrame(gs_synth.cv_results_)['mean_test_score']"
   ]
  },
  {
   "cell_type": "code",
   "execution_count": null,
   "id": "84d58020-a282-4e36-8725-3c63d8cd848f",
   "metadata": {},
   "outputs": [],
   "source": [
    "print(classification_report(y_train, gs_synth.predict(X_train_cv)))"
   ]
  },
  {
   "cell_type": "code",
   "execution_count": null,
   "id": "3a11e92a-e05d-4624-a4c1-56a7bb501195",
   "metadata": {},
   "outputs": [],
   "source": [
    "print(classification_report(y_test, gs_synth.predict(X_test_cv)))"
   ]
  },
  {
   "cell_type": "code",
   "execution_count": null,
   "id": "22ec58a2-05af-4847-b1c5-fce638ebe95b",
   "metadata": {},
   "outputs": [],
   "source": [
    "gs_synth.best_estimator_"
   ]
  },
  {
   "cell_type": "code",
   "execution_count": null,
   "id": "44e4010b-d5f3-423d-a455-2d0999f2f370",
   "metadata": {},
   "outputs": [],
   "source": [
    "# Recreating, but scored with balanced_accuracy\n",
    "gs_synth_bal = GridSearchCV(pipe_synth, params_synth, n_jobs=-1, scoring='balanced_accuracy')\n",
    "gs_synth_bal.fit(X_train_cv, y_train)"
   ]
  },
  {
   "cell_type": "code",
   "execution_count": null,
   "id": "7dcdc40f-7ef8-4014-a597-f8e28b340e67",
   "metadata": {},
   "outputs": [],
   "source": [
    "pd.DataFrame(gs_synth_bal.cv_results_)['mean_test_score']"
   ]
  },
  {
   "cell_type": "code",
   "execution_count": null,
   "id": "bf8c3a1d-4e92-45b8-af7f-60c6793d9683",
   "metadata": {},
   "outputs": [],
   "source": [
    "print(classification_report(y_train, gs_synth_bal.predict(X_train_cv)))"
   ]
  },
  {
   "cell_type": "code",
   "execution_count": null,
   "id": "051b1393-78ee-471d-b7ad-3bcfe2926163",
   "metadata": {},
   "outputs": [],
   "source": [
    "print(classification_report(y_test, gs_synth_bal.predict(X_test_cv)))"
   ]
  },
  {
   "cell_type": "code",
   "execution_count": null,
   "id": "6beeaa70-90e6-483c-891e-12323fa82495",
   "metadata": {},
   "outputs": [],
   "source": [
    "gs_synth_bal.best_estimator_"
   ]
  },
  {
   "cell_type": "code",
   "execution_count": null,
   "id": "d2567ca4-61b7-4ee2-a193-e8fac183dfb9",
   "metadata": {},
   "outputs": [],
   "source": []
  },
  {
   "cell_type": "code",
   "execution_count": null,
   "id": "728b2327-e4c0-43a0-a336-7ed3187c3417",
   "metadata": {},
   "outputs": [],
   "source": [
    "# Trying SMOTE with high KNN value\n",
    "params_synth_hiKNN = {\n",
    "    'smote__k_neighbors': [50, 200, 400],\n",
    "    'logisticregression__C': [1],\n",
    "}\n"
   ]
  },
  {
   "cell_type": "code",
   "execution_count": null,
   "id": "1a490945-c495-47d0-8d49-5d82f978c944",
   "metadata": {},
   "outputs": [],
   "source": [
    "gs_synth_hiKNN = GridSearchCV(pipe_synth, params_synth_hiKNN, n_jobs=-1)\n",
    "gs_synth_hiKNN.fit(X_train_cv, y_train)"
   ]
  },
  {
   "cell_type": "code",
   "execution_count": null,
   "id": "95c16461-2845-44ca-ad3e-f5c0f337ce38",
   "metadata": {},
   "outputs": [],
   "source": [
    "pd.DataFrame(gs_synth_hiKNN.cv_results_)['mean_test_score']"
   ]
  },
  {
   "cell_type": "code",
   "execution_count": null,
   "id": "e6f69b5f-7dae-46cc-b655-57eac54c4b8b",
   "metadata": {},
   "outputs": [],
   "source": [
    "print(classification_report(y_train, gs_synth_hiKNN.predict(X_train_cv)))"
   ]
  },
  {
   "cell_type": "code",
   "execution_count": null,
   "id": "873a6a63-270f-49d2-b09b-1b2c08902f7b",
   "metadata": {},
   "outputs": [],
   "source": [
    "print(classification_report(y_test, gs_synth_hiKNN.predict(X_test_cv)))"
   ]
  },
  {
   "cell_type": "code",
   "execution_count": null,
   "id": "643d91e2-5f0c-47bf-a3ac-490450877a88",
   "metadata": {},
   "outputs": [],
   "source": [
    "gs_synth_hiKNN.best_estimator_"
   ]
  },
  {
   "cell_type": "markdown",
   "id": "cc43b668-5c4f-499c-8c85-9f75aa2de115",
   "metadata": {},
   "source": [
    "##### Takeaways - neither performs better than baseline\n",
    "gs_synth tends to choose highest # of kneighbors(up to 200) and C=1, gssynth_bal chooses C=0.1, does not specify which knn,  \n",
    "note - c is inverse of regulation strength - high value of c gives more weight to training data with less regulation. Lower c means more regulation"
   ]
  },
  {
   "cell_type": "markdown",
   "id": "a81cfde9-5436-491e-803d-d68f6b14c597",
   "metadata": {},
   "source": [
    "#### ADASYN"
   ]
  },
  {
   "cell_type": "code",
   "execution_count": null,
   "id": "d73e1274-1ed5-44ae-90cb-3c9ded43dfce",
   "metadata": {},
   "outputs": [],
   "source": [
    "pipe_adasyn = make_pipeline(\n",
    "    ADASYN(random_state=53),\n",
    "    LogisticRegression(max_iter=10_000)\n",
    ")\n",
    "\n",
    "params_adasyn = {\n",
    "    'adasyn__n_neighbors': [50, 200, 300],\n",
    "    'logisticregression__C':[.1, 1, 10]\n",
    "}\n",
    "\n",
    "gs_adasyn = GridSearchCV(pipe_adasyn, params_adasyn, n_jobs=-1)"
   ]
  },
  {
   "cell_type": "code",
   "execution_count": null,
   "id": "dc983fe7-b4d4-4c03-b527-1720b8f1905c",
   "metadata": {},
   "outputs": [],
   "source": [
    "gs_adasyn.fit(X_train_cv, y_train)"
   ]
  },
  {
   "cell_type": "code",
   "execution_count": null,
   "id": "5f8159f6-9c1b-44d8-9c7b-32a0ec63cd86",
   "metadata": {},
   "outputs": [],
   "source": [
    "pd.DataFrame(gs_adasyn.cv_results_)['mean_test_score']"
   ]
  },
  {
   "cell_type": "code",
   "execution_count": null,
   "id": "decf3fcf-d245-4c8b-b993-d08b365805e2",
   "metadata": {},
   "outputs": [],
   "source": [
    "print(classification_report(y_train, gs_adasyn.predict(X_train_cv)))"
   ]
  },
  {
   "cell_type": "code",
   "execution_count": null,
   "id": "a4a51513-443c-4610-9306-4d4c6cc8ba60",
   "metadata": {},
   "outputs": [],
   "source": [
    "print(classification_report(y_test, gs_adasyn.predict(X_test_cv)))"
   ]
  },
  {
   "cell_type": "code",
   "execution_count": null,
   "id": "f019fb8c-67f8-4e3b-8c32-464151ad33ad",
   "metadata": {},
   "outputs": [],
   "source": [
    "gs_adasyn.best_estimator_"
   ]
  },
  {
   "cell_type": "code",
   "execution_count": null,
   "id": "7efabf69-ecaa-4a58-becd-4d3399bc1fe8",
   "metadata": {},
   "outputs": [],
   "source": [
    "# recreating, scored with balanced_accuracy\n",
    "gs_adasyn_bal = GridSearchCV(pipe_adasyn, params_adasyn, n_jobs=-1, scoring='balanced_accuracy')\n",
    "gs_adasyn_bal.fit(X_train_cv, y_train)"
   ]
  },
  {
   "cell_type": "code",
   "execution_count": null,
   "id": "c29ecab0-849b-4ea6-88e8-0cdfe74e2557",
   "metadata": {},
   "outputs": [],
   "source": [
    "pd.DataFrame(gs_adasyn_bal.cv_results_)['mean_test_score']"
   ]
  },
  {
   "cell_type": "code",
   "execution_count": null,
   "id": "0056827d-f8e1-4c43-9db1-917678521259",
   "metadata": {},
   "outputs": [],
   "source": [
    "print(classification_report(y_train, gs_adasyn_bal.predict(X_train_cv)))"
   ]
  },
  {
   "cell_type": "code",
   "execution_count": null,
   "id": "5861db24-2cba-4501-8bee-f97f29c2cc71",
   "metadata": {},
   "outputs": [],
   "source": [
    "print(classification_report(y_test, gs_adasyn_bal.predict(X_test_cv)))"
   ]
  },
  {
   "cell_type": "code",
   "execution_count": null,
   "id": "ced82caf-f534-4218-b729-4a54e64e0dc3",
   "metadata": {},
   "outputs": [],
   "source": [
    "gs_adasyn_bal.best_estimator_"
   ]
  },
  {
   "cell_type": "markdown",
   "id": "1490a5e6-1c14-47c5-b434-c015913695b2",
   "metadata": {},
   "source": [
    "##### Takeaways - similar to SMOTE, picked highest kn, C=1 for score=default and C=.1 for score=bal. Slightly better scores than SMOTE, still not as good as baseline"
   ]
  },
  {
   "cell_type": "code",
   "execution_count": null,
   "id": "b53d017a-7de2-48a6-ba9e-24696b8ff1af",
   "metadata": {},
   "outputs": [],
   "source": []
  },
  {
   "cell_type": "markdown",
   "id": "1a4f1b79-da6e-406f-adc9-7d216c8c4ab8",
   "metadata": {},
   "source": [
    "### 3. LR with overweight minority class"
   ]
  },
  {
   "cell_type": "code",
   "execution_count": null,
   "id": "afef0764-1fb8-4923-91c9-cd1573e809e6",
   "metadata": {},
   "outputs": [],
   "source": [
    "lr_weight = LogisticRegression(max_iter=10_000, class_weight='balanced')\n",
    "lr_weight.fit(X_train_cv, y_train)"
   ]
  },
  {
   "cell_type": "code",
   "execution_count": null,
   "id": "1b20989f-267e-4498-8d28-9c18c3c8baef",
   "metadata": {},
   "outputs": [],
   "source": [
    "pd.DataFrame(lr_weight.cv_results_)['mean_test_score']"
   ]
  },
  {
   "cell_type": "code",
   "execution_count": null,
   "id": "f1b3962c-25db-44be-85d8-9c6bb778e264",
   "metadata": {},
   "outputs": [],
   "source": [
    "print(classification_report(y_train, lr_weight.predict(X_train_cv)))"
   ]
  },
  {
   "cell_type": "code",
   "execution_count": null,
   "id": "5ae8e809-9f80-492f-8b5f-994717ccd7e6",
   "metadata": {},
   "outputs": [],
   "source": [
    "print(classification_report(y_test, lr_weight.predict(X_test_cv)))"
   ]
  },
  {
   "cell_type": "code",
   "execution_count": null,
   "id": "775ed80a-88dc-464c-b172-90790f95c1bf",
   "metadata": {},
   "outputs": [],
   "source": [
    "lr_weight.best_estimator_"
   ]
  },
  {
   "cell_type": "markdown",
   "id": "94664242-66e7-4635-b0fe-ccd226a21dda",
   "metadata": {},
   "source": [
    "##### takeaways - close to gr1 and gr1, but still less than bseline on test set"
   ]
  },
  {
   "cell_type": "code",
   "execution_count": null,
   "id": "947557c1-0c56-4479-924f-9ebefe801169",
   "metadata": {},
   "outputs": [],
   "source": []
  },
  {
   "cell_type": "markdown",
   "id": "840d3942-ee8d-4f9f-8324-18234477af3e",
   "metadata": {},
   "source": [
    "### TfidfVectorizer with RandomOverSampler for further modeling"
   ]
  },
  {
   "cell_type": "code",
   "execution_count": null,
   "id": "ebacadf7-f53a-40d3-9b88-29617532d6bd",
   "metadata": {},
   "outputs": [],
   "source": [
    "tf = TfidfVectorizer(max_df=5)\n",
    "tf.fit(X_train)"
   ]
  },
  {
   "cell_type": "code",
   "execution_count": null,
   "id": "473334fd-a213-4756-9f0d-2111a8893652",
   "metadata": {},
   "outputs": [],
   "source": [
    "X_train_tf = tf.transform(X_train)\n",
    "X_test_tf = tf.transform(X_test)"
   ]
  },
  {
   "cell_type": "code",
   "execution_count": null,
   "id": "836ecc68-63a5-4def-8f3c-04a40c9a4161",
   "metadata": {},
   "outputs": [],
   "source": [
    "feature_names = tf.get_feature_names_out"
   ]
  },
  {
   "cell_type": "code",
   "execution_count": null,
   "id": "8b10d439-cf50-4aff-9ee4-ab03049ad7b7",
   "metadata": {},
   "outputs": [],
   "source": []
  },
  {
   "cell_type": "code",
   "execution_count": null,
   "id": "9869b65f-d202-4a5e-a1b8-6fee2cab5266",
   "metadata": {},
   "outputs": [],
   "source": [
    "ros = RandomOverSampler(random_state=53, sampling_strategy=0.5)"
   ]
  },
  {
   "cell_type": "code",
   "execution_count": null,
   "id": "b2f080d2-cd62-482b-9768-f9153543bcf3",
   "metadata": {},
   "outputs": [],
   "source": [
    "X_train_ros, y_train_ros = ros.fit_resample(X_train_tf, y_train)"
   ]
  },
  {
   "cell_type": "code",
   "execution_count": null,
   "id": "d34c0bb8-7ce0-4e53-9772-1f1118ae816b",
   "metadata": {},
   "outputs": [],
   "source": [
    "ros1 = RandomOverSampler(random_state=53, sampling_strategy=.1)"
   ]
  },
  {
   "cell_type": "code",
   "execution_count": null,
   "id": "f07b9398-ee7c-4b1f-b641-57499348edfd",
   "metadata": {},
   "outputs": [],
   "source": [
    "ros5 = RandomOverSampler(random_state=53, sampling_strategy=.5)"
   ]
  },
  {
   "cell_type": "code",
   "execution_count": null,
   "id": "f7adcf10-694c-44f5-af9d-ba4ff5ac3775",
   "metadata": {},
   "outputs": [],
   "source": [
    "X_train_ros5, y_train_ros5 = ros5.fit_resample(X_train_tf, y_train)"
   ]
  },
  {
   "cell_type": "code",
   "execution_count": null,
   "id": "06172b8c-053f-4332-932c-c4af90ca007b",
   "metadata": {},
   "outputs": [],
   "source": [
    "X_train_ros1."
   ]
  },
  {
   "cell_type": "code",
   "execution_count": null,
   "id": "a387d58f-afab-451f-bf49-9e9f1776d1f7",
   "metadata": {},
   "outputs": [],
   "source": []
  },
  {
   "cell_type": "markdown",
   "id": "ca0b6888-a431-47e3-8472-449e525287b8",
   "metadata": {},
   "source": [
    "### Logistic Regression"
   ]
  },
  {
   "cell_type": "code",
   "execution_count": null,
   "id": "a7e70438-cda4-44aa-8f0e-78a43bc69bdf",
   "metadata": {},
   "outputs": [],
   "source": [
    "#referenced for ROC curves and AUC:  https://machinelearningmastery.com/roc-curves-and-precision-recall-curves-for-classification-in-python/"
   ]
  },
  {
   "cell_type": "code",
   "execution_count": null,
   "id": "c4edfed3-e8ef-4247-8c94-02b824e3fc90",
   "metadata": {},
   "outputs": [],
   "source": [
    "lr = LogisticRegression(C=0.1, n_jobs=-1)"
   ]
  },
  {
   "cell_type": "code",
   "execution_count": null,
   "id": "9c79c7e7-f8a0-4bfc-8d13-5ada3ebfdcf0",
   "metadata": {},
   "outputs": [],
   "source": [
    "lr.fit(X_train_ros5, y_train_ros5)"
   ]
  },
  {
   "cell_type": "code",
   "execution_count": null,
   "id": "cc1d1e1b-dd5c-4734-af76-15281779133c",
   "metadata": {},
   "outputs": [],
   "source": [
    "lr.score(X_train_ros1, y_train_ros1), lr.score(X_train_tf, y_train), lr.score(X_test_tf, y_test)"
   ]
  },
  {
   "cell_type": "code",
   "execution_count": null,
   "id": "88b5ea04-ae1e-421a-862c-23c8359d0bcf",
   "metadata": {},
   "outputs": [],
   "source": []
  },
  {
   "cell_type": "code",
   "execution_count": null,
   "id": "9b24ca8c-d941-42dd-9f74-77df55315e74",
   "metadata": {},
   "outputs": [],
   "source": [
    "lr_preds = lr.predict(X_test_tf)"
   ]
  },
  {
   "cell_type": "code",
   "execution_count": null,
   "id": "0aaaf867-ec1a-47ce-ae44-9630f66ee137",
   "metadata": {},
   "outputs": [],
   "source": [
    "ns_probs = [0 for _ in range(len(y_test))]"
   ]
  },
  {
   "cell_type": "code",
   "execution_count": null,
   "id": "1698d245-552f-4529-8c08-183e3bb9acc0",
   "metadata": {},
   "outputs": [],
   "source": [
    "lr_probs = lr.predict_proba(X_test_tf)"
   ]
  },
  {
   "cell_type": "code",
   "execution_count": null,
   "id": "30c4612d-4bc4-4c07-bc83-1c43d0efe309",
   "metadata": {},
   "outputs": [],
   "source": [
    "lr_probs = lr_probs[:,1]"
   ]
  },
  {
   "cell_type": "code",
   "execution_count": null,
   "id": "5a0ca1c1-e6a1-4272-ae53-8007309cabb7",
   "metadata": {},
   "outputs": [],
   "source": [
    "ns_auc = roc_auc_score(y_test, ns_probs)"
   ]
  },
  {
   "cell_type": "code",
   "execution_count": null,
   "id": "9a17dbab-4660-443f-9916-1d92c2ac99a4",
   "metadata": {},
   "outputs": [],
   "source": [
    "lr_auc = roc_auc_score(y_test, lr_probs)"
   ]
  },
  {
   "cell_type": "code",
   "execution_count": null,
   "id": "dc7c2ff8-55b2-4a48-a50c-714524d9905b",
   "metadata": {},
   "outputs": [],
   "source": []
  },
  {
   "cell_type": "code",
   "execution_count": null,
   "id": "22eea335-209c-42d7-8dbe-f6f60de3b40b",
   "metadata": {},
   "outputs": [],
   "source": [
    "print('No Skill: ROC AUC=%.3f' % (ns_auc))\n",
    "print('Logistic: ROC AUC=%.3f' % (lr_auc))"
   ]
  },
  {
   "cell_type": "code",
   "execution_count": null,
   "id": "ff9c7def-1781-4227-bb37-44a5a694a88a",
   "metadata": {},
   "outputs": [],
   "source": [
    "ns_fpr, ns_tpr, _ = roc_curve(y_test, ns_probs)\n",
    "lr_fpr, lr_tpr, _ = roc_curve(y_test, lr_probs)"
   ]
  },
  {
   "cell_type": "code",
   "execution_count": null,
   "id": "0c10998a-d5d3-4ff3-b34e-ea85485bb58f",
   "metadata": {},
   "outputs": [],
   "source": [
    "plt.plot(ns_fpr, ns_tpr, linestyle='--', label='No Skill')\n",
    "plt.plot(lr_fpr, lr_tpr, marker='.', label='Logistic')\n",
    "\n",
    "plt.xlabel('False Positive Rate')\n",
    "plt.ylabel('True Positive Rate')\n",
    "plt.title('Logistic Regression ROC curve')\n",
    "\n",
    "plt.legend();"
   ]
  },
  {
   "cell_type": "code",
   "execution_count": null,
   "id": "6a830cde-367b-4369-8154-618fb5367f1e",
   "metadata": {},
   "outputs": [],
   "source": [
    "print(classification_report(y_test, lr_preds))"
   ]
  },
  {
   "cell_type": "code",
   "execution_count": null,
   "id": "44e04c8f-a993-47c6-8ad3-73817d3fa345",
   "metadata": {},
   "outputs": [],
   "source": []
  },
  {
   "cell_type": "code",
   "execution_count": null,
   "id": "273af515-a2ed-4bbd-9c90-80cd3976a342",
   "metadata": {},
   "outputs": [],
   "source": []
  },
  {
   "cell_type": "markdown",
   "id": "993daf5f-556a-486f-aa64-911e076c685c",
   "metadata": {},
   "source": [
    "### RANDOMFOREST"
   ]
  },
  {
   "cell_type": "code",
   "execution_count": null,
   "id": "51876c69-1201-4c1a-87e1-deb1ec75472f",
   "metadata": {},
   "outputs": [],
   "source": []
  },
  {
   "cell_type": "code",
   "execution_count": null,
   "id": "055a6811-916e-4dcf-b199-9575f20adcd9",
   "metadata": {},
   "outputs": [],
   "source": [
    "rfc = RandomForestClassifier(random_state=53)"
   ]
  },
  {
   "cell_type": "code",
   "execution_count": null,
   "id": "69be5766-eeb1-4d12-bb0c-de3aaee35158",
   "metadata": {},
   "outputs": [],
   "source": [
    "rfc.fit(X_train_ros1, y_train_ros1)"
   ]
  },
  {
   "cell_type": "code",
   "execution_count": null,
   "id": "8bd764d4-36ac-4e29-a92a-51790427a7ac",
   "metadata": {},
   "outputs": [],
   "source": [
    "rfc.score(X_train_ros1, y_train_ros1), rfc.score(X_train_tf, y_train), rfc.score(X_test_tf, y_test)"
   ]
  },
  {
   "cell_type": "code",
   "execution_count": null,
   "id": "924b8dbc-bee4-4ca2-83b1-666cab5342da",
   "metadata": {},
   "outputs": [],
   "source": []
  },
  {
   "cell_type": "code",
   "execution_count": null,
   "id": "e2f480e3-aa36-48dc-a85f-b9ab618b1039",
   "metadata": {},
   "outputs": [],
   "source": [
    "rfc_preds = rfc.predict(X_test_tf)"
   ]
  },
  {
   "cell_type": "code",
   "execution_count": null,
   "id": "d490e6ff-c4d8-4b35-8486-70ca65b86af3",
   "metadata": {},
   "outputs": [],
   "source": [
    "ns_probs = [0 for _ in range(len(y_test))]"
   ]
  },
  {
   "cell_type": "code",
   "execution_count": null,
   "id": "b20e4773-aabd-452d-afc8-d75a890f0081",
   "metadata": {},
   "outputs": [],
   "source": [
    "rfc_probs = rfc.predict_proba(X_test_tf)"
   ]
  },
  {
   "cell_type": "code",
   "execution_count": null,
   "id": "defd6894-a571-4761-b1f0-8f1b4c515f9a",
   "metadata": {},
   "outputs": [],
   "source": [
    "rfc_probs = rfc_probs[:,1]"
   ]
  },
  {
   "cell_type": "code",
   "execution_count": null,
   "id": "d59e34ec-19d8-439d-bf9a-633c912e0edb",
   "metadata": {},
   "outputs": [],
   "source": [
    "ns_auc = roc_auc_score(y_test, ns_probs)"
   ]
  },
  {
   "cell_type": "code",
   "execution_count": null,
   "id": "b9e33a23-4035-426d-a564-bec354386f41",
   "metadata": {},
   "outputs": [],
   "source": [
    "rfc_auc = roc_auc_score(y_test, rfc_probs)"
   ]
  },
  {
   "cell_type": "code",
   "execution_count": null,
   "id": "e7202750-b41f-46c1-aeec-538b980b0be0",
   "metadata": {},
   "outputs": [],
   "source": []
  },
  {
   "cell_type": "code",
   "execution_count": null,
   "id": "f5b336ff-6e4b-4c6a-9b48-9f00d11fb2ff",
   "metadata": {},
   "outputs": [],
   "source": [
    "print('No Skill: ROC AUC=%.3f' % (ns_auc))\n",
    "print('RFC: ROC AUC=%.3f' % (rfc_auc))"
   ]
  },
  {
   "cell_type": "code",
   "execution_count": null,
   "id": "a6852858-e33e-4b7a-b179-464581fd4d1c",
   "metadata": {},
   "outputs": [],
   "source": [
    "ns_fpr, ns_tpr, _ = roc_curve(y_test, ns_probs)\n",
    "rfc_fpr, rfc_tpr, _ = roc_curve(y_test, rfc_probs)"
   ]
  },
  {
   "cell_type": "code",
   "execution_count": null,
   "id": "a5181c12-12ef-4e58-835b-0ad4821cbe3c",
   "metadata": {},
   "outputs": [],
   "source": [
    "plt.plot(ns_fpr, ns_tpr, linestyle='--', label='No Skill')\n",
    "plt.plot(rfc_fpr, rfc_tpr, marker='.', label='Logistic')\n",
    "\n",
    "plt.xlabel('False Positive Rate')\n",
    "plt.ylabel('True Positive Rate')\n",
    "plt.title('Random Forest Classifier ROC curve')\n",
    "\n",
    "plt.legend();"
   ]
  },
  {
   "cell_type": "code",
   "execution_count": null,
   "id": "f9565dd8-9d3e-407c-8450-2427a5a9084f",
   "metadata": {},
   "outputs": [],
   "source": [
    "print(classification_report(y_test, rfc_preds))"
   ]
  },
  {
   "cell_type": "code",
   "execution_count": null,
   "id": "92932b7c-37a7-4ddb-b3c7-a522da606655",
   "metadata": {},
   "outputs": [],
   "source": []
  },
  {
   "cell_type": "code",
   "execution_count": null,
   "id": "3c9d4ed8-6ab4-47c6-846d-d424370851f1",
   "metadata": {},
   "outputs": [],
   "source": [
    "cm = confusion_matrix(y_test, rfc_preds)"
   ]
  },
  {
   "cell_type": "code",
   "execution_count": null,
   "id": "e3b6c0db-6e5f-4f69-a4bd-189b0a67bec7",
   "metadata": {},
   "outputs": [],
   "source": [
    "disp = ConfusionMatrixDisplay(confusion_matrix=cm, display_labels=['worldnews', 'upliftingnews'])\n",
    "\n",
    "disp.plot();"
   ]
  },
  {
   "cell_type": "markdown",
   "id": "e539f894-2ce0-4af9-8a6d-e50fe3a33b65",
   "metadata": {},
   "source": [
    "### Naive Bayes"
   ]
  },
  {
   "cell_type": "code",
   "execution_count": null,
   "id": "f646d414-77ad-42b8-9a75-b49f235a5a86",
   "metadata": {},
   "outputs": [],
   "source": [
    "nb = MultinomialNB()"
   ]
  },
  {
   "cell_type": "code",
   "execution_count": null,
   "id": "b7a708ae-69bd-43a2-bac9-5e60566caceb",
   "metadata": {},
   "outputs": [],
   "source": [
    "nb.fit(X_train_ros1, y_train_ros1)"
   ]
  },
  {
   "cell_type": "code",
   "execution_count": null,
   "id": "565f9e61-5973-4910-9d2c-0df1a699a83d",
   "metadata": {},
   "outputs": [],
   "source": [
    "nb.score(X_train_ros1, y_train_ros1), nb.score(X_train_tf, y_train), nb.score(X_test_tf, y_test)"
   ]
  },
  {
   "cell_type": "code",
   "execution_count": null,
   "id": "3c30e959-9557-43c4-82d5-6175d3fa6553",
   "metadata": {},
   "outputs": [],
   "source": [
    "lr.score(X_train_ros1, y_train_ros1)"
   ]
  },
  {
   "cell_type": "code",
   "execution_count": null,
   "id": "747eba3e-4dba-49d9-900f-0f02f2162c52",
   "metadata": {},
   "outputs": [],
   "source": [
    "nb_preds = nb.predict(X_test_tf)"
   ]
  },
  {
   "cell_type": "code",
   "execution_count": null,
   "id": "c4d5b66b-04fc-4c92-aeb0-40968e064179",
   "metadata": {},
   "outputs": [],
   "source": [
    "lr_preds = lr.predict(X_test_tf)"
   ]
  },
  {
   "cell_type": "code",
   "execution_count": null,
   "id": "8c9b0e05-23f7-401e-8e21-2cf5eb1d8a6f",
   "metadata": {},
   "outputs": [],
   "source": [
    "ns_probs = [0 for _ in range(len(y_test))]"
   ]
  },
  {
   "cell_type": "code",
   "execution_count": null,
   "id": "22e6ab2b-9299-41b8-ae95-51b380dda500",
   "metadata": {},
   "outputs": [],
   "source": [
    "nb_probs = nb.predict_proba(X_test_tf)"
   ]
  },
  {
   "cell_type": "code",
   "execution_count": null,
   "id": "7e592dbd-30bf-4317-8a66-6791826f801c",
   "metadata": {},
   "outputs": [],
   "source": [
    "nb_probs = nb_probs[:,1]"
   ]
  },
  {
   "cell_type": "code",
   "execution_count": null,
   "id": "46071ca3-6543-4af2-ba5e-bc051543a8ca",
   "metadata": {},
   "outputs": [],
   "source": [
    "ns_auc = roc_auc_score(y_test, ns_probs)"
   ]
  },
  {
   "cell_type": "code",
   "execution_count": null,
   "id": "32439d69-e108-4b4f-ba7e-99f38d691d83",
   "metadata": {},
   "outputs": [],
   "source": [
    "nb_auc = roc_auc_score(y_test, nb_probs)"
   ]
  },
  {
   "cell_type": "code",
   "execution_count": null,
   "id": "60c8e217-0cbb-4e92-ad15-504be96a7160",
   "metadata": {},
   "outputs": [],
   "source": []
  },
  {
   "cell_type": "code",
   "execution_count": null,
   "id": "b76718ff-c242-4298-b8aa-c61ecd745ce2",
   "metadata": {},
   "outputs": [],
   "source": [
    "print('No Skill: ROC AUC=%.3f' % (ns_auc))\n",
    "print('NB: ROC AUC=%.3f' % (nb_auc))"
   ]
  },
  {
   "cell_type": "code",
   "execution_count": null,
   "id": "28590380-3013-45f5-9589-e5d00423e87c",
   "metadata": {},
   "outputs": [],
   "source": [
    "ns_fpr, ns_tpr, _ = roc_curve(y_test, ns_probs)\n",
    "nb_fpr, nb_tpr, _ = roc_curve(y_test, nb_probs)"
   ]
  },
  {
   "cell_type": "code",
   "execution_count": null,
   "id": "74c59afa-8b89-478a-b8f6-b08dfeeadcfa",
   "metadata": {},
   "outputs": [],
   "source": [
    "plt.plot(ns_fpr, ns_tpr, linestyle='--', label='No Skill')\n",
    "plt.plot(nb_fpr, nb_tpr, marker='.', label='NB')\n",
    "\n",
    "plt.xlabel('False Positive Rate')\n",
    "plt.ylabel('True Positive Rate')\n",
    "plt.title('Naive Bayes Classifier ROC curve')\n",
    "\n",
    "plt.legend();"
   ]
  },
  {
   "cell_type": "code",
   "execution_count": null,
   "id": "fe0c14e3-493f-4e73-b766-9fbf3ce786ad",
   "metadata": {},
   "outputs": [],
   "source": [
    "print(classification_report(y_test, nb_preds))"
   ]
  },
  {
   "cell_type": "code",
   "execution_count": null,
   "id": "ecfad022-34b0-40e4-88ff-d11c5052558a",
   "metadata": {},
   "outputs": [],
   "source": [
    "f1_score(y_test, lr_preds), f1_score(y_test, rfc_preds), f1_score(y_test, nb_preds)"
   ]
  },
  {
   "cell_type": "code",
   "execution_count": null,
   "id": "b2723001-e0db-4cea-b629-fd6d19cb39b4",
   "metadata": {},
   "outputs": [],
   "source": [
    "balanced_accuracy_score(y_test, lr_preds), balanced_accuracy_score(y_test, rfc_preds), balanced_accuracy_score(y_test, nb_preds)"
   ]
  },
  {
   "cell_type": "code",
   "execution_count": null,
   "id": "5f38abb1-746c-4190-8290-4641d3b0da1d",
   "metadata": {},
   "outputs": [],
   "source": [
    "accuracy_score(y_test, lr_preds), accuracy_score(y_test, rfc_preds), accuracy_score(y_test, nb_preds)"
   ]
  },
  {
   "cell_type": "code",
   "execution_count": null,
   "id": "49831a42-5731-461a-80f2-fa65da894595",
   "metadata": {},
   "outputs": [],
   "source": [
    "precision_score(y_test, lr_preds)"
   ]
  },
  {
   "cell_type": "code",
   "execution_count": null,
   "id": "98c2e248-5971-43c7-8c85-17f3c0428474",
   "metadata": {},
   "outputs": [],
   "source": []
  },
  {
   "cell_type": "code",
   "execution_count": null,
   "id": "ab134139-bde1-4086-b3eb-a9c052bf852d",
   "metadata": {},
   "outputs": [],
   "source": [
    "cm = confusion_matrix(y_test, nb_preds)"
   ]
  },
  {
   "cell_type": "code",
   "execution_count": null,
   "id": "418e481f-ea91-4d03-98df-57f5c3fbfbb7",
   "metadata": {},
   "outputs": [],
   "source": [
    "disp = ConfusionMatrixDisplay(confusion_matrix=cm, display_labels=['worldnews', 'upliftingnews'])\n",
    "\n",
    "disp.plot();"
   ]
  },
  {
   "cell_type": "code",
   "execution_count": null,
   "id": "5d217540-7ea1-4bd7-9798-5af4417837bc",
   "metadata": {},
   "outputs": [],
   "source": [
    "plot_con"
   ]
  },
  {
   "cell_type": "code",
   "execution_count": null,
   "id": "34400be6-144e-43e0-8de7-0c607f77cafc",
   "metadata": {},
   "outputs": [],
   "source": [
    "class_metrics(y_test, lr_preds)"
   ]
  },
  {
   "cell_type": "code",
   "execution_count": null,
   "id": "25fa7569-3b09-47d7-b67b-6a64156782d9",
   "metadata": {},
   "outputs": [],
   "source": []
  },
  {
   "cell_type": "markdown",
   "id": "d43e5a5d-36b0-40da-bdfe-f8f12050239b",
   "metadata": {
    "tags": []
   },
   "source": [
    "### RandomForestClassifier"
   ]
  },
  {
   "cell_type": "code",
   "execution_count": null,
   "id": "574fafa8-8c06-4755-b8bd-350864194814",
   "metadata": {},
   "outputs": [],
   "source": [
    "rfc = RandomForestClassifier(random_state=53)"
   ]
  },
  {
   "cell_type": "code",
   "execution_count": null,
   "id": "69b25fe6-2863-4c15-8ba0-238c5342c2ea",
   "metadata": {},
   "outputs": [],
   "source": [
    "rfc.fit(X_train_ros, y_train_ros)"
   ]
  },
  {
   "cell_type": "code",
   "execution_count": null,
   "id": "be3c291b-c3f9-48c3-b327-4eacf0fb4f37",
   "metadata": {},
   "outputs": [],
   "source": [
    "rfc.score(X_train_ros, y_train_ros), rfc.score(X_test_tf, y_test)"
   ]
  },
  {
   "cell_type": "code",
   "execution_count": null,
   "id": "8ef94084-7511-476d-9747-98e3f3fe8bda",
   "metadata": {},
   "outputs": [],
   "source": [
    "rfc1 = RandomForestClassifier(random_state=53)"
   ]
  },
  {
   "cell_type": "code",
   "execution_count": null,
   "id": "2b88b3cc-6003-49ff-bd7e-4ea644adcd00",
   "metadata": {},
   "outputs": [],
   "source": [
    "rfc1.fit(X_train_ros1, y_train_ros1)"
   ]
  },
  {
   "cell_type": "code",
   "execution_count": null,
   "id": "17153f68-a653-41ec-ab39-9a4e406a85e0",
   "metadata": {},
   "outputs": [],
   "source": [
    "rfc1.score(X_train_ros, y_train_ros), rfc1.score(X_test_tf, y_test)"
   ]
  },
  {
   "cell_type": "code",
   "execution_count": null,
   "id": "60827c94-e4ba-45cc-ac15-8867def2db60",
   "metadata": {},
   "outputs": [],
   "source": [
    "rfc1_preds = (rfc1.predict(X_test_tf))"
   ]
  },
  {
   "cell_type": "code",
   "execution_count": null,
   "id": "5574afc9-b299-4f42-a0a5-fcd121306154",
   "metadata": {},
   "outputs": [],
   "source": []
  },
  {
   "cell_type": "code",
   "execution_count": null,
   "id": "3c266996-8fc9-428b-ab8e-fbfc915cf723",
   "metadata": {},
   "outputs": [],
   "source": []
  },
  {
   "cell_type": "code",
   "execution_count": null,
   "id": "7ed10b2d-35d6-4b3f-9bea-6272cb5195e7",
   "metadata": {},
   "outputs": [],
   "source": [
    "rfc1_preds = lr.predict(X_test_tf)"
   ]
  },
  {
   "cell_type": "code",
   "execution_count": null,
   "id": "18fe745e-90dd-4dc7-b935-2832b8c5fc22",
   "metadata": {},
   "outputs": [],
   "source": [
    "ns_probs = [0 for _ in range(len(y_test))]"
   ]
  },
  {
   "cell_type": "code",
   "execution_count": null,
   "id": "f2de2f6c-70b0-492f-90e2-020a5592157b",
   "metadata": {},
   "outputs": [],
   "source": [
    "lr_probs = lr.predict_proba(X_test_tf)"
   ]
  },
  {
   "cell_type": "code",
   "execution_count": null,
   "id": "9d112a3e-4b87-441d-9a7e-5cccda82e038",
   "metadata": {},
   "outputs": [],
   "source": [
    "lr_probs = lr_probs[:,1]"
   ]
  },
  {
   "cell_type": "code",
   "execution_count": null,
   "id": "c60db9c0-a842-4e4e-b4bb-62087a12a194",
   "metadata": {},
   "outputs": [],
   "source": [
    "ns_auc = roc_auc_score(y_test, ns_probs)"
   ]
  },
  {
   "cell_type": "code",
   "execution_count": null,
   "id": "1276fe31-5bd0-4a83-9b52-0b420b591d74",
   "metadata": {},
   "outputs": [],
   "source": [
    "lr_auc = roc_auc_score(y_test, lr_probs)"
   ]
  },
  {
   "cell_type": "code",
   "execution_count": null,
   "id": "0f068a84-4244-4b96-bfeb-7937b1b4a11a",
   "metadata": {},
   "outputs": [],
   "source": []
  },
  {
   "cell_type": "code",
   "execution_count": null,
   "id": "d088b850-7871-4abc-af40-e5c4e7651362",
   "metadata": {},
   "outputs": [],
   "source": [
    "print('No Skill: ROC AUC=%.3f' % (ns_auc))\n",
    "print('Logistic: ROC AUC=%.3f' % (lr_auc))"
   ]
  },
  {
   "cell_type": "code",
   "execution_count": null,
   "id": "35d6e6d6-ee62-467d-8a44-f2ba56ba40d5",
   "metadata": {},
   "outputs": [],
   "source": [
    "ns_fpr, ns_tpr, _ = roc_curve(y_test, ns_probs)\n",
    "lr_fpr, lr_tpr, _ = roc_curve(y_test, lr_probs)"
   ]
  },
  {
   "cell_type": "code",
   "execution_count": null,
   "id": "05c4186a-9468-493c-a92b-39c0e7745ea4",
   "metadata": {},
   "outputs": [],
   "source": [
    "# plt.plot(ns_fpr, ns_tpr, linestyle='--', label='No Skill')\n",
    "# plt.plot(lr_fpr, lr_tpr, marker='.', label='Logistic')\n",
    "\n",
    "# plt.xlabel('False Positive Rate')\n",
    "# plt.ylabel('True Positive Rate')\n",
    "# plt.title('Logistic Regression ROC curve')\n",
    "\n",
    "# plt.legend();"
   ]
  },
  {
   "cell_type": "code",
   "execution_count": null,
   "id": "33143cb5-dbbb-42a2-a7ca-6eee3e0080b0",
   "metadata": {},
   "outputs": [],
   "source": []
  },
  {
   "cell_type": "code",
   "execution_count": null,
   "id": "9769399f-5ac6-47e8-a193-e8fcf546fd68",
   "metadata": {},
   "outputs": [],
   "source": []
  },
  {
   "cell_type": "code",
   "execution_count": null,
   "id": "a189fa77-3714-4b95-b678-fe2ab99a0b9f",
   "metadata": {},
   "outputs": [],
   "source": []
  },
  {
   "cell_type": "code",
   "execution_count": null,
   "id": "87d682ee-afa0-4f7a-87d1-6b1b567642de",
   "metadata": {},
   "outputs": [],
   "source": []
  },
  {
   "cell_type": "code",
   "execution_count": null,
   "id": "0d77938f-eaa8-46bf-b405-1f77cbacd8ba",
   "metadata": {},
   "outputs": [],
   "source": [
    "print(classification_report(y_test, rfc1_preds))"
   ]
  },
  {
   "cell_type": "code",
   "execution_count": null,
   "id": "7c4a22c4-a845-4a7d-b8da-1cc21831649b",
   "metadata": {},
   "outputs": [],
   "source": [
    "f1_score(y_test, rfc1_preds)"
   ]
  },
  {
   "cell_type": "code",
   "execution_count": null,
   "id": "4f8f7897-e57a-4d98-a422-9bc3509e1cce",
   "metadata": {},
   "outputs": [],
   "source": []
  },
  {
   "cell_type": "code",
   "execution_count": null,
   "id": "39d2e423-0c1e-4519-abae-d68989a245b5",
   "metadata": {},
   "outputs": [],
   "source": [
    "pipe_rfc = make_pipeline(\n",
    "    RandomOverSampler(random_state=53),\n",
    "    RandomForestClassifier()\n",
    ")\n",
    "    "
   ]
  },
  {
   "cell_type": "code",
   "execution_count": null,
   "id": "de4bb112-450d-4703-bc90-039b157aff5d",
   "metadata": {},
   "outputs": [],
   "source": [
    "#pipe_rfc.get_params()"
   ]
  },
  {
   "cell_type": "code",
   "execution_count": null,
   "id": "8732c3c7-3796-41ff-9e47-ad7beb028b2c",
   "metadata": {},
   "outputs": [],
   "source": [
    "params_rfc = {\n",
    "    'randomoversampler__sampling_strategy': [.1, .5],\n",
    "    #'randomforestclassifier__n_estimators': [1500, 2000],\n",
    "    #'randomforestclassifier__max_depth': [100, 200]\n",
    "}"
   ]
  },
  {
   "cell_type": "code",
   "execution_count": null,
   "id": "5f85991a-747c-41ac-acdc-aaae211d2c10",
   "metadata": {},
   "outputs": [],
   "source": [
    "gs_rfc = GridSearchCV(pipe_rfc, params_rfc, n_jobs=-1, verbose=1)"
   ]
  },
  {
   "cell_type": "code",
   "execution_count": null,
   "id": "2a75a5a4-3279-414b-b73e-39b6536a54d2",
   "metadata": {},
   "outputs": [],
   "source": [
    "#gs_rfc.fit(X_train_tf, y_train)"
   ]
  },
  {
   "cell_type": "code",
   "execution_count": null,
   "id": "d2b46366-d491-434e-bcc9-a431be9c803d",
   "metadata": {},
   "outputs": [],
   "source": [
    "gs_rfc.score(X_train_tf, y_train), gs_rfc.score(X_test_tf, y_test)"
   ]
  },
  {
   "cell_type": "code",
   "execution_count": null,
   "id": "7b857d4b-3c93-46ea-a4e4-a51b925073fd",
   "metadata": {},
   "outputs": [],
   "source": []
  },
  {
   "cell_type": "code",
   "execution_count": null,
   "id": "3c14768d-e214-46eb-8f25-c67aa227d11d",
   "metadata": {},
   "outputs": [],
   "source": []
  },
  {
   "cell_type": "code",
   "execution_count": null,
   "id": "4ebe22c2-aa85-4bb2-8541-9901d5b3a405",
   "metadata": {},
   "outputs": [],
   "source": [
    "#CountVectorizer\n",
    "rfc_tf = RandomForestClassifier()\n",
    "rfc_tf.fit(X_train_tf, y_train)\n",
    "rfc_tf.score(X_train_tf, y_train), rfc_tf.score(X_test_tf, y_test)"
   ]
  },
  {
   "cell_type": "code",
   "execution_count": null,
   "id": "8340d3c5-46a8-4040-9899-960176f2295a",
   "metadata": {},
   "outputs": [],
   "source": []
  },
  {
   "cell_type": "code",
   "execution_count": null,
   "id": "22252bf0-51d7-4188-be91-56abf86ac3b3",
   "metadata": {},
   "outputs": [],
   "source": []
  },
  {
   "cell_type": "code",
   "execution_count": null,
   "id": "d7a8bd18-92ef-41c2-b81d-57dc1db8520d",
   "metadata": {},
   "outputs": [],
   "source": []
  },
  {
   "cell_type": "code",
   "execution_count": null,
   "id": "feec1af7-6ce8-41aa-90f1-a0a60b7888a7",
   "metadata": {},
   "outputs": [],
   "source": [
    "balanced_accuracy_score(rfc_tf.predict(X_test_tf), y_test)"
   ]
  },
  {
   "cell_type": "code",
   "execution_count": null,
   "id": "1d2f65aa-8220-48a5-8e63-9d999691f87c",
   "metadata": {},
   "outputs": [],
   "source": []
  },
  {
   "cell_type": "code",
   "execution_count": null,
   "id": "605e156b-3ad4-4664-9d00-393351055e2a",
   "metadata": {},
   "outputs": [],
   "source": [
    "#TfidfVectorizer\n",
    "rfc_tf = RandomForestClassifier()\n",
    "rfc_tf.fit(X_train_tf, y_train)\n",
    "rfc_tf.score(X_train_tf, y_train), rfc_tf.score(X_test_tf, y_test)"
   ]
  },
  {
   "cell_type": "code",
   "execution_count": null,
   "id": "2e082e85-f3f1-4a09-aa4c-bf41dc826e71",
   "metadata": {},
   "outputs": [],
   "source": []
  },
  {
   "cell_type": "code",
   "execution_count": null,
   "id": "96a60470-c991-4549-9e9b-9b57a0b05b3e",
   "metadata": {},
   "outputs": [],
   "source": []
  },
  {
   "cell_type": "markdown",
   "id": "236c61fc-c5e8-49ac-a6b0-f177d30fd476",
   "metadata": {},
   "source": [
    "### Naive Bayes"
   ]
  },
  {
   "cell_type": "code",
   "execution_count": null,
   "id": "3b3f48be-3648-40d1-bd30-9b091a3bf30d",
   "metadata": {},
   "outputs": [],
   "source": [
    "pipe_nb = (\n",
    "    RandomOverSampler(random_state=53),\n",
    "    MultinomialNB()\n",
    ")\n",
    "    "
   ]
  },
  {
   "cell_type": "code",
   "execution_count": null,
   "id": "2b3ed2a3-03e3-41a7-ac19-242d5b968359",
   "metadata": {},
   "outputs": [],
   "source": [
    "pipe_nb = make_pipeline(\n",
    "    RandomOverSampler(random_state=53),\n",
    "    LogisticRegression(max_iter=5_000)\n",
    ")"
   ]
  },
  {
   "cell_type": "code",
   "execution_count": null,
   "id": "2d377780-d35d-4ae2-a200-e3c76d7ec801",
   "metadata": {},
   "outputs": [],
   "source": [
    "params_nb = {\n",
    "    'randomoversampler__sampling_strategy': [0.1, 0.5]\n",
    "}"
   ]
  },
  {
   "cell_type": "code",
   "execution_count": null,
   "id": "493cb650-a92e-46a7-b1db-71f297f26a42",
   "metadata": {},
   "outputs": [],
   "source": [
    "gs_nb = GridSearchCV(pipe_nb, params_nb, n_jobs=-1, verbose=1)"
   ]
  },
  {
   "cell_type": "code",
   "execution_count": null,
   "id": "730cf689-0792-40c2-8f9b-8385301751c0",
   "metadata": {},
   "outputs": [],
   "source": [
    "gs_nb.fit(X_train_tf, y_train)"
   ]
  },
  {
   "cell_type": "code",
   "execution_count": null,
   "id": "e06e4422-8b17-4103-8fab-17b9353817a4",
   "metadata": {},
   "outputs": [],
   "source": [
    "gs_nb.score(X_train_tf, y_train), gs_nb.score(X_test_tf, y_test)"
   ]
  },
  {
   "cell_type": "code",
   "execution_count": null,
   "id": "a419c358-be08-4234-b541-09e3a069eeca",
   "metadata": {},
   "outputs": [],
   "source": [
    "gs_nb.best_params_"
   ]
  },
  {
   "cell_type": "code",
   "execution_count": null,
   "id": "0f2aaa67-9b8f-47a3-8523-a5f840b8b8ed",
   "metadata": {},
   "outputs": [],
   "source": [
    "gs_nb.best_estimator_"
   ]
  },
  {
   "cell_type": "code",
   "execution_count": null,
   "id": "6fe4e98c-a278-4468-9525-46e13d141504",
   "metadata": {},
   "outputs": [],
   "source": []
  },
  {
   "cell_type": "code",
   "execution_count": null,
   "id": "f8db40ba-4b48-4705-98da-a10b39cf44e9",
   "metadata": {},
   "outputs": [],
   "source": []
  },
  {
   "cell_type": "code",
   "execution_count": null,
   "id": "4e2c041f-98b7-4f6d-badc-ab7197219573",
   "metadata": {
    "tags": []
   },
   "outputs": [],
   "source": [
    "nb = MultinomialNB()"
   ]
  },
  {
   "cell_type": "code",
   "execution_count": null,
   "id": "297483df-98ef-4bc0-afc1-dec09a3d7ffc",
   "metadata": {},
   "outputs": [],
   "source": [
    "nb.fit(X_train_ros1, y_train_ros1)"
   ]
  },
  {
   "cell_type": "code",
   "execution_count": null,
   "id": "7dd9061a-f298-4588-8162-dfac92f51f47",
   "metadata": {},
   "outputs": [],
   "source": []
  },
  {
   "cell_type": "code",
   "execution_count": null,
   "id": "c4dcf788-f0a9-48bf-aaa4-bff79808f038",
   "metadata": {},
   "outputs": [],
   "source": [
    "nb.score(X_train_ros1, y_train_ros1), nb.score(X_test_tf, y_test)"
   ]
  },
  {
   "cell_type": "code",
   "execution_count": null,
   "id": "e07495c1-a38b-4f13-b20b-9f15e6b1dc15",
   "metadata": {},
   "outputs": [],
   "source": [
    "nb_preds = nb.predict(X_test_tf)"
   ]
  },
  {
   "cell_type": "code",
   "execution_count": null,
   "id": "1f5e8e53-4427-4e03-b7d1-5aaa6f00041d",
   "metadata": {},
   "outputs": [],
   "source": [
    "print(classification_report(y_test, nb_preds))"
   ]
  },
  {
   "cell_type": "code",
   "execution_count": null,
   "id": "d4027728-ef15-44f8-b08e-a703031a44af",
   "metadata": {},
   "outputs": [],
   "source": [
    "f1_score(y_test, nb_preds)"
   ]
  },
  {
   "cell_type": "code",
   "execution_count": null,
   "id": "9b319899-8c7b-46cb-aeb8-2a5c24dcb679",
   "metadata": {},
   "outputs": [],
   "source": [
    "nb.feature_log_prob_[0]"
   ]
  },
  {
   "cell_type": "code",
   "execution_count": null,
   "id": "db9fdcbf-030d-46cf-a548-b50c1769156e",
   "metadata": {},
   "outputs": [],
   "source": []
  },
  {
   "cell_type": "code",
   "execution_count": null,
   "id": "a010946d-e651-4f2b-8ee5-0470a5f46fe7",
   "metadata": {},
   "outputs": [],
   "source": [
    "w_cv2 = cv2.fit_transform(w_df['title'])\n",
    "w_cv2_df = pd.DataFrame(w_cv2.A, columns=cv2.get_feature_names_out())"
   ]
  },
  {
   "cell_type": "code",
   "execution_count": null,
   "id": "25c492b1-f7fd-4ab5-a60f-262a686d6db3",
   "metadata": {},
   "outputs": [],
   "source": []
  },
  {
   "cell_type": "code",
   "execution_count": null,
   "id": "737f99ce-6dbf-4afd-820c-c7c96dbda4f1",
   "metadata": {},
   "outputs": [],
   "source": [
    "nb.feature_log_prob_[0]"
   ]
  },
  {
   "cell_type": "code",
   "execution_count": null,
   "id": "31ddf9cc-3f46-4f16-8a2a-5d4feccc0154",
   "metadata": {},
   "outputs": [],
   "source": []
  },
  {
   "cell_type": "code",
   "execution_count": null,
   "id": "03b332db-95f2-487b-8fdf-aad3da3a1a88",
   "metadata": {},
   "outputs": [],
   "source": []
  },
  {
   "cell_type": "markdown",
   "id": "c844e4f0-3dca-43a6-90b3-374033147d7e",
   "metadata": {},
   "source": [
    "### LogisticRegression"
   ]
  },
  {
   "cell_type": "code",
   "execution_count": null,
   "id": "3c40e5d0-5ea2-419a-a54a-b77b35b7c4d2",
   "metadata": {},
   "outputs": [],
   "source": []
  },
  {
   "cell_type": "code",
   "execution_count": null,
   "id": "7c51e567-4bfc-4251-90d2-6617ccfbd3f2",
   "metadata": {},
   "outputs": [],
   "source": []
  },
  {
   "cell_type": "code",
   "execution_count": null,
   "id": "c5766527-d5d0-4b4d-9ea2-6b6c592cbb4d",
   "metadata": {},
   "outputs": [],
   "source": []
  },
  {
   "cell_type": "markdown",
   "id": "18f3c96c-9e16-40c3-94eb-9bb28aea2346",
   "metadata": {
    "tags": []
   },
   "source": [
    "### ExtraTreesClassifier"
   ]
  },
  {
   "cell_type": "code",
   "execution_count": null,
   "id": "2c8bce32-d5dd-4336-bc56-e80ee1678247",
   "metadata": {},
   "outputs": [],
   "source": [
    "#CountVectorizer\n",
    "etc_cv = ExtraTreesClassifier()\n",
    "etc_cv.fit(X_train_cv, y_train)\n",
    "etc_cv.score(X_train_cv, y_train), etc_cv.score(X_test_cv, y_test)"
   ]
  },
  {
   "cell_type": "code",
   "execution_count": null,
   "id": "04e99a12-1929-4d93-8ef9-61d968ed99f2",
   "metadata": {},
   "outputs": [],
   "source": [
    "#TfidfVectorizer\n",
    "etc_tf = ExtraTreesClassifier()\n",
    "etc_tf.fit(X_train_tf, y_train)\n",
    "etc_tf.score(X_train_tf, y_train), etc_tf.score(X_test_tf, y_test)"
   ]
  },
  {
   "cell_type": "code",
   "execution_count": null,
   "id": "5ef52901-2aa7-4899-94b8-ea50b96407a2",
   "metadata": {},
   "outputs": [],
   "source": []
  },
  {
   "cell_type": "markdown",
   "id": "3eec7ad9-51a9-46c1-a640-2ce35f44c688",
   "metadata": {},
   "source": [
    "### K-Nearest Neighbors"
   ]
  },
  {
   "cell_type": "code",
   "execution_count": null,
   "id": "a95c422b-dd4d-4d5e-95bc-5e7cfa19fe40",
   "metadata": {},
   "outputs": [],
   "source": [
    "#CountVectorizer\n",
    "knn_cv = KNeighborsClassifier()\n",
    "knn_cv.fit(X_train_cv, y_train)\n",
    "knn_cv.score(X_train_cv, y_train), knn_cv.score(X_test_cv, y_test)"
   ]
  },
  {
   "cell_type": "code",
   "execution_count": null,
   "id": "ea33ee50-7903-4674-86cf-c7bc71df42f0",
   "metadata": {},
   "outputs": [],
   "source": [
    "#TfidfVectorizer\n",
    "knn_tf = KNeighborsClassifier()\n",
    "knn_tf.fit(X_train_tf, y_train)\n",
    "knn_tf.score(X_train_tf, y_train), knn_tf.score(X_test_tf, y_test)"
   ]
  },
  {
   "cell_type": "code",
   "execution_count": null,
   "id": "81f04ae3-9ae1-445e-9cb8-3fee82a618e8",
   "metadata": {},
   "outputs": [],
   "source": []
  },
  {
   "cell_type": "markdown",
   "id": "0c812ac2-d6c4-45fa-b63b-a662750d64d1",
   "metadata": {},
   "source": [
    "### Support Vector Classifier"
   ]
  },
  {
   "cell_type": "code",
   "execution_count": null,
   "id": "e12fbc50-f26a-4c08-b7f7-7a19db8f3103",
   "metadata": {},
   "outputs": [],
   "source": [
    "#countVectorizer\n",
    "svc_cv = SVC()\n",
    "svc_cv.fit(X_train_cv, y_train)\n",
    "svc_cv.score(X_train_cv, y_train), svc_cv.score(X_test_cv, y_test)"
   ]
  },
  {
   "cell_type": "code",
   "execution_count": null,
   "id": "e4fde0b6-a299-41dc-8074-b63665c8dc26",
   "metadata": {},
   "outputs": [],
   "source": [
    "#TfidfVectorizer\n",
    "svc_tf = SVC()\n",
    "svc_tf.fit(X_train_tf, y_train)\n",
    "svc_tf.score(X_train_tf, y_train), svc_tf.score(X_test_tf, y_test)"
   ]
  },
  {
   "cell_type": "code",
   "execution_count": null,
   "id": "6d0b139d-35db-4139-beb2-c52e1a401744",
   "metadata": {},
   "outputs": [],
   "source": []
  },
  {
   "cell_type": "code",
   "execution_count": null,
   "id": "3b7add87-f015-4f45-b8da-8debc8e8eb6f",
   "metadata": {},
   "outputs": [],
   "source": []
  },
  {
   "cell_type": "markdown",
   "id": "4cc06077-b612-4d7c-8848-a8b60ead0f2b",
   "metadata": {},
   "source": [
    "### Voting Classifier"
   ]
  },
  {
   "cell_type": "code",
   "execution_count": null,
   "id": "c30055af-978e-4118-bf60-4ccaac07cda3",
   "metadata": {},
   "outputs": [],
   "source": [
    "vc_cv = VotingClassifier([\n",
    "    ('knn', KNeighborsClassifier()),\n",
    "    ('lr', LogisticRegression()),\n",
    "    ('dtr', Dec"
   ]
  }
 ],
 "metadata": {
  "kernelspec": {
   "display_name": "Python 3 (ipykernel)",
   "language": "python",
   "name": "python3"
  },
  "language_info": {
   "codemirror_mode": {
    "name": "ipython",
    "version": 3
   },
   "file_extension": ".py",
   "mimetype": "text/x-python",
   "name": "python",
   "nbconvert_exporter": "python",
   "pygments_lexer": "ipython3",
   "version": "3.9.7"
  }
 },
 "nbformat": 4,
 "nbformat_minor": 5
}
