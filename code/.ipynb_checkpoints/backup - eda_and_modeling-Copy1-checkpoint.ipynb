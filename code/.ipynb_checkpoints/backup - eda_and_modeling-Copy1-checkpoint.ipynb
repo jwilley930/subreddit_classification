{
 "cells": [
  {
   "cell_type": "markdown",
   "id": "c4f0e54d-4a25-41de-a277-ad4c7c069bcb",
   "metadata": {},
   "source": [
    "### Import libraries"
   ]
  },
  {
   "cell_type": "code",
   "execution_count": 1,
   "id": "dd389093-a8eb-41f3-944e-b1c0d0d38a35",
   "metadata": {},
   "outputs": [],
   "source": [
    "import pandas as pd\n",
    "import numpy as np\n",
    "import matplotlib.pyplot as plt\n",
    "import seaborn as sns\n",
    "\n",
    "from sklearn.tree import DecisionTreeClassifier\n",
    "from sklearn.feature_extraction.text import CountVectorizer, TfidfVectorizer\n",
    "from sklearn.ensemble import BaggingClassifier, ExtraTreesClassifier, RandomForestClassifier,  VotingClassifier\n",
    "from sklearn.linear_model import LogisticRegression\n",
    "from sklearn.metrics import ConfusionMatrixDisplay, confusion_matrix, accuracy_score, balanced_accuracy_score\n",
    "from sklearn.metrics import recall_score, precision_score, f1_score, roc_curve, roc_auc_score, classification_report\n",
    "from sklearn.model_selection import cross_val_score, GridSearchCV, train_test_split\n",
    "from sklearn.neighbors import KNeighborsClassifier\n",
    "from sklearn.pipeline import Pipeline, make_pipeline\n",
    "from sklearn.svm import SVC\n",
    "from sklearn.naive_bayes import GaussianNB, MultinomialNB\n",
    "\n",
    "from imblearn.pipeline import make_pipeline\n",
    "from imblearn.over_sampling import RandomOverSampler, SMOTE, ADASYN\n",
    "\n",
    "from nltk import word_tokenize, WordNetLemmatizer\n",
    "\n",
    "#from sklearn.datasets import fetch_openml\n",
    "#from imblearn.datasets import make_imbalance\n",
    "# from nltk.stem import WordNetLemmatizer\n",
    "# from sklearn.tree import DecisionTreeClassifier"
   ]
  },
  {
   "cell_type": "code",
   "execution_count": null,
   "id": "033d12cb-bda2-4726-93da-024bf0cebd63",
   "metadata": {},
   "outputs": [],
   "source": []
  },
  {
   "cell_type": "code",
   "execution_count": 2,
   "id": "753eadc9-b46b-4b19-8eb4-0ae24c21d205",
   "metadata": {},
   "outputs": [],
   "source": [
    "# allow pandas to display all columns\n",
    "pd.set_option('display.max_columns', None)"
   ]
  },
  {
   "cell_type": "markdown",
   "id": "2ea945fa-a059-42fb-8f66-9378dc395539",
   "metadata": {},
   "source": [
    "### Import dataframes, pull needed data"
   ]
  },
  {
   "cell_type": "code",
   "execution_count": null,
   "id": "95236950-7393-40f6-bbb2-b966f9ba1e69",
   "metadata": {},
   "outputs": [],
   "source": [
    "ul_df = pd.read_csv('../data/upliftingnews_posts_dates.csv')\n",
    "ul_df.head(2)"
   ]
  },
  {
   "cell_type": "code",
   "execution_count": 6,
   "id": "1ba9c2bf-aeb1-43f3-8f2b-1763c3b42965",
   "metadata": {},
   "outputs": [],
   "source": [
    "# make subreddit name lowercase\n",
    "ul_df['subreddit'] = ul_df['subreddit'].str.lower()"
   ]
  },
  {
   "cell_type": "code",
   "execution_count": null,
   "id": "b3029ed0-68ab-4c68-b052-106e58f0d439",
   "metadata": {},
   "outputs": [],
   "source": [
    "w_df = pd.read_csv('../data/worldnews_posts_dates.csv')\n",
    "w_df.head(2)"
   ]
  },
  {
   "cell_type": "code",
   "execution_count": 7,
   "id": "82a17e7b-60e0-458b-aff4-d32b96ab0132",
   "metadata": {},
   "outputs": [],
   "source": [
    "# combine subreddit dataframes with the columns I plan to use\n",
    "df = pd.concat([ul_df[['title', 'subreddit']], w_df[['title', 'subreddit']]])"
   ]
  },
  {
   "cell_type": "code",
   "execution_count": 8,
   "id": "f2e7588e-89da-4595-87ba-885f6a5b8556",
   "metadata": {},
   "outputs": [
    {
     "data": {
      "text/plain": [
       "((3998, 6), (51718, 6), (55716, 2))"
      ]
     },
     "execution_count": 8,
     "metadata": {},
     "output_type": "execute_result"
    }
   ],
   "source": [
    "ul_df.shape, w_df.shape, df.shape"
   ]
  },
  {
   "cell_type": "code",
   "execution_count": null,
   "id": "48528227-4f91-40e1-9d5e-2ac28ed6039e",
   "metadata": {},
   "outputs": [],
   "source": []
  },
  {
   "cell_type": "markdown",
   "id": "36f7421a-c547-468e-890f-d494113cca79",
   "metadata": {},
   "source": [
    "### Preprocessing of dataframe"
   ]
  },
  {
   "cell_type": "code",
   "execution_count": 9,
   "id": "d4e4eaa2-de4c-41db-9ff9-38a1a257947e",
   "metadata": {},
   "outputs": [],
   "source": [
    "df = df.reset_index().drop(columns='index')"
   ]
  },
  {
   "cell_type": "code",
   "execution_count": 10,
   "id": "9775084f-9c6d-4557-9431-b644217a7446",
   "metadata": {},
   "outputs": [
    {
     "data": {
      "text/html": [
       "<div>\n",
       "<style scoped>\n",
       "    .dataframe tbody tr th:only-of-type {\n",
       "        vertical-align: middle;\n",
       "    }\n",
       "\n",
       "    .dataframe tbody tr th {\n",
       "        vertical-align: top;\n",
       "    }\n",
       "\n",
       "    .dataframe thead th {\n",
       "        text-align: right;\n",
       "    }\n",
       "</style>\n",
       "<table border=\"1\" class=\"dataframe\">\n",
       "  <thead>\n",
       "    <tr style=\"text-align: right;\">\n",
       "      <th></th>\n",
       "      <th>title</th>\n",
       "      <th>subreddit</th>\n",
       "    </tr>\n",
       "  </thead>\n",
       "  <tbody>\n",
       "    <tr>\n",
       "      <th>0</th>\n",
       "      <td>Cover Tribute to ED SHEERAN: \"The Joker And Th...</td>\n",
       "      <td>upliftingnews</td>\n",
       "    </tr>\n",
       "    <tr>\n",
       "      <th>1</th>\n",
       "      <td>California man arrested and charged after maki...</td>\n",
       "      <td>upliftingnews</td>\n",
       "    </tr>\n",
       "    <tr>\n",
       "      <th>2</th>\n",
       "      <td>Giving a stranger a new life: One student's st...</td>\n",
       "      <td>upliftingnews</td>\n",
       "    </tr>\n",
       "    <tr>\n",
       "      <th>3</th>\n",
       "      <td>Black woman named valedictorian nearly 40 year...</td>\n",
       "      <td>upliftingnews</td>\n",
       "    </tr>\n",
       "    <tr>\n",
       "      <th>4</th>\n",
       "      <td>ByteFence Crack 5.7.1.0 With License Key Free ...</td>\n",
       "      <td>upliftingnews</td>\n",
       "    </tr>\n",
       "    <tr>\n",
       "      <th>...</th>\n",
       "      <td>...</td>\n",
       "      <td>...</td>\n",
       "    </tr>\n",
       "    <tr>\n",
       "      <th>55711</th>\n",
       "      <td>U.S. corporations suspend business in Russia, ...</td>\n",
       "      <td>worldnews</td>\n",
       "    </tr>\n",
       "    <tr>\n",
       "      <th>55712</th>\n",
       "      <td>Putin speaks about Nato expansion.</td>\n",
       "      <td>worldnews</td>\n",
       "    </tr>\n",
       "    <tr>\n",
       "      <th>55713</th>\n",
       "      <td>Ukraine's ambassador to U.S. says Russia used ...</td>\n",
       "      <td>worldnews</td>\n",
       "    </tr>\n",
       "    <tr>\n",
       "      <th>55714</th>\n",
       "      <td>Russia has used vacuum bomb, says Ukraine envoy</td>\n",
       "      <td>worldnews</td>\n",
       "    </tr>\n",
       "    <tr>\n",
       "      <th>55715</th>\n",
       "      <td>‘The damage is done’: Russians face economic p...</td>\n",
       "      <td>worldnews</td>\n",
       "    </tr>\n",
       "  </tbody>\n",
       "</table>\n",
       "<p>55716 rows × 2 columns</p>\n",
       "</div>"
      ],
      "text/plain": [
       "                                                   title      subreddit\n",
       "0      Cover Tribute to ED SHEERAN: \"The Joker And Th...  upliftingnews\n",
       "1      California man arrested and charged after maki...  upliftingnews\n",
       "2      Giving a stranger a new life: One student's st...  upliftingnews\n",
       "3      Black woman named valedictorian nearly 40 year...  upliftingnews\n",
       "4      ByteFence Crack 5.7.1.0 With License Key Free ...  upliftingnews\n",
       "...                                                  ...            ...\n",
       "55711  U.S. corporations suspend business in Russia, ...      worldnews\n",
       "55712                 Putin speaks about Nato expansion.      worldnews\n",
       "55713  Ukraine's ambassador to U.S. says Russia used ...      worldnews\n",
       "55714    Russia has used vacuum bomb, says Ukraine envoy      worldnews\n",
       "55715  ‘The damage is done’: Russians face economic p...      worldnews\n",
       "\n",
       "[55716 rows x 2 columns]"
      ]
     },
     "execution_count": 10,
     "metadata": {},
     "output_type": "execute_result"
    }
   ],
   "source": [
    "df"
   ]
  },
  {
   "cell_type": "code",
   "execution_count": 12,
   "id": "bd0c5901-8a0a-4ecc-a227-7dbb7ee31704",
   "metadata": {},
   "outputs": [],
   "source": [
    "#Remove non-english words\n",
    "df.replace({r'[^\\x00-\\x7F]+':''}, regex=True, inplace=True)"
   ]
  },
  {
   "cell_type": "code",
   "execution_count": 13,
   "id": "f1edf655-8ea4-4789-84a1-4dae5b33027b",
   "metadata": {},
   "outputs": [],
   "source": [
    "#Remove punctuation\n",
    "df.title = df.title.str.replace('[^\\w\\s]','', regex=True)"
   ]
  },
  {
   "cell_type": "code",
   "execution_count": 66,
   "id": "008677db-9d43-46f8-bb4b-bd61727aa942",
   "metadata": {},
   "outputs": [
    {
     "data": {
      "text/html": [
       "<div>\n",
       "<style scoped>\n",
       "    .dataframe tbody tr th:only-of-type {\n",
       "        vertical-align: middle;\n",
       "    }\n",
       "\n",
       "    .dataframe tbody tr th {\n",
       "        vertical-align: top;\n",
       "    }\n",
       "\n",
       "    .dataframe thead th {\n",
       "        text-align: right;\n",
       "    }\n",
       "</style>\n",
       "<table border=\"1\" class=\"dataframe\">\n",
       "  <thead>\n",
       "    <tr style=\"text-align: right;\">\n",
       "      <th></th>\n",
       "      <th>title</th>\n",
       "      <th>subreddit</th>\n",
       "    </tr>\n",
       "  </thead>\n",
       "  <tbody>\n",
       "    <tr>\n",
       "      <th>0</th>\n",
       "      <td>Cover Tribute to ED SHEERAN The Joker And The ...</td>\n",
       "      <td>1</td>\n",
       "    </tr>\n",
       "    <tr>\n",
       "      <th>1</th>\n",
       "      <td>California man arrested and charged after maki...</td>\n",
       "      <td>1</td>\n",
       "    </tr>\n",
       "  </tbody>\n",
       "</table>\n",
       "</div>"
      ],
      "text/plain": [
       "                                               title  subreddit\n",
       "0  Cover Tribute to ED SHEERAN The Joker And The ...          1\n",
       "1  California man arrested and charged after maki...          1"
      ]
     },
     "execution_count": 66,
     "metadata": {},
     "output_type": "execute_result"
    }
   ],
   "source": [
    "df.head(2)"
   ]
  },
  {
   "cell_type": "code",
   "execution_count": 68,
   "id": "390cbb5e-2295-4221-b986-34820c5fb054",
   "metadata": {},
   "outputs": [
    {
     "data": {
      "text/plain": [
       "0    51718\n",
       "1     3998\n",
       "Name: subreddit, dtype: int64"
      ]
     },
     "execution_count": 68,
     "metadata": {},
     "output_type": "execute_result"
    }
   ],
   "source": [
    "df['subreddit'] = df['subreddit'].replace(['worldnews','upliftingnews'],[0,1])\n",
    "df['subreddit'].value_counts()"
   ]
  },
  {
   "cell_type": "code",
   "execution_count": null,
   "id": "be278f7d-71db-4eae-98e4-bee17e4bc41c",
   "metadata": {},
   "outputs": [],
   "source": []
  },
  {
   "cell_type": "markdown",
   "id": "b4a2d1b8-19db-4138-8abd-c4b7182a8d41",
   "metadata": {},
   "source": [
    "## EDA"
   ]
  },
  {
   "cell_type": "code",
   "execution_count": 71,
   "id": "704c01e0-627e-4bfb-8cbb-4856c1524b0f",
   "metadata": {},
   "outputs": [
    {
     "data": {
      "text/html": [
       "<div>\n",
       "<style scoped>\n",
       "    .dataframe tbody tr th:only-of-type {\n",
       "        vertical-align: middle;\n",
       "    }\n",
       "\n",
       "    .dataframe tbody tr th {\n",
       "        vertical-align: top;\n",
       "    }\n",
       "\n",
       "    .dataframe thead th {\n",
       "        text-align: right;\n",
       "    }\n",
       "</style>\n",
       "<table border=\"1\" class=\"dataframe\">\n",
       "  <thead>\n",
       "    <tr style=\"text-align: right;\">\n",
       "      <th></th>\n",
       "      <th>subreddit</th>\n",
       "      <th>total_posts</th>\n",
       "    </tr>\n",
       "  </thead>\n",
       "  <tbody>\n",
       "    <tr>\n",
       "      <th>0</th>\n",
       "      <td>worldnews</td>\n",
       "      <td>51718</td>\n",
       "    </tr>\n",
       "    <tr>\n",
       "      <th>1</th>\n",
       "      <td>upliftingnews</td>\n",
       "      <td>3998</td>\n",
       "    </tr>\n",
       "  </tbody>\n",
       "</table>\n",
       "</div>"
      ],
      "text/plain": [
       "       subreddit  total_posts\n",
       "0      worldnews        51718\n",
       "1  upliftingnews         3998"
      ]
     },
     "execution_count": 71,
     "metadata": {},
     "output_type": "execute_result"
    }
   ],
   "source": [
    "# Creating columns to graph total number of posts\n",
    "post_num = pd.DataFrame(df['subreddit'].value_counts())\n",
    "post_num.reset_index(inplace=True)\n",
    "post_num.columns = ['subreddit', 'total_posts']\n",
    "post_num['subreddit'] = post_num['subreddit'].replace([0,1], ['worldnews', 'upliftingnews'])\n",
    "post_num"
   ]
  },
  {
   "cell_type": "code",
   "execution_count": 73,
   "id": "80ae0992-7870-4ac1-a8f4-0a8d5999b1b0",
   "metadata": {},
   "outputs": [
    {
     "name": "stdout",
     "output_type": "stream",
     "text": [
      "       subreddit  total_posts\n",
      "0      worldnews        51718\n",
      "1  upliftingnews         3998\n"
     ]
    },
    {
     "data": {
      "image/png": "[encoded data removed]",
      "text/plain": [
       "<Figure size 432x288 with 1 Axes>"
      ]
     },
     "metadata": {
      "needs_background": "light"
     },
     "output_type": "display_data"
    }
   ],
   "source": [
    "plt.bar(post_num['subreddit'], post_num['total_posts'])\n",
    "plt.title('Total posts per subreddit')\n",
    "plt.xlabel('Subreddit')\n",
    "plt.ylabel('Total Posts');\n",
    "print(post_num)"
   ]
  },
  {
   "cell_type": "code",
   "execution_count": null,
   "id": "e049c6cf-91d3-4b75-b728-15a66593d26e",
   "metadata": {},
   "outputs": [],
   "source": []
  },
  {
   "cell_type": "markdown",
   "id": "3810ce85-83ee-4a17-9eec-28804edc7a23",
   "metadata": {},
   "source": [
    "#### Preparing/Vectorizing to get count of 20 most common words and bigrams from each subreddit's titles"
   ]
  },
  {
   "cell_type": "code",
   "execution_count": 24,
   "id": "d78cd008-30d2-45bd-8ef6-29e245f82c16",
   "metadata": {},
   "outputs": [],
   "source": [
    "# prep of upliftingnews dataframe\n",
    "ul_df = ul_df.drop(columns = ['author', 'created_utc', 'domain', 'url'])\n",
    "ul_df.replace({r'[^\\x00-\\x7F]+':''}, regex=True, inplace=True)\n",
    "ul_df.title = df.title.str.replace('[^\\w\\s]','', regex=True)"
   ]
  },
  {
   "cell_type": "code",
   "execution_count": 26,
   "id": "33c58d0d-3c06-476c-aada-8a310654ea72",
   "metadata": {},
   "outputs": [],
   "source": [
    "# prep of worldnews dataframe\n",
    "w_df = w_df.drop(columns = ['author', 'created_utc', 'domain', 'url'])\n",
    "w_df.replace({r'[^\\x00-\\x7F]+':''}, regex=True, inplace=True)\n",
    "w_df.title = df.title.str.replace('[^\\w\\s]','', regex=True)"
   ]
  },
  {
   "cell_type": "code",
   "execution_count": null,
   "id": "4ab6527a-0178-4e27-baa5-05f0ba274ad1",
   "metadata": {},
   "outputs": [],
   "source": []
  },
  {
   "cell_type": "code",
   "execution_count": null,
   "id": "a476608e-c915-4f7c-b82d-92377db90676",
   "metadata": {},
   "outputs": [],
   "source": [
    "# instantiate CountVectorize\n",
    "cv = CountVectorizer(stop_words='english', min_df=3)"
   ]
  },
  {
   "cell_type": "code",
   "execution_count": null,
   "id": "e6efec9b-834a-4123-a8c0-ad349a47ac7f",
   "metadata": {},
   "outputs": [],
   "source": [
    "# CountVectorize of full dataframe\n",
    "df_cv = cv.fit_transform(df['title'])\n",
    "df_cv_df = pd.DataFrame(df_cv.A, columns=cv.get_feature_names_out())"
   ]
  },
  {
   "cell_type": "code",
   "execution_count": 32,
   "id": "563df8f1-38ca-43e7-b281-50810bcce313",
   "metadata": {},
   "outputs": [],
   "source": [
    "# CV of upliftingnews df\n",
    "ul_cv = cv.fit_transform(ul_df['title'])\n",
    "ul_cv_df = pd.DataFrame(ul_cv.A, columns=cv.get_feature_names_out())"
   ]
  },
  {
   "cell_type": "code",
   "execution_count": 35,
   "id": "47225cb8-b757-4472-98b0-aa3d21040b32",
   "metadata": {},
   "outputs": [],
   "source": [
    "# CV of worldnews df\n",
    "w_cv = cv.fit_transform(w_df['title'])\n",
    "w_cv_df = pd.DataFrame(w_cv.A, columns=cv.get_feature_names_out())"
   ]
  },
  {
   "cell_type": "code",
   "execution_count": 75,
   "id": "a84c839b-6fc6-4816-8e9a-d7fca21a9fe1",
   "metadata": {
    "tags": []
   },
   "outputs": [
    {
     "data": {
      "text/plain": [
       "ukraine      635\n",
       "russian      419\n",
       "russia       287\n",
       "ukrainian    247\n",
       "new          181\n",
       "war          174\n",
       "people       131\n",
       "region       104\n",
       "military      95\n",
       "says          94\n",
       "million       93\n",
       "help          92\n",
       "world         85\n",
       "years         72\n",
       "said          68\n",
       "refugees      66\n",
       "putin         65\n",
       "news          65\n",
       "kyiv          64\n",
       "minister      61\n",
       "dtype: int64"
      ]
     },
     "execution_count": 75,
     "metadata": {},
     "output_type": "execute_result"
    }
   ],
   "source": [
    "#Top 20 words in 'upliftingnews'\n",
    "ul_top20 = ul_cv_df.sum().sort_values(ascending=False).head(20)\n",
    "ul_top20 "
   ]
  },
  {
   "cell_type": "code",
   "execution_count": 76,
   "id": "7b033334-cd7f-495d-ba39-6d6010a95ddd",
   "metadata": {},
   "outputs": [
    {
     "data": {
      "text/plain": [
       "ukraine      12597\n",
       "russian       8849\n",
       "russia        8454\n",
       "says          4812\n",
       "war           4735\n",
       "putin         3032\n",
       "ukrainian     2994\n",
       "new           1883\n",
       "china         1611\n",
       "news          1596\n",
       "russias       1548\n",
       "sanctions     1520\n",
       "invasion      1475\n",
       "military      1249\n",
       "mariupol      1222\n",
       "india         1199\n",
       "nato          1185\n",
       "world         1167\n",
       "oil           1150\n",
       "nuclear       1139\n",
       "dtype: int64"
      ]
     },
     "execution_count": 76,
     "metadata": {},
     "output_type": "execute_result"
    }
   ],
   "source": [
    "#Top 20 words in 'worldnews'\n",
    "w_top20 = w_cv_df.sum().sort_values(ascending=False).head(20)\n",
    "w_top20"
   ]
  },
  {
   "cell_type": "code",
   "execution_count": 45,
   "id": "001a2402-b621-4846-8db3-c609e699de1b",
   "metadata": {},
   "outputs": [],
   "source": [
    "w20df=pd.DataFrame(w_top20)\n",
    "ul20df=pd.DataFrame(ul_top20)"
   ]
  },
  {
   "cell_type": "code",
   "execution_count": 47,
   "id": "c96a8c90-4bdc-4e81-a506-ee1106bf8950",
   "metadata": {},
   "outputs": [],
   "source": [
    "w20df.reset_index(inplace=True)\n",
    "ul20df.reset_index(inplace=True)"
   ]
  },
  {
   "cell_type": "code",
   "execution_count": 50,
   "id": "1a2077ec-29de-415a-938e-597fda5c0446",
   "metadata": {},
   "outputs": [],
   "source": [
    "w20df.columns=['word', 'count']\n",
    "ul20df.columns=['word', 'count']"
   ]
  },
  {
   "cell_type": "code",
   "execution_count": 53,
   "id": "53b7c745-fcd2-49e4-b086-dc2a6f2063c4",
   "metadata": {},
   "outputs": [
    {
     "data": {
      "image/png": "[encoded data removed]",
      "text/plain": [
       "<Figure size 1080x504 with 2 Axes>"
      ]
     },
     "metadata": {
      "needs_background": "light"
     },
     "output_type": "display_data"
    }
   ],
   "source": [
    "#plot top 20 words of each subreddit\n",
    "fig, axes = plt.subplots(1, 2, figsize=(15, 7))\n",
    "\n",
    "plt.subplot(1, 2, 1)\n",
    "plt.barh(w20df['word'], w20df['count'])\n",
    "plt.gca().invert_yaxis()\n",
    "plt.title('Top 20 words in WorldNews subreddit')\n",
    "plt.xlabel('Total occurences')\n",
    "\n",
    "plt.subplot(1, 2, 2)\n",
    "plt.barh(ul20df['word'], ul20df['count'])\n",
    "plt.gca().invert_yaxis()\n",
    "plt.title('Top 20 words in UpliftingNews subreddit')\n",
    "plt.xlabel('Total occurences');\n",
    "fig.tight_layout() \n",
    "plt.show();"
   ]
  },
  {
   "cell_type": "code",
   "execution_count": null,
   "id": "8add79d1-2695-45ab-ac59-4d240b2f2097",
   "metadata": {},
   "outputs": [],
   "source": []
  },
  {
   "cell_type": "code",
   "execution_count": 77,
   "id": "1da8d02d-f043-40d7-9a88-a6321053f845",
   "metadata": {},
   "outputs": [],
   "source": [
    "# CV for bigrams\n",
    "cv2 = CountVectorizer(ngram_range=(2,2), stop_words='english', min_df=3)"
   ]
  },
  {
   "cell_type": "code",
   "execution_count": 78,
   "id": "34a5facd-5517-4e6d-8eab-55fb307d53b8",
   "metadata": {},
   "outputs": [],
   "source": [
    "ul_cv2 = cv2.fit_transform(ul_df['title'])\n",
    "ul_cv2_df = pd.DataFrame(ul_cv2.A, columns=cv2.get_feature_names_out())"
   ]
  },
  {
   "cell_type": "code",
   "execution_count": 79,
   "id": "92d0dfb7-ecc4-42b4-978e-58c1436d28ec",
   "metadata": {},
   "outputs": [],
   "source": [
    "w_cv2 = cv2.fit_transform(w_df['title'])\n",
    "w_cv2_df = pd.DataFrame(w_cv2.A, columns=cv2.get_feature_names_out())"
   ]
  },
  {
   "cell_type": "code",
   "execution_count": 80,
   "id": "71392d3b-c9b3-4792-a53d-6a3cfafa5a62",
   "metadata": {},
   "outputs": [],
   "source": [
    "ul_top20_2 = ul_cv2_df.sum().sort_values(ascending=False).head(20)"
   ]
  },
  {
   "cell_type": "code",
   "execution_count": 81,
   "id": "b29f677d-8cf4-43f9-a0f2-7ee5a3f50eaf",
   "metadata": {},
   "outputs": [],
   "source": [
    "w_top20_2 = w_cv2_df.sum().sort_values(ascending=False).head(20)"
   ]
  },
  {
   "cell_type": "code",
   "execution_count": 82,
   "id": "b15143ec-1a7b-46d3-a2f2-ea2dfaf36576",
   "metadata": {},
   "outputs": [],
   "source": [
    "w20df2=pd.DataFrame(w_top20_2)\n",
    "ul20df2=pd.DataFrame(ul_top20_2)"
   ]
  },
  {
   "cell_type": "code",
   "execution_count": 83,
   "id": "ac193d08-aeb5-4fab-aee1-c5ebbea77730",
   "metadata": {},
   "outputs": [],
   "source": [
    "w20df2.reset_index(inplace=True)\n",
    "ul20df2.reset_index(inplace=True)"
   ]
  },
  {
   "cell_type": "code",
   "execution_count": 84,
   "id": "e3239341-fa06-4259-be1d-348777f60f12",
   "metadata": {},
   "outputs": [],
   "source": [
    "w20df2.columns=['word', 'count']\n",
    "ul20df2.columns=['word', 'count']"
   ]
  },
  {
   "cell_type": "code",
   "execution_count": 85,
   "id": "4d6f508b-eacd-4f43-b77c-0383162088fc",
   "metadata": {},
   "outputs": [
    {
     "data": {
      "image/png": "[encoded data removed]",
      "text/plain": [
       "<Figure size 1080x504 with 2 Axes>"
      ]
     },
     "metadata": {
      "needs_background": "light"
     },
     "output_type": "display_data"
    }
   ],
   "source": [
    "# plotting top 20 bigrams for each subreddit\n",
    "fig, axes = plt.subplots(1, 2, figsize=(15, 7))\n",
    "\n",
    "plt.subplot(1, 2, 1)\n",
    "plt.barh(w20df2['word'], w20df2['count'])\n",
    "plt.gca().invert_yaxis()\n",
    "plt.title('Top 20 word-pairings in WorldNews subreddit')\n",
    "plt.xlabel('Total occurences')\n",
    "\n",
    "plt.subplot(1, 2, 2)\n",
    "plt.barh(ul20df2['word'], ul20df2['count'])\n",
    "plt.gca().invert_yaxis()\n",
    "plt.title('Top 20 word-pairings in UpliftingNews subreddit')\n",
    "plt.xlabel('Total occurences')\n",
    "\n",
    "fig.tight_layout() \n",
    "plt.show();"
   ]
  },
  {
   "cell_type": "code",
   "execution_count": null,
   "id": "35654eaa-99c6-4c6c-968a-d27ef2439557",
   "metadata": {},
   "outputs": [],
   "source": []
  },
  {
   "cell_type": "code",
   "execution_count": null,
   "id": "9abc21f0-7df9-41b0-94ed-6ba4b9262207",
   "metadata": {},
   "outputs": [],
   "source": []
  },
  {
   "cell_type": "code",
   "execution_count": null,
   "id": "01ba0645-dc84-4025-b53d-607614b73775",
   "metadata": {},
   "outputs": [],
   "source": []
  },
  {
   "cell_type": "code",
   "execution_count": 55,
   "id": "afb3668f-1037-4da0-aa50-7c5ae69ee7ca",
   "metadata": {},
   "outputs": [],
   "source": [
    "# Visualize top 20 in each subreddit"
   ]
  },
  {
   "cell_type": "code",
   "execution_count": null,
   "id": "f4d0e3de-821b-4cdf-9af8-0e77e45c380d",
   "metadata": {},
   "outputs": [],
   "source": []
  },
  {
   "cell_type": "code",
   "execution_count": null,
   "id": "2fc8bc72-1f39-4d6f-b90e-85b16b98648f",
   "metadata": {},
   "outputs": [],
   "source": []
  },
  {
   "cell_type": "code",
   "execution_count": null,
   "id": "c677a0a8-dbe1-41ee-b96f-ccb36a41cbf7",
   "metadata": {},
   "outputs": [],
   "source": []
  },
  {
   "cell_type": "code",
   "execution_count": 56,
   "id": "88c44319-96bd-4cc3-b9d0-eb8eb7c8e848",
   "metadata": {},
   "outputs": [],
   "source": [
    "#lemmatize\n",
    "def lemma_tokenizer(doc):\n",
    "    wnl = WordNetLemmatizer()\n",
    "    return [wnl.lemmatize(w) for w in word_tokenize(doc)]\n",
    "class LemmaTokenizer():\n",
    "    def __init__(self):\n",
    "        self.wnl = WordNetLemmatizer()\n",
    "    def __call__(self, doc):\n",
    "        return [self.wnl.lemmatize(t) for t in word_tokenize(doc)]"
   ]
  },
  {
   "cell_type": "code",
   "execution_count": 57,
   "id": "7fb6196b-1270-4324-b0e9-ee1fb2df5f48",
   "metadata": {},
   "outputs": [
    {
     "name": "stderr",
     "output_type": "stream",
     "text": [
      "C:\\Users\\jswil\\anaconda3\\lib\\site-packages\\sklearn\\feature_extraction\\text.py:396: UserWarning: Your stop_words may be inconsistent with your preprocessing. Tokenizing the stop words generated tokens ['ha', 'le', 'u', 'wa'] not in stop_words.\n",
      "  warnings.warn(\n"
     ]
    }
   ],
   "source": [
    "cv_lem = TfidfVectorizer(tokenizer=lemma_tokenizer, stop_words='english')\n",
    "\n",
    "ul_cv_lem = cv_lem.fit_transform(ul_df['title'])\n",
    "ul_cv_df_lem = pd.DataFrame(ul_cv_lem.A, columns=cv_lem.get_feature_names_out())\n",
    "\n",
    "w_cv_lem = cv_lem.fit_transform(w_df['title'])\n",
    "w_cv_df_lem = pd.DataFrame(w_cv_lem.A, columns=cv_lem.get_feature_names_out())"
   ]
  },
  {
   "cell_type": "code",
   "execution_count": 58,
   "id": "33cdcac1-4540-4f50-b62f-6939768f9616",
   "metadata": {},
   "outputs": [
    {
     "data": {
      "text/plain": [
       "((3998, 8936), (51718, 30086))"
      ]
     },
     "execution_count": 58,
     "metadata": {},
     "output_type": "execute_result"
    }
   ],
   "source": [
    "ul_cv_df_lem.shape, w_cv_df_lem.shape"
   ]
  },
  {
   "cell_type": "code",
   "execution_count": 59,
   "id": "2ffca567-fdf5-4f8a-8687-d35674a1e8cc",
   "metadata": {},
   "outputs": [
    {
     "data": {
      "text/plain": [
       "ukraine      97.968513\n",
       "russian      68.381263\n",
       "russia       62.681388\n",
       "ukrainian    51.664820\n",
       "war          36.877733\n",
       "new          36.556795\n",
       "u            35.016934\n",
       "ha           31.427231\n",
       "world        28.444846\n",
       "say          27.845943\n",
       "people       26.251279\n",
       "help         24.063841\n",
       "putin        23.331321\n",
       "year         22.988919\n",
       "million      22.745029\n",
       "wa           22.590279\n",
       "need         22.291407\n",
       "region       21.139136\n",
       "refugee      19.220639\n",
       "sfgsdfg      19.000000\n",
       "dtype: float64"
      ]
     },
     "execution_count": 59,
     "metadata": {},
     "output_type": "execute_result"
    }
   ],
   "source": [
    "#Top 20 words in 'upliftingnews'\n",
    "ul_cv_df_lem.sum().sort_values(ascending=False).head(20)"
   ]
  },
  {
   "cell_type": "code",
   "execution_count": null,
   "id": "1ecbc59a-0931-4f81-80d5-c2be4d0892f0",
   "metadata": {},
   "outputs": [],
   "source": []
  },
  {
   "cell_type": "code",
   "execution_count": 60,
   "id": "529fc883-32cd-471a-94ec-b4a0f80e048a",
   "metadata": {},
   "outputs": [
    {
     "data": {
      "text/plain": [
       "ukraine      1766.299085\n",
       "russia       1468.378288\n",
       "russian      1362.764648\n",
       "say           949.082604\n",
       "war           898.106276\n",
       "putin         763.566748\n",
       "u             733.428248\n",
       "ukrainian     679.305293\n",
       "china         435.426458\n",
       "new           402.246851\n",
       "sanction      386.130036\n",
       "ha            376.929879\n",
       "news          355.960255\n",
       "invasion      354.163569\n",
       "world         323.766913\n",
       "mariupol      315.634911\n",
       "attack        315.302593\n",
       "nato          314.255733\n",
       "india         308.950338\n",
       "military      300.469308\n",
       "dtype: float64"
      ]
     },
     "execution_count": 60,
     "metadata": {},
     "output_type": "execute_result"
    }
   ],
   "source": [
    "#Top 20 words in 'worldnews'\n",
    "w_cv_df_lem.sum().sort_values(ascending=False).head(20)"
   ]
  },
  {
   "cell_type": "markdown",
   "id": "08635176-33eb-4a59-a6b6-37e26c8d2634",
   "metadata": {},
   "source": [
    "### Distribution of Word Counts Visualization"
   ]
  },
  {
   "cell_type": "code",
   "execution_count": 61,
   "id": "703d3caa-7216-4335-93b6-68fa209440f9",
   "metadata": {},
   "outputs": [],
   "source": [
    "ul = df[df['subreddit'] == 'upliftingnews']\n",
    "wn = df[df['subreddit'] == 'worldnews']"
   ]
  },
  {
   "cell_type": "code",
   "execution_count": 62,
   "id": "14d7c5fe-209f-4f1c-8418-25ebaf5a50c0",
   "metadata": {},
   "outputs": [],
   "source": [
    "# visualizing unigrams\n",
    "def get_top_n_unigram(corpus, n=None):\n",
    "    \"\"\"\n",
    "    List the top n unigram according to its occurrence in a text corpus.\n",
    "    \"\"\"\n",
    "\n",
    "    vec = CountVectorizer(stop_words = stopwords).fit(corpus)\n",
    "    bag_of_words = vec.transform(corpus)\n",
    "    sum_words = bag_of_words.sum(axis=0) \n",
    "    words_freq = [(word, sum_words[0, idx]) for word, idx in vec.vocabulary_.items()]\n",
    "    words_freq =sorted(words_freq, key = lambda x: x[1], reverse=True)\n",
    "    return words_freq[:n]"
   ]
  },
  {
   "cell_type": "code",
   "execution_count": 63,
   "id": "bc02f089-31fa-4d60-ba2a-c8d6943c4481",
   "metadata": {},
   "outputs": [],
   "source": [
    "ul_top20 = ul_cv_df_lem.sum().sort_values(ascending=False).head(20)\n",
    "w_top20 = w_cv_df_lem.sum().sort_values(ascending=False).head(20)"
   ]
  },
  {
   "cell_type": "code",
   "execution_count": 64,
   "id": "f364b831-4890-49be-acd7-8577703827b3",
   "metadata": {},
   "outputs": [
    {
     "data": {
      "text/plain": [
       "ukraine      97.968513\n",
       "russian      68.381263\n",
       "russia       62.681388\n",
       "ukrainian    51.664820\n",
       "war          36.877733\n",
       "new          36.556795\n",
       "u            35.016934\n",
       "ha           31.427231\n",
       "world        28.444846\n",
       "say          27.845943\n",
       "people       26.251279\n",
       "help         24.063841\n",
       "putin        23.331321\n",
       "year         22.988919\n",
       "million      22.745029\n",
       "wa           22.590279\n",
       "need         22.291407\n",
       "region       21.139136\n",
       "refugee      19.220639\n",
       "sfgsdfg      19.000000\n",
       "dtype: float64"
      ]
     },
     "execution_count": 64,
     "metadata": {},
     "output_type": "execute_result"
    }
   ],
   "source": [
    "(ul_top20)"
   ]
  },
  {
   "cell_type": "code",
   "execution_count": 65,
   "id": "ea24315a-b323-4f05-8357-9bce167a8886",
   "metadata": {},
   "outputs": [
    {
     "ename": "SyntaxError",
     "evalue": "unexpected EOF while parsing (Temp/ipykernel_10484/2731864973.py, line 2)",
     "output_type": "error",
     "traceback": [
      "\u001b[1;36m  File \u001b[1;32m\"C:\\Users\\jswil\\AppData\\Local\\Temp/ipykernel_10484/2731864973.py\"\u001b[1;36m, line \u001b[1;32m2\u001b[0m\n\u001b[1;33m    plt.bar(\u001b[0m\n\u001b[1;37m            ^\u001b[0m\n\u001b[1;31mSyntaxError\u001b[0m\u001b[1;31m:\u001b[0m unexpected EOF while parsing\n"
     ]
    }
   ],
   "source": [
    "plt.subplot(1, 2, 1)\n",
    "plt.bar("
   ]
  },
  {
   "cell_type": "code",
   "execution_count": null,
   "id": "feeacf0c-7636-452b-a543-2cb9056023e5",
   "metadata": {},
   "outputs": [],
   "source": []
  },
  {
   "cell_type": "code",
   "execution_count": null,
   "id": "e18f944b-65e7-408b-a203-556673d23509",
   "metadata": {},
   "outputs": [],
   "source": []
  },
  {
   "cell_type": "code",
   "execution_count": null,
   "id": "bc555311-f724-4a79-9791-bff780e80c00",
   "metadata": {},
   "outputs": [],
   "source": []
  },
  {
   "cell_type": "code",
   "execution_count": null,
   "id": "4f6330dc-8714-4f2d-b0f2-e352dbe87945",
   "metadata": {},
   "outputs": [],
   "source": [
    "tf = TfidfVectorizer(stop_words='english')\n",
    "\n",
    "ul_tf = cv.fit_transform(ul_df['title'])\n",
    "ul_tf_df = pd.DataFrame(ul_cv.A, columns=cv.get_feature_names_out())\n",
    "\n",
    "w_tf = cv.fit_transform(w_df['title'])\n",
    "w_tf_df = pd.DataFrame(w_cv.A, columns=cv.get_feature_names_out())\n"
   ]
  },
  {
   "cell_type": "code",
   "execution_count": null,
   "id": "f4d07290-1894-4625-b301-187e909ae42d",
   "metadata": {},
   "outputs": [],
   "source": [
    "ul_cv_df"
   ]
  },
  {
   "cell_type": "code",
   "execution_count": null,
   "id": "74d46cc6-0abc-4fe3-ae2b-12cff93263e4",
   "metadata": {},
   "outputs": [],
   "source": []
  },
  {
   "cell_type": "markdown",
   "id": "d61bece7-01e8-4e3a-a9f9-7f7d5d8751eb",
   "metadata": {},
   "source": [
    "## Modelling"
   ]
  },
  {
   "cell_type": "markdown",
   "id": "2d60cc92-7c63-4753-9ae3-6521c81d6aec",
   "metadata": {},
   "source": [
    "### Baseline"
   ]
  },
  {
   "cell_type": "code",
   "execution_count": null,
   "id": "e0380044-dfa3-4cff-b9e6-1777a70d36f7",
   "metadata": {},
   "outputs": [],
   "source": [
    "df['subreddit'].value_counts(normalize=True)"
   ]
  },
  {
   "cell_type": "markdown",
   "id": "8f2c74ba-68d8-4dae-a823-d2607363e47a",
   "metadata": {},
   "source": [
    "##### If this subreddit is used, the baseline will be 93%.  If this sample proves too unbalanced, a sample of 4000 posts from each subreddit will be used"
   ]
  },
  {
   "cell_type": "markdown",
   "id": "f318982a-2a2c-4f4f-ab1c-bf69bf3113fc",
   "metadata": {},
   "source": [
    "### Train Test Split"
   ]
  },
  {
   "cell_type": "code",
   "execution_count": null,
   "id": "c070bdef-478d-450a-a6cf-466996bea753",
   "metadata": {},
   "outputs": [],
   "source": []
  },
  {
   "cell_type": "code",
   "execution_count": null,
   "id": "f98e575a-9b79-4e45-8d21-8d220425c077",
   "metadata": {},
   "outputs": [],
   "source": [
    "X = df['title']\n",
    "y = df['subreddit']\n",
    "X_train, X_test, y_train, y_test = train_test_split(X, y, stratify=y, random_state=53)"
   ]
  },
  {
   "cell_type": "code",
   "execution_count": null,
   "id": "18b1d14a-cb36-465f-bfe4-a8436237d87e",
   "metadata": {},
   "outputs": [],
   "source": [
    "X_train"
   ]
  },
  {
   "cell_type": "code",
   "execution_count": null,
   "id": "f3a259d6-2e3f-4c4e-bfa5-7a0bbae07121",
   "metadata": {},
   "outputs": [],
   "source": []
  },
  {
   "cell_type": "code",
   "execution_count": null,
   "id": "3e40ec9b-5fd6-416c-bbd8-fdad742f1183",
   "metadata": {},
   "outputs": [],
   "source": [
    "len(X_train), len(y_train)"
   ]
  },
  {
   "cell_type": "code",
   "execution_count": null,
   "id": "ff058106-b105-4a16-8e16-2bebb75ac70b",
   "metadata": {},
   "outputs": [],
   "source": [
    "len(X_test), len(y_test)"
   ]
  },
  {
   "cell_type": "markdown",
   "id": "dad2ddd4-d14f-406c-bbd4-4f447ad7da7b",
   "metadata": {
    "tags": []
   },
   "source": [
    "### CountVectorizer"
   ]
  },
  {
   "cell_type": "code",
   "execution_count": null,
   "id": "67243728-05e3-4138-add6-c31a24a01ee5",
   "metadata": {},
   "outputs": [],
   "source": [
    "#lemmatize\n",
    "def lemma_tokenizer(doc):\n",
    "    wnl = WordNetLemmatizer()\n",
    "    return [wnl.lemmatize(w).lower() for w in word_tokenize(doc)]"
   ]
  },
  {
   "cell_type": "code",
   "execution_count": null,
   "id": "0c9b49bd-06dd-4aea-96c9-1e772b3dc1e6",
   "metadata": {},
   "outputs": [],
   "source": [
    "cv = CountVectorizer(lowercase=False, tokenizer=lemma_tokenizer, min_df=5)\n",
    "cv.fit(X_train)\n",
    "\n",
    "X_train_cv = cv.transform(X_train)\n",
    "X_test_cv = cv.transform(X_test)\n",
    "# cv_train_df = pd.DataFrame(X_train_cv.A, columns = cv.get_feature_names_out())\n",
    "# cv_test_df = pd.DataFrame(X_test_cv.A, columns = cv.get_feature_names_out()) "
   ]
  },
  {
   "cell_type": "code",
   "execution_count": null,
   "id": "34382949-aaf8-4821-8af7-a5d01869cc85",
   "metadata": {},
   "outputs": [],
   "source": [
    "cv = CountVectorizer(lowercase=False, tokenizer=lemma_tokenizer, min_df=5)\n",
    "cv.fit(X_train)\n",
    "\n",
    "X_train_cv = cv.transform(X_train)\n",
    "X_test_cv = cv.transform(X_test)"
   ]
  },
  {
   "cell_type": "code",
   "execution_count": null,
   "id": "d3b0537e-917d-4b6b-837c-1f241ecc77c9",
   "metadata": {},
   "outputs": [],
   "source": []
  },
  {
   "cell_type": "code",
   "execution_count": null,
   "id": "0e4c0d3e-d58b-4c28-806b-8a2c0d1b2b2a",
   "metadata": {},
   "outputs": [],
   "source": [
    "pd.DataFrame(X_train_cv)"
   ]
  },
  {
   "cell_type": "code",
   "execution_count": null,
   "id": "19f79a34-d9ba-4215-aa13-72abbf065302",
   "metadata": {},
   "outputs": [],
   "source": [
    "len(cv.vocabulary_)"
   ]
  },
  {
   "cell_type": "code",
   "execution_count": null,
   "id": "43610b0c-644c-41f9-bd96-b97a3e018732",
   "metadata": {},
   "outputs": [],
   "source": [
    "wordcounts = pd.DataFrame(X_train_cv.A, columns=cv.get_feature_names_out())"
   ]
  },
  {
   "cell_type": "code",
   "execution_count": null,
   "id": "b69d9446-3bcb-4a0e-b8b7-6657d93f62df",
   "metadata": {
    "tags": []
   },
   "outputs": [],
   "source": [
    "wordcounts.sum().sort_values(ascending=False).head(20)"
   ]
  },
  {
   "cell_type": "markdown",
   "id": "ae1f45fe-28a8-46bb-ac60-332b4280129b",
   "metadata": {
    "tags": []
   },
   "source": [
    "### TfidfVectorizer"
   ]
  },
  {
   "cell_type": "code",
   "execution_count": null,
   "id": "94efb8d9-3c4f-40e9-ad45-e0bdd37b1faf",
   "metadata": {},
   "outputs": [],
   "source": [
    "tf = TfidfVectorizer(min_df=5, tokenizer=lemma_tokenizer)\n",
    "tf.fit(X_train)\n",
    "    \n",
    "X_train_tf = tf.transform(X_train)\n",
    "X_test_tf = tf.transform(X_test)"
   ]
  },
  {
   "cell_type": "code",
   "execution_count": null,
   "id": "7702bd27-5df2-4fd5-be06-fc54e23ca452",
   "metadata": {},
   "outputs": [],
   "source": [
    "len(tf.vocabulary_)"
   ]
  },
  {
   "cell_type": "code",
   "execution_count": null,
   "id": "4af11c1c-73df-4863-97bd-8158986af300",
   "metadata": {},
   "outputs": [],
   "source": [
    "X_train_tf.shape, X_test_tf.shape"
   ]
  },
  {
   "cell_type": "code",
   "execution_count": null,
   "id": "0736d9ae-8326-48fb-bfc5-d819fe0b9755",
   "metadata": {},
   "outputs": [],
   "source": [
    "X_train_tf_columns = tf.get_feature_names_out"
   ]
  },
  {
   "cell_type": "code",
   "execution_count": null,
   "id": "0bfc676f-ef4e-40f9-bcb8-68dd030435b5",
   "metadata": {},
   "outputs": [],
   "source": []
  },
  {
   "cell_type": "markdown",
   "id": "54190b39-8b92-47fa-bd55-714ee676ea3b",
   "metadata": {},
   "source": [
    "### Function to print classification model scores"
   ]
  },
  {
   "cell_type": "code",
   "execution_count": null,
   "id": "554d31c3-a490-4674-a8f6-43560ff348c7",
   "metadata": {},
   "outputs": [],
   "source": [
    "#def class_metrics(model, X, y):\n",
    "def class_metrics(y, preds):\n",
    "    \n",
    "   # preds = model.predict(X)\n",
    "    \n",
    "    acc = accuracy_score(y, preds)\n",
    "    bas = balanced_accuracy_score(y, preds)\n",
    "    rcs = recall_score(y, preds)#, pos_label='1')\n",
    "    prs = precision_score(y, preds)#, pos_label='1')\n",
    "    f1 = f1_score(y, preds)#, pos_label='1')\n",
    "    \n",
    "    print(f'Accuracy Score = {acc} \\nBalanced Accuracy Score = {bas} \\nRecall Score = {rcs} \\nPrecision Score = {prs} \\nF1 Score = {f1}')\n",
    "\n",
    "#obsolete once I found sklearn classification_report()"
   ]
  },
  {
   "cell_type": "code",
   "execution_count": null,
   "id": "40180549-ad37-4e4b-a952-46d5c60cac3c",
   "metadata": {},
   "outputs": [],
   "source": [
    "class_metrics(y_test, lr_preds)"
   ]
  },
  {
   "cell_type": "code",
   "execution_count": null,
   "id": "c72569ef-5851-4a1a-bd2d-a7573804eda0",
   "metadata": {},
   "outputs": [],
   "source": [
    "class_metrics(y_test, rfc_preds)"
   ]
  },
  {
   "cell_type": "code",
   "execution_count": null,
   "id": "dac5314b-8c5e-4d29-a6ca-823f0942a214",
   "metadata": {},
   "outputs": [],
   "source": [
    "class_metrics(y_test, nb_preds)"
   ]
  },
  {
   "cell_type": "code",
   "execution_count": null,
   "id": "2a94a0c7-cd3b-44c2-bf2a-342b8aa2dab4",
   "metadata": {},
   "outputs": [],
   "source": []
  },
  {
   "cell_type": "code",
   "execution_count": null,
   "id": "9585b276-205b-4f64-b420-04e4beca00d9",
   "metadata": {},
   "outputs": [],
   "source": []
  },
  {
   "cell_type": "markdown",
   "id": "d03153dc-fdc2-41e7-a139-364a14296eee",
   "metadata": {},
   "source": [
    "### Logistic Regression"
   ]
  },
  {
   "cell_type": "code",
   "execution_count": null,
   "id": "5d4720ec-3eaf-4345-8d5c-7e5feca86d2c",
   "metadata": {},
   "outputs": [],
   "source": [
    "#CountVectorizer\n",
    "lr = LogisticRegression(max_iter=10_000)\n",
    "lr.fit(X_train_cv, y_train)\n",
    "lr.score(X_train_cv, y_train), lr.score(X_test_cv, y_test)"
   ]
  },
  {
   "cell_type": "code",
   "execution_count": null,
   "id": "a7cfc736-fdd0-4cb0-913a-71650bd2310f",
   "metadata": {},
   "outputs": [],
   "source": [
    "preds = lr.predict(X_test_cv)"
   ]
  },
  {
   "cell_type": "code",
   "execution_count": null,
   "id": "9bdb62c6-5f41-46a1-80f7-9319fda741a8",
   "metadata": {},
   "outputs": [],
   "source": [
    "pd.DataFrame(preds).value_counts()"
   ]
  },
  {
   "cell_type": "code",
   "execution_count": null,
   "id": "9cbb6d53-f1eb-47b0-ba38-97ecfa579b9e",
   "metadata": {},
   "outputs": [],
   "source": [
    "feature_importance = pd.df(X.columns, columns = [\"subreddit\"])\n",
    "feature_importance[\"importance\"] = pow(math.e, w)\n",
    "feature_importance = feature_importance.sort_values(by = [\"importance\"], ascending=False)\n",
    " \n",
    "from sklearn.linear_model import LogisticRegression\n",
    "ax = feature_importance.plot.barh(x='feature', y='importance')\n",
    "plt.show()"
   ]
  },
  {
   "cell_type": "code",
   "execution_count": null,
   "id": "4ed79802-58d7-4799-9329-66ff4a370cf1",
   "metadata": {},
   "outputs": [],
   "source": []
  },
  {
   "cell_type": "code",
   "execution_count": null,
   "id": "3189d7e6-f55b-4059-9de0-d380c7aee55b",
   "metadata": {},
   "outputs": [],
   "source": [
    "pipe_cv = make_pipeline(\n",
    "    CountVectorizer(),\n",
    "    RandomOverSampler(random_state=53, ),\n",
    "    LogisticRegression(max_iter=5_000)\n",
    ")"
   ]
  },
  {
   "cell_type": "code",
   "execution_count": null,
   "id": "f016674b-ecad-4fed-bd0b-949fa789a580",
   "metadata": {},
   "outputs": [],
   "source": [
    "#pipe.get_params()"
   ]
  },
  {
   "cell_type": "code",
   "execution_count": null,
   "id": "3f20b3df-288b-46f5-be78-4eb2889b09f5",
   "metadata": {},
   "outputs": [],
   "source": [
    "params_cv = {\n",
    "    'countvectorizer__max_df': [1, 5],\n",
    "    'countvectorizer__ngram_range': [(1, 1), (2, 2)],\n",
    "    'randomoversampler__sampling_strategy': [0.1, 0.25, 0.5, 0.75, 1],\n",
    "    'logisticregression__C': [.1, 1]\n",
    "}"
   ]
  },
  {
   "cell_type": "code",
   "execution_count": null,
   "id": "b77e5c42-5696-4efb-964f-1d1b6bf91c7f",
   "metadata": {},
   "outputs": [],
   "source": [
    "pipe_tf = make_pipeline(\n",
    "    TfidfVectorizer(),\n",
    "    RandomOverSampler(random_state=53),\n",
    "    LogisticRegression(max_iter=5_000)\n",
    ")"
   ]
  },
  {
   "cell_type": "code",
   "execution_count": null,
   "id": "4a820a03-5cbd-47d8-b0c6-f1dfd48cfad6",
   "metadata": {},
   "outputs": [],
   "source": [
    "params_tf = {\n",
    "    'tfidfvectorizer__max_df': [1, 5],\n",
    "    'tfidfvectorizer__ngram_range': [(1, 1), (2, 2)],\n",
    "    'randomoversampler__sampling_strategy': [0.1, 0.25, 0.5, 0.75, 1],\n",
    "    'logisticregression__C': [.1, 1]\n",
    "}"
   ]
  },
  {
   "cell_type": "code",
   "execution_count": null,
   "id": "fb85dfc1-c74e-4d38-b01d-8419bb1fbd72",
   "metadata": {},
   "outputs": [],
   "source": [
    "gs_cv = GridSearchCV(pipe_cv, params_cv, n_jobs=-1, verbose=1)"
   ]
  },
  {
   "cell_type": "code",
   "execution_count": null,
   "id": "7aa27383-e413-4d66-94cd-4ba4c8575981",
   "metadata": {},
   "outputs": [],
   "source": [
    "gs_tf = GridSearchCV(pipe_tf, params_tf, n_jobs=-1, verbose=1)"
   ]
  },
  {
   "cell_type": "code",
   "execution_count": null,
   "id": "0b810baa-5e17-4083-8b0e-fe0a227e4c38",
   "metadata": {},
   "outputs": [],
   "source": [
    "gs_cv.fit(X_train, y_train)"
   ]
  },
  {
   "cell_type": "code",
   "execution_count": null,
   "id": "33e8cbe9-83f2-477d-a090-63b398ce15c0",
   "metadata": {},
   "outputs": [],
   "source": [
    "gs_tf.fit(X_train, y_train)"
   ]
  },
  {
   "cell_type": "code",
   "execution_count": null,
   "id": "750bb0d9-8167-49d9-86cf-e0d7dadc5bd9",
   "metadata": {},
   "outputs": [],
   "source": [
    "gs_cv.best_params_"
   ]
  },
  {
   "cell_type": "code",
   "execution_count": null,
   "id": "d2509998-c836-4d9d-b94f-5ad9bc233913",
   "metadata": {},
   "outputs": [],
   "source": [
    "gs_tf.best_params_"
   ]
  },
  {
   "cell_type": "code",
   "execution_count": null,
   "id": "bb8c69cf-54c7-46d7-aa45-6711b4128f0f",
   "metadata": {},
   "outputs": [],
   "source": [
    "gs_cv.score(X_test, y_test)"
   ]
  },
  {
   "cell_type": "code",
   "execution_count": null,
   "id": "139189cf-9384-4c4a-be07-836ac85ac67c",
   "metadata": {},
   "outputs": [],
   "source": [
    "gs_tf.score(X_test, y_test)"
   ]
  },
  {
   "cell_type": "code",
   "execution_count": null,
   "id": "08e94914-3b92-4e32-9861-eca220641000",
   "metadata": {},
   "outputs": [],
   "source": [
    "balanced_accuracy_score(gs_tf.predict(X_test), y_test)"
   ]
  },
  {
   "cell_type": "code",
   "execution_count": null,
   "id": "58f6ee28-ef97-4135-8692-78816b1e6810",
   "metadata": {},
   "outputs": [],
   "source": [
    "gs_tf.best_params_"
   ]
  },
  {
   "cell_type": "code",
   "execution_count": null,
   "id": "09eed383-76e5-4840-926a-0050307c4f79",
   "metadata": {},
   "outputs": [],
   "source": [
    "gs_tf.best_estimator_"
   ]
  },
  {
   "cell_type": "code",
   "execution_count": null,
   "id": "e18d8816-b058-4663-b5bd-8c9c0353087f",
   "metadata": {},
   "outputs": [],
   "source": [
    "gs.score(X_test, y_test)"
   ]
  },
  {
   "cell_type": "code",
   "execution_count": null,
   "id": "a4379abe-e677-48e1-8b57-c316312e2213",
   "metadata": {},
   "outputs": [],
   "source": [
    "preds = gs.predict(X_test)"
   ]
  },
  {
   "cell_type": "code",
   "execution_count": null,
   "id": "177bd33a-2bdf-4434-8de9-69cd63d7a00c",
   "metadata": {},
   "outputs": [],
   "source": [
    "accuracy_score(y_test, preds)"
   ]
  },
  {
   "cell_type": "code",
   "execution_count": null,
   "id": "00f77a73-6f22-4e6d-89a0-1baec5be0f26",
   "metadata": {},
   "outputs": [],
   "source": [
    "gs.best_params_"
   ]
  },
  {
   "cell_type": "code",
   "execution_count": null,
   "id": "b1670b38-a601-4817-8679-f06b020a14e9",
   "metadata": {},
   "outputs": [],
   "source": [
    "gs.fit(X_train, y_train)"
   ]
  },
  {
   "cell_type": "code",
   "execution_count": null,
   "id": "93e11180-e9fe-4074-9a5c-7c541f85832f",
   "metadata": {},
   "outputs": [],
   "source": [
    "gs.score(X_test, y_test)"
   ]
  },
  {
   "cell_type": "code",
   "execution_count": null,
   "id": "51fc6d02-2346-42da-9863-07c55f6e1975",
   "metadata": {},
   "outputs": [],
   "source": [
    "gs.best_params_"
   ]
  },
  {
   "cell_type": "code",
   "execution_count": null,
   "id": "a29374c2-44c4-4c16-94dd-431087f0e99e",
   "metadata": {},
   "outputs": [],
   "source": []
  },
  {
   "cell_type": "code",
   "execution_count": null,
   "id": "6d91fc13-00f6-4194-b2e2-5e849790de47",
   "metadata": {},
   "outputs": [],
   "source": []
  },
  {
   "cell_type": "code",
   "execution_count": null,
   "id": "29c70c65-ed0d-4232-902c-a0e3a903a668",
   "metadata": {},
   "outputs": [],
   "source": []
  },
  {
   "cell_type": "code",
   "execution_count": null,
   "id": "21c4a94f-c36c-48c7-80a5-e3a2b85dc68e",
   "metadata": {},
   "outputs": [],
   "source": []
  },
  {
   "cell_type": "code",
   "execution_count": null,
   "id": "f4d69001-2ba5-40fb-baf5-8ec222d6ad31",
   "metadata": {},
   "outputs": [],
   "source": []
  },
  {
   "cell_type": "code",
   "execution_count": null,
   "id": "eef0443e-02f8-4edd-a483-021b1f16131f",
   "metadata": {
    "tags": []
   },
   "outputs": [],
   "source": [
    "#TfidfVectorizer\n",
    "lr = LogisticRegression(max_iter=10_000)\n",
    "lr.fit(X_train_tf, y_train)\n",
    "lr.score(X_train_tf, y_train), lr.score(X_test_tf, y_test)"
   ]
  },
  {
   "cell_type": "code",
   "execution_count": null,
   "id": "d5a59882-40c1-4e5b-9ecc-c99f495d5369",
   "metadata": {},
   "outputs": [],
   "source": [
    "#Preds CV, the tests below use this set\n",
    "lr.fit(X_train_cv, y_train)\n",
    "lr_preds = lr.predict(X_test_cv)\n",
    "pd.Index(lr_preds).value_counts(normalize=True)"
   ]
  },
  {
   "cell_type": "code",
   "execution_count": null,
   "id": "42ff5577-0a75-4a43-a304-937ce8a64e04",
   "metadata": {},
   "outputs": [],
   "source": [
    "df['subreddit'].value_counts(normalize=True)"
   ]
  },
  {
   "cell_type": "code",
   "execution_count": null,
   "id": "1fc1d7b0-a86b-4788-8ad2-2ca1415cfc3f",
   "metadata": {},
   "outputs": [],
   "source": [
    "#Confusion matrix and scores for train set\n",
    "f, axes = plt.subplots(1, 2, figsize=(10, 5), sharey='row')\n",
    "ConfusionMatrixDisplay.from_estimator(lr, X_train_cv, y_train, ax=axes[0]);\n",
    "axes[0].set_title('Train Confusion Matrix')\n",
    "ConfusionMatrixDisplay.from_estimator(lr, X_train_cv, y_train, normalize='pred', ax=axes[1]);\n",
    "axes[1].set_title('Train Confusion Matrix (Normalized)', loc='center');\n",
    "#plt.tight_layout()\n",
    "plt.show()"
   ]
  },
  {
   "cell_type": "code",
   "execution_count": null,
   "id": "55a89715-6bf1-4348-b050-4c8b54b06e26",
   "metadata": {},
   "outputs": [],
   "source": [
    "print(classification_report(y_train, lr.predict(X_train_cv)))"
   ]
  },
  {
   "cell_type": "code",
   "execution_count": null,
   "id": "03277593-e0eb-4fab-8143-2c5d7003fa6a",
   "metadata": {},
   "outputs": [],
   "source": [
    "print(classification_report(y_test, lr.predict(X_test_cv)))"
   ]
  },
  {
   "cell_type": "code",
   "execution_count": null,
   "id": "3c630598-4af2-401c-9acd-7aa60c607f62",
   "metadata": {},
   "outputs": [],
   "source": [
    "#Confusion matrix and scores for test set\n",
    "f, axes = plt.subplots(1, 2, figsize=(10, 5), sharey='row')\n",
    "ConfusionMatrixDisplay.from_estimator(lr, X_test_cv, y_test, ax=axes[0]);\n",
    "axes[0].set_title('Test Confusion Matrix')\n",
    "ConfusionMatrixDisplay.from_estimator(lr, X_test_cv, y_test, normalize='pred', ax=axes[1]);\n",
    "axes[1].set_title('Test Confusion Matrix (Normalized)', loc='center');\n",
    "#plt.tight_layout()\n",
    "plt.show()"
   ]
  },
  {
   "cell_type": "code",
   "execution_count": null,
   "id": "17636507-3be6-4536-b5c4-a76aea9c885f",
   "metadata": {},
   "outputs": [],
   "source": [
    "print(classification_report(y_test, preds))"
   ]
  },
  {
   "cell_type": "code",
   "execution_count": null,
   "id": "03bd768e-9ff8-4b70-8e5d-4cccb349bc56",
   "metadata": {},
   "outputs": [],
   "source": [
    "balanced_accuracy_score(y_test, preds)"
   ]
  },
  {
   "cell_type": "code",
   "execution_count": null,
   "id": "fc1cf32d-04cd-4d09-9029-b8781030ade5",
   "metadata": {},
   "outputs": [],
   "source": []
  },
  {
   "cell_type": "code",
   "execution_count": null,
   "id": "4b63f87b-43d7-4a00-a04b-d52b369cdd4e",
   "metadata": {},
   "outputs": [],
   "source": []
  },
  {
   "cell_type": "markdown",
   "id": "ae0a1d7f-a1f2-4800-8dc6-ecdd500b1f70",
   "metadata": {},
   "source": [
    "## Dealing with imbalanced data"
   ]
  },
  {
   "cell_type": "markdown",
   "id": "5ed3c8e4-3529-492f-a1f9-850be1900801",
   "metadata": {},
   "source": [
    "#### 1. Oversample 'upliftingnews'"
   ]
  },
  {
   "cell_type": "code",
   "execution_count": null,
   "id": "ade76955-a1dc-40d4-a1ff-b3f158577683",
   "metadata": {},
   "outputs": [],
   "source": [
    "pipe = make_pipeline(\n",
    "    RandomOverSampler(random_state=53),\n",
    "    LogisticRegression(max_iter=10_000))\n",
    "pipe.get_params()"
   ]
  },
  {
   "cell_type": "code",
   "execution_count": null,
   "id": "72e3db7e-922a-469c-9077-947cba360777",
   "metadata": {},
   "outputs": [],
   "source": [
    "params1 = {\n",
    "    'randomoversampler__sampling_strategy': [0.1, 0.25, 0.5, 0.75, 1]\n",
    "}"
   ]
  },
  {
   "cell_type": "code",
   "execution_count": null,
   "id": "06127b50-3d48-4bed-ae0f-3f39e9c3bccf",
   "metadata": {},
   "outputs": [],
   "source": [
    "params2 = {\n",
    "    'randomoversampler__sampling_strategy': [0.1, 0.25, 0.5, 0.75, 1],\n",
    "    'randomoversampler__shrinkage': [.5, 1]\n",
    "}"
   ]
  },
  {
   "cell_type": "code",
   "execution_count": null,
   "id": "5a27500d-c6d2-4b32-97b2-e514f4211bcc",
   "metadata": {},
   "outputs": [],
   "source": []
  },
  {
   "cell_type": "code",
   "execution_count": null,
   "id": "9a55a97e-534a-44bf-83d9-8b446d892f80",
   "metadata": {},
   "outputs": [],
   "source": [
    "gs1 = GridSearchCV(pipe, params1, n_jobs=-1)\n",
    "gs2 = GridSearchCV(pipe, params2, n_jobs=-1)"
   ]
  },
  {
   "cell_type": "code",
   "execution_count": null,
   "id": "14cfd42e-29af-4137-a6b1-80b62ad27b6b",
   "metadata": {},
   "outputs": [],
   "source": [
    "gs1.fit(X_train_cv, y_train)"
   ]
  },
  {
   "cell_type": "code",
   "execution_count": null,
   "id": "965efa05-48f6-41f9-805d-fb032ebf93c2",
   "metadata": {},
   "outputs": [],
   "source": [
    "gs2.fit(X_train_cv, y_train)"
   ]
  },
  {
   "cell_type": "code",
   "execution_count": null,
   "id": "c415f81e-9211-4376-a255-eeee54a57c4b",
   "metadata": {},
   "outputs": [],
   "source": [
    "gs1.score(X_train_cv, y_train), gs1.score(X_test_cv, y_test)"
   ]
  },
  {
   "cell_type": "code",
   "execution_count": null,
   "id": "5bbd391d-1c3d-4adf-bc56-82a56e91aaed",
   "metadata": {},
   "outputs": [],
   "source": [
    "gs2.score(X_train_cv, y_train), gs2.score(X_test_cv, y_test)"
   ]
  },
  {
   "cell_type": "code",
   "execution_count": null,
   "id": "dd160909-687b-4568-a29a-e25440189d30",
   "metadata": {
    "tags": []
   },
   "outputs": [],
   "source": [
    "preds_gs1 = gs1.predict(X_test_cv)"
   ]
  },
  {
   "cell_type": "code",
   "execution_count": null,
   "id": "1902a871-213b-4f18-bd18-225849b167c3",
   "metadata": {},
   "outputs": [],
   "source": [
    "print(classification_report(y_test, preds_gs1))"
   ]
  },
  {
   "cell_type": "code",
   "execution_count": null,
   "id": "01d5ade0-3924-49c3-8dbb-4bb2044114c8",
   "metadata": {},
   "outputs": [],
   "source": [
    "gs1.best_estimator_"
   ]
  },
  {
   "cell_type": "code",
   "execution_count": null,
   "id": "e943eebc-e19d-468b-a45e-7d1a752a2f15",
   "metadata": {},
   "outputs": [],
   "source": [
    "gs2.best_estimator_"
   ]
  },
  {
   "cell_type": "code",
   "execution_count": null,
   "id": "7a4c49ea-ab51-4e40-bdd3-21e870093eb0",
   "metadata": {},
   "outputs": [],
   "source": [
    "pd.DataFrame(gs1.cv_results_)['mean_test_score']"
   ]
  },
  {
   "cell_type": "code",
   "execution_count": null,
   "id": "d6fecf38-999f-4d23-aeab-36f11175bcae",
   "metadata": {},
   "outputs": [],
   "source": [
    "pd.DataFrame(gs1.cv_results_)"
   ]
  },
  {
   "cell_type": "code",
   "execution_count": null,
   "id": "9a05144d-95a0-4075-bcd5-a4253c8c98ea",
   "metadata": {},
   "outputs": [],
   "source": [
    "print(classification_report(y_train, gs1.predict(X_train_cv)))"
   ]
  },
  {
   "cell_type": "code",
   "execution_count": null,
   "id": "6b598b43-e91a-43a2-b026-fb1911478610",
   "metadata": {},
   "outputs": [],
   "source": [
    "print(classification_report(y_train, gs2.predict(X_train_cv)))"
   ]
  },
  {
   "cell_type": "code",
   "execution_count": null,
   "id": "36942831-b542-4f5d-b294-14d33288eca9",
   "metadata": {},
   "outputs": [],
   "source": [
    "print(classification_report(y_test, gs1.predict(X_test_cv)))"
   ]
  },
  {
   "cell_type": "code",
   "execution_count": null,
   "id": "1b91bd3b-4afe-45f5-8ea8-70de9603b736",
   "metadata": {},
   "outputs": [],
   "source": [
    "print(classification_report(y_test, gs2.predict(X_test_cv)))"
   ]
  },
  {
   "cell_type": "code",
   "execution_count": null,
   "id": "8e0bf846-e99f-4e1a-ac1a-df00d0ae9beb",
   "metadata": {},
   "outputs": [],
   "source": [
    "gs3 = GridSearchCV(pipe, params1, n_jobs=-1, scoring = 'balanced_accuracy')\n",
    "gs4 = GridSearchCV(pipe, params2, n_jobs=-1, scoring = 'balanced_accuracy')"
   ]
  },
  {
   "cell_type": "code",
   "execution_count": null,
   "id": "33aa7413-9133-4320-a56a-d6dc58d0ee47",
   "metadata": {},
   "outputs": [],
   "source": [
    "gs3.fit(X_train_cv, y_train)"
   ]
  },
  {
   "cell_type": "code",
   "execution_count": null,
   "id": "3b34a6e6-95f5-4d05-888f-84ee8f748fbc",
   "metadata": {},
   "outputs": [],
   "source": [
    "gs4.fit(X_train_cv, y_train)"
   ]
  },
  {
   "cell_type": "code",
   "execution_count": null,
   "id": "5881ccb8-f619-45a3-90f4-be818d6bf036",
   "metadata": {},
   "outputs": [],
   "source": [
    "gs3.score(X_train_cv, y_train), gs3.score(X_test_cv, y_test)\n"
   ]
  },
  {
   "cell_type": "code",
   "execution_count": null,
   "id": "78ec2f62-01c6-4b0c-bf71-aa009c6ef39b",
   "metadata": {},
   "outputs": [],
   "source": [
    "gs4.score(X_train_cv, y_train), gs4.score(X_test_cv, y_test)"
   ]
  },
  {
   "cell_type": "code",
   "execution_count": null,
   "id": "924c4d08-3555-4e6f-a719-b2e0dbca5ffb",
   "metadata": {},
   "outputs": [],
   "source": [
    "gs1.score(X_train_cv, y_train), gs1.score(X_test_cv, y_test)"
   ]
  },
  {
   "cell_type": "code",
   "execution_count": null,
   "id": "7e71f99f-1150-482f-a0a7-ff274b05dc8a",
   "metadata": {},
   "outputs": [],
   "source": [
    "gs1.best_params_"
   ]
  },
  {
   "cell_type": "code",
   "execution_count": null,
   "id": "c8ab82d7-fd35-4280-885b-151721adaed7",
   "metadata": {},
   "outputs": [],
   "source": [
    "gs2.best_params_"
   ]
  },
  {
   "cell_type": "code",
   "execution_count": null,
   "id": "0b190a5f-8b6c-4785-8017-487d11148b04",
   "metadata": {},
   "outputs": [],
   "source": [
    "gs3.best_params_"
   ]
  },
  {
   "cell_type": "code",
   "execution_count": null,
   "id": "504a24bb-0c10-4d54-a63f-5f6039133c7b",
   "metadata": {},
   "outputs": [],
   "source": [
    "gs4.best_params_"
   ]
  },
  {
   "cell_type": "code",
   "execution_count": null,
   "id": "1b8bfcbe-d459-46d5-b28e-54208d8e856e",
   "metadata": {},
   "outputs": [],
   "source": [
    "accuracy_score(y_test, gs1.predict(X_test_cv)), accuracy_score(y_test, gs2.predict(X_test_cv))"
   ]
  },
  {
   "cell_type": "code",
   "execution_count": null,
   "id": "3f054560-a6f0-46b6-a59d-08acfad0b21d",
   "metadata": {},
   "outputs": [],
   "source": [
    "balanced_accuracy_score(y_test, gs1.predict(X_test_cv)), balanced_accuracy_score(y_test, gs2.predict(X_test_cv))"
   ]
  },
  {
   "cell_type": "code",
   "execution_count": null,
   "id": "7a7ec279-4e3e-45ba-8043-447c3c9177aa",
   "metadata": {},
   "outputs": [],
   "source": [
    "accuracy_score(y_test, gs3.predict(X_test_cv)), accuracy_score(y_test, gs4.predict(X_test_cv))"
   ]
  },
  {
   "cell_type": "code",
   "execution_count": null,
   "id": "ef4c9ae6-4a08-4f07-87cb-d42f83a3a1ad",
   "metadata": {},
   "outputs": [],
   "source": [
    "balanced_accuracy_score(y_test, gs3.predict(X_test_cv)), balanced_accuracy_score(y_test, gs4.predict(X_test_cv))"
   ]
  },
  {
   "cell_type": "markdown",
   "id": "093ba4ad-1f0f-4d59-9049-e7e7dc971719",
   "metadata": {
    "tags": []
   },
   "source": [
    "##### Takeaways - scoring=balanced_accuracy improves balance score, but hurts other metrics.  Sampling strategy of .1 is usually selected, except for gs3(scoring_balanced and shrinkage=default) which selected 1.  shrinkage of .5 is selected when available, but doesn't seem to help scores"
   ]
  },
  {
   "cell_type": "code",
   "execution_count": null,
   "id": "5ccf419c-1d2f-4c98-93fa-3ccac8b46f2e",
   "metadata": {},
   "outputs": [],
   "source": []
  },
  {
   "cell_type": "markdown",
   "id": "840d3942-ee8d-4f9f-8324-18234477af3e",
   "metadata": {},
   "source": [
    "### TfidfVectorizer"
   ]
  },
  {
   "cell_type": "code",
   "execution_count": null,
   "id": "1c39e9f4-a1ca-4d88-9a8f-2dd57f8a96ae",
   "metadata": {},
   "outputs": [],
   "source": []
  },
  {
   "cell_type": "code",
   "execution_count": null,
   "id": "ebacadf7-f53a-40d3-9b88-29617532d6bd",
   "metadata": {},
   "outputs": [],
   "source": [
    "tf = TfidfVectorizer(max_df=5)\n",
    "tf.fit(X_train)"
   ]
  },
  {
   "cell_type": "code",
   "execution_count": null,
   "id": "473334fd-a213-4756-9f0d-2111a8893652",
   "metadata": {},
   "outputs": [],
   "source": [
    "X_train_tf = tf.transform(X_train)\n",
    "X_test_tf = tf.transform(X_test)"
   ]
  },
  {
   "cell_type": "code",
   "execution_count": null,
   "id": "836ecc68-63a5-4def-8f3c-04a40c9a4161",
   "metadata": {},
   "outputs": [],
   "source": [
    "feature_names = tf.get_feature_names_out"
   ]
  },
  {
   "cell_type": "code",
   "execution_count": null,
   "id": "8b10d439-cf50-4aff-9ee4-ab03049ad7b7",
   "metadata": {},
   "outputs": [],
   "source": []
  },
  {
   "cell_type": "code",
   "execution_count": null,
   "id": "9869b65f-d202-4a5e-a1b8-6fee2cab5266",
   "metadata": {},
   "outputs": [],
   "source": [
    "ros = RandomOverSampler(random_state=53, sampling_strategy=0.5)"
   ]
  },
  {
   "cell_type": "code",
   "execution_count": null,
   "id": "6eaaa61e-4cb9-4261-bcb5-68efdf780750",
   "metadata": {},
   "outputs": [],
   "source": [
    "X_train"
   ]
  },
  {
   "cell_type": "code",
   "execution_count": null,
   "id": "b2f080d2-cd62-482b-9768-f9153543bcf3",
   "metadata": {},
   "outputs": [],
   "source": [
    "X_train_ros, y_train_ros = ros.fit_resample(X_train_tf, y_train)"
   ]
  },
  {
   "cell_type": "code",
   "execution_count": null,
   "id": "d34c0bb8-7ce0-4e53-9772-1f1118ae816b",
   "metadata": {},
   "outputs": [],
   "source": [
    "ros1 = RandomOverSampler(random_state=53, sampling_strategy=.1)"
   ]
  },
  {
   "cell_type": "code",
   "execution_count": null,
   "id": "f07b9398-ee7c-4b1f-b641-57499348edfd",
   "metadata": {},
   "outputs": [],
   "source": [
    "ros5 = RandomOverSampler(random_state=53, sampling_strategy=.5)"
   ]
  },
  {
   "cell_type": "code",
   "execution_count": null,
   "id": "632ec65d-fabe-44d5-bab9-219ecd67d197",
   "metadata": {},
   "outputs": [],
   "source": [
    "X_train_ros1, y_train_ros1 = ros1.fit_resample(X_train_tf, y_train)"
   ]
  },
  {
   "cell_type": "code",
   "execution_count": null,
   "id": "f7adcf10-694c-44f5-af9d-ba4ff5ac3775",
   "metadata": {},
   "outputs": [],
   "source": [
    "X_train_ros5, y_train_ros5 = ros5.fit_resample(X_train_tf, y_train)"
   ]
  },
  {
   "cell_type": "code",
   "execution_count": null,
   "id": "06172b8c-053f-4332-932c-c4af90ca007b",
   "metadata": {},
   "outputs": [],
   "source": [
    "X_train_ros1."
   ]
  },
  {
   "cell_type": "code",
   "execution_count": null,
   "id": "a387d58f-afab-451f-bf49-9e9f1776d1f7",
   "metadata": {},
   "outputs": [],
   "source": []
  },
  {
   "cell_type": "markdown",
   "id": "ca0b6888-a431-47e3-8472-449e525287b8",
   "metadata": {},
   "source": [
    "### Logistic Regression"
   ]
  },
  {
   "cell_type": "code",
   "execution_count": null,
   "id": "a7e70438-cda4-44aa-8f0e-78a43bc69bdf",
   "metadata": {},
   "outputs": [],
   "source": [
    "#referenced for ROC curves and AUC:  https://machinelearningmastery.com/roc-curves-and-precision-recall-curves-for-classification-in-python/"
   ]
  },
  {
   "cell_type": "code",
   "execution_count": null,
   "id": "c4edfed3-e8ef-4247-8c94-02b824e3fc90",
   "metadata": {},
   "outputs": [],
   "source": [
    "lr = LogisticRegression(C=0.1, n_jobs=-1)"
   ]
  },
  {
   "cell_type": "code",
   "execution_count": null,
   "id": "9c79c7e7-f8a0-4bfc-8d13-5ada3ebfdcf0",
   "metadata": {},
   "outputs": [],
   "source": [
    "lr.fit(X_train_ros5, y_train_ros5)"
   ]
  },
  {
   "cell_type": "code",
   "execution_count": null,
   "id": "cc1d1e1b-dd5c-4734-af76-15281779133c",
   "metadata": {},
   "outputs": [],
   "source": [
    "lr.score(X_train_ros1, y_train_ros1), lr.score(X_train_tf, y_train), lr.score(X_test_tf, y_test)"
   ]
  },
  {
   "cell_type": "code",
   "execution_count": null,
   "id": "88b5ea04-ae1e-421a-862c-23c8359d0bcf",
   "metadata": {},
   "outputs": [],
   "source": []
  },
  {
   "cell_type": "code",
   "execution_count": null,
   "id": "9b24ca8c-d941-42dd-9f74-77df55315e74",
   "metadata": {},
   "outputs": [],
   "source": [
    "lr_preds = lr.predict(X_test_tf)"
   ]
  },
  {
   "cell_type": "code",
   "execution_count": null,
   "id": "0aaaf867-ec1a-47ce-ae44-9630f66ee137",
   "metadata": {},
   "outputs": [],
   "source": [
    "ns_probs = [0 for _ in range(len(y_test))]"
   ]
  },
  {
   "cell_type": "code",
   "execution_count": null,
   "id": "1698d245-552f-4529-8c08-183e3bb9acc0",
   "metadata": {},
   "outputs": [],
   "source": [
    "lr_probs = lr.predict_proba(X_test_tf)"
   ]
  },
  {
   "cell_type": "code",
   "execution_count": null,
   "id": "30c4612d-4bc4-4c07-bc83-1c43d0efe309",
   "metadata": {},
   "outputs": [],
   "source": [
    "lr_probs = lr_probs[:,1]"
   ]
  },
  {
   "cell_type": "code",
   "execution_count": null,
   "id": "5a0ca1c1-e6a1-4272-ae53-8007309cabb7",
   "metadata": {},
   "outputs": [],
   "source": [
    "ns_auc = roc_auc_score(y_test, ns_probs)"
   ]
  },
  {
   "cell_type": "code",
   "execution_count": null,
   "id": "9a17dbab-4660-443f-9916-1d92c2ac99a4",
   "metadata": {},
   "outputs": [],
   "source": [
    "lr_auc = roc_auc_score(y_test, lr_probs)"
   ]
  },
  {
   "cell_type": "code",
   "execution_count": null,
   "id": "dc7c2ff8-55b2-4a48-a50c-714524d9905b",
   "metadata": {},
   "outputs": [],
   "source": []
  },
  {
   "cell_type": "code",
   "execution_count": null,
   "id": "22eea335-209c-42d7-8dbe-f6f60de3b40b",
   "metadata": {},
   "outputs": [],
   "source": [
    "print('No Skill: ROC AUC=%.3f' % (ns_auc))\n",
    "print('Logistic: ROC AUC=%.3f' % (lr_auc))"
   ]
  },
  {
   "cell_type": "code",
   "execution_count": null,
   "id": "ff9c7def-1781-4227-bb37-44a5a694a88a",
   "metadata": {},
   "outputs": [],
   "source": [
    "ns_fpr, ns_tpr, _ = roc_curve(y_test, ns_probs)\n",
    "lr_fpr, lr_tpr, _ = roc_curve(y_test, lr_probs)"
   ]
  },
  {
   "cell_type": "code",
   "execution_count": null,
   "id": "0c10998a-d5d3-4ff3-b34e-ea85485bb58f",
   "metadata": {},
   "outputs": [],
   "source": [
    "plt.plot(ns_fpr, ns_tpr, linestyle='--', label='No Skill')\n",
    "plt.plot(lr_fpr, lr_tpr, marker='.', label='Logistic')\n",
    "\n",
    "plt.xlabel('False Positive Rate')\n",
    "plt.ylabel('True Positive Rate')\n",
    "plt.title('Logistic Regression ROC curve')\n",
    "\n",
    "plt.legend();"
   ]
  },
  {
   "cell_type": "code",
   "execution_count": null,
   "id": "6a830cde-367b-4369-8154-618fb5367f1e",
   "metadata": {},
   "outputs": [],
   "source": [
    "print(classification_report(y_test, lr_preds))"
   ]
  },
  {
   "cell_type": "code",
   "execution_count": null,
   "id": "44e04c8f-a993-47c6-8ad3-73817d3fa345",
   "metadata": {},
   "outputs": [],
   "source": []
  },
  {
   "cell_type": "code",
   "execution_count": null,
   "id": "273af515-a2ed-4bbd-9c90-80cd3976a342",
   "metadata": {},
   "outputs": [],
   "source": []
  },
  {
   "cell_type": "markdown",
   "id": "993daf5f-556a-486f-aa64-911e076c685c",
   "metadata": {},
   "source": [
    "### RANDOMFOREST"
   ]
  },
  {
   "cell_type": "code",
   "execution_count": null,
   "id": "51876c69-1201-4c1a-87e1-deb1ec75472f",
   "metadata": {},
   "outputs": [],
   "source": []
  },
  {
   "cell_type": "code",
   "execution_count": null,
   "id": "055a6811-916e-4dcf-b199-9575f20adcd9",
   "metadata": {},
   "outputs": [],
   "source": [
    "rfc = RandomForestClassifier(random_state=53)"
   ]
  },
  {
   "cell_type": "code",
   "execution_count": null,
   "id": "69be5766-eeb1-4d12-bb0c-de3aaee35158",
   "metadata": {},
   "outputs": [],
   "source": [
    "rfc.fit(X_train_ros1, y_train_ros1)"
   ]
  },
  {
   "cell_type": "code",
   "execution_count": null,
   "id": "8bd764d4-36ac-4e29-a92a-51790427a7ac",
   "metadata": {},
   "outputs": [],
   "source": [
    "rfc.score(X_train_ros1, y_train_ros1), rfc.score(X_train_tf, y_train), rfc.score(X_test_tf, y_test)"
   ]
  },
  {
   "cell_type": "code",
   "execution_count": null,
   "id": "924b8dbc-bee4-4ca2-83b1-666cab5342da",
   "metadata": {},
   "outputs": [],
   "source": []
  },
  {
   "cell_type": "code",
   "execution_count": null,
   "id": "e2f480e3-aa36-48dc-a85f-b9ab618b1039",
   "metadata": {},
   "outputs": [],
   "source": [
    "rfc_preds = rfc.predict(X_test_tf)"
   ]
  },
  {
   "cell_type": "code",
   "execution_count": null,
   "id": "d490e6ff-c4d8-4b35-8486-70ca65b86af3",
   "metadata": {},
   "outputs": [],
   "source": [
    "ns_probs = [0 for _ in range(len(y_test))]"
   ]
  },
  {
   "cell_type": "code",
   "execution_count": null,
   "id": "b20e4773-aabd-452d-afc8-d75a890f0081",
   "metadata": {},
   "outputs": [],
   "source": [
    "rfc_probs = rfc.predict_proba(X_test_tf)"
   ]
  },
  {
   "cell_type": "code",
   "execution_count": null,
   "id": "defd6894-a571-4761-b1f0-8f1b4c515f9a",
   "metadata": {},
   "outputs": [],
   "source": [
    "rfc_probs = rfc_probs[:,1]"
   ]
  },
  {
   "cell_type": "code",
   "execution_count": null,
   "id": "d59e34ec-19d8-439d-bf9a-633c912e0edb",
   "metadata": {},
   "outputs": [],
   "source": [
    "ns_auc = roc_auc_score(y_test, ns_probs)"
   ]
  },
  {
   "cell_type": "code",
   "execution_count": null,
   "id": "b9e33a23-4035-426d-a564-bec354386f41",
   "metadata": {},
   "outputs": [],
   "source": [
    "rfc_auc = roc_auc_score(y_test, rfc_probs)"
   ]
  },
  {
   "cell_type": "code",
   "execution_count": null,
   "id": "e7202750-b41f-46c1-aeec-538b980b0be0",
   "metadata": {},
   "outputs": [],
   "source": []
  },
  {
   "cell_type": "code",
   "execution_count": null,
   "id": "f5b336ff-6e4b-4c6a-9b48-9f00d11fb2ff",
   "metadata": {},
   "outputs": [],
   "source": [
    "print('No Skill: ROC AUC=%.3f' % (ns_auc))\n",
    "print('RFC: ROC AUC=%.3f' % (rfc_auc))"
   ]
  },
  {
   "cell_type": "code",
   "execution_count": null,
   "id": "a6852858-e33e-4b7a-b179-464581fd4d1c",
   "metadata": {},
   "outputs": [],
   "source": [
    "ns_fpr, ns_tpr, _ = roc_curve(y_test, ns_probs)\n",
    "rfc_fpr, rfc_tpr, _ = roc_curve(y_test, rfc_probs)"
   ]
  },
  {
   "cell_type": "code",
   "execution_count": null,
   "id": "a5181c12-12ef-4e58-835b-0ad4821cbe3c",
   "metadata": {},
   "outputs": [],
   "source": [
    "plt.plot(ns_fpr, ns_tpr, linestyle='--', label='No Skill')\n",
    "plt.plot(rfc_fpr, rfc_tpr, marker='.', label='Logistic')\n",
    "\n",
    "plt.xlabel('False Positive Rate')\n",
    "plt.ylabel('True Positive Rate')\n",
    "plt.title('Random Forest Classifier ROC curve')\n",
    "\n",
    "plt.legend();"
   ]
  },
  {
   "cell_type": "code",
   "execution_count": null,
   "id": "f9565dd8-9d3e-407c-8450-2427a5a9084f",
   "metadata": {},
   "outputs": [],
   "source": [
    "print(classification_report(y_test, rfc_preds))"
   ]
  },
  {
   "cell_type": "code",
   "execution_count": null,
   "id": "92932b7c-37a7-4ddb-b3c7-a522da606655",
   "metadata": {},
   "outputs": [],
   "source": []
  },
  {
   "cell_type": "code",
   "execution_count": null,
   "id": "3c9d4ed8-6ab4-47c6-846d-d424370851f1",
   "metadata": {},
   "outputs": [],
   "source": [
    "cm = confusion_matrix(y_test, rfc_preds)"
   ]
  },
  {
   "cell_type": "code",
   "execution_count": null,
   "id": "e3b6c0db-6e5f-4f69-a4bd-189b0a67bec7",
   "metadata": {},
   "outputs": [],
   "source": [
    "disp = ConfusionMatrixDisplay(confusion_matrix=cm, display_labels=['worldnews', 'upliftingnews'])\n",
    "\n",
    "disp.plot();"
   ]
  },
  {
   "cell_type": "markdown",
   "id": "e539f894-2ce0-4af9-8a6d-e50fe3a33b65",
   "metadata": {},
   "source": [
    "### Naive Bayes"
   ]
  },
  {
   "cell_type": "code",
   "execution_count": null,
   "id": "f646d414-77ad-42b8-9a75-b49f235a5a86",
   "metadata": {},
   "outputs": [],
   "source": [
    "nb = MultinomialNB()"
   ]
  },
  {
   "cell_type": "code",
   "execution_count": null,
   "id": "b7a708ae-69bd-43a2-bac9-5e60566caceb",
   "metadata": {},
   "outputs": [],
   "source": [
    "nb.fit(X_train_ros1, y_train_ros1)"
   ]
  },
  {
   "cell_type": "code",
   "execution_count": null,
   "id": "565f9e61-5973-4910-9d2c-0df1a699a83d",
   "metadata": {},
   "outputs": [],
   "source": [
    "nb.score(X_train_ros1, y_train_ros1), nb.score(X_train_tf, y_train), nb.score(X_test_tf, y_test)"
   ]
  },
  {
   "cell_type": "code",
   "execution_count": null,
   "id": "3c30e959-9557-43c4-82d5-6175d3fa6553",
   "metadata": {},
   "outputs": [],
   "source": [
    "lr.score(X_train_ros1, y_train_ros1)"
   ]
  },
  {
   "cell_type": "code",
   "execution_count": null,
   "id": "747eba3e-4dba-49d9-900f-0f02f2162c52",
   "metadata": {},
   "outputs": [],
   "source": [
    "nb_preds = nb.predict(X_test_tf)"
   ]
  },
  {
   "cell_type": "code",
   "execution_count": null,
   "id": "c4d5b66b-04fc-4c92-aeb0-40968e064179",
   "metadata": {},
   "outputs": [],
   "source": [
    "lr_preds = lr.predict(X_test_tf)"
   ]
  },
  {
   "cell_type": "code",
   "execution_count": null,
   "id": "8c9b0e05-23f7-401e-8e21-2cf5eb1d8a6f",
   "metadata": {},
   "outputs": [],
   "source": [
    "ns_probs = [0 for _ in range(len(y_test))]"
   ]
  },
  {
   "cell_type": "code",
   "execution_count": null,
   "id": "22e6ab2b-9299-41b8-ae95-51b380dda500",
   "metadata": {},
   "outputs": [],
   "source": [
    "nb_probs = nb.predict_proba(X_test_tf)"
   ]
  },
  {
   "cell_type": "code",
   "execution_count": null,
   "id": "7e592dbd-30bf-4317-8a66-6791826f801c",
   "metadata": {},
   "outputs": [],
   "source": [
    "nb_probs = nb_probs[:,1]"
   ]
  },
  {
   "cell_type": "code",
   "execution_count": null,
   "id": "46071ca3-6543-4af2-ba5e-bc051543a8ca",
   "metadata": {},
   "outputs": [],
   "source": [
    "ns_auc = roc_auc_score(y_test, ns_probs)"
   ]
  },
  {
   "cell_type": "code",
   "execution_count": null,
   "id": "32439d69-e108-4b4f-ba7e-99f38d691d83",
   "metadata": {},
   "outputs": [],
   "source": [
    "nb_auc = roc_auc_score(y_test, nb_probs)"
   ]
  },
  {
   "cell_type": "code",
   "execution_count": null,
   "id": "60c8e217-0cbb-4e92-ad15-504be96a7160",
   "metadata": {},
   "outputs": [],
   "source": []
  },
  {
   "cell_type": "code",
   "execution_count": null,
   "id": "b76718ff-c242-4298-b8aa-c61ecd745ce2",
   "metadata": {},
   "outputs": [],
   "source": [
    "print('No Skill: ROC AUC=%.3f' % (ns_auc))\n",
    "print('NB: ROC AUC=%.3f' % (nb_auc))"
   ]
  },
  {
   "cell_type": "code",
   "execution_count": null,
   "id": "28590380-3013-45f5-9589-e5d00423e87c",
   "metadata": {},
   "outputs": [],
   "source": [
    "ns_fpr, ns_tpr, _ = roc_curve(y_test, ns_probs)\n",
    "nb_fpr, nb_tpr, _ = roc_curve(y_test, nb_probs)"
   ]
  },
  {
   "cell_type": "code",
   "execution_count": null,
   "id": "74c59afa-8b89-478a-b8f6-b08dfeeadcfa",
   "metadata": {},
   "outputs": [],
   "source": [
    "plt.plot(ns_fpr, ns_tpr, linestyle='--', label='No Skill')\n",
    "plt.plot(nb_fpr, nb_tpr, marker='.', label='NB')\n",
    "\n",
    "plt.xlabel('False Positive Rate')\n",
    "plt.ylabel('True Positive Rate')\n",
    "plt.title('Naive Bayes Classifier ROC curve')\n",
    "\n",
    "plt.legend();"
   ]
  },
  {
   "cell_type": "code",
   "execution_count": null,
   "id": "fe0c14e3-493f-4e73-b766-9fbf3ce786ad",
   "metadata": {},
   "outputs": [],
   "source": [
    "print(classification_report(y_test, nb_preds))"
   ]
  },
  {
   "cell_type": "code",
   "execution_count": null,
   "id": "ecfad022-34b0-40e4-88ff-d11c5052558a",
   "metadata": {},
   "outputs": [],
   "source": [
    "f1_score(y_test, lr_preds), f1_score(y_test, rfc_preds), f1_score(y_test, nb_preds)"
   ]
  },
  {
   "cell_type": "code",
   "execution_count": null,
   "id": "b2723001-e0db-4cea-b629-fd6d19cb39b4",
   "metadata": {},
   "outputs": [],
   "source": [
    "balanced_accuracy_score(y_test, lr_preds), balanced_accuracy_score(y_test, rfc_preds), balanced_accuracy_score(y_test, nb_preds)"
   ]
  },
  {
   "cell_type": "code",
   "execution_count": null,
   "id": "5f38abb1-746c-4190-8290-4641d3b0da1d",
   "metadata": {},
   "outputs": [],
   "source": [
    "accuracy_score(y_test, lr_preds), accuracy_score(y_test, rfc_preds), accuracy_score(y_test, nb_preds)"
   ]
  },
  {
   "cell_type": "code",
   "execution_count": null,
   "id": "49831a42-5731-461a-80f2-fa65da894595",
   "metadata": {},
   "outputs": [],
   "source": [
    "precision_score(y_test, lr_preds)"
   ]
  },
  {
   "cell_type": "code",
   "execution_count": null,
   "id": "98c2e248-5971-43c7-8c85-17f3c0428474",
   "metadata": {},
   "outputs": [],
   "source": []
  },
  {
   "cell_type": "code",
   "execution_count": null,
   "id": "ab134139-bde1-4086-b3eb-a9c052bf852d",
   "metadata": {},
   "outputs": [],
   "source": [
    "cm = confusion_matrix(y_test, nb_preds)"
   ]
  },
  {
   "cell_type": "code",
   "execution_count": null,
   "id": "418e481f-ea91-4d03-98df-57f5c3fbfbb7",
   "metadata": {},
   "outputs": [],
   "source": [
    "disp = ConfusionMatrixDisplay(confusion_matrix=cm, display_labels=['worldnews', 'upliftingnews'])\n",
    "\n",
    "disp.plot();"
   ]
  },
  {
   "cell_type": "code",
   "execution_count": null,
   "id": "5d217540-7ea1-4bd7-9798-5af4417837bc",
   "metadata": {},
   "outputs": [],
   "source": [
    "plot_con"
   ]
  },
  {
   "cell_type": "code",
   "execution_count": null,
   "id": "34400be6-144e-43e0-8de7-0c607f77cafc",
   "metadata": {},
   "outputs": [],
   "source": [
    "class_metrics(y_test, lr_preds)"
   ]
  },
  {
   "cell_type": "code",
   "execution_count": null,
   "id": "25fa7569-3b09-47d7-b67b-6a64156782d9",
   "metadata": {},
   "outputs": [],
   "source": []
  },
  {
   "cell_type": "markdown",
   "id": "d43e5a5d-36b0-40da-bdfe-f8f12050239b",
   "metadata": {
    "tags": []
   },
   "source": [
    "### RandomForestClassifier"
   ]
  },
  {
   "cell_type": "code",
   "execution_count": null,
   "id": "574fafa8-8c06-4755-b8bd-350864194814",
   "metadata": {},
   "outputs": [],
   "source": [
    "rfc = RandomForestClassifier(random_state=53)"
   ]
  },
  {
   "cell_type": "code",
   "execution_count": null,
   "id": "69b25fe6-2863-4c15-8ba0-238c5342c2ea",
   "metadata": {},
   "outputs": [],
   "source": [
    "rfc.fit(X_train_ros, y_train_ros)"
   ]
  },
  {
   "cell_type": "code",
   "execution_count": null,
   "id": "be3c291b-c3f9-48c3-b327-4eacf0fb4f37",
   "metadata": {},
   "outputs": [],
   "source": [
    "rfc.score(X_train_ros, y_train_ros), rfc.score(X_test_tf, y_test)"
   ]
  },
  {
   "cell_type": "code",
   "execution_count": null,
   "id": "8ef94084-7511-476d-9747-98e3f3fe8bda",
   "metadata": {},
   "outputs": [],
   "source": [
    "rfc1 = RandomForestClassifier(random_state=53)"
   ]
  },
  {
   "cell_type": "code",
   "execution_count": null,
   "id": "2b88b3cc-6003-49ff-bd7e-4ea644adcd00",
   "metadata": {},
   "outputs": [],
   "source": [
    "rfc1.fit(X_train_ros1, y_train_ros1)"
   ]
  },
  {
   "cell_type": "code",
   "execution_count": null,
   "id": "17153f68-a653-41ec-ab39-9a4e406a85e0",
   "metadata": {},
   "outputs": [],
   "source": [
    "rfc1.score(X_train_ros, y_train_ros), rfc1.score(X_test_tf, y_test)"
   ]
  },
  {
   "cell_type": "code",
   "execution_count": null,
   "id": "60827c94-e4ba-45cc-ac15-8867def2db60",
   "metadata": {},
   "outputs": [],
   "source": [
    "rfc1_preds = (rfc1.predict(X_test_tf))"
   ]
  },
  {
   "cell_type": "code",
   "execution_count": null,
   "id": "5574afc9-b299-4f42-a0a5-fcd121306154",
   "metadata": {},
   "outputs": [],
   "source": []
  },
  {
   "cell_type": "code",
   "execution_count": null,
   "id": "3c266996-8fc9-428b-ab8e-fbfc915cf723",
   "metadata": {},
   "outputs": [],
   "source": []
  },
  {
   "cell_type": "code",
   "execution_count": null,
   "id": "7ed10b2d-35d6-4b3f-9bea-6272cb5195e7",
   "metadata": {},
   "outputs": [],
   "source": [
    "rfc1_preds = lr.predict(X_test_tf)"
   ]
  },
  {
   "cell_type": "code",
   "execution_count": null,
   "id": "18fe745e-90dd-4dc7-b935-2832b8c5fc22",
   "metadata": {},
   "outputs": [],
   "source": [
    "ns_probs = [0 for _ in range(len(y_test))]"
   ]
  },
  {
   "cell_type": "code",
   "execution_count": null,
   "id": "f2de2f6c-70b0-492f-90e2-020a5592157b",
   "metadata": {},
   "outputs": [],
   "source": [
    "lr_probs = lr.predict_proba(X_test_tf)"
   ]
  },
  {
   "cell_type": "code",
   "execution_count": null,
   "id": "9d112a3e-4b87-441d-9a7e-5cccda82e038",
   "metadata": {},
   "outputs": [],
   "source": [
    "lr_probs = lr_probs[:,1]"
   ]
  },
  {
   "cell_type": "code",
   "execution_count": null,
   "id": "c60db9c0-a842-4e4e-b4bb-62087a12a194",
   "metadata": {},
   "outputs": [],
   "source": [
    "ns_auc = roc_auc_score(y_test, ns_probs)"
   ]
  },
  {
   "cell_type": "code",
   "execution_count": null,
   "id": "1276fe31-5bd0-4a83-9b52-0b420b591d74",
   "metadata": {},
   "outputs": [],
   "source": [
    "lr_auc = roc_auc_score(y_test, lr_probs)"
   ]
  },
  {
   "cell_type": "code",
   "execution_count": null,
   "id": "0f068a84-4244-4b96-bfeb-7937b1b4a11a",
   "metadata": {},
   "outputs": [],
   "source": []
  },
  {
   "cell_type": "code",
   "execution_count": null,
   "id": "d088b850-7871-4abc-af40-e5c4e7651362",
   "metadata": {},
   "outputs": [],
   "source": [
    "print('No Skill: ROC AUC=%.3f' % (ns_auc))\n",
    "print('Logistic: ROC AUC=%.3f' % (lr_auc))"
   ]
  },
  {
   "cell_type": "code",
   "execution_count": null,
   "id": "35d6e6d6-ee62-467d-8a44-f2ba56ba40d5",
   "metadata": {},
   "outputs": [],
   "source": [
    "ns_fpr, ns_tpr, _ = roc_curve(y_test, ns_probs)\n",
    "lr_fpr, lr_tpr, _ = roc_curve(y_test, lr_probs)"
   ]
  },
  {
   "cell_type": "code",
   "execution_count": null,
   "id": "05c4186a-9468-493c-a92b-39c0e7745ea4",
   "metadata": {},
   "outputs": [],
   "source": [
    "# plt.plot(ns_fpr, ns_tpr, linestyle='--', label='No Skill')\n",
    "# plt.plot(lr_fpr, lr_tpr, marker='.', label='Logistic')\n",
    "\n",
    "# plt.xlabel('False Positive Rate')\n",
    "# plt.ylabel('True Positive Rate')\n",
    "# plt.title('Logistic Regression ROC curve')\n",
    "\n",
    "# plt.legend();"
   ]
  },
  {
   "cell_type": "code",
   "execution_count": null,
   "id": "33143cb5-dbbb-42a2-a7ca-6eee3e0080b0",
   "metadata": {},
   "outputs": [],
   "source": []
  },
  {
   "cell_type": "code",
   "execution_count": null,
   "id": "9769399f-5ac6-47e8-a193-e8fcf546fd68",
   "metadata": {},
   "outputs": [],
   "source": []
  },
  {
   "cell_type": "code",
   "execution_count": null,
   "id": "a189fa77-3714-4b95-b678-fe2ab99a0b9f",
   "metadata": {},
   "outputs": [],
   "source": []
  },
  {
   "cell_type": "code",
   "execution_count": null,
   "id": "87d682ee-afa0-4f7a-87d1-6b1b567642de",
   "metadata": {},
   "outputs": [],
   "source": []
  },
  {
   "cell_type": "code",
   "execution_count": null,
   "id": "0d77938f-eaa8-46bf-b405-1f77cbacd8ba",
   "metadata": {},
   "outputs": [],
   "source": [
    "print(classification_report(y_test, rfc1_preds))"
   ]
  },
  {
   "cell_type": "code",
   "execution_count": null,
   "id": "7c4a22c4-a845-4a7d-b8da-1cc21831649b",
   "metadata": {},
   "outputs": [],
   "source": [
    "f1_score(y_test, rfc1_preds)"
   ]
  },
  {
   "cell_type": "code",
   "execution_count": null,
   "id": "4f8f7897-e57a-4d98-a422-9bc3509e1cce",
   "metadata": {},
   "outputs": [],
   "source": []
  },
  {
   "cell_type": "code",
   "execution_count": null,
   "id": "39d2e423-0c1e-4519-abae-d68989a245b5",
   "metadata": {},
   "outputs": [],
   "source": [
    "pipe_rfc = make_pipeline(\n",
    "    RandomOverSampler(random_state=53),\n",
    "    RandomForestClassifier()\n",
    ")\n",
    "    "
   ]
  },
  {
   "cell_type": "code",
   "execution_count": null,
   "id": "de4bb112-450d-4703-bc90-039b157aff5d",
   "metadata": {},
   "outputs": [],
   "source": [
    "#pipe_rfc.get_params()"
   ]
  },
  {
   "cell_type": "code",
   "execution_count": null,
   "id": "8732c3c7-3796-41ff-9e47-ad7beb028b2c",
   "metadata": {},
   "outputs": [],
   "source": [
    "params_rfc = {\n",
    "    'randomoversampler__sampling_strategy': [.1, .5],\n",
    "    #'randomforestclassifier__n_estimators': [1500, 2000],\n",
    "    #'randomforestclassifier__max_depth': [100, 200]\n",
    "}"
   ]
  },
  {
   "cell_type": "code",
   "execution_count": null,
   "id": "5f85991a-747c-41ac-acdc-aaae211d2c10",
   "metadata": {},
   "outputs": [],
   "source": [
    "gs_rfc = GridSearchCV(pipe_rfc, params_rfc, n_jobs=-1, verbose=1)"
   ]
  },
  {
   "cell_type": "code",
   "execution_count": null,
   "id": "2a75a5a4-3279-414b-b73e-39b6536a54d2",
   "metadata": {},
   "outputs": [],
   "source": [
    "#gs_rfc.fit(X_train_tf, y_train)"
   ]
  },
  {
   "cell_type": "code",
   "execution_count": null,
   "id": "d2b46366-d491-434e-bcc9-a431be9c803d",
   "metadata": {},
   "outputs": [],
   "source": [
    "gs_rfc.score(X_train_tf, y_train), gs_rfc.score(X_test_tf, y_test)"
   ]
  },
  {
   "cell_type": "code",
   "execution_count": null,
   "id": "7b857d4b-3c93-46ea-a4e4-a51b925073fd",
   "metadata": {},
   "outputs": [],
   "source": []
  },
  {
   "cell_type": "code",
   "execution_count": null,
   "id": "3c14768d-e214-46eb-8f25-c67aa227d11d",
   "metadata": {},
   "outputs": [],
   "source": []
  },
  {
   "cell_type": "code",
   "execution_count": null,
   "id": "4ebe22c2-aa85-4bb2-8541-9901d5b3a405",
   "metadata": {},
   "outputs": [],
   "source": [
    "#CountVectorizer\n",
    "rfc_tf = RandomForestClassifier()\n",
    "rfc_tf.fit(X_train_tf, y_train)\n",
    "rfc_tf.score(X_train_tf, y_train), rfc_tf.score(X_test_tf, y_test)"
   ]
  },
  {
   "cell_type": "code",
   "execution_count": null,
   "id": "8340d3c5-46a8-4040-9899-960176f2295a",
   "metadata": {},
   "outputs": [],
   "source": []
  },
  {
   "cell_type": "code",
   "execution_count": null,
   "id": "22252bf0-51d7-4188-be91-56abf86ac3b3",
   "metadata": {},
   "outputs": [],
   "source": []
  },
  {
   "cell_type": "code",
   "execution_count": null,
   "id": "d7a8bd18-92ef-41c2-b81d-57dc1db8520d",
   "metadata": {},
   "outputs": [],
   "source": []
  },
  {
   "cell_type": "code",
   "execution_count": null,
   "id": "feec1af7-6ce8-41aa-90f1-a0a60b7888a7",
   "metadata": {},
   "outputs": [],
   "source": [
    "balanced_accuracy_score(rfc_tf.predict(X_test_tf), y_test)"
   ]
  },
  {
   "cell_type": "code",
   "execution_count": null,
   "id": "1d2f65aa-8220-48a5-8e63-9d999691f87c",
   "metadata": {},
   "outputs": [],
   "source": []
  },
  {
   "cell_type": "code",
   "execution_count": null,
   "id": "605e156b-3ad4-4664-9d00-393351055e2a",
   "metadata": {},
   "outputs": [],
   "source": [
    "#TfidfVectorizer\n",
    "rfc_tf = RandomForestClassifier()\n",
    "rfc_tf.fit(X_train_tf, y_train)\n",
    "rfc_tf.score(X_train_tf, y_train), rfc_tf.score(X_test_tf, y_test)"
   ]
  },
  {
   "cell_type": "code",
   "execution_count": null,
   "id": "2e082e85-f3f1-4a09-aa4c-bf41dc826e71",
   "metadata": {},
   "outputs": [],
   "source": []
  },
  {
   "cell_type": "code",
   "execution_count": null,
   "id": "96a60470-c991-4549-9e9b-9b57a0b05b3e",
   "metadata": {},
   "outputs": [],
   "source": []
  },
  {
   "cell_type": "markdown",
   "id": "236c61fc-c5e8-49ac-a6b0-f177d30fd476",
   "metadata": {},
   "source": [
    "### Naive Bayes"
   ]
  },
  {
   "cell_type": "code",
   "execution_count": null,
   "id": "3b3f48be-3648-40d1-bd30-9b091a3bf30d",
   "metadata": {},
   "outputs": [],
   "source": [
    "pipe_nb = (\n",
    "    RandomOverSampler(random_state=53),\n",
    "    MultinomialNB()\n",
    ")\n",
    "    "
   ]
  },
  {
   "cell_type": "code",
   "execution_count": null,
   "id": "2b3ed2a3-03e3-41a7-ac19-242d5b968359",
   "metadata": {},
   "outputs": [],
   "source": [
    "pipe_nb = make_pipeline(\n",
    "    RandomOverSampler(random_state=53),\n",
    "    LogisticRegression(max_iter=5_000)\n",
    ")"
   ]
  },
  {
   "cell_type": "code",
   "execution_count": null,
   "id": "2d377780-d35d-4ae2-a200-e3c76d7ec801",
   "metadata": {},
   "outputs": [],
   "source": [
    "params_nb = {\n",
    "    'randomoversampler__sampling_strategy': [0.1, 0.5]\n",
    "}"
   ]
  },
  {
   "cell_type": "code",
   "execution_count": null,
   "id": "493cb650-a92e-46a7-b1db-71f297f26a42",
   "metadata": {},
   "outputs": [],
   "source": [
    "gs_nb = GridSearchCV(pipe_nb, params_nb, n_jobs=-1, verbose=1)"
   ]
  },
  {
   "cell_type": "code",
   "execution_count": null,
   "id": "730cf689-0792-40c2-8f9b-8385301751c0",
   "metadata": {},
   "outputs": [],
   "source": [
    "gs_nb.fit(X_train_tf, y_train)"
   ]
  },
  {
   "cell_type": "code",
   "execution_count": null,
   "id": "e06e4422-8b17-4103-8fab-17b9353817a4",
   "metadata": {},
   "outputs": [],
   "source": [
    "gs_nb.score(X_train_tf, y_train), gs_nb.score(X_test_tf, y_test)"
   ]
  },
  {
   "cell_type": "code",
   "execution_count": null,
   "id": "a419c358-be08-4234-b541-09e3a069eeca",
   "metadata": {},
   "outputs": [],
   "source": [
    "gs_nb.best_params_"
   ]
  },
  {
   "cell_type": "code",
   "execution_count": null,
   "id": "0f2aaa67-9b8f-47a3-8523-a5f840b8b8ed",
   "metadata": {},
   "outputs": [],
   "source": [
    "gs_nb.best_estimator_"
   ]
  },
  {
   "cell_type": "code",
   "execution_count": null,
   "id": "6fe4e98c-a278-4468-9525-46e13d141504",
   "metadata": {},
   "outputs": [],
   "source": []
  },
  {
   "cell_type": "code",
   "execution_count": null,
   "id": "f8db40ba-4b48-4705-98da-a10b39cf44e9",
   "metadata": {},
   "outputs": [],
   "source": []
  },
  {
   "cell_type": "code",
   "execution_count": null,
   "id": "4e2c041f-98b7-4f6d-badc-ab7197219573",
   "metadata": {
    "tags": []
   },
   "outputs": [],
   "source": [
    "nb = MultinomialNB()"
   ]
  },
  {
   "cell_type": "code",
   "execution_count": null,
   "id": "297483df-98ef-4bc0-afc1-dec09a3d7ffc",
   "metadata": {},
   "outputs": [],
   "source": [
    "nb.fit(X_train_ros1, y_train_ros1)"
   ]
  },
  {
   "cell_type": "code",
   "execution_count": null,
   "id": "7dd9061a-f298-4588-8162-dfac92f51f47",
   "metadata": {},
   "outputs": [],
   "source": []
  },
  {
   "cell_type": "code",
   "execution_count": null,
   "id": "c4dcf788-f0a9-48bf-aaa4-bff79808f038",
   "metadata": {},
   "outputs": [],
   "source": [
    "nb.score(X_train_ros1, y_train_ros1), nb.score(X_test_tf, y_test)"
   ]
  },
  {
   "cell_type": "code",
   "execution_count": null,
   "id": "e07495c1-a38b-4f13-b20b-9f15e6b1dc15",
   "metadata": {},
   "outputs": [],
   "source": [
    "nb_preds = nb.predict(X_test_tf)"
   ]
  },
  {
   "cell_type": "code",
   "execution_count": null,
   "id": "1f5e8e53-4427-4e03-b7d1-5aaa6f00041d",
   "metadata": {},
   "outputs": [],
   "source": [
    "print(classification_report(y_test, nb_preds))"
   ]
  },
  {
   "cell_type": "code",
   "execution_count": null,
   "id": "d4027728-ef15-44f8-b08e-a703031a44af",
   "metadata": {},
   "outputs": [],
   "source": [
    "f1_score(y_test, nb_preds)"
   ]
  },
  {
   "cell_type": "code",
   "execution_count": null,
   "id": "9b319899-8c7b-46cb-aeb8-2a5c24dcb679",
   "metadata": {},
   "outputs": [],
   "source": [
    "nb.feature_log_prob_[0]"
   ]
  },
  {
   "cell_type": "code",
   "execution_count": null,
   "id": "db9fdcbf-030d-46cf-a548-b50c1769156e",
   "metadata": {},
   "outputs": [],
   "source": []
  },
  {
   "cell_type": "code",
   "execution_count": null,
   "id": "a010946d-e651-4f2b-8ee5-0470a5f46fe7",
   "metadata": {},
   "outputs": [],
   "source": [
    "w_cv2 = cv2.fit_transform(w_df['title'])\n",
    "w_cv2_df = pd.DataFrame(w_cv2.A, columns=cv2.get_feature_names_out())"
   ]
  },
  {
   "cell_type": "code",
   "execution_count": null,
   "id": "25c492b1-f7fd-4ab5-a60f-262a686d6db3",
   "metadata": {},
   "outputs": [],
   "source": []
  },
  {
   "cell_type": "code",
   "execution_count": null,
   "id": "737f99ce-6dbf-4afd-820c-c7c96dbda4f1",
   "metadata": {},
   "outputs": [],
   "source": [
    "nb.feature_log_prob_[0]"
   ]
  },
  {
   "cell_type": "code",
   "execution_count": null,
   "id": "31ddf9cc-3f46-4f16-8a2a-5d4feccc0154",
   "metadata": {},
   "outputs": [],
   "source": []
  },
  {
   "cell_type": "code",
   "execution_count": null,
   "id": "03b332db-95f2-487b-8fdf-aad3da3a1a88",
   "metadata": {},
   "outputs": [],
   "source": []
  },
  {
   "cell_type": "markdown",
   "id": "c844e4f0-3dca-43a6-90b3-374033147d7e",
   "metadata": {},
   "source": [
    "### LogisticRegression"
   ]
  },
  {
   "cell_type": "code",
   "execution_count": null,
   "id": "3c40e5d0-5ea2-419a-a54a-b77b35b7c4d2",
   "metadata": {},
   "outputs": [],
   "source": []
  },
  {
   "cell_type": "code",
   "execution_count": null,
   "id": "7c51e567-4bfc-4251-90d2-6617ccfbd3f2",
   "metadata": {},
   "outputs": [],
   "source": []
  },
  {
   "cell_type": "code",
   "execution_count": null,
   "id": "c5766527-d5d0-4b4d-9ea2-6b6c592cbb4d",
   "metadata": {},
   "outputs": [],
   "source": []
  },
  {
   "cell_type": "markdown",
   "id": "18f3c96c-9e16-40c3-94eb-9bb28aea2346",
   "metadata": {
    "tags": []
   },
   "source": [
    "### ExtraTreesClassifier"
   ]
  },
  {
   "cell_type": "code",
   "execution_count": null,
   "id": "2c8bce32-d5dd-4336-bc56-e80ee1678247",
   "metadata": {},
   "outputs": [],
   "source": [
    "#CountVectorizer\n",
    "etc_cv = ExtraTreesClassifier()\n",
    "etc_cv.fit(X_train_cv, y_train)\n",
    "etc_cv.score(X_train_cv, y_train), etc_cv.score(X_test_cv, y_test)"
   ]
  },
  {
   "cell_type": "code",
   "execution_count": null,
   "id": "04e99a12-1929-4d93-8ef9-61d968ed99f2",
   "metadata": {},
   "outputs": [],
   "source": [
    "#TfidfVectorizer\n",
    "etc_tf = ExtraTreesClassifier()\n",
    "etc_tf.fit(X_train_tf, y_train)\n",
    "etc_tf.score(X_train_tf, y_train), etc_tf.score(X_test_tf, y_test)"
   ]
  },
  {
   "cell_type": "code",
   "execution_count": null,
   "id": "5ef52901-2aa7-4899-94b8-ea50b96407a2",
   "metadata": {},
   "outputs": [],
   "source": []
  },
  {
   "cell_type": "markdown",
   "id": "3eec7ad9-51a9-46c1-a640-2ce35f44c688",
   "metadata": {},
   "source": [
    "### K-Nearest Neighbors"
   ]
  },
  {
   "cell_type": "code",
   "execution_count": null,
   "id": "a95c422b-dd4d-4d5e-95bc-5e7cfa19fe40",
   "metadata": {},
   "outputs": [],
   "source": [
    "#CountVectorizer\n",
    "knn_cv = KNeighborsClassifier()\n",
    "knn_cv.fit(X_train_cv, y_train)\n",
    "knn_cv.score(X_train_cv, y_train), knn_cv.score(X_test_cv, y_test)"
   ]
  },
  {
   "cell_type": "code",
   "execution_count": null,
   "id": "ea33ee50-7903-4674-86cf-c7bc71df42f0",
   "metadata": {},
   "outputs": [],
   "source": [
    "#TfidfVectorizer\n",
    "knn_tf = KNeighborsClassifier()\n",
    "knn_tf.fit(X_train_tf, y_train)\n",
    "knn_tf.score(X_train_tf, y_train), knn_tf.score(X_test_tf, y_test)"
   ]
  },
  {
   "cell_type": "code",
   "execution_count": null,
   "id": "81f04ae3-9ae1-445e-9cb8-3fee82a618e8",
   "metadata": {},
   "outputs": [],
   "source": []
  },
  {
   "cell_type": "markdown",
   "id": "0c812ac2-d6c4-45fa-b63b-a662750d64d1",
   "metadata": {},
   "source": [
    "### Support Vector Classifier"
   ]
  },
  {
   "cell_type": "code",
   "execution_count": null,
   "id": "e12fbc50-f26a-4c08-b7f7-7a19db8f3103",
   "metadata": {},
   "outputs": [],
   "source": [
    "#countVectorizer\n",
    "svc_cv = SVC()\n",
    "svc_cv.fit(X_train_cv, y_train)\n",
    "svc_cv.score(X_train_cv, y_train), svc_cv.score(X_test_cv, y_test)"
   ]
  },
  {
   "cell_type": "code",
   "execution_count": null,
   "id": "e4fde0b6-a299-41dc-8074-b63665c8dc26",
   "metadata": {},
   "outputs": [],
   "source": [
    "#TfidfVectorizer\n",
    "svc_tf = SVC()\n",
    "svc_tf.fit(X_train_tf, y_train)\n",
    "svc_tf.score(X_train_tf, y_train), svc_tf.score(X_test_tf, y_test)"
   ]
  },
  {
   "cell_type": "code",
   "execution_count": null,
   "id": "6d0b139d-35db-4139-beb2-c52e1a401744",
   "metadata": {},
   "outputs": [],
   "source": []
  },
  {
   "cell_type": "code",
   "execution_count": null,
   "id": "3b7add87-f015-4f45-b8da-8debc8e8eb6f",
   "metadata": {},
   "outputs": [],
   "source": []
  },
  {
   "cell_type": "markdown",
   "id": "4cc06077-b612-4d7c-8848-a8b60ead0f2b",
   "metadata": {},
   "source": [
    "### Voting Classifier"
   ]
  },
  {
   "cell_type": "code",
   "execution_count": null,
   "id": "c30055af-978e-4118-bf60-4ccaac07cda3",
   "metadata": {},
   "outputs": [],
   "source": [
    "vc_cv = VotingClassifier([\n",
    "    ('knn', KNeighborsClassifier()),\n",
    "    ('lr', LogisticRegression()),\n",
    "    ('dtr', Dec"
   ]
  }
 ],
 "metadata": {
  "kernelspec": {
   "display_name": "Python 3 (ipykernel)",
   "language": "python",
   "name": "python3"
  },
  "language_info": {
   "codemirror_mode": {
    "name": "ipython",
    "version": 3
   },
   "file_extension": ".py",
   "mimetype": "text/x-python",
   "name": "python",
   "nbconvert_exporter": "python",
   "pygments_lexer": "ipython3",
   "version": "3.9.7"
  }
 },
 "nbformat": 4,
 "nbformat_minor": 5
}
